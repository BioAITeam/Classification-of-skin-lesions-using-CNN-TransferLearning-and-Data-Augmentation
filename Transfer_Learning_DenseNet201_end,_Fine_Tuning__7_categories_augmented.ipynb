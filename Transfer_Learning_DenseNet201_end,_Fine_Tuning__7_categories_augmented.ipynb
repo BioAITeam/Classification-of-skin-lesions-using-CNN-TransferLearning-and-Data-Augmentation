{
  "nbformat": 4,
  "nbformat_minor": 0,
  "metadata": {
    "colab": {
      "name": "Transfer_Learning_DenseNet201_end,_Fine_Tuning__7_categories_augmented.ipynb",
      "provenance": [],
      "collapsed_sections": []
    },
    "kernelspec": {
      "name": "python3",
      "display_name": "Python 3"
    },
    "accelerator": "GPU"
  },
  "cells": [
    {
      "cell_type": "code",
      "metadata": {
        "id": "oOi0I_M4RO5F",
        "colab": {
          "base_uri": "https://localhost:8080/"
        },
        "outputId": "4d1f6d13-00e5-4c32-b679-08de7a24eb27"
      },
      "source": [
        "pip install scikit-plot"
      ],
      "execution_count": 6,
      "outputs": [
        {
          "output_type": "stream",
          "text": [
            "Collecting scikit-plot\n",
            "  Downloading https://files.pythonhosted.org/packages/7c/47/32520e259340c140a4ad27c1b97050dd3254fdc517b1d59974d47037510e/scikit_plot-0.3.7-py3-none-any.whl\n",
            "Requirement already satisfied: scipy>=0.9 in /usr/local/lib/python3.6/dist-packages (from scikit-plot) (1.4.1)\n",
            "Requirement already satisfied: joblib>=0.10 in /usr/local/lib/python3.6/dist-packages (from scikit-plot) (1.0.0)\n",
            "Requirement already satisfied: matplotlib>=1.4.0 in /usr/local/lib/python3.6/dist-packages (from scikit-plot) (3.2.2)\n",
            "Requirement already satisfied: scikit-learn>=0.18 in /usr/local/lib/python3.6/dist-packages (from scikit-plot) (0.22.2.post1)\n",
            "Requirement already satisfied: numpy>=1.13.3 in /usr/local/lib/python3.6/dist-packages (from scipy>=0.9->scikit-plot) (1.19.5)\n",
            "Requirement already satisfied: pyparsing!=2.0.4,!=2.1.2,!=2.1.6,>=2.0.1 in /usr/local/lib/python3.6/dist-packages (from matplotlib>=1.4.0->scikit-plot) (2.4.7)\n",
            "Requirement already satisfied: python-dateutil>=2.1 in /usr/local/lib/python3.6/dist-packages (from matplotlib>=1.4.0->scikit-plot) (2.8.1)\n",
            "Requirement already satisfied: kiwisolver>=1.0.1 in /usr/local/lib/python3.6/dist-packages (from matplotlib>=1.4.0->scikit-plot) (1.3.1)\n",
            "Requirement already satisfied: cycler>=0.10 in /usr/local/lib/python3.6/dist-packages (from matplotlib>=1.4.0->scikit-plot) (0.10.0)\n",
            "Requirement already satisfied: six>=1.5 in /usr/local/lib/python3.6/dist-packages (from python-dateutil>=2.1->matplotlib>=1.4.0->scikit-plot) (1.15.0)\n",
            "Installing collected packages: scikit-plot\n",
            "Successfully installed scikit-plot-0.3.7\n"
          ],
          "name": "stdout"
        }
      ]
    },
    {
      "cell_type": "markdown",
      "metadata": {
        "id": "ptK3chLjuDPi"
      },
      "source": [
        "## load libraries and the Drive\r\n",
        "\r\n",
        "\r\n",
        "\r\n"
      ]
    },
    {
      "cell_type": "code",
      "metadata": {
        "id": "a0bbVpUNfhbr"
      },
      "source": [
        "import glob, os.path\n",
        "import numpy as np\n",
        "import pandas as pd\n",
        "import tensorflow as tf\n",
        "import cv2\n",
        "from tensorflow.keras.models import Model\n",
        "from tensorflow.keras import Sequential\n",
        "from tensorflow.keras.layers import Conv2D, MaxPooling2D, Flatten, Dense,Dropout\n",
        "from tensorflow.keras.layers import Lambda, Layer, ReLU\n",
        "from tensorflow.keras.preprocessing.image import ImageDataGenerator\n",
        "from keras.layers.normalization import BatchNormalization\n",
        "from tensorflow import keras\n",
        "from tensorflow.keras.callbacks import LearningRateScheduler\n",
        "from keras.models import load_model\n",
        "import matplotlib.pyplot as plt\n",
        "from keras.preprocessing.image import load_img, img_to_array\n",
        "from sklearn.metrics import classification_report, confusion_matrix\n",
        "from sklearn.metrics import confusion_matrix\n",
        "from sklearn.metrics import accuracy_score\n",
        "from sklearn.metrics import f1_score\n",
        "from sklearn.metrics import recall_score\n",
        "from sklearn.metrics import precision_score\n",
        "from sklearn import svm, datasets\n",
        "from sklearn.metrics import roc_curve, auc\n",
        "from sklearn.preprocessing import label_binarize\n",
        "import pandas as pd\n",
        "import seaborn as sn\n",
        "from sklearn.metrics import roc_curve,roc_auc_score\n",
        "import seaborn as sns\n",
        "from sklearn.model_selection import train_test_split"
      ],
      "execution_count": 1,
      "outputs": []
    },
    {
      "cell_type": "code",
      "metadata": {
        "id": "fEcLSRviQnZ0",
        "colab": {
          "base_uri": "https://localhost:8080/"
        },
        "outputId": "3fc2b3fa-1e6c-4553-aa0d-2eb5875da9cb"
      },
      "source": [
        "from google.colab import drive\n",
        "drive.mount('/content/Drive')  # import data from drive"
      ],
      "execution_count": 2,
      "outputs": [
        {
          "output_type": "stream",
          "text": [
            "Mounted at /content/Drive\n"
          ],
          "name": "stdout"
        }
      ]
    },
    {
      "cell_type": "code",
      "metadata": {
        "id": "EQuJxC7JQolB"
      },
      "source": [
        "import sys\n",
        "sys.path.append('/content/drive')"
      ],
      "execution_count": 3,
      "outputs": []
    },
    {
      "cell_type": "markdown",
      "metadata": {
        "id": "FSEcbJ0-uIwr"
      },
      "source": [
        "## Load data"
      ]
    },
    {
      "cell_type": "code",
      "metadata": {
        "id": "P40K8Pj3QowH"
      },
      "source": [
        "data_entrenamiento = '/content/Drive/My Drive/HAM10000/Base de Datos_Clasificada y Aumentada(7_Clases)/Train_final'\n",
        "data_validacion = '/content/Drive/My Drive/HAM10000/Base de Datos_Clasificada y Aumentada(7_Clases)/Validation'\n",
        "data_text = '/content/Drive/My Drive/HAM10000/Base de Datos_Clasificada y Aumentada(7_Clases)/Text'"
      ],
      "execution_count": 4,
      "outputs": []
    },
    {
      "cell_type": "markdown",
      "metadata": {
        "id": "9aHOMzNJuM3D"
      },
      "source": [
        "## Graphics card provided by Google Colab"
      ]
    },
    {
      "cell_type": "code",
      "metadata": {
        "id": "Hyn_bQtct4N8",
        "colab": {
          "base_uri": "https://localhost:8080/"
        },
        "outputId": "905cbb1c-14d4-4fac-b21e-5333280560b4"
      },
      "source": [
        "!nvidia-smi"
      ],
      "execution_count": null,
      "outputs": [
        {
          "output_type": "stream",
          "text": [
            "Fri Feb 12 13:17:47 2021       \n",
            "+-----------------------------------------------------------------------------+\n",
            "| NVIDIA-SMI 460.39       Driver Version: 460.32.03    CUDA Version: 11.2     |\n",
            "|-------------------------------+----------------------+----------------------+\n",
            "| GPU  Name        Persistence-M| Bus-Id        Disp.A | Volatile Uncorr. ECC |\n",
            "| Fan  Temp  Perf  Pwr:Usage/Cap|         Memory-Usage | GPU-Util  Compute M. |\n",
            "|                               |                      |               MIG M. |\n",
            "|===============================+======================+======================|\n",
            "|   0  Tesla T4            Off  | 00000000:00:04.0 Off |                    0 |\n",
            "| N/A   46C    P8    10W /  70W |      0MiB / 15109MiB |      0%      Default |\n",
            "|                               |                      |                  N/A |\n",
            "+-------------------------------+----------------------+----------------------+\n",
            "                                                                               \n",
            "+-----------------------------------------------------------------------------+\n",
            "| Processes:                                                                  |\n",
            "|  GPU   GI   CI        PID   Type   Process name                  GPU Memory |\n",
            "|        ID   ID                                                   Usage      |\n",
            "|=============================================================================|\n",
            "|  No running processes found                                                 |\n",
            "+-----------------------------------------------------------------------------+\n"
          ],
          "name": "stdout"
        }
      ]
    },
    {
      "cell_type": "markdown",
      "metadata": {
        "id": "FkFlUNunuYIa"
      },
      "source": [
        "## Load Model DenseNet201"
      ]
    },
    {
      "cell_type": "code",
      "metadata": {
        "id": "NT38paFEcgRY",
        "colab": {
          "base_uri": "https://localhost:8080/"
        },
        "outputId": "376f49aa-9275-4f2a-8d18-92120ad51b93"
      },
      "source": [
        "pre_trained_model = tf.keras.applications.DenseNet201(\n",
        "                    include_top=False,\n",
        "                    weights= 'imagenet',\n",
        "                    input_shape = (224, 224, 3)\n",
        "                    )"
      ],
      "execution_count": null,
      "outputs": [
        {
          "output_type": "stream",
          "text": [
            "Downloading data from https://storage.googleapis.com/tensorflow/keras-applications/densenet/densenet201_weights_tf_dim_ordering_tf_kernels_notop.h5\n",
            "74842112/74836368 [==============================] - 1s 0us/step\n"
          ],
          "name": "stdout"
        }
      ]
    },
    {
      "cell_type": "code",
      "metadata": {
        "id": "SdSR2aiOQsG5",
        "colab": {
          "base_uri": "https://localhost:8080/"
        },
        "outputId": "675ce711-265f-4e92-98d7-ebb885fffd66"
      },
      "source": [
        "pre_trained_model.summary()"
      ],
      "execution_count": null,
      "outputs": [
        {
          "output_type": "stream",
          "text": [
            "Model: \"densenet201\"\n",
            "__________________________________________________________________________________________________\n",
            "Layer (type)                    Output Shape         Param #     Connected to                     \n",
            "==================================================================================================\n",
            "input_2 (InputLayer)            [(None, 224, 224, 3) 0                                            \n",
            "__________________________________________________________________________________________________\n",
            "zero_padding2d (ZeroPadding2D)  (None, 230, 230, 3)  0           input_2[0][0]                    \n",
            "__________________________________________________________________________________________________\n",
            "conv1/conv (Conv2D)             (None, 112, 112, 64) 9408        zero_padding2d[0][0]             \n",
            "__________________________________________________________________________________________________\n",
            "conv1/bn (BatchNormalization)   (None, 112, 112, 64) 256         conv1/conv[0][0]                 \n",
            "__________________________________________________________________________________________________\n",
            "conv1/relu (Activation)         (None, 112, 112, 64) 0           conv1/bn[0][0]                   \n",
            "__________________________________________________________________________________________________\n",
            "zero_padding2d_1 (ZeroPadding2D (None, 114, 114, 64) 0           conv1/relu[0][0]                 \n",
            "__________________________________________________________________________________________________\n",
            "pool1 (MaxPooling2D)            (None, 56, 56, 64)   0           zero_padding2d_1[0][0]           \n",
            "__________________________________________________________________________________________________\n",
            "conv2_block1_0_bn (BatchNormali (None, 56, 56, 64)   256         pool1[0][0]                      \n",
            "__________________________________________________________________________________________________\n",
            "conv2_block1_0_relu (Activation (None, 56, 56, 64)   0           conv2_block1_0_bn[0][0]          \n",
            "__________________________________________________________________________________________________\n",
            "conv2_block1_1_conv (Conv2D)    (None, 56, 56, 128)  8192        conv2_block1_0_relu[0][0]        \n",
            "__________________________________________________________________________________________________\n",
            "conv2_block1_1_bn (BatchNormali (None, 56, 56, 128)  512         conv2_block1_1_conv[0][0]        \n",
            "__________________________________________________________________________________________________\n",
            "conv2_block1_1_relu (Activation (None, 56, 56, 128)  0           conv2_block1_1_bn[0][0]          \n",
            "__________________________________________________________________________________________________\n",
            "conv2_block1_2_conv (Conv2D)    (None, 56, 56, 32)   36864       conv2_block1_1_relu[0][0]        \n",
            "__________________________________________________________________________________________________\n",
            "conv2_block1_concat (Concatenat (None, 56, 56, 96)   0           pool1[0][0]                      \n",
            "                                                                 conv2_block1_2_conv[0][0]        \n",
            "__________________________________________________________________________________________________\n",
            "conv2_block2_0_bn (BatchNormali (None, 56, 56, 96)   384         conv2_block1_concat[0][0]        \n",
            "__________________________________________________________________________________________________\n",
            "conv2_block2_0_relu (Activation (None, 56, 56, 96)   0           conv2_block2_0_bn[0][0]          \n",
            "__________________________________________________________________________________________________\n",
            "conv2_block2_1_conv (Conv2D)    (None, 56, 56, 128)  12288       conv2_block2_0_relu[0][0]        \n",
            "__________________________________________________________________________________________________\n",
            "conv2_block2_1_bn (BatchNormali (None, 56, 56, 128)  512         conv2_block2_1_conv[0][0]        \n",
            "__________________________________________________________________________________________________\n",
            "conv2_block2_1_relu (Activation (None, 56, 56, 128)  0           conv2_block2_1_bn[0][0]          \n",
            "__________________________________________________________________________________________________\n",
            "conv2_block2_2_conv (Conv2D)    (None, 56, 56, 32)   36864       conv2_block2_1_relu[0][0]        \n",
            "__________________________________________________________________________________________________\n",
            "conv2_block2_concat (Concatenat (None, 56, 56, 128)  0           conv2_block1_concat[0][0]        \n",
            "                                                                 conv2_block2_2_conv[0][0]        \n",
            "__________________________________________________________________________________________________\n",
            "conv2_block3_0_bn (BatchNormali (None, 56, 56, 128)  512         conv2_block2_concat[0][0]        \n",
            "__________________________________________________________________________________________________\n",
            "conv2_block3_0_relu (Activation (None, 56, 56, 128)  0           conv2_block3_0_bn[0][0]          \n",
            "__________________________________________________________________________________________________\n",
            "conv2_block3_1_conv (Conv2D)    (None, 56, 56, 128)  16384       conv2_block3_0_relu[0][0]        \n",
            "__________________________________________________________________________________________________\n",
            "conv2_block3_1_bn (BatchNormali (None, 56, 56, 128)  512         conv2_block3_1_conv[0][0]        \n",
            "__________________________________________________________________________________________________\n",
            "conv2_block3_1_relu (Activation (None, 56, 56, 128)  0           conv2_block3_1_bn[0][0]          \n",
            "__________________________________________________________________________________________________\n",
            "conv2_block3_2_conv (Conv2D)    (None, 56, 56, 32)   36864       conv2_block3_1_relu[0][0]        \n",
            "__________________________________________________________________________________________________\n",
            "conv2_block3_concat (Concatenat (None, 56, 56, 160)  0           conv2_block2_concat[0][0]        \n",
            "                                                                 conv2_block3_2_conv[0][0]        \n",
            "__________________________________________________________________________________________________\n",
            "conv2_block4_0_bn (BatchNormali (None, 56, 56, 160)  640         conv2_block3_concat[0][0]        \n",
            "__________________________________________________________________________________________________\n",
            "conv2_block4_0_relu (Activation (None, 56, 56, 160)  0           conv2_block4_0_bn[0][0]          \n",
            "__________________________________________________________________________________________________\n",
            "conv2_block4_1_conv (Conv2D)    (None, 56, 56, 128)  20480       conv2_block4_0_relu[0][0]        \n",
            "__________________________________________________________________________________________________\n",
            "conv2_block4_1_bn (BatchNormali (None, 56, 56, 128)  512         conv2_block4_1_conv[0][0]        \n",
            "__________________________________________________________________________________________________\n",
            "conv2_block4_1_relu (Activation (None, 56, 56, 128)  0           conv2_block4_1_bn[0][0]          \n",
            "__________________________________________________________________________________________________\n",
            "conv2_block4_2_conv (Conv2D)    (None, 56, 56, 32)   36864       conv2_block4_1_relu[0][0]        \n",
            "__________________________________________________________________________________________________\n",
            "conv2_block4_concat (Concatenat (None, 56, 56, 192)  0           conv2_block3_concat[0][0]        \n",
            "                                                                 conv2_block4_2_conv[0][0]        \n",
            "__________________________________________________________________________________________________\n",
            "conv2_block5_0_bn (BatchNormali (None, 56, 56, 192)  768         conv2_block4_concat[0][0]        \n",
            "__________________________________________________________________________________________________\n",
            "conv2_block5_0_relu (Activation (None, 56, 56, 192)  0           conv2_block5_0_bn[0][0]          \n",
            "__________________________________________________________________________________________________\n",
            "conv2_block5_1_conv (Conv2D)    (None, 56, 56, 128)  24576       conv2_block5_0_relu[0][0]        \n",
            "__________________________________________________________________________________________________\n",
            "conv2_block5_1_bn (BatchNormali (None, 56, 56, 128)  512         conv2_block5_1_conv[0][0]        \n",
            "__________________________________________________________________________________________________\n",
            "conv2_block5_1_relu (Activation (None, 56, 56, 128)  0           conv2_block5_1_bn[0][0]          \n",
            "__________________________________________________________________________________________________\n",
            "conv2_block5_2_conv (Conv2D)    (None, 56, 56, 32)   36864       conv2_block5_1_relu[0][0]        \n",
            "__________________________________________________________________________________________________\n",
            "conv2_block5_concat (Concatenat (None, 56, 56, 224)  0           conv2_block4_concat[0][0]        \n",
            "                                                                 conv2_block5_2_conv[0][0]        \n",
            "__________________________________________________________________________________________________\n",
            "conv2_block6_0_bn (BatchNormali (None, 56, 56, 224)  896         conv2_block5_concat[0][0]        \n",
            "__________________________________________________________________________________________________\n",
            "conv2_block6_0_relu (Activation (None, 56, 56, 224)  0           conv2_block6_0_bn[0][0]          \n",
            "__________________________________________________________________________________________________\n",
            "conv2_block6_1_conv (Conv2D)    (None, 56, 56, 128)  28672       conv2_block6_0_relu[0][0]        \n",
            "__________________________________________________________________________________________________\n",
            "conv2_block6_1_bn (BatchNormali (None, 56, 56, 128)  512         conv2_block6_1_conv[0][0]        \n",
            "__________________________________________________________________________________________________\n",
            "conv2_block6_1_relu (Activation (None, 56, 56, 128)  0           conv2_block6_1_bn[0][0]          \n",
            "__________________________________________________________________________________________________\n",
            "conv2_block6_2_conv (Conv2D)    (None, 56, 56, 32)   36864       conv2_block6_1_relu[0][0]        \n",
            "__________________________________________________________________________________________________\n",
            "conv2_block6_concat (Concatenat (None, 56, 56, 256)  0           conv2_block5_concat[0][0]        \n",
            "                                                                 conv2_block6_2_conv[0][0]        \n",
            "__________________________________________________________________________________________________\n",
            "pool2_bn (BatchNormalization)   (None, 56, 56, 256)  1024        conv2_block6_concat[0][0]        \n",
            "__________________________________________________________________________________________________\n",
            "pool2_relu (Activation)         (None, 56, 56, 256)  0           pool2_bn[0][0]                   \n",
            "__________________________________________________________________________________________________\n",
            "pool2_conv (Conv2D)             (None, 56, 56, 128)  32768       pool2_relu[0][0]                 \n",
            "__________________________________________________________________________________________________\n",
            "pool2_pool (AveragePooling2D)   (None, 28, 28, 128)  0           pool2_conv[0][0]                 \n",
            "__________________________________________________________________________________________________\n",
            "conv3_block1_0_bn (BatchNormali (None, 28, 28, 128)  512         pool2_pool[0][0]                 \n",
            "__________________________________________________________________________________________________\n",
            "conv3_block1_0_relu (Activation (None, 28, 28, 128)  0           conv3_block1_0_bn[0][0]          \n",
            "__________________________________________________________________________________________________\n",
            "conv3_block1_1_conv (Conv2D)    (None, 28, 28, 128)  16384       conv3_block1_0_relu[0][0]        \n",
            "__________________________________________________________________________________________________\n",
            "conv3_block1_1_bn (BatchNormali (None, 28, 28, 128)  512         conv3_block1_1_conv[0][0]        \n",
            "__________________________________________________________________________________________________\n",
            "conv3_block1_1_relu (Activation (None, 28, 28, 128)  0           conv3_block1_1_bn[0][0]          \n",
            "__________________________________________________________________________________________________\n",
            "conv3_block1_2_conv (Conv2D)    (None, 28, 28, 32)   36864       conv3_block1_1_relu[0][0]        \n",
            "__________________________________________________________________________________________________\n",
            "conv3_block1_concat (Concatenat (None, 28, 28, 160)  0           pool2_pool[0][0]                 \n",
            "                                                                 conv3_block1_2_conv[0][0]        \n",
            "__________________________________________________________________________________________________\n",
            "conv3_block2_0_bn (BatchNormali (None, 28, 28, 160)  640         conv3_block1_concat[0][0]        \n",
            "__________________________________________________________________________________________________\n",
            "conv3_block2_0_relu (Activation (None, 28, 28, 160)  0           conv3_block2_0_bn[0][0]          \n",
            "__________________________________________________________________________________________________\n",
            "conv3_block2_1_conv (Conv2D)    (None, 28, 28, 128)  20480       conv3_block2_0_relu[0][0]        \n",
            "__________________________________________________________________________________________________\n",
            "conv3_block2_1_bn (BatchNormali (None, 28, 28, 128)  512         conv3_block2_1_conv[0][0]        \n",
            "__________________________________________________________________________________________________\n",
            "conv3_block2_1_relu (Activation (None, 28, 28, 128)  0           conv3_block2_1_bn[0][0]          \n",
            "__________________________________________________________________________________________________\n",
            "conv3_block2_2_conv (Conv2D)    (None, 28, 28, 32)   36864       conv3_block2_1_relu[0][0]        \n",
            "__________________________________________________________________________________________________\n",
            "conv3_block2_concat (Concatenat (None, 28, 28, 192)  0           conv3_block1_concat[0][0]        \n",
            "                                                                 conv3_block2_2_conv[0][0]        \n",
            "__________________________________________________________________________________________________\n",
            "conv3_block3_0_bn (BatchNormali (None, 28, 28, 192)  768         conv3_block2_concat[0][0]        \n",
            "__________________________________________________________________________________________________\n",
            "conv3_block3_0_relu (Activation (None, 28, 28, 192)  0           conv3_block3_0_bn[0][0]          \n",
            "__________________________________________________________________________________________________\n",
            "conv3_block3_1_conv (Conv2D)    (None, 28, 28, 128)  24576       conv3_block3_0_relu[0][0]        \n",
            "__________________________________________________________________________________________________\n",
            "conv3_block3_1_bn (BatchNormali (None, 28, 28, 128)  512         conv3_block3_1_conv[0][0]        \n",
            "__________________________________________________________________________________________________\n",
            "conv3_block3_1_relu (Activation (None, 28, 28, 128)  0           conv3_block3_1_bn[0][0]          \n",
            "__________________________________________________________________________________________________\n",
            "conv3_block3_2_conv (Conv2D)    (None, 28, 28, 32)   36864       conv3_block3_1_relu[0][0]        \n",
            "__________________________________________________________________________________________________\n",
            "conv3_block3_concat (Concatenat (None, 28, 28, 224)  0           conv3_block2_concat[0][0]        \n",
            "                                                                 conv3_block3_2_conv[0][0]        \n",
            "__________________________________________________________________________________________________\n",
            "conv3_block4_0_bn (BatchNormali (None, 28, 28, 224)  896         conv3_block3_concat[0][0]        \n",
            "__________________________________________________________________________________________________\n",
            "conv3_block4_0_relu (Activation (None, 28, 28, 224)  0           conv3_block4_0_bn[0][0]          \n",
            "__________________________________________________________________________________________________\n",
            "conv3_block4_1_conv (Conv2D)    (None, 28, 28, 128)  28672       conv3_block4_0_relu[0][0]        \n",
            "__________________________________________________________________________________________________\n",
            "conv3_block4_1_bn (BatchNormali (None, 28, 28, 128)  512         conv3_block4_1_conv[0][0]        \n",
            "__________________________________________________________________________________________________\n",
            "conv3_block4_1_relu (Activation (None, 28, 28, 128)  0           conv3_block4_1_bn[0][0]          \n",
            "__________________________________________________________________________________________________\n",
            "conv3_block4_2_conv (Conv2D)    (None, 28, 28, 32)   36864       conv3_block4_1_relu[0][0]        \n",
            "__________________________________________________________________________________________________\n",
            "conv3_block4_concat (Concatenat (None, 28, 28, 256)  0           conv3_block3_concat[0][0]        \n",
            "                                                                 conv3_block4_2_conv[0][0]        \n",
            "__________________________________________________________________________________________________\n",
            "conv3_block5_0_bn (BatchNormali (None, 28, 28, 256)  1024        conv3_block4_concat[0][0]        \n",
            "__________________________________________________________________________________________________\n",
            "conv3_block5_0_relu (Activation (None, 28, 28, 256)  0           conv3_block5_0_bn[0][0]          \n",
            "__________________________________________________________________________________________________\n",
            "conv3_block5_1_conv (Conv2D)    (None, 28, 28, 128)  32768       conv3_block5_0_relu[0][0]        \n",
            "__________________________________________________________________________________________________\n",
            "conv3_block5_1_bn (BatchNormali (None, 28, 28, 128)  512         conv3_block5_1_conv[0][0]        \n",
            "__________________________________________________________________________________________________\n",
            "conv3_block5_1_relu (Activation (None, 28, 28, 128)  0           conv3_block5_1_bn[0][0]          \n",
            "__________________________________________________________________________________________________\n",
            "conv3_block5_2_conv (Conv2D)    (None, 28, 28, 32)   36864       conv3_block5_1_relu[0][0]        \n",
            "__________________________________________________________________________________________________\n",
            "conv3_block5_concat (Concatenat (None, 28, 28, 288)  0           conv3_block4_concat[0][0]        \n",
            "                                                                 conv3_block5_2_conv[0][0]        \n",
            "__________________________________________________________________________________________________\n",
            "conv3_block6_0_bn (BatchNormali (None, 28, 28, 288)  1152        conv3_block5_concat[0][0]        \n",
            "__________________________________________________________________________________________________\n",
            "conv3_block6_0_relu (Activation (None, 28, 28, 288)  0           conv3_block6_0_bn[0][0]          \n",
            "__________________________________________________________________________________________________\n",
            "conv3_block6_1_conv (Conv2D)    (None, 28, 28, 128)  36864       conv3_block6_0_relu[0][0]        \n",
            "__________________________________________________________________________________________________\n",
            "conv3_block6_1_bn (BatchNormali (None, 28, 28, 128)  512         conv3_block6_1_conv[0][0]        \n",
            "__________________________________________________________________________________________________\n",
            "conv3_block6_1_relu (Activation (None, 28, 28, 128)  0           conv3_block6_1_bn[0][0]          \n",
            "__________________________________________________________________________________________________\n",
            "conv3_block6_2_conv (Conv2D)    (None, 28, 28, 32)   36864       conv3_block6_1_relu[0][0]        \n",
            "__________________________________________________________________________________________________\n",
            "conv3_block6_concat (Concatenat (None, 28, 28, 320)  0           conv3_block5_concat[0][0]        \n",
            "                                                                 conv3_block6_2_conv[0][0]        \n",
            "__________________________________________________________________________________________________\n",
            "conv3_block7_0_bn (BatchNormali (None, 28, 28, 320)  1280        conv3_block6_concat[0][0]        \n",
            "__________________________________________________________________________________________________\n",
            "conv3_block7_0_relu (Activation (None, 28, 28, 320)  0           conv3_block7_0_bn[0][0]          \n",
            "__________________________________________________________________________________________________\n",
            "conv3_block7_1_conv (Conv2D)    (None, 28, 28, 128)  40960       conv3_block7_0_relu[0][0]        \n",
            "__________________________________________________________________________________________________\n",
            "conv3_block7_1_bn (BatchNormali (None, 28, 28, 128)  512         conv3_block7_1_conv[0][0]        \n",
            "__________________________________________________________________________________________________\n",
            "conv3_block7_1_relu (Activation (None, 28, 28, 128)  0           conv3_block7_1_bn[0][0]          \n",
            "__________________________________________________________________________________________________\n",
            "conv3_block7_2_conv (Conv2D)    (None, 28, 28, 32)   36864       conv3_block7_1_relu[0][0]        \n",
            "__________________________________________________________________________________________________\n",
            "conv3_block7_concat (Concatenat (None, 28, 28, 352)  0           conv3_block6_concat[0][0]        \n",
            "                                                                 conv3_block7_2_conv[0][0]        \n",
            "__________________________________________________________________________________________________\n",
            "conv3_block8_0_bn (BatchNormali (None, 28, 28, 352)  1408        conv3_block7_concat[0][0]        \n",
            "__________________________________________________________________________________________________\n",
            "conv3_block8_0_relu (Activation (None, 28, 28, 352)  0           conv3_block8_0_bn[0][0]          \n",
            "__________________________________________________________________________________________________\n",
            "conv3_block8_1_conv (Conv2D)    (None, 28, 28, 128)  45056       conv3_block8_0_relu[0][0]        \n",
            "__________________________________________________________________________________________________\n",
            "conv3_block8_1_bn (BatchNormali (None, 28, 28, 128)  512         conv3_block8_1_conv[0][0]        \n",
            "__________________________________________________________________________________________________\n",
            "conv3_block8_1_relu (Activation (None, 28, 28, 128)  0           conv3_block8_1_bn[0][0]          \n",
            "__________________________________________________________________________________________________\n",
            "conv3_block8_2_conv (Conv2D)    (None, 28, 28, 32)   36864       conv3_block8_1_relu[0][0]        \n",
            "__________________________________________________________________________________________________\n",
            "conv3_block8_concat (Concatenat (None, 28, 28, 384)  0           conv3_block7_concat[0][0]        \n",
            "                                                                 conv3_block8_2_conv[0][0]        \n",
            "__________________________________________________________________________________________________\n",
            "conv3_block9_0_bn (BatchNormali (None, 28, 28, 384)  1536        conv3_block8_concat[0][0]        \n",
            "__________________________________________________________________________________________________\n",
            "conv3_block9_0_relu (Activation (None, 28, 28, 384)  0           conv3_block9_0_bn[0][0]          \n",
            "__________________________________________________________________________________________________\n",
            "conv3_block9_1_conv (Conv2D)    (None, 28, 28, 128)  49152       conv3_block9_0_relu[0][0]        \n",
            "__________________________________________________________________________________________________\n",
            "conv3_block9_1_bn (BatchNormali (None, 28, 28, 128)  512         conv3_block9_1_conv[0][0]        \n",
            "__________________________________________________________________________________________________\n",
            "conv3_block9_1_relu (Activation (None, 28, 28, 128)  0           conv3_block9_1_bn[0][0]          \n",
            "__________________________________________________________________________________________________\n",
            "conv3_block9_2_conv (Conv2D)    (None, 28, 28, 32)   36864       conv3_block9_1_relu[0][0]        \n",
            "__________________________________________________________________________________________________\n",
            "conv3_block9_concat (Concatenat (None, 28, 28, 416)  0           conv3_block8_concat[0][0]        \n",
            "                                                                 conv3_block9_2_conv[0][0]        \n",
            "__________________________________________________________________________________________________\n",
            "conv3_block10_0_bn (BatchNormal (None, 28, 28, 416)  1664        conv3_block9_concat[0][0]        \n",
            "__________________________________________________________________________________________________\n",
            "conv3_block10_0_relu (Activatio (None, 28, 28, 416)  0           conv3_block10_0_bn[0][0]         \n",
            "__________________________________________________________________________________________________\n",
            "conv3_block10_1_conv (Conv2D)   (None, 28, 28, 128)  53248       conv3_block10_0_relu[0][0]       \n",
            "__________________________________________________________________________________________________\n",
            "conv3_block10_1_bn (BatchNormal (None, 28, 28, 128)  512         conv3_block10_1_conv[0][0]       \n",
            "__________________________________________________________________________________________________\n",
            "conv3_block10_1_relu (Activatio (None, 28, 28, 128)  0           conv3_block10_1_bn[0][0]         \n",
            "__________________________________________________________________________________________________\n",
            "conv3_block10_2_conv (Conv2D)   (None, 28, 28, 32)   36864       conv3_block10_1_relu[0][0]       \n",
            "__________________________________________________________________________________________________\n",
            "conv3_block10_concat (Concatena (None, 28, 28, 448)  0           conv3_block9_concat[0][0]        \n",
            "                                                                 conv3_block10_2_conv[0][0]       \n",
            "__________________________________________________________________________________________________\n",
            "conv3_block11_0_bn (BatchNormal (None, 28, 28, 448)  1792        conv3_block10_concat[0][0]       \n",
            "__________________________________________________________________________________________________\n",
            "conv3_block11_0_relu (Activatio (None, 28, 28, 448)  0           conv3_block11_0_bn[0][0]         \n",
            "__________________________________________________________________________________________________\n",
            "conv3_block11_1_conv (Conv2D)   (None, 28, 28, 128)  57344       conv3_block11_0_relu[0][0]       \n",
            "__________________________________________________________________________________________________\n",
            "conv3_block11_1_bn (BatchNormal (None, 28, 28, 128)  512         conv3_block11_1_conv[0][0]       \n",
            "__________________________________________________________________________________________________\n",
            "conv3_block11_1_relu (Activatio (None, 28, 28, 128)  0           conv3_block11_1_bn[0][0]         \n",
            "__________________________________________________________________________________________________\n",
            "conv3_block11_2_conv (Conv2D)   (None, 28, 28, 32)   36864       conv3_block11_1_relu[0][0]       \n",
            "__________________________________________________________________________________________________\n",
            "conv3_block11_concat (Concatena (None, 28, 28, 480)  0           conv3_block10_concat[0][0]       \n",
            "                                                                 conv3_block11_2_conv[0][0]       \n",
            "__________________________________________________________________________________________________\n",
            "conv3_block12_0_bn (BatchNormal (None, 28, 28, 480)  1920        conv3_block11_concat[0][0]       \n",
            "__________________________________________________________________________________________________\n",
            "conv3_block12_0_relu (Activatio (None, 28, 28, 480)  0           conv3_block12_0_bn[0][0]         \n",
            "__________________________________________________________________________________________________\n",
            "conv3_block12_1_conv (Conv2D)   (None, 28, 28, 128)  61440       conv3_block12_0_relu[0][0]       \n",
            "__________________________________________________________________________________________________\n",
            "conv3_block12_1_bn (BatchNormal (None, 28, 28, 128)  512         conv3_block12_1_conv[0][0]       \n",
            "__________________________________________________________________________________________________\n",
            "conv3_block12_1_relu (Activatio (None, 28, 28, 128)  0           conv3_block12_1_bn[0][0]         \n",
            "__________________________________________________________________________________________________\n",
            "conv3_block12_2_conv (Conv2D)   (None, 28, 28, 32)   36864       conv3_block12_1_relu[0][0]       \n",
            "__________________________________________________________________________________________________\n",
            "conv3_block12_concat (Concatena (None, 28, 28, 512)  0           conv3_block11_concat[0][0]       \n",
            "                                                                 conv3_block12_2_conv[0][0]       \n",
            "__________________________________________________________________________________________________\n",
            "pool3_bn (BatchNormalization)   (None, 28, 28, 512)  2048        conv3_block12_concat[0][0]       \n",
            "__________________________________________________________________________________________________\n",
            "pool3_relu (Activation)         (None, 28, 28, 512)  0           pool3_bn[0][0]                   \n",
            "__________________________________________________________________________________________________\n",
            "pool3_conv (Conv2D)             (None, 28, 28, 256)  131072      pool3_relu[0][0]                 \n",
            "__________________________________________________________________________________________________\n",
            "pool3_pool (AveragePooling2D)   (None, 14, 14, 256)  0           pool3_conv[0][0]                 \n",
            "__________________________________________________________________________________________________\n",
            "conv4_block1_0_bn (BatchNormali (None, 14, 14, 256)  1024        pool3_pool[0][0]                 \n",
            "__________________________________________________________________________________________________\n",
            "conv4_block1_0_relu (Activation (None, 14, 14, 256)  0           conv4_block1_0_bn[0][0]          \n",
            "__________________________________________________________________________________________________\n",
            "conv4_block1_1_conv (Conv2D)    (None, 14, 14, 128)  32768       conv4_block1_0_relu[0][0]        \n",
            "__________________________________________________________________________________________________\n",
            "conv4_block1_1_bn (BatchNormali (None, 14, 14, 128)  512         conv4_block1_1_conv[0][0]        \n",
            "__________________________________________________________________________________________________\n",
            "conv4_block1_1_relu (Activation (None, 14, 14, 128)  0           conv4_block1_1_bn[0][0]          \n",
            "__________________________________________________________________________________________________\n",
            "conv4_block1_2_conv (Conv2D)    (None, 14, 14, 32)   36864       conv4_block1_1_relu[0][0]        \n",
            "__________________________________________________________________________________________________\n",
            "conv4_block1_concat (Concatenat (None, 14, 14, 288)  0           pool3_pool[0][0]                 \n",
            "                                                                 conv4_block1_2_conv[0][0]        \n",
            "__________________________________________________________________________________________________\n",
            "conv4_block2_0_bn (BatchNormali (None, 14, 14, 288)  1152        conv4_block1_concat[0][0]        \n",
            "__________________________________________________________________________________________________\n",
            "conv4_block2_0_relu (Activation (None, 14, 14, 288)  0           conv4_block2_0_bn[0][0]          \n",
            "__________________________________________________________________________________________________\n",
            "conv4_block2_1_conv (Conv2D)    (None, 14, 14, 128)  36864       conv4_block2_0_relu[0][0]        \n",
            "__________________________________________________________________________________________________\n",
            "conv4_block2_1_bn (BatchNormali (None, 14, 14, 128)  512         conv4_block2_1_conv[0][0]        \n",
            "__________________________________________________________________________________________________\n",
            "conv4_block2_1_relu (Activation (None, 14, 14, 128)  0           conv4_block2_1_bn[0][0]          \n",
            "__________________________________________________________________________________________________\n",
            "conv4_block2_2_conv (Conv2D)    (None, 14, 14, 32)   36864       conv4_block2_1_relu[0][0]        \n",
            "__________________________________________________________________________________________________\n",
            "conv4_block2_concat (Concatenat (None, 14, 14, 320)  0           conv4_block1_concat[0][0]        \n",
            "                                                                 conv4_block2_2_conv[0][0]        \n",
            "__________________________________________________________________________________________________\n",
            "conv4_block3_0_bn (BatchNormali (None, 14, 14, 320)  1280        conv4_block2_concat[0][0]        \n",
            "__________________________________________________________________________________________________\n",
            "conv4_block3_0_relu (Activation (None, 14, 14, 320)  0           conv4_block3_0_bn[0][0]          \n",
            "__________________________________________________________________________________________________\n",
            "conv4_block3_1_conv (Conv2D)    (None, 14, 14, 128)  40960       conv4_block3_0_relu[0][0]        \n",
            "__________________________________________________________________________________________________\n",
            "conv4_block3_1_bn (BatchNormali (None, 14, 14, 128)  512         conv4_block3_1_conv[0][0]        \n",
            "__________________________________________________________________________________________________\n",
            "conv4_block3_1_relu (Activation (None, 14, 14, 128)  0           conv4_block3_1_bn[0][0]          \n",
            "__________________________________________________________________________________________________\n",
            "conv4_block3_2_conv (Conv2D)    (None, 14, 14, 32)   36864       conv4_block3_1_relu[0][0]        \n",
            "__________________________________________________________________________________________________\n",
            "conv4_block3_concat (Concatenat (None, 14, 14, 352)  0           conv4_block2_concat[0][0]        \n",
            "                                                                 conv4_block3_2_conv[0][0]        \n",
            "__________________________________________________________________________________________________\n",
            "conv4_block4_0_bn (BatchNormali (None, 14, 14, 352)  1408        conv4_block3_concat[0][0]        \n",
            "__________________________________________________________________________________________________\n",
            "conv4_block4_0_relu (Activation (None, 14, 14, 352)  0           conv4_block4_0_bn[0][0]          \n",
            "__________________________________________________________________________________________________\n",
            "conv4_block4_1_conv (Conv2D)    (None, 14, 14, 128)  45056       conv4_block4_0_relu[0][0]        \n",
            "__________________________________________________________________________________________________\n",
            "conv4_block4_1_bn (BatchNormali (None, 14, 14, 128)  512         conv4_block4_1_conv[0][0]        \n",
            "__________________________________________________________________________________________________\n",
            "conv4_block4_1_relu (Activation (None, 14, 14, 128)  0           conv4_block4_1_bn[0][0]          \n",
            "__________________________________________________________________________________________________\n",
            "conv4_block4_2_conv (Conv2D)    (None, 14, 14, 32)   36864       conv4_block4_1_relu[0][0]        \n",
            "__________________________________________________________________________________________________\n",
            "conv4_block4_concat (Concatenat (None, 14, 14, 384)  0           conv4_block3_concat[0][0]        \n",
            "                                                                 conv4_block4_2_conv[0][0]        \n",
            "__________________________________________________________________________________________________\n",
            "conv4_block5_0_bn (BatchNormali (None, 14, 14, 384)  1536        conv4_block4_concat[0][0]        \n",
            "__________________________________________________________________________________________________\n",
            "conv4_block5_0_relu (Activation (None, 14, 14, 384)  0           conv4_block5_0_bn[0][0]          \n",
            "__________________________________________________________________________________________________\n",
            "conv4_block5_1_conv (Conv2D)    (None, 14, 14, 128)  49152       conv4_block5_0_relu[0][0]        \n",
            "__________________________________________________________________________________________________\n",
            "conv4_block5_1_bn (BatchNormali (None, 14, 14, 128)  512         conv4_block5_1_conv[0][0]        \n",
            "__________________________________________________________________________________________________\n",
            "conv4_block5_1_relu (Activation (None, 14, 14, 128)  0           conv4_block5_1_bn[0][0]          \n",
            "__________________________________________________________________________________________________\n",
            "conv4_block5_2_conv (Conv2D)    (None, 14, 14, 32)   36864       conv4_block5_1_relu[0][0]        \n",
            "__________________________________________________________________________________________________\n",
            "conv4_block5_concat (Concatenat (None, 14, 14, 416)  0           conv4_block4_concat[0][0]        \n",
            "                                                                 conv4_block5_2_conv[0][0]        \n",
            "__________________________________________________________________________________________________\n",
            "conv4_block6_0_bn (BatchNormali (None, 14, 14, 416)  1664        conv4_block5_concat[0][0]        \n",
            "__________________________________________________________________________________________________\n",
            "conv4_block6_0_relu (Activation (None, 14, 14, 416)  0           conv4_block6_0_bn[0][0]          \n",
            "__________________________________________________________________________________________________\n",
            "conv4_block6_1_conv (Conv2D)    (None, 14, 14, 128)  53248       conv4_block6_0_relu[0][0]        \n",
            "__________________________________________________________________________________________________\n",
            "conv4_block6_1_bn (BatchNormali (None, 14, 14, 128)  512         conv4_block6_1_conv[0][0]        \n",
            "__________________________________________________________________________________________________\n",
            "conv4_block6_1_relu (Activation (None, 14, 14, 128)  0           conv4_block6_1_bn[0][0]          \n",
            "__________________________________________________________________________________________________\n",
            "conv4_block6_2_conv (Conv2D)    (None, 14, 14, 32)   36864       conv4_block6_1_relu[0][0]        \n",
            "__________________________________________________________________________________________________\n",
            "conv4_block6_concat (Concatenat (None, 14, 14, 448)  0           conv4_block5_concat[0][0]        \n",
            "                                                                 conv4_block6_2_conv[0][0]        \n",
            "__________________________________________________________________________________________________\n",
            "conv4_block7_0_bn (BatchNormali (None, 14, 14, 448)  1792        conv4_block6_concat[0][0]        \n",
            "__________________________________________________________________________________________________\n",
            "conv4_block7_0_relu (Activation (None, 14, 14, 448)  0           conv4_block7_0_bn[0][0]          \n",
            "__________________________________________________________________________________________________\n",
            "conv4_block7_1_conv (Conv2D)    (None, 14, 14, 128)  57344       conv4_block7_0_relu[0][0]        \n",
            "__________________________________________________________________________________________________\n",
            "conv4_block7_1_bn (BatchNormali (None, 14, 14, 128)  512         conv4_block7_1_conv[0][0]        \n",
            "__________________________________________________________________________________________________\n",
            "conv4_block7_1_relu (Activation (None, 14, 14, 128)  0           conv4_block7_1_bn[0][0]          \n",
            "__________________________________________________________________________________________________\n",
            "conv4_block7_2_conv (Conv2D)    (None, 14, 14, 32)   36864       conv4_block7_1_relu[0][0]        \n",
            "__________________________________________________________________________________________________\n",
            "conv4_block7_concat (Concatenat (None, 14, 14, 480)  0           conv4_block6_concat[0][0]        \n",
            "                                                                 conv4_block7_2_conv[0][0]        \n",
            "__________________________________________________________________________________________________\n",
            "conv4_block8_0_bn (BatchNormali (None, 14, 14, 480)  1920        conv4_block7_concat[0][0]        \n",
            "__________________________________________________________________________________________________\n",
            "conv4_block8_0_relu (Activation (None, 14, 14, 480)  0           conv4_block8_0_bn[0][0]          \n",
            "__________________________________________________________________________________________________\n",
            "conv4_block8_1_conv (Conv2D)    (None, 14, 14, 128)  61440       conv4_block8_0_relu[0][0]        \n",
            "__________________________________________________________________________________________________\n",
            "conv4_block8_1_bn (BatchNormali (None, 14, 14, 128)  512         conv4_block8_1_conv[0][0]        \n",
            "__________________________________________________________________________________________________\n",
            "conv4_block8_1_relu (Activation (None, 14, 14, 128)  0           conv4_block8_1_bn[0][0]          \n",
            "__________________________________________________________________________________________________\n",
            "conv4_block8_2_conv (Conv2D)    (None, 14, 14, 32)   36864       conv4_block8_1_relu[0][0]        \n",
            "__________________________________________________________________________________________________\n",
            "conv4_block8_concat (Concatenat (None, 14, 14, 512)  0           conv4_block7_concat[0][0]        \n",
            "                                                                 conv4_block8_2_conv[0][0]        \n",
            "__________________________________________________________________________________________________\n",
            "conv4_block9_0_bn (BatchNormali (None, 14, 14, 512)  2048        conv4_block8_concat[0][0]        \n",
            "__________________________________________________________________________________________________\n",
            "conv4_block9_0_relu (Activation (None, 14, 14, 512)  0           conv4_block9_0_bn[0][0]          \n",
            "__________________________________________________________________________________________________\n",
            "conv4_block9_1_conv (Conv2D)    (None, 14, 14, 128)  65536       conv4_block9_0_relu[0][0]        \n",
            "__________________________________________________________________________________________________\n",
            "conv4_block9_1_bn (BatchNormali (None, 14, 14, 128)  512         conv4_block9_1_conv[0][0]        \n",
            "__________________________________________________________________________________________________\n",
            "conv4_block9_1_relu (Activation (None, 14, 14, 128)  0           conv4_block9_1_bn[0][0]          \n",
            "__________________________________________________________________________________________________\n",
            "conv4_block9_2_conv (Conv2D)    (None, 14, 14, 32)   36864       conv4_block9_1_relu[0][0]        \n",
            "__________________________________________________________________________________________________\n",
            "conv4_block9_concat (Concatenat (None, 14, 14, 544)  0           conv4_block8_concat[0][0]        \n",
            "                                                                 conv4_block9_2_conv[0][0]        \n",
            "__________________________________________________________________________________________________\n",
            "conv4_block10_0_bn (BatchNormal (None, 14, 14, 544)  2176        conv4_block9_concat[0][0]        \n",
            "__________________________________________________________________________________________________\n",
            "conv4_block10_0_relu (Activatio (None, 14, 14, 544)  0           conv4_block10_0_bn[0][0]         \n",
            "__________________________________________________________________________________________________\n",
            "conv4_block10_1_conv (Conv2D)   (None, 14, 14, 128)  69632       conv4_block10_0_relu[0][0]       \n",
            "__________________________________________________________________________________________________\n",
            "conv4_block10_1_bn (BatchNormal (None, 14, 14, 128)  512         conv4_block10_1_conv[0][0]       \n",
            "__________________________________________________________________________________________________\n",
            "conv4_block10_1_relu (Activatio (None, 14, 14, 128)  0           conv4_block10_1_bn[0][0]         \n",
            "__________________________________________________________________________________________________\n",
            "conv4_block10_2_conv (Conv2D)   (None, 14, 14, 32)   36864       conv4_block10_1_relu[0][0]       \n",
            "__________________________________________________________________________________________________\n",
            "conv4_block10_concat (Concatena (None, 14, 14, 576)  0           conv4_block9_concat[0][0]        \n",
            "                                                                 conv4_block10_2_conv[0][0]       \n",
            "__________________________________________________________________________________________________\n",
            "conv4_block11_0_bn (BatchNormal (None, 14, 14, 576)  2304        conv4_block10_concat[0][0]       \n",
            "__________________________________________________________________________________________________\n",
            "conv4_block11_0_relu (Activatio (None, 14, 14, 576)  0           conv4_block11_0_bn[0][0]         \n",
            "__________________________________________________________________________________________________\n",
            "conv4_block11_1_conv (Conv2D)   (None, 14, 14, 128)  73728       conv4_block11_0_relu[0][0]       \n",
            "__________________________________________________________________________________________________\n",
            "conv4_block11_1_bn (BatchNormal (None, 14, 14, 128)  512         conv4_block11_1_conv[0][0]       \n",
            "__________________________________________________________________________________________________\n",
            "conv4_block11_1_relu (Activatio (None, 14, 14, 128)  0           conv4_block11_1_bn[0][0]         \n",
            "__________________________________________________________________________________________________\n",
            "conv4_block11_2_conv (Conv2D)   (None, 14, 14, 32)   36864       conv4_block11_1_relu[0][0]       \n",
            "__________________________________________________________________________________________________\n",
            "conv4_block11_concat (Concatena (None, 14, 14, 608)  0           conv4_block10_concat[0][0]       \n",
            "                                                                 conv4_block11_2_conv[0][0]       \n",
            "__________________________________________________________________________________________________\n",
            "conv4_block12_0_bn (BatchNormal (None, 14, 14, 608)  2432        conv4_block11_concat[0][0]       \n",
            "__________________________________________________________________________________________________\n",
            "conv4_block12_0_relu (Activatio (None, 14, 14, 608)  0           conv4_block12_0_bn[0][0]         \n",
            "__________________________________________________________________________________________________\n",
            "conv4_block12_1_conv (Conv2D)   (None, 14, 14, 128)  77824       conv4_block12_0_relu[0][0]       \n",
            "__________________________________________________________________________________________________\n",
            "conv4_block12_1_bn (BatchNormal (None, 14, 14, 128)  512         conv4_block12_1_conv[0][0]       \n",
            "__________________________________________________________________________________________________\n",
            "conv4_block12_1_relu (Activatio (None, 14, 14, 128)  0           conv4_block12_1_bn[0][0]         \n",
            "__________________________________________________________________________________________________\n",
            "conv4_block12_2_conv (Conv2D)   (None, 14, 14, 32)   36864       conv4_block12_1_relu[0][0]       \n",
            "__________________________________________________________________________________________________\n",
            "conv4_block12_concat (Concatena (None, 14, 14, 640)  0           conv4_block11_concat[0][0]       \n",
            "                                                                 conv4_block12_2_conv[0][0]       \n",
            "__________________________________________________________________________________________________\n",
            "conv4_block13_0_bn (BatchNormal (None, 14, 14, 640)  2560        conv4_block12_concat[0][0]       \n",
            "__________________________________________________________________________________________________\n",
            "conv4_block13_0_relu (Activatio (None, 14, 14, 640)  0           conv4_block13_0_bn[0][0]         \n",
            "__________________________________________________________________________________________________\n",
            "conv4_block13_1_conv (Conv2D)   (None, 14, 14, 128)  81920       conv4_block13_0_relu[0][0]       \n",
            "__________________________________________________________________________________________________\n",
            "conv4_block13_1_bn (BatchNormal (None, 14, 14, 128)  512         conv4_block13_1_conv[0][0]       \n",
            "__________________________________________________________________________________________________\n",
            "conv4_block13_1_relu (Activatio (None, 14, 14, 128)  0           conv4_block13_1_bn[0][0]         \n",
            "__________________________________________________________________________________________________\n",
            "conv4_block13_2_conv (Conv2D)   (None, 14, 14, 32)   36864       conv4_block13_1_relu[0][0]       \n",
            "__________________________________________________________________________________________________\n",
            "conv4_block13_concat (Concatena (None, 14, 14, 672)  0           conv4_block12_concat[0][0]       \n",
            "                                                                 conv4_block13_2_conv[0][0]       \n",
            "__________________________________________________________________________________________________\n",
            "conv4_block14_0_bn (BatchNormal (None, 14, 14, 672)  2688        conv4_block13_concat[0][0]       \n",
            "__________________________________________________________________________________________________\n",
            "conv4_block14_0_relu (Activatio (None, 14, 14, 672)  0           conv4_block14_0_bn[0][0]         \n",
            "__________________________________________________________________________________________________\n",
            "conv4_block14_1_conv (Conv2D)   (None, 14, 14, 128)  86016       conv4_block14_0_relu[0][0]       \n",
            "__________________________________________________________________________________________________\n",
            "conv4_block14_1_bn (BatchNormal (None, 14, 14, 128)  512         conv4_block14_1_conv[0][0]       \n",
            "__________________________________________________________________________________________________\n",
            "conv4_block14_1_relu (Activatio (None, 14, 14, 128)  0           conv4_block14_1_bn[0][0]         \n",
            "__________________________________________________________________________________________________\n",
            "conv4_block14_2_conv (Conv2D)   (None, 14, 14, 32)   36864       conv4_block14_1_relu[0][0]       \n",
            "__________________________________________________________________________________________________\n",
            "conv4_block14_concat (Concatena (None, 14, 14, 704)  0           conv4_block13_concat[0][0]       \n",
            "                                                                 conv4_block14_2_conv[0][0]       \n",
            "__________________________________________________________________________________________________\n",
            "conv4_block15_0_bn (BatchNormal (None, 14, 14, 704)  2816        conv4_block14_concat[0][0]       \n",
            "__________________________________________________________________________________________________\n",
            "conv4_block15_0_relu (Activatio (None, 14, 14, 704)  0           conv4_block15_0_bn[0][0]         \n",
            "__________________________________________________________________________________________________\n",
            "conv4_block15_1_conv (Conv2D)   (None, 14, 14, 128)  90112       conv4_block15_0_relu[0][0]       \n",
            "__________________________________________________________________________________________________\n",
            "conv4_block15_1_bn (BatchNormal (None, 14, 14, 128)  512         conv4_block15_1_conv[0][0]       \n",
            "__________________________________________________________________________________________________\n",
            "conv4_block15_1_relu (Activatio (None, 14, 14, 128)  0           conv4_block15_1_bn[0][0]         \n",
            "__________________________________________________________________________________________________\n",
            "conv4_block15_2_conv (Conv2D)   (None, 14, 14, 32)   36864       conv4_block15_1_relu[0][0]       \n",
            "__________________________________________________________________________________________________\n",
            "conv4_block15_concat (Concatena (None, 14, 14, 736)  0           conv4_block14_concat[0][0]       \n",
            "                                                                 conv4_block15_2_conv[0][0]       \n",
            "__________________________________________________________________________________________________\n",
            "conv4_block16_0_bn (BatchNormal (None, 14, 14, 736)  2944        conv4_block15_concat[0][0]       \n",
            "__________________________________________________________________________________________________\n",
            "conv4_block16_0_relu (Activatio (None, 14, 14, 736)  0           conv4_block16_0_bn[0][0]         \n",
            "__________________________________________________________________________________________________\n",
            "conv4_block16_1_conv (Conv2D)   (None, 14, 14, 128)  94208       conv4_block16_0_relu[0][0]       \n",
            "__________________________________________________________________________________________________\n",
            "conv4_block16_1_bn (BatchNormal (None, 14, 14, 128)  512         conv4_block16_1_conv[0][0]       \n",
            "__________________________________________________________________________________________________\n",
            "conv4_block16_1_relu (Activatio (None, 14, 14, 128)  0           conv4_block16_1_bn[0][0]         \n",
            "__________________________________________________________________________________________________\n",
            "conv4_block16_2_conv (Conv2D)   (None, 14, 14, 32)   36864       conv4_block16_1_relu[0][0]       \n",
            "__________________________________________________________________________________________________\n",
            "conv4_block16_concat (Concatena (None, 14, 14, 768)  0           conv4_block15_concat[0][0]       \n",
            "                                                                 conv4_block16_2_conv[0][0]       \n",
            "__________________________________________________________________________________________________\n",
            "conv4_block17_0_bn (BatchNormal (None, 14, 14, 768)  3072        conv4_block16_concat[0][0]       \n",
            "__________________________________________________________________________________________________\n",
            "conv4_block17_0_relu (Activatio (None, 14, 14, 768)  0           conv4_block17_0_bn[0][0]         \n",
            "__________________________________________________________________________________________________\n",
            "conv4_block17_1_conv (Conv2D)   (None, 14, 14, 128)  98304       conv4_block17_0_relu[0][0]       \n",
            "__________________________________________________________________________________________________\n",
            "conv4_block17_1_bn (BatchNormal (None, 14, 14, 128)  512         conv4_block17_1_conv[0][0]       \n",
            "__________________________________________________________________________________________________\n",
            "conv4_block17_1_relu (Activatio (None, 14, 14, 128)  0           conv4_block17_1_bn[0][0]         \n",
            "__________________________________________________________________________________________________\n",
            "conv4_block17_2_conv (Conv2D)   (None, 14, 14, 32)   36864       conv4_block17_1_relu[0][0]       \n",
            "__________________________________________________________________________________________________\n",
            "conv4_block17_concat (Concatena (None, 14, 14, 800)  0           conv4_block16_concat[0][0]       \n",
            "                                                                 conv4_block17_2_conv[0][0]       \n",
            "__________________________________________________________________________________________________\n",
            "conv4_block18_0_bn (BatchNormal (None, 14, 14, 800)  3200        conv4_block17_concat[0][0]       \n",
            "__________________________________________________________________________________________________\n",
            "conv4_block18_0_relu (Activatio (None, 14, 14, 800)  0           conv4_block18_0_bn[0][0]         \n",
            "__________________________________________________________________________________________________\n",
            "conv4_block18_1_conv (Conv2D)   (None, 14, 14, 128)  102400      conv4_block18_0_relu[0][0]       \n",
            "__________________________________________________________________________________________________\n",
            "conv4_block18_1_bn (BatchNormal (None, 14, 14, 128)  512         conv4_block18_1_conv[0][0]       \n",
            "__________________________________________________________________________________________________\n",
            "conv4_block18_1_relu (Activatio (None, 14, 14, 128)  0           conv4_block18_1_bn[0][0]         \n",
            "__________________________________________________________________________________________________\n",
            "conv4_block18_2_conv (Conv2D)   (None, 14, 14, 32)   36864       conv4_block18_1_relu[0][0]       \n",
            "__________________________________________________________________________________________________\n",
            "conv4_block18_concat (Concatena (None, 14, 14, 832)  0           conv4_block17_concat[0][0]       \n",
            "                                                                 conv4_block18_2_conv[0][0]       \n",
            "__________________________________________________________________________________________________\n",
            "conv4_block19_0_bn (BatchNormal (None, 14, 14, 832)  3328        conv4_block18_concat[0][0]       \n",
            "__________________________________________________________________________________________________\n",
            "conv4_block19_0_relu (Activatio (None, 14, 14, 832)  0           conv4_block19_0_bn[0][0]         \n",
            "__________________________________________________________________________________________________\n",
            "conv4_block19_1_conv (Conv2D)   (None, 14, 14, 128)  106496      conv4_block19_0_relu[0][0]       \n",
            "__________________________________________________________________________________________________\n",
            "conv4_block19_1_bn (BatchNormal (None, 14, 14, 128)  512         conv4_block19_1_conv[0][0]       \n",
            "__________________________________________________________________________________________________\n",
            "conv4_block19_1_relu (Activatio (None, 14, 14, 128)  0           conv4_block19_1_bn[0][0]         \n",
            "__________________________________________________________________________________________________\n",
            "conv4_block19_2_conv (Conv2D)   (None, 14, 14, 32)   36864       conv4_block19_1_relu[0][0]       \n",
            "__________________________________________________________________________________________________\n",
            "conv4_block19_concat (Concatena (None, 14, 14, 864)  0           conv4_block18_concat[0][0]       \n",
            "                                                                 conv4_block19_2_conv[0][0]       \n",
            "__________________________________________________________________________________________________\n",
            "conv4_block20_0_bn (BatchNormal (None, 14, 14, 864)  3456        conv4_block19_concat[0][0]       \n",
            "__________________________________________________________________________________________________\n",
            "conv4_block20_0_relu (Activatio (None, 14, 14, 864)  0           conv4_block20_0_bn[0][0]         \n",
            "__________________________________________________________________________________________________\n",
            "conv4_block20_1_conv (Conv2D)   (None, 14, 14, 128)  110592      conv4_block20_0_relu[0][0]       \n",
            "__________________________________________________________________________________________________\n",
            "conv4_block20_1_bn (BatchNormal (None, 14, 14, 128)  512         conv4_block20_1_conv[0][0]       \n",
            "__________________________________________________________________________________________________\n",
            "conv4_block20_1_relu (Activatio (None, 14, 14, 128)  0           conv4_block20_1_bn[0][0]         \n",
            "__________________________________________________________________________________________________\n",
            "conv4_block20_2_conv (Conv2D)   (None, 14, 14, 32)   36864       conv4_block20_1_relu[0][0]       \n",
            "__________________________________________________________________________________________________\n",
            "conv4_block20_concat (Concatena (None, 14, 14, 896)  0           conv4_block19_concat[0][0]       \n",
            "                                                                 conv4_block20_2_conv[0][0]       \n",
            "__________________________________________________________________________________________________\n",
            "conv4_block21_0_bn (BatchNormal (None, 14, 14, 896)  3584        conv4_block20_concat[0][0]       \n",
            "__________________________________________________________________________________________________\n",
            "conv4_block21_0_relu (Activatio (None, 14, 14, 896)  0           conv4_block21_0_bn[0][0]         \n",
            "__________________________________________________________________________________________________\n",
            "conv4_block21_1_conv (Conv2D)   (None, 14, 14, 128)  114688      conv4_block21_0_relu[0][0]       \n",
            "__________________________________________________________________________________________________\n",
            "conv4_block21_1_bn (BatchNormal (None, 14, 14, 128)  512         conv4_block21_1_conv[0][0]       \n",
            "__________________________________________________________________________________________________\n",
            "conv4_block21_1_relu (Activatio (None, 14, 14, 128)  0           conv4_block21_1_bn[0][0]         \n",
            "__________________________________________________________________________________________________\n",
            "conv4_block21_2_conv (Conv2D)   (None, 14, 14, 32)   36864       conv4_block21_1_relu[0][0]       \n",
            "__________________________________________________________________________________________________\n",
            "conv4_block21_concat (Concatena (None, 14, 14, 928)  0           conv4_block20_concat[0][0]       \n",
            "                                                                 conv4_block21_2_conv[0][0]       \n",
            "__________________________________________________________________________________________________\n",
            "conv4_block22_0_bn (BatchNormal (None, 14, 14, 928)  3712        conv4_block21_concat[0][0]       \n",
            "__________________________________________________________________________________________________\n",
            "conv4_block22_0_relu (Activatio (None, 14, 14, 928)  0           conv4_block22_0_bn[0][0]         \n",
            "__________________________________________________________________________________________________\n",
            "conv4_block22_1_conv (Conv2D)   (None, 14, 14, 128)  118784      conv4_block22_0_relu[0][0]       \n",
            "__________________________________________________________________________________________________\n",
            "conv4_block22_1_bn (BatchNormal (None, 14, 14, 128)  512         conv4_block22_1_conv[0][0]       \n",
            "__________________________________________________________________________________________________\n",
            "conv4_block22_1_relu (Activatio (None, 14, 14, 128)  0           conv4_block22_1_bn[0][0]         \n",
            "__________________________________________________________________________________________________\n",
            "conv4_block22_2_conv (Conv2D)   (None, 14, 14, 32)   36864       conv4_block22_1_relu[0][0]       \n",
            "__________________________________________________________________________________________________\n",
            "conv4_block22_concat (Concatena (None, 14, 14, 960)  0           conv4_block21_concat[0][0]       \n",
            "                                                                 conv4_block22_2_conv[0][0]       \n",
            "__________________________________________________________________________________________________\n",
            "conv4_block23_0_bn (BatchNormal (None, 14, 14, 960)  3840        conv4_block22_concat[0][0]       \n",
            "__________________________________________________________________________________________________\n",
            "conv4_block23_0_relu (Activatio (None, 14, 14, 960)  0           conv4_block23_0_bn[0][0]         \n",
            "__________________________________________________________________________________________________\n",
            "conv4_block23_1_conv (Conv2D)   (None, 14, 14, 128)  122880      conv4_block23_0_relu[0][0]       \n",
            "__________________________________________________________________________________________________\n",
            "conv4_block23_1_bn (BatchNormal (None, 14, 14, 128)  512         conv4_block23_1_conv[0][0]       \n",
            "__________________________________________________________________________________________________\n",
            "conv4_block23_1_relu (Activatio (None, 14, 14, 128)  0           conv4_block23_1_bn[0][0]         \n",
            "__________________________________________________________________________________________________\n",
            "conv4_block23_2_conv (Conv2D)   (None, 14, 14, 32)   36864       conv4_block23_1_relu[0][0]       \n",
            "__________________________________________________________________________________________________\n",
            "conv4_block23_concat (Concatena (None, 14, 14, 992)  0           conv4_block22_concat[0][0]       \n",
            "                                                                 conv4_block23_2_conv[0][0]       \n",
            "__________________________________________________________________________________________________\n",
            "conv4_block24_0_bn (BatchNormal (None, 14, 14, 992)  3968        conv4_block23_concat[0][0]       \n",
            "__________________________________________________________________________________________________\n",
            "conv4_block24_0_relu (Activatio (None, 14, 14, 992)  0           conv4_block24_0_bn[0][0]         \n",
            "__________________________________________________________________________________________________\n",
            "conv4_block24_1_conv (Conv2D)   (None, 14, 14, 128)  126976      conv4_block24_0_relu[0][0]       \n",
            "__________________________________________________________________________________________________\n",
            "conv4_block24_1_bn (BatchNormal (None, 14, 14, 128)  512         conv4_block24_1_conv[0][0]       \n",
            "__________________________________________________________________________________________________\n",
            "conv4_block24_1_relu (Activatio (None, 14, 14, 128)  0           conv4_block24_1_bn[0][0]         \n",
            "__________________________________________________________________________________________________\n",
            "conv4_block24_2_conv (Conv2D)   (None, 14, 14, 32)   36864       conv4_block24_1_relu[0][0]       \n",
            "__________________________________________________________________________________________________\n",
            "conv4_block24_concat (Concatena (None, 14, 14, 1024) 0           conv4_block23_concat[0][0]       \n",
            "                                                                 conv4_block24_2_conv[0][0]       \n",
            "__________________________________________________________________________________________________\n",
            "conv4_block25_0_bn (BatchNormal (None, 14, 14, 1024) 4096        conv4_block24_concat[0][0]       \n",
            "__________________________________________________________________________________________________\n",
            "conv4_block25_0_relu (Activatio (None, 14, 14, 1024) 0           conv4_block25_0_bn[0][0]         \n",
            "__________________________________________________________________________________________________\n",
            "conv4_block25_1_conv (Conv2D)   (None, 14, 14, 128)  131072      conv4_block25_0_relu[0][0]       \n",
            "__________________________________________________________________________________________________\n",
            "conv4_block25_1_bn (BatchNormal (None, 14, 14, 128)  512         conv4_block25_1_conv[0][0]       \n",
            "__________________________________________________________________________________________________\n",
            "conv4_block25_1_relu (Activatio (None, 14, 14, 128)  0           conv4_block25_1_bn[0][0]         \n",
            "__________________________________________________________________________________________________\n",
            "conv4_block25_2_conv (Conv2D)   (None, 14, 14, 32)   36864       conv4_block25_1_relu[0][0]       \n",
            "__________________________________________________________________________________________________\n",
            "conv4_block25_concat (Concatena (None, 14, 14, 1056) 0           conv4_block24_concat[0][0]       \n",
            "                                                                 conv4_block25_2_conv[0][0]       \n",
            "__________________________________________________________________________________________________\n",
            "conv4_block26_0_bn (BatchNormal (None, 14, 14, 1056) 4224        conv4_block25_concat[0][0]       \n",
            "__________________________________________________________________________________________________\n",
            "conv4_block26_0_relu (Activatio (None, 14, 14, 1056) 0           conv4_block26_0_bn[0][0]         \n",
            "__________________________________________________________________________________________________\n",
            "conv4_block26_1_conv (Conv2D)   (None, 14, 14, 128)  135168      conv4_block26_0_relu[0][0]       \n",
            "__________________________________________________________________________________________________\n",
            "conv4_block26_1_bn (BatchNormal (None, 14, 14, 128)  512         conv4_block26_1_conv[0][0]       \n",
            "__________________________________________________________________________________________________\n",
            "conv4_block26_1_relu (Activatio (None, 14, 14, 128)  0           conv4_block26_1_bn[0][0]         \n",
            "__________________________________________________________________________________________________\n",
            "conv4_block26_2_conv (Conv2D)   (None, 14, 14, 32)   36864       conv4_block26_1_relu[0][0]       \n",
            "__________________________________________________________________________________________________\n",
            "conv4_block26_concat (Concatena (None, 14, 14, 1088) 0           conv4_block25_concat[0][0]       \n",
            "                                                                 conv4_block26_2_conv[0][0]       \n",
            "__________________________________________________________________________________________________\n",
            "conv4_block27_0_bn (BatchNormal (None, 14, 14, 1088) 4352        conv4_block26_concat[0][0]       \n",
            "__________________________________________________________________________________________________\n",
            "conv4_block27_0_relu (Activatio (None, 14, 14, 1088) 0           conv4_block27_0_bn[0][0]         \n",
            "__________________________________________________________________________________________________\n",
            "conv4_block27_1_conv (Conv2D)   (None, 14, 14, 128)  139264      conv4_block27_0_relu[0][0]       \n",
            "__________________________________________________________________________________________________\n",
            "conv4_block27_1_bn (BatchNormal (None, 14, 14, 128)  512         conv4_block27_1_conv[0][0]       \n",
            "__________________________________________________________________________________________________\n",
            "conv4_block27_1_relu (Activatio (None, 14, 14, 128)  0           conv4_block27_1_bn[0][0]         \n",
            "__________________________________________________________________________________________________\n",
            "conv4_block27_2_conv (Conv2D)   (None, 14, 14, 32)   36864       conv4_block27_1_relu[0][0]       \n",
            "__________________________________________________________________________________________________\n",
            "conv4_block27_concat (Concatena (None, 14, 14, 1120) 0           conv4_block26_concat[0][0]       \n",
            "                                                                 conv4_block27_2_conv[0][0]       \n",
            "__________________________________________________________________________________________________\n",
            "conv4_block28_0_bn (BatchNormal (None, 14, 14, 1120) 4480        conv4_block27_concat[0][0]       \n",
            "__________________________________________________________________________________________________\n",
            "conv4_block28_0_relu (Activatio (None, 14, 14, 1120) 0           conv4_block28_0_bn[0][0]         \n",
            "__________________________________________________________________________________________________\n",
            "conv4_block28_1_conv (Conv2D)   (None, 14, 14, 128)  143360      conv4_block28_0_relu[0][0]       \n",
            "__________________________________________________________________________________________________\n",
            "conv4_block28_1_bn (BatchNormal (None, 14, 14, 128)  512         conv4_block28_1_conv[0][0]       \n",
            "__________________________________________________________________________________________________\n",
            "conv4_block28_1_relu (Activatio (None, 14, 14, 128)  0           conv4_block28_1_bn[0][0]         \n",
            "__________________________________________________________________________________________________\n",
            "conv4_block28_2_conv (Conv2D)   (None, 14, 14, 32)   36864       conv4_block28_1_relu[0][0]       \n",
            "__________________________________________________________________________________________________\n",
            "conv4_block28_concat (Concatena (None, 14, 14, 1152) 0           conv4_block27_concat[0][0]       \n",
            "                                                                 conv4_block28_2_conv[0][0]       \n",
            "__________________________________________________________________________________________________\n",
            "conv4_block29_0_bn (BatchNormal (None, 14, 14, 1152) 4608        conv4_block28_concat[0][0]       \n",
            "__________________________________________________________________________________________________\n",
            "conv4_block29_0_relu (Activatio (None, 14, 14, 1152) 0           conv4_block29_0_bn[0][0]         \n",
            "__________________________________________________________________________________________________\n",
            "conv4_block29_1_conv (Conv2D)   (None, 14, 14, 128)  147456      conv4_block29_0_relu[0][0]       \n",
            "__________________________________________________________________________________________________\n",
            "conv4_block29_1_bn (BatchNormal (None, 14, 14, 128)  512         conv4_block29_1_conv[0][0]       \n",
            "__________________________________________________________________________________________________\n",
            "conv4_block29_1_relu (Activatio (None, 14, 14, 128)  0           conv4_block29_1_bn[0][0]         \n",
            "__________________________________________________________________________________________________\n",
            "conv4_block29_2_conv (Conv2D)   (None, 14, 14, 32)   36864       conv4_block29_1_relu[0][0]       \n",
            "__________________________________________________________________________________________________\n",
            "conv4_block29_concat (Concatena (None, 14, 14, 1184) 0           conv4_block28_concat[0][0]       \n",
            "                                                                 conv4_block29_2_conv[0][0]       \n",
            "__________________________________________________________________________________________________\n",
            "conv4_block30_0_bn (BatchNormal (None, 14, 14, 1184) 4736        conv4_block29_concat[0][0]       \n",
            "__________________________________________________________________________________________________\n",
            "conv4_block30_0_relu (Activatio (None, 14, 14, 1184) 0           conv4_block30_0_bn[0][0]         \n",
            "__________________________________________________________________________________________________\n",
            "conv4_block30_1_conv (Conv2D)   (None, 14, 14, 128)  151552      conv4_block30_0_relu[0][0]       \n",
            "__________________________________________________________________________________________________\n",
            "conv4_block30_1_bn (BatchNormal (None, 14, 14, 128)  512         conv4_block30_1_conv[0][0]       \n",
            "__________________________________________________________________________________________________\n",
            "conv4_block30_1_relu (Activatio (None, 14, 14, 128)  0           conv4_block30_1_bn[0][0]         \n",
            "__________________________________________________________________________________________________\n",
            "conv4_block30_2_conv (Conv2D)   (None, 14, 14, 32)   36864       conv4_block30_1_relu[0][0]       \n",
            "__________________________________________________________________________________________________\n",
            "conv4_block30_concat (Concatena (None, 14, 14, 1216) 0           conv4_block29_concat[0][0]       \n",
            "                                                                 conv4_block30_2_conv[0][0]       \n",
            "__________________________________________________________________________________________________\n",
            "conv4_block31_0_bn (BatchNormal (None, 14, 14, 1216) 4864        conv4_block30_concat[0][0]       \n",
            "__________________________________________________________________________________________________\n",
            "conv4_block31_0_relu (Activatio (None, 14, 14, 1216) 0           conv4_block31_0_bn[0][0]         \n",
            "__________________________________________________________________________________________________\n",
            "conv4_block31_1_conv (Conv2D)   (None, 14, 14, 128)  155648      conv4_block31_0_relu[0][0]       \n",
            "__________________________________________________________________________________________________\n",
            "conv4_block31_1_bn (BatchNormal (None, 14, 14, 128)  512         conv4_block31_1_conv[0][0]       \n",
            "__________________________________________________________________________________________________\n",
            "conv4_block31_1_relu (Activatio (None, 14, 14, 128)  0           conv4_block31_1_bn[0][0]         \n",
            "__________________________________________________________________________________________________\n",
            "conv4_block31_2_conv (Conv2D)   (None, 14, 14, 32)   36864       conv4_block31_1_relu[0][0]       \n",
            "__________________________________________________________________________________________________\n",
            "conv4_block31_concat (Concatena (None, 14, 14, 1248) 0           conv4_block30_concat[0][0]       \n",
            "                                                                 conv4_block31_2_conv[0][0]       \n",
            "__________________________________________________________________________________________________\n",
            "conv4_block32_0_bn (BatchNormal (None, 14, 14, 1248) 4992        conv4_block31_concat[0][0]       \n",
            "__________________________________________________________________________________________________\n",
            "conv4_block32_0_relu (Activatio (None, 14, 14, 1248) 0           conv4_block32_0_bn[0][0]         \n",
            "__________________________________________________________________________________________________\n",
            "conv4_block32_1_conv (Conv2D)   (None, 14, 14, 128)  159744      conv4_block32_0_relu[0][0]       \n",
            "__________________________________________________________________________________________________\n",
            "conv4_block32_1_bn (BatchNormal (None, 14, 14, 128)  512         conv4_block32_1_conv[0][0]       \n",
            "__________________________________________________________________________________________________\n",
            "conv4_block32_1_relu (Activatio (None, 14, 14, 128)  0           conv4_block32_1_bn[0][0]         \n",
            "__________________________________________________________________________________________________\n",
            "conv4_block32_2_conv (Conv2D)   (None, 14, 14, 32)   36864       conv4_block32_1_relu[0][0]       \n",
            "__________________________________________________________________________________________________\n",
            "conv4_block32_concat (Concatena (None, 14, 14, 1280) 0           conv4_block31_concat[0][0]       \n",
            "                                                                 conv4_block32_2_conv[0][0]       \n",
            "__________________________________________________________________________________________________\n",
            "conv4_block33_0_bn (BatchNormal (None, 14, 14, 1280) 5120        conv4_block32_concat[0][0]       \n",
            "__________________________________________________________________________________________________\n",
            "conv4_block33_0_relu (Activatio (None, 14, 14, 1280) 0           conv4_block33_0_bn[0][0]         \n",
            "__________________________________________________________________________________________________\n",
            "conv4_block33_1_conv (Conv2D)   (None, 14, 14, 128)  163840      conv4_block33_0_relu[0][0]       \n",
            "__________________________________________________________________________________________________\n",
            "conv4_block33_1_bn (BatchNormal (None, 14, 14, 128)  512         conv4_block33_1_conv[0][0]       \n",
            "__________________________________________________________________________________________________\n",
            "conv4_block33_1_relu (Activatio (None, 14, 14, 128)  0           conv4_block33_1_bn[0][0]         \n",
            "__________________________________________________________________________________________________\n",
            "conv4_block33_2_conv (Conv2D)   (None, 14, 14, 32)   36864       conv4_block33_1_relu[0][0]       \n",
            "__________________________________________________________________________________________________\n",
            "conv4_block33_concat (Concatena (None, 14, 14, 1312) 0           conv4_block32_concat[0][0]       \n",
            "                                                                 conv4_block33_2_conv[0][0]       \n",
            "__________________________________________________________________________________________________\n",
            "conv4_block34_0_bn (BatchNormal (None, 14, 14, 1312) 5248        conv4_block33_concat[0][0]       \n",
            "__________________________________________________________________________________________________\n",
            "conv4_block34_0_relu (Activatio (None, 14, 14, 1312) 0           conv4_block34_0_bn[0][0]         \n",
            "__________________________________________________________________________________________________\n",
            "conv4_block34_1_conv (Conv2D)   (None, 14, 14, 128)  167936      conv4_block34_0_relu[0][0]       \n",
            "__________________________________________________________________________________________________\n",
            "conv4_block34_1_bn (BatchNormal (None, 14, 14, 128)  512         conv4_block34_1_conv[0][0]       \n",
            "__________________________________________________________________________________________________\n",
            "conv4_block34_1_relu (Activatio (None, 14, 14, 128)  0           conv4_block34_1_bn[0][0]         \n",
            "__________________________________________________________________________________________________\n",
            "conv4_block34_2_conv (Conv2D)   (None, 14, 14, 32)   36864       conv4_block34_1_relu[0][0]       \n",
            "__________________________________________________________________________________________________\n",
            "conv4_block34_concat (Concatena (None, 14, 14, 1344) 0           conv4_block33_concat[0][0]       \n",
            "                                                                 conv4_block34_2_conv[0][0]       \n",
            "__________________________________________________________________________________________________\n",
            "conv4_block35_0_bn (BatchNormal (None, 14, 14, 1344) 5376        conv4_block34_concat[0][0]       \n",
            "__________________________________________________________________________________________________\n",
            "conv4_block35_0_relu (Activatio (None, 14, 14, 1344) 0           conv4_block35_0_bn[0][0]         \n",
            "__________________________________________________________________________________________________\n",
            "conv4_block35_1_conv (Conv2D)   (None, 14, 14, 128)  172032      conv4_block35_0_relu[0][0]       \n",
            "__________________________________________________________________________________________________\n",
            "conv4_block35_1_bn (BatchNormal (None, 14, 14, 128)  512         conv4_block35_1_conv[0][0]       \n",
            "__________________________________________________________________________________________________\n",
            "conv4_block35_1_relu (Activatio (None, 14, 14, 128)  0           conv4_block35_1_bn[0][0]         \n",
            "__________________________________________________________________________________________________\n",
            "conv4_block35_2_conv (Conv2D)   (None, 14, 14, 32)   36864       conv4_block35_1_relu[0][0]       \n",
            "__________________________________________________________________________________________________\n",
            "conv4_block35_concat (Concatena (None, 14, 14, 1376) 0           conv4_block34_concat[0][0]       \n",
            "                                                                 conv4_block35_2_conv[0][0]       \n",
            "__________________________________________________________________________________________________\n",
            "conv4_block36_0_bn (BatchNormal (None, 14, 14, 1376) 5504        conv4_block35_concat[0][0]       \n",
            "__________________________________________________________________________________________________\n",
            "conv4_block36_0_relu (Activatio (None, 14, 14, 1376) 0           conv4_block36_0_bn[0][0]         \n",
            "__________________________________________________________________________________________________\n",
            "conv4_block36_1_conv (Conv2D)   (None, 14, 14, 128)  176128      conv4_block36_0_relu[0][0]       \n",
            "__________________________________________________________________________________________________\n",
            "conv4_block36_1_bn (BatchNormal (None, 14, 14, 128)  512         conv4_block36_1_conv[0][0]       \n",
            "__________________________________________________________________________________________________\n",
            "conv4_block36_1_relu (Activatio (None, 14, 14, 128)  0           conv4_block36_1_bn[0][0]         \n",
            "__________________________________________________________________________________________________\n",
            "conv4_block36_2_conv (Conv2D)   (None, 14, 14, 32)   36864       conv4_block36_1_relu[0][0]       \n",
            "__________________________________________________________________________________________________\n",
            "conv4_block36_concat (Concatena (None, 14, 14, 1408) 0           conv4_block35_concat[0][0]       \n",
            "                                                                 conv4_block36_2_conv[0][0]       \n",
            "__________________________________________________________________________________________________\n",
            "conv4_block37_0_bn (BatchNormal (None, 14, 14, 1408) 5632        conv4_block36_concat[0][0]       \n",
            "__________________________________________________________________________________________________\n",
            "conv4_block37_0_relu (Activatio (None, 14, 14, 1408) 0           conv4_block37_0_bn[0][0]         \n",
            "__________________________________________________________________________________________________\n",
            "conv4_block37_1_conv (Conv2D)   (None, 14, 14, 128)  180224      conv4_block37_0_relu[0][0]       \n",
            "__________________________________________________________________________________________________\n",
            "conv4_block37_1_bn (BatchNormal (None, 14, 14, 128)  512         conv4_block37_1_conv[0][0]       \n",
            "__________________________________________________________________________________________________\n",
            "conv4_block37_1_relu (Activatio (None, 14, 14, 128)  0           conv4_block37_1_bn[0][0]         \n",
            "__________________________________________________________________________________________________\n",
            "conv4_block37_2_conv (Conv2D)   (None, 14, 14, 32)   36864       conv4_block37_1_relu[0][0]       \n",
            "__________________________________________________________________________________________________\n",
            "conv4_block37_concat (Concatena (None, 14, 14, 1440) 0           conv4_block36_concat[0][0]       \n",
            "                                                                 conv4_block37_2_conv[0][0]       \n",
            "__________________________________________________________________________________________________\n",
            "conv4_block38_0_bn (BatchNormal (None, 14, 14, 1440) 5760        conv4_block37_concat[0][0]       \n",
            "__________________________________________________________________________________________________\n",
            "conv4_block38_0_relu (Activatio (None, 14, 14, 1440) 0           conv4_block38_0_bn[0][0]         \n",
            "__________________________________________________________________________________________________\n",
            "conv4_block38_1_conv (Conv2D)   (None, 14, 14, 128)  184320      conv4_block38_0_relu[0][0]       \n",
            "__________________________________________________________________________________________________\n",
            "conv4_block38_1_bn (BatchNormal (None, 14, 14, 128)  512         conv4_block38_1_conv[0][0]       \n",
            "__________________________________________________________________________________________________\n",
            "conv4_block38_1_relu (Activatio (None, 14, 14, 128)  0           conv4_block38_1_bn[0][0]         \n",
            "__________________________________________________________________________________________________\n",
            "conv4_block38_2_conv (Conv2D)   (None, 14, 14, 32)   36864       conv4_block38_1_relu[0][0]       \n",
            "__________________________________________________________________________________________________\n",
            "conv4_block38_concat (Concatena (None, 14, 14, 1472) 0           conv4_block37_concat[0][0]       \n",
            "                                                                 conv4_block38_2_conv[0][0]       \n",
            "__________________________________________________________________________________________________\n",
            "conv4_block39_0_bn (BatchNormal (None, 14, 14, 1472) 5888        conv4_block38_concat[0][0]       \n",
            "__________________________________________________________________________________________________\n",
            "conv4_block39_0_relu (Activatio (None, 14, 14, 1472) 0           conv4_block39_0_bn[0][0]         \n",
            "__________________________________________________________________________________________________\n",
            "conv4_block39_1_conv (Conv2D)   (None, 14, 14, 128)  188416      conv4_block39_0_relu[0][0]       \n",
            "__________________________________________________________________________________________________\n",
            "conv4_block39_1_bn (BatchNormal (None, 14, 14, 128)  512         conv4_block39_1_conv[0][0]       \n",
            "__________________________________________________________________________________________________\n",
            "conv4_block39_1_relu (Activatio (None, 14, 14, 128)  0           conv4_block39_1_bn[0][0]         \n",
            "__________________________________________________________________________________________________\n",
            "conv4_block39_2_conv (Conv2D)   (None, 14, 14, 32)   36864       conv4_block39_1_relu[0][0]       \n",
            "__________________________________________________________________________________________________\n",
            "conv4_block39_concat (Concatena (None, 14, 14, 1504) 0           conv4_block38_concat[0][0]       \n",
            "                                                                 conv4_block39_2_conv[0][0]       \n",
            "__________________________________________________________________________________________________\n",
            "conv4_block40_0_bn (BatchNormal (None, 14, 14, 1504) 6016        conv4_block39_concat[0][0]       \n",
            "__________________________________________________________________________________________________\n",
            "conv4_block40_0_relu (Activatio (None, 14, 14, 1504) 0           conv4_block40_0_bn[0][0]         \n",
            "__________________________________________________________________________________________________\n",
            "conv4_block40_1_conv (Conv2D)   (None, 14, 14, 128)  192512      conv4_block40_0_relu[0][0]       \n",
            "__________________________________________________________________________________________________\n",
            "conv4_block40_1_bn (BatchNormal (None, 14, 14, 128)  512         conv4_block40_1_conv[0][0]       \n",
            "__________________________________________________________________________________________________\n",
            "conv4_block40_1_relu (Activatio (None, 14, 14, 128)  0           conv4_block40_1_bn[0][0]         \n",
            "__________________________________________________________________________________________________\n",
            "conv4_block40_2_conv (Conv2D)   (None, 14, 14, 32)   36864       conv4_block40_1_relu[0][0]       \n",
            "__________________________________________________________________________________________________\n",
            "conv4_block40_concat (Concatena (None, 14, 14, 1536) 0           conv4_block39_concat[0][0]       \n",
            "                                                                 conv4_block40_2_conv[0][0]       \n",
            "__________________________________________________________________________________________________\n",
            "conv4_block41_0_bn (BatchNormal (None, 14, 14, 1536) 6144        conv4_block40_concat[0][0]       \n",
            "__________________________________________________________________________________________________\n",
            "conv4_block41_0_relu (Activatio (None, 14, 14, 1536) 0           conv4_block41_0_bn[0][0]         \n",
            "__________________________________________________________________________________________________\n",
            "conv4_block41_1_conv (Conv2D)   (None, 14, 14, 128)  196608      conv4_block41_0_relu[0][0]       \n",
            "__________________________________________________________________________________________________\n",
            "conv4_block41_1_bn (BatchNormal (None, 14, 14, 128)  512         conv4_block41_1_conv[0][0]       \n",
            "__________________________________________________________________________________________________\n",
            "conv4_block41_1_relu (Activatio (None, 14, 14, 128)  0           conv4_block41_1_bn[0][0]         \n",
            "__________________________________________________________________________________________________\n",
            "conv4_block41_2_conv (Conv2D)   (None, 14, 14, 32)   36864       conv4_block41_1_relu[0][0]       \n",
            "__________________________________________________________________________________________________\n",
            "conv4_block41_concat (Concatena (None, 14, 14, 1568) 0           conv4_block40_concat[0][0]       \n",
            "                                                                 conv4_block41_2_conv[0][0]       \n",
            "__________________________________________________________________________________________________\n",
            "conv4_block42_0_bn (BatchNormal (None, 14, 14, 1568) 6272        conv4_block41_concat[0][0]       \n",
            "__________________________________________________________________________________________________\n",
            "conv4_block42_0_relu (Activatio (None, 14, 14, 1568) 0           conv4_block42_0_bn[0][0]         \n",
            "__________________________________________________________________________________________________\n",
            "conv4_block42_1_conv (Conv2D)   (None, 14, 14, 128)  200704      conv4_block42_0_relu[0][0]       \n",
            "__________________________________________________________________________________________________\n",
            "conv4_block42_1_bn (BatchNormal (None, 14, 14, 128)  512         conv4_block42_1_conv[0][0]       \n",
            "__________________________________________________________________________________________________\n",
            "conv4_block42_1_relu (Activatio (None, 14, 14, 128)  0           conv4_block42_1_bn[0][0]         \n",
            "__________________________________________________________________________________________________\n",
            "conv4_block42_2_conv (Conv2D)   (None, 14, 14, 32)   36864       conv4_block42_1_relu[0][0]       \n",
            "__________________________________________________________________________________________________\n",
            "conv4_block42_concat (Concatena (None, 14, 14, 1600) 0           conv4_block41_concat[0][0]       \n",
            "                                                                 conv4_block42_2_conv[0][0]       \n",
            "__________________________________________________________________________________________________\n",
            "conv4_block43_0_bn (BatchNormal (None, 14, 14, 1600) 6400        conv4_block42_concat[0][0]       \n",
            "__________________________________________________________________________________________________\n",
            "conv4_block43_0_relu (Activatio (None, 14, 14, 1600) 0           conv4_block43_0_bn[0][0]         \n",
            "__________________________________________________________________________________________________\n",
            "conv4_block43_1_conv (Conv2D)   (None, 14, 14, 128)  204800      conv4_block43_0_relu[0][0]       \n",
            "__________________________________________________________________________________________________\n",
            "conv4_block43_1_bn (BatchNormal (None, 14, 14, 128)  512         conv4_block43_1_conv[0][0]       \n",
            "__________________________________________________________________________________________________\n",
            "conv4_block43_1_relu (Activatio (None, 14, 14, 128)  0           conv4_block43_1_bn[0][0]         \n",
            "__________________________________________________________________________________________________\n",
            "conv4_block43_2_conv (Conv2D)   (None, 14, 14, 32)   36864       conv4_block43_1_relu[0][0]       \n",
            "__________________________________________________________________________________________________\n",
            "conv4_block43_concat (Concatena (None, 14, 14, 1632) 0           conv4_block42_concat[0][0]       \n",
            "                                                                 conv4_block43_2_conv[0][0]       \n",
            "__________________________________________________________________________________________________\n",
            "conv4_block44_0_bn (BatchNormal (None, 14, 14, 1632) 6528        conv4_block43_concat[0][0]       \n",
            "__________________________________________________________________________________________________\n",
            "conv4_block44_0_relu (Activatio (None, 14, 14, 1632) 0           conv4_block44_0_bn[0][0]         \n",
            "__________________________________________________________________________________________________\n",
            "conv4_block44_1_conv (Conv2D)   (None, 14, 14, 128)  208896      conv4_block44_0_relu[0][0]       \n",
            "__________________________________________________________________________________________________\n",
            "conv4_block44_1_bn (BatchNormal (None, 14, 14, 128)  512         conv4_block44_1_conv[0][0]       \n",
            "__________________________________________________________________________________________________\n",
            "conv4_block44_1_relu (Activatio (None, 14, 14, 128)  0           conv4_block44_1_bn[0][0]         \n",
            "__________________________________________________________________________________________________\n",
            "conv4_block44_2_conv (Conv2D)   (None, 14, 14, 32)   36864       conv4_block44_1_relu[0][0]       \n",
            "__________________________________________________________________________________________________\n",
            "conv4_block44_concat (Concatena (None, 14, 14, 1664) 0           conv4_block43_concat[0][0]       \n",
            "                                                                 conv4_block44_2_conv[0][0]       \n",
            "__________________________________________________________________________________________________\n",
            "conv4_block45_0_bn (BatchNormal (None, 14, 14, 1664) 6656        conv4_block44_concat[0][0]       \n",
            "__________________________________________________________________________________________________\n",
            "conv4_block45_0_relu (Activatio (None, 14, 14, 1664) 0           conv4_block45_0_bn[0][0]         \n",
            "__________________________________________________________________________________________________\n",
            "conv4_block45_1_conv (Conv2D)   (None, 14, 14, 128)  212992      conv4_block45_0_relu[0][0]       \n",
            "__________________________________________________________________________________________________\n",
            "conv4_block45_1_bn (BatchNormal (None, 14, 14, 128)  512         conv4_block45_1_conv[0][0]       \n",
            "__________________________________________________________________________________________________\n",
            "conv4_block45_1_relu (Activatio (None, 14, 14, 128)  0           conv4_block45_1_bn[0][0]         \n",
            "__________________________________________________________________________________________________\n",
            "conv4_block45_2_conv (Conv2D)   (None, 14, 14, 32)   36864       conv4_block45_1_relu[0][0]       \n",
            "__________________________________________________________________________________________________\n",
            "conv4_block45_concat (Concatena (None, 14, 14, 1696) 0           conv4_block44_concat[0][0]       \n",
            "                                                                 conv4_block45_2_conv[0][0]       \n",
            "__________________________________________________________________________________________________\n",
            "conv4_block46_0_bn (BatchNormal (None, 14, 14, 1696) 6784        conv4_block45_concat[0][0]       \n",
            "__________________________________________________________________________________________________\n",
            "conv4_block46_0_relu (Activatio (None, 14, 14, 1696) 0           conv4_block46_0_bn[0][0]         \n",
            "__________________________________________________________________________________________________\n",
            "conv4_block46_1_conv (Conv2D)   (None, 14, 14, 128)  217088      conv4_block46_0_relu[0][0]       \n",
            "__________________________________________________________________________________________________\n",
            "conv4_block46_1_bn (BatchNormal (None, 14, 14, 128)  512         conv4_block46_1_conv[0][0]       \n",
            "__________________________________________________________________________________________________\n",
            "conv4_block46_1_relu (Activatio (None, 14, 14, 128)  0           conv4_block46_1_bn[0][0]         \n",
            "__________________________________________________________________________________________________\n",
            "conv4_block46_2_conv (Conv2D)   (None, 14, 14, 32)   36864       conv4_block46_1_relu[0][0]       \n",
            "__________________________________________________________________________________________________\n",
            "conv4_block46_concat (Concatena (None, 14, 14, 1728) 0           conv4_block45_concat[0][0]       \n",
            "                                                                 conv4_block46_2_conv[0][0]       \n",
            "__________________________________________________________________________________________________\n",
            "conv4_block47_0_bn (BatchNormal (None, 14, 14, 1728) 6912        conv4_block46_concat[0][0]       \n",
            "__________________________________________________________________________________________________\n",
            "conv4_block47_0_relu (Activatio (None, 14, 14, 1728) 0           conv4_block47_0_bn[0][0]         \n",
            "__________________________________________________________________________________________________\n",
            "conv4_block47_1_conv (Conv2D)   (None, 14, 14, 128)  221184      conv4_block47_0_relu[0][0]       \n",
            "__________________________________________________________________________________________________\n",
            "conv4_block47_1_bn (BatchNormal (None, 14, 14, 128)  512         conv4_block47_1_conv[0][0]       \n",
            "__________________________________________________________________________________________________\n",
            "conv4_block47_1_relu (Activatio (None, 14, 14, 128)  0           conv4_block47_1_bn[0][0]         \n",
            "__________________________________________________________________________________________________\n",
            "conv4_block47_2_conv (Conv2D)   (None, 14, 14, 32)   36864       conv4_block47_1_relu[0][0]       \n",
            "__________________________________________________________________________________________________\n",
            "conv4_block47_concat (Concatena (None, 14, 14, 1760) 0           conv4_block46_concat[0][0]       \n",
            "                                                                 conv4_block47_2_conv[0][0]       \n",
            "__________________________________________________________________________________________________\n",
            "conv4_block48_0_bn (BatchNormal (None, 14, 14, 1760) 7040        conv4_block47_concat[0][0]       \n",
            "__________________________________________________________________________________________________\n",
            "conv4_block48_0_relu (Activatio (None, 14, 14, 1760) 0           conv4_block48_0_bn[0][0]         \n",
            "__________________________________________________________________________________________________\n",
            "conv4_block48_1_conv (Conv2D)   (None, 14, 14, 128)  225280      conv4_block48_0_relu[0][0]       \n",
            "__________________________________________________________________________________________________\n",
            "conv4_block48_1_bn (BatchNormal (None, 14, 14, 128)  512         conv4_block48_1_conv[0][0]       \n",
            "__________________________________________________________________________________________________\n",
            "conv4_block48_1_relu (Activatio (None, 14, 14, 128)  0           conv4_block48_1_bn[0][0]         \n",
            "__________________________________________________________________________________________________\n",
            "conv4_block48_2_conv (Conv2D)   (None, 14, 14, 32)   36864       conv4_block48_1_relu[0][0]       \n",
            "__________________________________________________________________________________________________\n",
            "conv4_block48_concat (Concatena (None, 14, 14, 1792) 0           conv4_block47_concat[0][0]       \n",
            "                                                                 conv4_block48_2_conv[0][0]       \n",
            "__________________________________________________________________________________________________\n",
            "pool4_bn (BatchNormalization)   (None, 14, 14, 1792) 7168        conv4_block48_concat[0][0]       \n",
            "__________________________________________________________________________________________________\n",
            "pool4_relu (Activation)         (None, 14, 14, 1792) 0           pool4_bn[0][0]                   \n",
            "__________________________________________________________________________________________________\n",
            "pool4_conv (Conv2D)             (None, 14, 14, 896)  1605632     pool4_relu[0][0]                 \n",
            "__________________________________________________________________________________________________\n",
            "pool4_pool (AveragePooling2D)   (None, 7, 7, 896)    0           pool4_conv[0][0]                 \n",
            "__________________________________________________________________________________________________\n",
            "conv5_block1_0_bn (BatchNormali (None, 7, 7, 896)    3584        pool4_pool[0][0]                 \n",
            "__________________________________________________________________________________________________\n",
            "conv5_block1_0_relu (Activation (None, 7, 7, 896)    0           conv5_block1_0_bn[0][0]          \n",
            "__________________________________________________________________________________________________\n",
            "conv5_block1_1_conv (Conv2D)    (None, 7, 7, 128)    114688      conv5_block1_0_relu[0][0]        \n",
            "__________________________________________________________________________________________________\n",
            "conv5_block1_1_bn (BatchNormali (None, 7, 7, 128)    512         conv5_block1_1_conv[0][0]        \n",
            "__________________________________________________________________________________________________\n",
            "conv5_block1_1_relu (Activation (None, 7, 7, 128)    0           conv5_block1_1_bn[0][0]          \n",
            "__________________________________________________________________________________________________\n",
            "conv5_block1_2_conv (Conv2D)    (None, 7, 7, 32)     36864       conv5_block1_1_relu[0][0]        \n",
            "__________________________________________________________________________________________________\n",
            "conv5_block1_concat (Concatenat (None, 7, 7, 928)    0           pool4_pool[0][0]                 \n",
            "                                                                 conv5_block1_2_conv[0][0]        \n",
            "__________________________________________________________________________________________________\n",
            "conv5_block2_0_bn (BatchNormali (None, 7, 7, 928)    3712        conv5_block1_concat[0][0]        \n",
            "__________________________________________________________________________________________________\n",
            "conv5_block2_0_relu (Activation (None, 7, 7, 928)    0           conv5_block2_0_bn[0][0]          \n",
            "__________________________________________________________________________________________________\n",
            "conv5_block2_1_conv (Conv2D)    (None, 7, 7, 128)    118784      conv5_block2_0_relu[0][0]        \n",
            "__________________________________________________________________________________________________\n",
            "conv5_block2_1_bn (BatchNormali (None, 7, 7, 128)    512         conv5_block2_1_conv[0][0]        \n",
            "__________________________________________________________________________________________________\n",
            "conv5_block2_1_relu (Activation (None, 7, 7, 128)    0           conv5_block2_1_bn[0][0]          \n",
            "__________________________________________________________________________________________________\n",
            "conv5_block2_2_conv (Conv2D)    (None, 7, 7, 32)     36864       conv5_block2_1_relu[0][0]        \n",
            "__________________________________________________________________________________________________\n",
            "conv5_block2_concat (Concatenat (None, 7, 7, 960)    0           conv5_block1_concat[0][0]        \n",
            "                                                                 conv5_block2_2_conv[0][0]        \n",
            "__________________________________________________________________________________________________\n",
            "conv5_block3_0_bn (BatchNormali (None, 7, 7, 960)    3840        conv5_block2_concat[0][0]        \n",
            "__________________________________________________________________________________________________\n",
            "conv5_block3_0_relu (Activation (None, 7, 7, 960)    0           conv5_block3_0_bn[0][0]          \n",
            "__________________________________________________________________________________________________\n",
            "conv5_block3_1_conv (Conv2D)    (None, 7, 7, 128)    122880      conv5_block3_0_relu[0][0]        \n",
            "__________________________________________________________________________________________________\n",
            "conv5_block3_1_bn (BatchNormali (None, 7, 7, 128)    512         conv5_block3_1_conv[0][0]        \n",
            "__________________________________________________________________________________________________\n",
            "conv5_block3_1_relu (Activation (None, 7, 7, 128)    0           conv5_block3_1_bn[0][0]          \n",
            "__________________________________________________________________________________________________\n",
            "conv5_block3_2_conv (Conv2D)    (None, 7, 7, 32)     36864       conv5_block3_1_relu[0][0]        \n",
            "__________________________________________________________________________________________________\n",
            "conv5_block3_concat (Concatenat (None, 7, 7, 992)    0           conv5_block2_concat[0][0]        \n",
            "                                                                 conv5_block3_2_conv[0][0]        \n",
            "__________________________________________________________________________________________________\n",
            "conv5_block4_0_bn (BatchNormali (None, 7, 7, 992)    3968        conv5_block3_concat[0][0]        \n",
            "__________________________________________________________________________________________________\n",
            "conv5_block4_0_relu (Activation (None, 7, 7, 992)    0           conv5_block4_0_bn[0][0]          \n",
            "__________________________________________________________________________________________________\n",
            "conv5_block4_1_conv (Conv2D)    (None, 7, 7, 128)    126976      conv5_block4_0_relu[0][0]        \n",
            "__________________________________________________________________________________________________\n",
            "conv5_block4_1_bn (BatchNormali (None, 7, 7, 128)    512         conv5_block4_1_conv[0][0]        \n",
            "__________________________________________________________________________________________________\n",
            "conv5_block4_1_relu (Activation (None, 7, 7, 128)    0           conv5_block4_1_bn[0][0]          \n",
            "__________________________________________________________________________________________________\n",
            "conv5_block4_2_conv (Conv2D)    (None, 7, 7, 32)     36864       conv5_block4_1_relu[0][0]        \n",
            "__________________________________________________________________________________________________\n",
            "conv5_block4_concat (Concatenat (None, 7, 7, 1024)   0           conv5_block3_concat[0][0]        \n",
            "                                                                 conv5_block4_2_conv[0][0]        \n",
            "__________________________________________________________________________________________________\n",
            "conv5_block5_0_bn (BatchNormali (None, 7, 7, 1024)   4096        conv5_block4_concat[0][0]        \n",
            "__________________________________________________________________________________________________\n",
            "conv5_block5_0_relu (Activation (None, 7, 7, 1024)   0           conv5_block5_0_bn[0][0]          \n",
            "__________________________________________________________________________________________________\n",
            "conv5_block5_1_conv (Conv2D)    (None, 7, 7, 128)    131072      conv5_block5_0_relu[0][0]        \n",
            "__________________________________________________________________________________________________\n",
            "conv5_block5_1_bn (BatchNormali (None, 7, 7, 128)    512         conv5_block5_1_conv[0][0]        \n",
            "__________________________________________________________________________________________________\n",
            "conv5_block5_1_relu (Activation (None, 7, 7, 128)    0           conv5_block5_1_bn[0][0]          \n",
            "__________________________________________________________________________________________________\n",
            "conv5_block5_2_conv (Conv2D)    (None, 7, 7, 32)     36864       conv5_block5_1_relu[0][0]        \n",
            "__________________________________________________________________________________________________\n",
            "conv5_block5_concat (Concatenat (None, 7, 7, 1056)   0           conv5_block4_concat[0][0]        \n",
            "                                                                 conv5_block5_2_conv[0][0]        \n",
            "__________________________________________________________________________________________________\n",
            "conv5_block6_0_bn (BatchNormali (None, 7, 7, 1056)   4224        conv5_block5_concat[0][0]        \n",
            "__________________________________________________________________________________________________\n",
            "conv5_block6_0_relu (Activation (None, 7, 7, 1056)   0           conv5_block6_0_bn[0][0]          \n",
            "__________________________________________________________________________________________________\n",
            "conv5_block6_1_conv (Conv2D)    (None, 7, 7, 128)    135168      conv5_block6_0_relu[0][0]        \n",
            "__________________________________________________________________________________________________\n",
            "conv5_block6_1_bn (BatchNormali (None, 7, 7, 128)    512         conv5_block6_1_conv[0][0]        \n",
            "__________________________________________________________________________________________________\n",
            "conv5_block6_1_relu (Activation (None, 7, 7, 128)    0           conv5_block6_1_bn[0][0]          \n",
            "__________________________________________________________________________________________________\n",
            "conv5_block6_2_conv (Conv2D)    (None, 7, 7, 32)     36864       conv5_block6_1_relu[0][0]        \n",
            "__________________________________________________________________________________________________\n",
            "conv5_block6_concat (Concatenat (None, 7, 7, 1088)   0           conv5_block5_concat[0][0]        \n",
            "                                                                 conv5_block6_2_conv[0][0]        \n",
            "__________________________________________________________________________________________________\n",
            "conv5_block7_0_bn (BatchNormali (None, 7, 7, 1088)   4352        conv5_block6_concat[0][0]        \n",
            "__________________________________________________________________________________________________\n",
            "conv5_block7_0_relu (Activation (None, 7, 7, 1088)   0           conv5_block7_0_bn[0][0]          \n",
            "__________________________________________________________________________________________________\n",
            "conv5_block7_1_conv (Conv2D)    (None, 7, 7, 128)    139264      conv5_block7_0_relu[0][0]        \n",
            "__________________________________________________________________________________________________\n",
            "conv5_block7_1_bn (BatchNormali (None, 7, 7, 128)    512         conv5_block7_1_conv[0][0]        \n",
            "__________________________________________________________________________________________________\n",
            "conv5_block7_1_relu (Activation (None, 7, 7, 128)    0           conv5_block7_1_bn[0][0]          \n",
            "__________________________________________________________________________________________________\n",
            "conv5_block7_2_conv (Conv2D)    (None, 7, 7, 32)     36864       conv5_block7_1_relu[0][0]        \n",
            "__________________________________________________________________________________________________\n",
            "conv5_block7_concat (Concatenat (None, 7, 7, 1120)   0           conv5_block6_concat[0][0]        \n",
            "                                                                 conv5_block7_2_conv[0][0]        \n",
            "__________________________________________________________________________________________________\n",
            "conv5_block8_0_bn (BatchNormali (None, 7, 7, 1120)   4480        conv5_block7_concat[0][0]        \n",
            "__________________________________________________________________________________________________\n",
            "conv5_block8_0_relu (Activation (None, 7, 7, 1120)   0           conv5_block8_0_bn[0][0]          \n",
            "__________________________________________________________________________________________________\n",
            "conv5_block8_1_conv (Conv2D)    (None, 7, 7, 128)    143360      conv5_block8_0_relu[0][0]        \n",
            "__________________________________________________________________________________________________\n",
            "conv5_block8_1_bn (BatchNormali (None, 7, 7, 128)    512         conv5_block8_1_conv[0][0]        \n",
            "__________________________________________________________________________________________________\n",
            "conv5_block8_1_relu (Activation (None, 7, 7, 128)    0           conv5_block8_1_bn[0][0]          \n",
            "__________________________________________________________________________________________________\n",
            "conv5_block8_2_conv (Conv2D)    (None, 7, 7, 32)     36864       conv5_block8_1_relu[0][0]        \n",
            "__________________________________________________________________________________________________\n",
            "conv5_block8_concat (Concatenat (None, 7, 7, 1152)   0           conv5_block7_concat[0][0]        \n",
            "                                                                 conv5_block8_2_conv[0][0]        \n",
            "__________________________________________________________________________________________________\n",
            "conv5_block9_0_bn (BatchNormali (None, 7, 7, 1152)   4608        conv5_block8_concat[0][0]        \n",
            "__________________________________________________________________________________________________\n",
            "conv5_block9_0_relu (Activation (None, 7, 7, 1152)   0           conv5_block9_0_bn[0][0]          \n",
            "__________________________________________________________________________________________________\n",
            "conv5_block9_1_conv (Conv2D)    (None, 7, 7, 128)    147456      conv5_block9_0_relu[0][0]        \n",
            "__________________________________________________________________________________________________\n",
            "conv5_block9_1_bn (BatchNormali (None, 7, 7, 128)    512         conv5_block9_1_conv[0][0]        \n",
            "__________________________________________________________________________________________________\n",
            "conv5_block9_1_relu (Activation (None, 7, 7, 128)    0           conv5_block9_1_bn[0][0]          \n",
            "__________________________________________________________________________________________________\n",
            "conv5_block9_2_conv (Conv2D)    (None, 7, 7, 32)     36864       conv5_block9_1_relu[0][0]        \n",
            "__________________________________________________________________________________________________\n",
            "conv5_block9_concat (Concatenat (None, 7, 7, 1184)   0           conv5_block8_concat[0][0]        \n",
            "                                                                 conv5_block9_2_conv[0][0]        \n",
            "__________________________________________________________________________________________________\n",
            "conv5_block10_0_bn (BatchNormal (None, 7, 7, 1184)   4736        conv5_block9_concat[0][0]        \n",
            "__________________________________________________________________________________________________\n",
            "conv5_block10_0_relu (Activatio (None, 7, 7, 1184)   0           conv5_block10_0_bn[0][0]         \n",
            "__________________________________________________________________________________________________\n",
            "conv5_block10_1_conv (Conv2D)   (None, 7, 7, 128)    151552      conv5_block10_0_relu[0][0]       \n",
            "__________________________________________________________________________________________________\n",
            "conv5_block10_1_bn (BatchNormal (None, 7, 7, 128)    512         conv5_block10_1_conv[0][0]       \n",
            "__________________________________________________________________________________________________\n",
            "conv5_block10_1_relu (Activatio (None, 7, 7, 128)    0           conv5_block10_1_bn[0][0]         \n",
            "__________________________________________________________________________________________________\n",
            "conv5_block10_2_conv (Conv2D)   (None, 7, 7, 32)     36864       conv5_block10_1_relu[0][0]       \n",
            "__________________________________________________________________________________________________\n",
            "conv5_block10_concat (Concatena (None, 7, 7, 1216)   0           conv5_block9_concat[0][0]        \n",
            "                                                                 conv5_block10_2_conv[0][0]       \n",
            "__________________________________________________________________________________________________\n",
            "conv5_block11_0_bn (BatchNormal (None, 7, 7, 1216)   4864        conv5_block10_concat[0][0]       \n",
            "__________________________________________________________________________________________________\n",
            "conv5_block11_0_relu (Activatio (None, 7, 7, 1216)   0           conv5_block11_0_bn[0][0]         \n",
            "__________________________________________________________________________________________________\n",
            "conv5_block11_1_conv (Conv2D)   (None, 7, 7, 128)    155648      conv5_block11_0_relu[0][0]       \n",
            "__________________________________________________________________________________________________\n",
            "conv5_block11_1_bn (BatchNormal (None, 7, 7, 128)    512         conv5_block11_1_conv[0][0]       \n",
            "__________________________________________________________________________________________________\n",
            "conv5_block11_1_relu (Activatio (None, 7, 7, 128)    0           conv5_block11_1_bn[0][0]         \n",
            "__________________________________________________________________________________________________\n",
            "conv5_block11_2_conv (Conv2D)   (None, 7, 7, 32)     36864       conv5_block11_1_relu[0][0]       \n",
            "__________________________________________________________________________________________________\n",
            "conv5_block11_concat (Concatena (None, 7, 7, 1248)   0           conv5_block10_concat[0][0]       \n",
            "                                                                 conv5_block11_2_conv[0][0]       \n",
            "__________________________________________________________________________________________________\n",
            "conv5_block12_0_bn (BatchNormal (None, 7, 7, 1248)   4992        conv5_block11_concat[0][0]       \n",
            "__________________________________________________________________________________________________\n",
            "conv5_block12_0_relu (Activatio (None, 7, 7, 1248)   0           conv5_block12_0_bn[0][0]         \n",
            "__________________________________________________________________________________________________\n",
            "conv5_block12_1_conv (Conv2D)   (None, 7, 7, 128)    159744      conv5_block12_0_relu[0][0]       \n",
            "__________________________________________________________________________________________________\n",
            "conv5_block12_1_bn (BatchNormal (None, 7, 7, 128)    512         conv5_block12_1_conv[0][0]       \n",
            "__________________________________________________________________________________________________\n",
            "conv5_block12_1_relu (Activatio (None, 7, 7, 128)    0           conv5_block12_1_bn[0][0]         \n",
            "__________________________________________________________________________________________________\n",
            "conv5_block12_2_conv (Conv2D)   (None, 7, 7, 32)     36864       conv5_block12_1_relu[0][0]       \n",
            "__________________________________________________________________________________________________\n",
            "conv5_block12_concat (Concatena (None, 7, 7, 1280)   0           conv5_block11_concat[0][0]       \n",
            "                                                                 conv5_block12_2_conv[0][0]       \n",
            "__________________________________________________________________________________________________\n",
            "conv5_block13_0_bn (BatchNormal (None, 7, 7, 1280)   5120        conv5_block12_concat[0][0]       \n",
            "__________________________________________________________________________________________________\n",
            "conv5_block13_0_relu (Activatio (None, 7, 7, 1280)   0           conv5_block13_0_bn[0][0]         \n",
            "__________________________________________________________________________________________________\n",
            "conv5_block13_1_conv (Conv2D)   (None, 7, 7, 128)    163840      conv5_block13_0_relu[0][0]       \n",
            "__________________________________________________________________________________________________\n",
            "conv5_block13_1_bn (BatchNormal (None, 7, 7, 128)    512         conv5_block13_1_conv[0][0]       \n",
            "__________________________________________________________________________________________________\n",
            "conv5_block13_1_relu (Activatio (None, 7, 7, 128)    0           conv5_block13_1_bn[0][0]         \n",
            "__________________________________________________________________________________________________\n",
            "conv5_block13_2_conv (Conv2D)   (None, 7, 7, 32)     36864       conv5_block13_1_relu[0][0]       \n",
            "__________________________________________________________________________________________________\n",
            "conv5_block13_concat (Concatena (None, 7, 7, 1312)   0           conv5_block12_concat[0][0]       \n",
            "                                                                 conv5_block13_2_conv[0][0]       \n",
            "__________________________________________________________________________________________________\n",
            "conv5_block14_0_bn (BatchNormal (None, 7, 7, 1312)   5248        conv5_block13_concat[0][0]       \n",
            "__________________________________________________________________________________________________\n",
            "conv5_block14_0_relu (Activatio (None, 7, 7, 1312)   0           conv5_block14_0_bn[0][0]         \n",
            "__________________________________________________________________________________________________\n",
            "conv5_block14_1_conv (Conv2D)   (None, 7, 7, 128)    167936      conv5_block14_0_relu[0][0]       \n",
            "__________________________________________________________________________________________________\n",
            "conv5_block14_1_bn (BatchNormal (None, 7, 7, 128)    512         conv5_block14_1_conv[0][0]       \n",
            "__________________________________________________________________________________________________\n",
            "conv5_block14_1_relu (Activatio (None, 7, 7, 128)    0           conv5_block14_1_bn[0][0]         \n",
            "__________________________________________________________________________________________________\n",
            "conv5_block14_2_conv (Conv2D)   (None, 7, 7, 32)     36864       conv5_block14_1_relu[0][0]       \n",
            "__________________________________________________________________________________________________\n",
            "conv5_block14_concat (Concatena (None, 7, 7, 1344)   0           conv5_block13_concat[0][0]       \n",
            "                                                                 conv5_block14_2_conv[0][0]       \n",
            "__________________________________________________________________________________________________\n",
            "conv5_block15_0_bn (BatchNormal (None, 7, 7, 1344)   5376        conv5_block14_concat[0][0]       \n",
            "__________________________________________________________________________________________________\n",
            "conv5_block15_0_relu (Activatio (None, 7, 7, 1344)   0           conv5_block15_0_bn[0][0]         \n",
            "__________________________________________________________________________________________________\n",
            "conv5_block15_1_conv (Conv2D)   (None, 7, 7, 128)    172032      conv5_block15_0_relu[0][0]       \n",
            "__________________________________________________________________________________________________\n",
            "conv5_block15_1_bn (BatchNormal (None, 7, 7, 128)    512         conv5_block15_1_conv[0][0]       \n",
            "__________________________________________________________________________________________________\n",
            "conv5_block15_1_relu (Activatio (None, 7, 7, 128)    0           conv5_block15_1_bn[0][0]         \n",
            "__________________________________________________________________________________________________\n",
            "conv5_block15_2_conv (Conv2D)   (None, 7, 7, 32)     36864       conv5_block15_1_relu[0][0]       \n",
            "__________________________________________________________________________________________________\n",
            "conv5_block15_concat (Concatena (None, 7, 7, 1376)   0           conv5_block14_concat[0][0]       \n",
            "                                                                 conv5_block15_2_conv[0][0]       \n",
            "__________________________________________________________________________________________________\n",
            "conv5_block16_0_bn (BatchNormal (None, 7, 7, 1376)   5504        conv5_block15_concat[0][0]       \n",
            "__________________________________________________________________________________________________\n",
            "conv5_block16_0_relu (Activatio (None, 7, 7, 1376)   0           conv5_block16_0_bn[0][0]         \n",
            "__________________________________________________________________________________________________\n",
            "conv5_block16_1_conv (Conv2D)   (None, 7, 7, 128)    176128      conv5_block16_0_relu[0][0]       \n",
            "__________________________________________________________________________________________________\n",
            "conv5_block16_1_bn (BatchNormal (None, 7, 7, 128)    512         conv5_block16_1_conv[0][0]       \n",
            "__________________________________________________________________________________________________\n",
            "conv5_block16_1_relu (Activatio (None, 7, 7, 128)    0           conv5_block16_1_bn[0][0]         \n",
            "__________________________________________________________________________________________________\n",
            "conv5_block16_2_conv (Conv2D)   (None, 7, 7, 32)     36864       conv5_block16_1_relu[0][0]       \n",
            "__________________________________________________________________________________________________\n",
            "conv5_block16_concat (Concatena (None, 7, 7, 1408)   0           conv5_block15_concat[0][0]       \n",
            "                                                                 conv5_block16_2_conv[0][0]       \n",
            "__________________________________________________________________________________________________\n",
            "conv5_block17_0_bn (BatchNormal (None, 7, 7, 1408)   5632        conv5_block16_concat[0][0]       \n",
            "__________________________________________________________________________________________________\n",
            "conv5_block17_0_relu (Activatio (None, 7, 7, 1408)   0           conv5_block17_0_bn[0][0]         \n",
            "__________________________________________________________________________________________________\n",
            "conv5_block17_1_conv (Conv2D)   (None, 7, 7, 128)    180224      conv5_block17_0_relu[0][0]       \n",
            "__________________________________________________________________________________________________\n",
            "conv5_block17_1_bn (BatchNormal (None, 7, 7, 128)    512         conv5_block17_1_conv[0][0]       \n",
            "__________________________________________________________________________________________________\n",
            "conv5_block17_1_relu (Activatio (None, 7, 7, 128)    0           conv5_block17_1_bn[0][0]         \n",
            "__________________________________________________________________________________________________\n",
            "conv5_block17_2_conv (Conv2D)   (None, 7, 7, 32)     36864       conv5_block17_1_relu[0][0]       \n",
            "__________________________________________________________________________________________________\n",
            "conv5_block17_concat (Concatena (None, 7, 7, 1440)   0           conv5_block16_concat[0][0]       \n",
            "                                                                 conv5_block17_2_conv[0][0]       \n",
            "__________________________________________________________________________________________________\n",
            "conv5_block18_0_bn (BatchNormal (None, 7, 7, 1440)   5760        conv5_block17_concat[0][0]       \n",
            "__________________________________________________________________________________________________\n",
            "conv5_block18_0_relu (Activatio (None, 7, 7, 1440)   0           conv5_block18_0_bn[0][0]         \n",
            "__________________________________________________________________________________________________\n",
            "conv5_block18_1_conv (Conv2D)   (None, 7, 7, 128)    184320      conv5_block18_0_relu[0][0]       \n",
            "__________________________________________________________________________________________________\n",
            "conv5_block18_1_bn (BatchNormal (None, 7, 7, 128)    512         conv5_block18_1_conv[0][0]       \n",
            "__________________________________________________________________________________________________\n",
            "conv5_block18_1_relu (Activatio (None, 7, 7, 128)    0           conv5_block18_1_bn[0][0]         \n",
            "__________________________________________________________________________________________________\n",
            "conv5_block18_2_conv (Conv2D)   (None, 7, 7, 32)     36864       conv5_block18_1_relu[0][0]       \n",
            "__________________________________________________________________________________________________\n",
            "conv5_block18_concat (Concatena (None, 7, 7, 1472)   0           conv5_block17_concat[0][0]       \n",
            "                                                                 conv5_block18_2_conv[0][0]       \n",
            "__________________________________________________________________________________________________\n",
            "conv5_block19_0_bn (BatchNormal (None, 7, 7, 1472)   5888        conv5_block18_concat[0][0]       \n",
            "__________________________________________________________________________________________________\n",
            "conv5_block19_0_relu (Activatio (None, 7, 7, 1472)   0           conv5_block19_0_bn[0][0]         \n",
            "__________________________________________________________________________________________________\n",
            "conv5_block19_1_conv (Conv2D)   (None, 7, 7, 128)    188416      conv5_block19_0_relu[0][0]       \n",
            "__________________________________________________________________________________________________\n",
            "conv5_block19_1_bn (BatchNormal (None, 7, 7, 128)    512         conv5_block19_1_conv[0][0]       \n",
            "__________________________________________________________________________________________________\n",
            "conv5_block19_1_relu (Activatio (None, 7, 7, 128)    0           conv5_block19_1_bn[0][0]         \n",
            "__________________________________________________________________________________________________\n",
            "conv5_block19_2_conv (Conv2D)   (None, 7, 7, 32)     36864       conv5_block19_1_relu[0][0]       \n",
            "__________________________________________________________________________________________________\n",
            "conv5_block19_concat (Concatena (None, 7, 7, 1504)   0           conv5_block18_concat[0][0]       \n",
            "                                                                 conv5_block19_2_conv[0][0]       \n",
            "__________________________________________________________________________________________________\n",
            "conv5_block20_0_bn (BatchNormal (None, 7, 7, 1504)   6016        conv5_block19_concat[0][0]       \n",
            "__________________________________________________________________________________________________\n",
            "conv5_block20_0_relu (Activatio (None, 7, 7, 1504)   0           conv5_block20_0_bn[0][0]         \n",
            "__________________________________________________________________________________________________\n",
            "conv5_block20_1_conv (Conv2D)   (None, 7, 7, 128)    192512      conv5_block20_0_relu[0][0]       \n",
            "__________________________________________________________________________________________________\n",
            "conv5_block20_1_bn (BatchNormal (None, 7, 7, 128)    512         conv5_block20_1_conv[0][0]       \n",
            "__________________________________________________________________________________________________\n",
            "conv5_block20_1_relu (Activatio (None, 7, 7, 128)    0           conv5_block20_1_bn[0][0]         \n",
            "__________________________________________________________________________________________________\n",
            "conv5_block20_2_conv (Conv2D)   (None, 7, 7, 32)     36864       conv5_block20_1_relu[0][0]       \n",
            "__________________________________________________________________________________________________\n",
            "conv5_block20_concat (Concatena (None, 7, 7, 1536)   0           conv5_block19_concat[0][0]       \n",
            "                                                                 conv5_block20_2_conv[0][0]       \n",
            "__________________________________________________________________________________________________\n",
            "conv5_block21_0_bn (BatchNormal (None, 7, 7, 1536)   6144        conv5_block20_concat[0][0]       \n",
            "__________________________________________________________________________________________________\n",
            "conv5_block21_0_relu (Activatio (None, 7, 7, 1536)   0           conv5_block21_0_bn[0][0]         \n",
            "__________________________________________________________________________________________________\n",
            "conv5_block21_1_conv (Conv2D)   (None, 7, 7, 128)    196608      conv5_block21_0_relu[0][0]       \n",
            "__________________________________________________________________________________________________\n",
            "conv5_block21_1_bn (BatchNormal (None, 7, 7, 128)    512         conv5_block21_1_conv[0][0]       \n",
            "__________________________________________________________________________________________________\n",
            "conv5_block21_1_relu (Activatio (None, 7, 7, 128)    0           conv5_block21_1_bn[0][0]         \n",
            "__________________________________________________________________________________________________\n",
            "conv5_block21_2_conv (Conv2D)   (None, 7, 7, 32)     36864       conv5_block21_1_relu[0][0]       \n",
            "__________________________________________________________________________________________________\n",
            "conv5_block21_concat (Concatena (None, 7, 7, 1568)   0           conv5_block20_concat[0][0]       \n",
            "                                                                 conv5_block21_2_conv[0][0]       \n",
            "__________________________________________________________________________________________________\n",
            "conv5_block22_0_bn (BatchNormal (None, 7, 7, 1568)   6272        conv5_block21_concat[0][0]       \n",
            "__________________________________________________________________________________________________\n",
            "conv5_block22_0_relu (Activatio (None, 7, 7, 1568)   0           conv5_block22_0_bn[0][0]         \n",
            "__________________________________________________________________________________________________\n",
            "conv5_block22_1_conv (Conv2D)   (None, 7, 7, 128)    200704      conv5_block22_0_relu[0][0]       \n",
            "__________________________________________________________________________________________________\n",
            "conv5_block22_1_bn (BatchNormal (None, 7, 7, 128)    512         conv5_block22_1_conv[0][0]       \n",
            "__________________________________________________________________________________________________\n",
            "conv5_block22_1_relu (Activatio (None, 7, 7, 128)    0           conv5_block22_1_bn[0][0]         \n",
            "__________________________________________________________________________________________________\n",
            "conv5_block22_2_conv (Conv2D)   (None, 7, 7, 32)     36864       conv5_block22_1_relu[0][0]       \n",
            "__________________________________________________________________________________________________\n",
            "conv5_block22_concat (Concatena (None, 7, 7, 1600)   0           conv5_block21_concat[0][0]       \n",
            "                                                                 conv5_block22_2_conv[0][0]       \n",
            "__________________________________________________________________________________________________\n",
            "conv5_block23_0_bn (BatchNormal (None, 7, 7, 1600)   6400        conv5_block22_concat[0][0]       \n",
            "__________________________________________________________________________________________________\n",
            "conv5_block23_0_relu (Activatio (None, 7, 7, 1600)   0           conv5_block23_0_bn[0][0]         \n",
            "__________________________________________________________________________________________________\n",
            "conv5_block23_1_conv (Conv2D)   (None, 7, 7, 128)    204800      conv5_block23_0_relu[0][0]       \n",
            "__________________________________________________________________________________________________\n",
            "conv5_block23_1_bn (BatchNormal (None, 7, 7, 128)    512         conv5_block23_1_conv[0][0]       \n",
            "__________________________________________________________________________________________________\n",
            "conv5_block23_1_relu (Activatio (None, 7, 7, 128)    0           conv5_block23_1_bn[0][0]         \n",
            "__________________________________________________________________________________________________\n",
            "conv5_block23_2_conv (Conv2D)   (None, 7, 7, 32)     36864       conv5_block23_1_relu[0][0]       \n",
            "__________________________________________________________________________________________________\n",
            "conv5_block23_concat (Concatena (None, 7, 7, 1632)   0           conv5_block22_concat[0][0]       \n",
            "                                                                 conv5_block23_2_conv[0][0]       \n",
            "__________________________________________________________________________________________________\n",
            "conv5_block24_0_bn (BatchNormal (None, 7, 7, 1632)   6528        conv5_block23_concat[0][0]       \n",
            "__________________________________________________________________________________________________\n",
            "conv5_block24_0_relu (Activatio (None, 7, 7, 1632)   0           conv5_block24_0_bn[0][0]         \n",
            "__________________________________________________________________________________________________\n",
            "conv5_block24_1_conv (Conv2D)   (None, 7, 7, 128)    208896      conv5_block24_0_relu[0][0]       \n",
            "__________________________________________________________________________________________________\n",
            "conv5_block24_1_bn (BatchNormal (None, 7, 7, 128)    512         conv5_block24_1_conv[0][0]       \n",
            "__________________________________________________________________________________________________\n",
            "conv5_block24_1_relu (Activatio (None, 7, 7, 128)    0           conv5_block24_1_bn[0][0]         \n",
            "__________________________________________________________________________________________________\n",
            "conv5_block24_2_conv (Conv2D)   (None, 7, 7, 32)     36864       conv5_block24_1_relu[0][0]       \n",
            "__________________________________________________________________________________________________\n",
            "conv5_block24_concat (Concatena (None, 7, 7, 1664)   0           conv5_block23_concat[0][0]       \n",
            "                                                                 conv5_block24_2_conv[0][0]       \n",
            "__________________________________________________________________________________________________\n",
            "conv5_block25_0_bn (BatchNormal (None, 7, 7, 1664)   6656        conv5_block24_concat[0][0]       \n",
            "__________________________________________________________________________________________________\n",
            "conv5_block25_0_relu (Activatio (None, 7, 7, 1664)   0           conv5_block25_0_bn[0][0]         \n",
            "__________________________________________________________________________________________________\n",
            "conv5_block25_1_conv (Conv2D)   (None, 7, 7, 128)    212992      conv5_block25_0_relu[0][0]       \n",
            "__________________________________________________________________________________________________\n",
            "conv5_block25_1_bn (BatchNormal (None, 7, 7, 128)    512         conv5_block25_1_conv[0][0]       \n",
            "__________________________________________________________________________________________________\n",
            "conv5_block25_1_relu (Activatio (None, 7, 7, 128)    0           conv5_block25_1_bn[0][0]         \n",
            "__________________________________________________________________________________________________\n",
            "conv5_block25_2_conv (Conv2D)   (None, 7, 7, 32)     36864       conv5_block25_1_relu[0][0]       \n",
            "__________________________________________________________________________________________________\n",
            "conv5_block25_concat (Concatena (None, 7, 7, 1696)   0           conv5_block24_concat[0][0]       \n",
            "                                                                 conv5_block25_2_conv[0][0]       \n",
            "__________________________________________________________________________________________________\n",
            "conv5_block26_0_bn (BatchNormal (None, 7, 7, 1696)   6784        conv5_block25_concat[0][0]       \n",
            "__________________________________________________________________________________________________\n",
            "conv5_block26_0_relu (Activatio (None, 7, 7, 1696)   0           conv5_block26_0_bn[0][0]         \n",
            "__________________________________________________________________________________________________\n",
            "conv5_block26_1_conv (Conv2D)   (None, 7, 7, 128)    217088      conv5_block26_0_relu[0][0]       \n",
            "__________________________________________________________________________________________________\n",
            "conv5_block26_1_bn (BatchNormal (None, 7, 7, 128)    512         conv5_block26_1_conv[0][0]       \n",
            "__________________________________________________________________________________________________\n",
            "conv5_block26_1_relu (Activatio (None, 7, 7, 128)    0           conv5_block26_1_bn[0][0]         \n",
            "__________________________________________________________________________________________________\n",
            "conv5_block26_2_conv (Conv2D)   (None, 7, 7, 32)     36864       conv5_block26_1_relu[0][0]       \n",
            "__________________________________________________________________________________________________\n",
            "conv5_block26_concat (Concatena (None, 7, 7, 1728)   0           conv5_block25_concat[0][0]       \n",
            "                                                                 conv5_block26_2_conv[0][0]       \n",
            "__________________________________________________________________________________________________\n",
            "conv5_block27_0_bn (BatchNormal (None, 7, 7, 1728)   6912        conv5_block26_concat[0][0]       \n",
            "__________________________________________________________________________________________________\n",
            "conv5_block27_0_relu (Activatio (None, 7, 7, 1728)   0           conv5_block27_0_bn[0][0]         \n",
            "__________________________________________________________________________________________________\n",
            "conv5_block27_1_conv (Conv2D)   (None, 7, 7, 128)    221184      conv5_block27_0_relu[0][0]       \n",
            "__________________________________________________________________________________________________\n",
            "conv5_block27_1_bn (BatchNormal (None, 7, 7, 128)    512         conv5_block27_1_conv[0][0]       \n",
            "__________________________________________________________________________________________________\n",
            "conv5_block27_1_relu (Activatio (None, 7, 7, 128)    0           conv5_block27_1_bn[0][0]         \n",
            "__________________________________________________________________________________________________\n",
            "conv5_block27_2_conv (Conv2D)   (None, 7, 7, 32)     36864       conv5_block27_1_relu[0][0]       \n",
            "__________________________________________________________________________________________________\n",
            "conv5_block27_concat (Concatena (None, 7, 7, 1760)   0           conv5_block26_concat[0][0]       \n",
            "                                                                 conv5_block27_2_conv[0][0]       \n",
            "__________________________________________________________________________________________________\n",
            "conv5_block28_0_bn (BatchNormal (None, 7, 7, 1760)   7040        conv5_block27_concat[0][0]       \n",
            "__________________________________________________________________________________________________\n",
            "conv5_block28_0_relu (Activatio (None, 7, 7, 1760)   0           conv5_block28_0_bn[0][0]         \n",
            "__________________________________________________________________________________________________\n",
            "conv5_block28_1_conv (Conv2D)   (None, 7, 7, 128)    225280      conv5_block28_0_relu[0][0]       \n",
            "__________________________________________________________________________________________________\n",
            "conv5_block28_1_bn (BatchNormal (None, 7, 7, 128)    512         conv5_block28_1_conv[0][0]       \n",
            "__________________________________________________________________________________________________\n",
            "conv5_block28_1_relu (Activatio (None, 7, 7, 128)    0           conv5_block28_1_bn[0][0]         \n",
            "__________________________________________________________________________________________________\n",
            "conv5_block28_2_conv (Conv2D)   (None, 7, 7, 32)     36864       conv5_block28_1_relu[0][0]       \n",
            "__________________________________________________________________________________________________\n",
            "conv5_block28_concat (Concatena (None, 7, 7, 1792)   0           conv5_block27_concat[0][0]       \n",
            "                                                                 conv5_block28_2_conv[0][0]       \n",
            "__________________________________________________________________________________________________\n",
            "conv5_block29_0_bn (BatchNormal (None, 7, 7, 1792)   7168        conv5_block28_concat[0][0]       \n",
            "__________________________________________________________________________________________________\n",
            "conv5_block29_0_relu (Activatio (None, 7, 7, 1792)   0           conv5_block29_0_bn[0][0]         \n",
            "__________________________________________________________________________________________________\n",
            "conv5_block29_1_conv (Conv2D)   (None, 7, 7, 128)    229376      conv5_block29_0_relu[0][0]       \n",
            "__________________________________________________________________________________________________\n",
            "conv5_block29_1_bn (BatchNormal (None, 7, 7, 128)    512         conv5_block29_1_conv[0][0]       \n",
            "__________________________________________________________________________________________________\n",
            "conv5_block29_1_relu (Activatio (None, 7, 7, 128)    0           conv5_block29_1_bn[0][0]         \n",
            "__________________________________________________________________________________________________\n",
            "conv5_block29_2_conv (Conv2D)   (None, 7, 7, 32)     36864       conv5_block29_1_relu[0][0]       \n",
            "__________________________________________________________________________________________________\n",
            "conv5_block29_concat (Concatena (None, 7, 7, 1824)   0           conv5_block28_concat[0][0]       \n",
            "                                                                 conv5_block29_2_conv[0][0]       \n",
            "__________________________________________________________________________________________________\n",
            "conv5_block30_0_bn (BatchNormal (None, 7, 7, 1824)   7296        conv5_block29_concat[0][0]       \n",
            "__________________________________________________________________________________________________\n",
            "conv5_block30_0_relu (Activatio (None, 7, 7, 1824)   0           conv5_block30_0_bn[0][0]         \n",
            "__________________________________________________________________________________________________\n",
            "conv5_block30_1_conv (Conv2D)   (None, 7, 7, 128)    233472      conv5_block30_0_relu[0][0]       \n",
            "__________________________________________________________________________________________________\n",
            "conv5_block30_1_bn (BatchNormal (None, 7, 7, 128)    512         conv5_block30_1_conv[0][0]       \n",
            "__________________________________________________________________________________________________\n",
            "conv5_block30_1_relu (Activatio (None, 7, 7, 128)    0           conv5_block30_1_bn[0][0]         \n",
            "__________________________________________________________________________________________________\n",
            "conv5_block30_2_conv (Conv2D)   (None, 7, 7, 32)     36864       conv5_block30_1_relu[0][0]       \n",
            "__________________________________________________________________________________________________\n",
            "conv5_block30_concat (Concatena (None, 7, 7, 1856)   0           conv5_block29_concat[0][0]       \n",
            "                                                                 conv5_block30_2_conv[0][0]       \n",
            "__________________________________________________________________________________________________\n",
            "conv5_block31_0_bn (BatchNormal (None, 7, 7, 1856)   7424        conv5_block30_concat[0][0]       \n",
            "__________________________________________________________________________________________________\n",
            "conv5_block31_0_relu (Activatio (None, 7, 7, 1856)   0           conv5_block31_0_bn[0][0]         \n",
            "__________________________________________________________________________________________________\n",
            "conv5_block31_1_conv (Conv2D)   (None, 7, 7, 128)    237568      conv5_block31_0_relu[0][0]       \n",
            "__________________________________________________________________________________________________\n",
            "conv5_block31_1_bn (BatchNormal (None, 7, 7, 128)    512         conv5_block31_1_conv[0][0]       \n",
            "__________________________________________________________________________________________________\n",
            "conv5_block31_1_relu (Activatio (None, 7, 7, 128)    0           conv5_block31_1_bn[0][0]         \n",
            "__________________________________________________________________________________________________\n",
            "conv5_block31_2_conv (Conv2D)   (None, 7, 7, 32)     36864       conv5_block31_1_relu[0][0]       \n",
            "__________________________________________________________________________________________________\n",
            "conv5_block31_concat (Concatena (None, 7, 7, 1888)   0           conv5_block30_concat[0][0]       \n",
            "                                                                 conv5_block31_2_conv[0][0]       \n",
            "__________________________________________________________________________________________________\n",
            "conv5_block32_0_bn (BatchNormal (None, 7, 7, 1888)   7552        conv5_block31_concat[0][0]       \n",
            "__________________________________________________________________________________________________\n",
            "conv5_block32_0_relu (Activatio (None, 7, 7, 1888)   0           conv5_block32_0_bn[0][0]         \n",
            "__________________________________________________________________________________________________\n",
            "conv5_block32_1_conv (Conv2D)   (None, 7, 7, 128)    241664      conv5_block32_0_relu[0][0]       \n",
            "__________________________________________________________________________________________________\n",
            "conv5_block32_1_bn (BatchNormal (None, 7, 7, 128)    512         conv5_block32_1_conv[0][0]       \n",
            "__________________________________________________________________________________________________\n",
            "conv5_block32_1_relu (Activatio (None, 7, 7, 128)    0           conv5_block32_1_bn[0][0]         \n",
            "__________________________________________________________________________________________________\n",
            "conv5_block32_2_conv (Conv2D)   (None, 7, 7, 32)     36864       conv5_block32_1_relu[0][0]       \n",
            "__________________________________________________________________________________________________\n",
            "conv5_block32_concat (Concatena (None, 7, 7, 1920)   0           conv5_block31_concat[0][0]       \n",
            "                                                                 conv5_block32_2_conv[0][0]       \n",
            "__________________________________________________________________________________________________\n",
            "bn (BatchNormalization)         (None, 7, 7, 1920)   7680        conv5_block32_concat[0][0]       \n",
            "__________________________________________________________________________________________________\n",
            "relu (Activation)               (None, 7, 7, 1920)   0           bn[0][0]                         \n",
            "==================================================================================================\n",
            "Total params: 18,321,984\n",
            "Trainable params: 18,092,928\n",
            "Non-trainable params: 229,056\n",
            "__________________________________________________________________________________________________\n"
          ],
          "name": "stdout"
        }
      ]
    },
    {
      "cell_type": "code",
      "metadata": {
        "id": "ZByRxpHbQsf6",
        "colab": {
          "base_uri": "https://localhost:8080/"
        },
        "outputId": "852ede20-eb96-4b7f-b5e4-9b5fdd33f687"
      },
      "source": [
        "\n",
        "for i, layer in enumerate(pre_trained_model.layers):\n",
        "   print(i, layer.name)"
      ],
      "execution_count": null,
      "outputs": [
        {
          "output_type": "stream",
          "text": [
            "0 input_2\n",
            "1 zero_padding2d\n",
            "2 conv1/conv\n",
            "3 conv1/bn\n",
            "4 conv1/relu\n",
            "5 zero_padding2d_1\n",
            "6 pool1\n",
            "7 conv2_block1_0_bn\n",
            "8 conv2_block1_0_relu\n",
            "9 conv2_block1_1_conv\n",
            "10 conv2_block1_1_bn\n",
            "11 conv2_block1_1_relu\n",
            "12 conv2_block1_2_conv\n",
            "13 conv2_block1_concat\n",
            "14 conv2_block2_0_bn\n",
            "15 conv2_block2_0_relu\n",
            "16 conv2_block2_1_conv\n",
            "17 conv2_block2_1_bn\n",
            "18 conv2_block2_1_relu\n",
            "19 conv2_block2_2_conv\n",
            "20 conv2_block2_concat\n",
            "21 conv2_block3_0_bn\n",
            "22 conv2_block3_0_relu\n",
            "23 conv2_block3_1_conv\n",
            "24 conv2_block3_1_bn\n",
            "25 conv2_block3_1_relu\n",
            "26 conv2_block3_2_conv\n",
            "27 conv2_block3_concat\n",
            "28 conv2_block4_0_bn\n",
            "29 conv2_block4_0_relu\n",
            "30 conv2_block4_1_conv\n",
            "31 conv2_block4_1_bn\n",
            "32 conv2_block4_1_relu\n",
            "33 conv2_block4_2_conv\n",
            "34 conv2_block4_concat\n",
            "35 conv2_block5_0_bn\n",
            "36 conv2_block5_0_relu\n",
            "37 conv2_block5_1_conv\n",
            "38 conv2_block5_1_bn\n",
            "39 conv2_block5_1_relu\n",
            "40 conv2_block5_2_conv\n",
            "41 conv2_block5_concat\n",
            "42 conv2_block6_0_bn\n",
            "43 conv2_block6_0_relu\n",
            "44 conv2_block6_1_conv\n",
            "45 conv2_block6_1_bn\n",
            "46 conv2_block6_1_relu\n",
            "47 conv2_block6_2_conv\n",
            "48 conv2_block6_concat\n",
            "49 pool2_bn\n",
            "50 pool2_relu\n",
            "51 pool2_conv\n",
            "52 pool2_pool\n",
            "53 conv3_block1_0_bn\n",
            "54 conv3_block1_0_relu\n",
            "55 conv3_block1_1_conv\n",
            "56 conv3_block1_1_bn\n",
            "57 conv3_block1_1_relu\n",
            "58 conv3_block1_2_conv\n",
            "59 conv3_block1_concat\n",
            "60 conv3_block2_0_bn\n",
            "61 conv3_block2_0_relu\n",
            "62 conv3_block2_1_conv\n",
            "63 conv3_block2_1_bn\n",
            "64 conv3_block2_1_relu\n",
            "65 conv3_block2_2_conv\n",
            "66 conv3_block2_concat\n",
            "67 conv3_block3_0_bn\n",
            "68 conv3_block3_0_relu\n",
            "69 conv3_block3_1_conv\n",
            "70 conv3_block3_1_bn\n",
            "71 conv3_block3_1_relu\n",
            "72 conv3_block3_2_conv\n",
            "73 conv3_block3_concat\n",
            "74 conv3_block4_0_bn\n",
            "75 conv3_block4_0_relu\n",
            "76 conv3_block4_1_conv\n",
            "77 conv3_block4_1_bn\n",
            "78 conv3_block4_1_relu\n",
            "79 conv3_block4_2_conv\n",
            "80 conv3_block4_concat\n",
            "81 conv3_block5_0_bn\n",
            "82 conv3_block5_0_relu\n",
            "83 conv3_block5_1_conv\n",
            "84 conv3_block5_1_bn\n",
            "85 conv3_block5_1_relu\n",
            "86 conv3_block5_2_conv\n",
            "87 conv3_block5_concat\n",
            "88 conv3_block6_0_bn\n",
            "89 conv3_block6_0_relu\n",
            "90 conv3_block6_1_conv\n",
            "91 conv3_block6_1_bn\n",
            "92 conv3_block6_1_relu\n",
            "93 conv3_block6_2_conv\n",
            "94 conv3_block6_concat\n",
            "95 conv3_block7_0_bn\n",
            "96 conv3_block7_0_relu\n",
            "97 conv3_block7_1_conv\n",
            "98 conv3_block7_1_bn\n",
            "99 conv3_block7_1_relu\n",
            "100 conv3_block7_2_conv\n",
            "101 conv3_block7_concat\n",
            "102 conv3_block8_0_bn\n",
            "103 conv3_block8_0_relu\n",
            "104 conv3_block8_1_conv\n",
            "105 conv3_block8_1_bn\n",
            "106 conv3_block8_1_relu\n",
            "107 conv3_block8_2_conv\n",
            "108 conv3_block8_concat\n",
            "109 conv3_block9_0_bn\n",
            "110 conv3_block9_0_relu\n",
            "111 conv3_block9_1_conv\n",
            "112 conv3_block9_1_bn\n",
            "113 conv3_block9_1_relu\n",
            "114 conv3_block9_2_conv\n",
            "115 conv3_block9_concat\n",
            "116 conv3_block10_0_bn\n",
            "117 conv3_block10_0_relu\n",
            "118 conv3_block10_1_conv\n",
            "119 conv3_block10_1_bn\n",
            "120 conv3_block10_1_relu\n",
            "121 conv3_block10_2_conv\n",
            "122 conv3_block10_concat\n",
            "123 conv3_block11_0_bn\n",
            "124 conv3_block11_0_relu\n",
            "125 conv3_block11_1_conv\n",
            "126 conv3_block11_1_bn\n",
            "127 conv3_block11_1_relu\n",
            "128 conv3_block11_2_conv\n",
            "129 conv3_block11_concat\n",
            "130 conv3_block12_0_bn\n",
            "131 conv3_block12_0_relu\n",
            "132 conv3_block12_1_conv\n",
            "133 conv3_block12_1_bn\n",
            "134 conv3_block12_1_relu\n",
            "135 conv3_block12_2_conv\n",
            "136 conv3_block12_concat\n",
            "137 pool3_bn\n",
            "138 pool3_relu\n",
            "139 pool3_conv\n",
            "140 pool3_pool\n",
            "141 conv4_block1_0_bn\n",
            "142 conv4_block1_0_relu\n",
            "143 conv4_block1_1_conv\n",
            "144 conv4_block1_1_bn\n",
            "145 conv4_block1_1_relu\n",
            "146 conv4_block1_2_conv\n",
            "147 conv4_block1_concat\n",
            "148 conv4_block2_0_bn\n",
            "149 conv4_block2_0_relu\n",
            "150 conv4_block2_1_conv\n",
            "151 conv4_block2_1_bn\n",
            "152 conv4_block2_1_relu\n",
            "153 conv4_block2_2_conv\n",
            "154 conv4_block2_concat\n",
            "155 conv4_block3_0_bn\n",
            "156 conv4_block3_0_relu\n",
            "157 conv4_block3_1_conv\n",
            "158 conv4_block3_1_bn\n",
            "159 conv4_block3_1_relu\n",
            "160 conv4_block3_2_conv\n",
            "161 conv4_block3_concat\n",
            "162 conv4_block4_0_bn\n",
            "163 conv4_block4_0_relu\n",
            "164 conv4_block4_1_conv\n",
            "165 conv4_block4_1_bn\n",
            "166 conv4_block4_1_relu\n",
            "167 conv4_block4_2_conv\n",
            "168 conv4_block4_concat\n",
            "169 conv4_block5_0_bn\n",
            "170 conv4_block5_0_relu\n",
            "171 conv4_block5_1_conv\n",
            "172 conv4_block5_1_bn\n",
            "173 conv4_block5_1_relu\n",
            "174 conv4_block5_2_conv\n",
            "175 conv4_block5_concat\n",
            "176 conv4_block6_0_bn\n",
            "177 conv4_block6_0_relu\n",
            "178 conv4_block6_1_conv\n",
            "179 conv4_block6_1_bn\n",
            "180 conv4_block6_1_relu\n",
            "181 conv4_block6_2_conv\n",
            "182 conv4_block6_concat\n",
            "183 conv4_block7_0_bn\n",
            "184 conv4_block7_0_relu\n",
            "185 conv4_block7_1_conv\n",
            "186 conv4_block7_1_bn\n",
            "187 conv4_block7_1_relu\n",
            "188 conv4_block7_2_conv\n",
            "189 conv4_block7_concat\n",
            "190 conv4_block8_0_bn\n",
            "191 conv4_block8_0_relu\n",
            "192 conv4_block8_1_conv\n",
            "193 conv4_block8_1_bn\n",
            "194 conv4_block8_1_relu\n",
            "195 conv4_block8_2_conv\n",
            "196 conv4_block8_concat\n",
            "197 conv4_block9_0_bn\n",
            "198 conv4_block9_0_relu\n",
            "199 conv4_block9_1_conv\n",
            "200 conv4_block9_1_bn\n",
            "201 conv4_block9_1_relu\n",
            "202 conv4_block9_2_conv\n",
            "203 conv4_block9_concat\n",
            "204 conv4_block10_0_bn\n",
            "205 conv4_block10_0_relu\n",
            "206 conv4_block10_1_conv\n",
            "207 conv4_block10_1_bn\n",
            "208 conv4_block10_1_relu\n",
            "209 conv4_block10_2_conv\n",
            "210 conv4_block10_concat\n",
            "211 conv4_block11_0_bn\n",
            "212 conv4_block11_0_relu\n",
            "213 conv4_block11_1_conv\n",
            "214 conv4_block11_1_bn\n",
            "215 conv4_block11_1_relu\n",
            "216 conv4_block11_2_conv\n",
            "217 conv4_block11_concat\n",
            "218 conv4_block12_0_bn\n",
            "219 conv4_block12_0_relu\n",
            "220 conv4_block12_1_conv\n",
            "221 conv4_block12_1_bn\n",
            "222 conv4_block12_1_relu\n",
            "223 conv4_block12_2_conv\n",
            "224 conv4_block12_concat\n",
            "225 conv4_block13_0_bn\n",
            "226 conv4_block13_0_relu\n",
            "227 conv4_block13_1_conv\n",
            "228 conv4_block13_1_bn\n",
            "229 conv4_block13_1_relu\n",
            "230 conv4_block13_2_conv\n",
            "231 conv4_block13_concat\n",
            "232 conv4_block14_0_bn\n",
            "233 conv4_block14_0_relu\n",
            "234 conv4_block14_1_conv\n",
            "235 conv4_block14_1_bn\n",
            "236 conv4_block14_1_relu\n",
            "237 conv4_block14_2_conv\n",
            "238 conv4_block14_concat\n",
            "239 conv4_block15_0_bn\n",
            "240 conv4_block15_0_relu\n",
            "241 conv4_block15_1_conv\n",
            "242 conv4_block15_1_bn\n",
            "243 conv4_block15_1_relu\n",
            "244 conv4_block15_2_conv\n",
            "245 conv4_block15_concat\n",
            "246 conv4_block16_0_bn\n",
            "247 conv4_block16_0_relu\n",
            "248 conv4_block16_1_conv\n",
            "249 conv4_block16_1_bn\n",
            "250 conv4_block16_1_relu\n",
            "251 conv4_block16_2_conv\n",
            "252 conv4_block16_concat\n",
            "253 conv4_block17_0_bn\n",
            "254 conv4_block17_0_relu\n",
            "255 conv4_block17_1_conv\n",
            "256 conv4_block17_1_bn\n",
            "257 conv4_block17_1_relu\n",
            "258 conv4_block17_2_conv\n",
            "259 conv4_block17_concat\n",
            "260 conv4_block18_0_bn\n",
            "261 conv4_block18_0_relu\n",
            "262 conv4_block18_1_conv\n",
            "263 conv4_block18_1_bn\n",
            "264 conv4_block18_1_relu\n",
            "265 conv4_block18_2_conv\n",
            "266 conv4_block18_concat\n",
            "267 conv4_block19_0_bn\n",
            "268 conv4_block19_0_relu\n",
            "269 conv4_block19_1_conv\n",
            "270 conv4_block19_1_bn\n",
            "271 conv4_block19_1_relu\n",
            "272 conv4_block19_2_conv\n",
            "273 conv4_block19_concat\n",
            "274 conv4_block20_0_bn\n",
            "275 conv4_block20_0_relu\n",
            "276 conv4_block20_1_conv\n",
            "277 conv4_block20_1_bn\n",
            "278 conv4_block20_1_relu\n",
            "279 conv4_block20_2_conv\n",
            "280 conv4_block20_concat\n",
            "281 conv4_block21_0_bn\n",
            "282 conv4_block21_0_relu\n",
            "283 conv4_block21_1_conv\n",
            "284 conv4_block21_1_bn\n",
            "285 conv4_block21_1_relu\n",
            "286 conv4_block21_2_conv\n",
            "287 conv4_block21_concat\n",
            "288 conv4_block22_0_bn\n",
            "289 conv4_block22_0_relu\n",
            "290 conv4_block22_1_conv\n",
            "291 conv4_block22_1_bn\n",
            "292 conv4_block22_1_relu\n",
            "293 conv4_block22_2_conv\n",
            "294 conv4_block22_concat\n",
            "295 conv4_block23_0_bn\n",
            "296 conv4_block23_0_relu\n",
            "297 conv4_block23_1_conv\n",
            "298 conv4_block23_1_bn\n",
            "299 conv4_block23_1_relu\n",
            "300 conv4_block23_2_conv\n",
            "301 conv4_block23_concat\n",
            "302 conv4_block24_0_bn\n",
            "303 conv4_block24_0_relu\n",
            "304 conv4_block24_1_conv\n",
            "305 conv4_block24_1_bn\n",
            "306 conv4_block24_1_relu\n",
            "307 conv4_block24_2_conv\n",
            "308 conv4_block24_concat\n",
            "309 conv4_block25_0_bn\n",
            "310 conv4_block25_0_relu\n",
            "311 conv4_block25_1_conv\n",
            "312 conv4_block25_1_bn\n",
            "313 conv4_block25_1_relu\n",
            "314 conv4_block25_2_conv\n",
            "315 conv4_block25_concat\n",
            "316 conv4_block26_0_bn\n",
            "317 conv4_block26_0_relu\n",
            "318 conv4_block26_1_conv\n",
            "319 conv4_block26_1_bn\n",
            "320 conv4_block26_1_relu\n",
            "321 conv4_block26_2_conv\n",
            "322 conv4_block26_concat\n",
            "323 conv4_block27_0_bn\n",
            "324 conv4_block27_0_relu\n",
            "325 conv4_block27_1_conv\n",
            "326 conv4_block27_1_bn\n",
            "327 conv4_block27_1_relu\n",
            "328 conv4_block27_2_conv\n",
            "329 conv4_block27_concat\n",
            "330 conv4_block28_0_bn\n",
            "331 conv4_block28_0_relu\n",
            "332 conv4_block28_1_conv\n",
            "333 conv4_block28_1_bn\n",
            "334 conv4_block28_1_relu\n",
            "335 conv4_block28_2_conv\n",
            "336 conv4_block28_concat\n",
            "337 conv4_block29_0_bn\n",
            "338 conv4_block29_0_relu\n",
            "339 conv4_block29_1_conv\n",
            "340 conv4_block29_1_bn\n",
            "341 conv4_block29_1_relu\n",
            "342 conv4_block29_2_conv\n",
            "343 conv4_block29_concat\n",
            "344 conv4_block30_0_bn\n",
            "345 conv4_block30_0_relu\n",
            "346 conv4_block30_1_conv\n",
            "347 conv4_block30_1_bn\n",
            "348 conv4_block30_1_relu\n",
            "349 conv4_block30_2_conv\n",
            "350 conv4_block30_concat\n",
            "351 conv4_block31_0_bn\n",
            "352 conv4_block31_0_relu\n",
            "353 conv4_block31_1_conv\n",
            "354 conv4_block31_1_bn\n",
            "355 conv4_block31_1_relu\n",
            "356 conv4_block31_2_conv\n",
            "357 conv4_block31_concat\n",
            "358 conv4_block32_0_bn\n",
            "359 conv4_block32_0_relu\n",
            "360 conv4_block32_1_conv\n",
            "361 conv4_block32_1_bn\n",
            "362 conv4_block32_1_relu\n",
            "363 conv4_block32_2_conv\n",
            "364 conv4_block32_concat\n",
            "365 conv4_block33_0_bn\n",
            "366 conv4_block33_0_relu\n",
            "367 conv4_block33_1_conv\n",
            "368 conv4_block33_1_bn\n",
            "369 conv4_block33_1_relu\n",
            "370 conv4_block33_2_conv\n",
            "371 conv4_block33_concat\n",
            "372 conv4_block34_0_bn\n",
            "373 conv4_block34_0_relu\n",
            "374 conv4_block34_1_conv\n",
            "375 conv4_block34_1_bn\n",
            "376 conv4_block34_1_relu\n",
            "377 conv4_block34_2_conv\n",
            "378 conv4_block34_concat\n",
            "379 conv4_block35_0_bn\n",
            "380 conv4_block35_0_relu\n",
            "381 conv4_block35_1_conv\n",
            "382 conv4_block35_1_bn\n",
            "383 conv4_block35_1_relu\n",
            "384 conv4_block35_2_conv\n",
            "385 conv4_block35_concat\n",
            "386 conv4_block36_0_bn\n",
            "387 conv4_block36_0_relu\n",
            "388 conv4_block36_1_conv\n",
            "389 conv4_block36_1_bn\n",
            "390 conv4_block36_1_relu\n",
            "391 conv4_block36_2_conv\n",
            "392 conv4_block36_concat\n",
            "393 conv4_block37_0_bn\n",
            "394 conv4_block37_0_relu\n",
            "395 conv4_block37_1_conv\n",
            "396 conv4_block37_1_bn\n",
            "397 conv4_block37_1_relu\n",
            "398 conv4_block37_2_conv\n",
            "399 conv4_block37_concat\n",
            "400 conv4_block38_0_bn\n",
            "401 conv4_block38_0_relu\n",
            "402 conv4_block38_1_conv\n",
            "403 conv4_block38_1_bn\n",
            "404 conv4_block38_1_relu\n",
            "405 conv4_block38_2_conv\n",
            "406 conv4_block38_concat\n",
            "407 conv4_block39_0_bn\n",
            "408 conv4_block39_0_relu\n",
            "409 conv4_block39_1_conv\n",
            "410 conv4_block39_1_bn\n",
            "411 conv4_block39_1_relu\n",
            "412 conv4_block39_2_conv\n",
            "413 conv4_block39_concat\n",
            "414 conv4_block40_0_bn\n",
            "415 conv4_block40_0_relu\n",
            "416 conv4_block40_1_conv\n",
            "417 conv4_block40_1_bn\n",
            "418 conv4_block40_1_relu\n",
            "419 conv4_block40_2_conv\n",
            "420 conv4_block40_concat\n",
            "421 conv4_block41_0_bn\n",
            "422 conv4_block41_0_relu\n",
            "423 conv4_block41_1_conv\n",
            "424 conv4_block41_1_bn\n",
            "425 conv4_block41_1_relu\n",
            "426 conv4_block41_2_conv\n",
            "427 conv4_block41_concat\n",
            "428 conv4_block42_0_bn\n",
            "429 conv4_block42_0_relu\n",
            "430 conv4_block42_1_conv\n",
            "431 conv4_block42_1_bn\n",
            "432 conv4_block42_1_relu\n",
            "433 conv4_block42_2_conv\n",
            "434 conv4_block42_concat\n",
            "435 conv4_block43_0_bn\n",
            "436 conv4_block43_0_relu\n",
            "437 conv4_block43_1_conv\n",
            "438 conv4_block43_1_bn\n",
            "439 conv4_block43_1_relu\n",
            "440 conv4_block43_2_conv\n",
            "441 conv4_block43_concat\n",
            "442 conv4_block44_0_bn\n",
            "443 conv4_block44_0_relu\n",
            "444 conv4_block44_1_conv\n",
            "445 conv4_block44_1_bn\n",
            "446 conv4_block44_1_relu\n",
            "447 conv4_block44_2_conv\n",
            "448 conv4_block44_concat\n",
            "449 conv4_block45_0_bn\n",
            "450 conv4_block45_0_relu\n",
            "451 conv4_block45_1_conv\n",
            "452 conv4_block45_1_bn\n",
            "453 conv4_block45_1_relu\n",
            "454 conv4_block45_2_conv\n",
            "455 conv4_block45_concat\n",
            "456 conv4_block46_0_bn\n",
            "457 conv4_block46_0_relu\n",
            "458 conv4_block46_1_conv\n",
            "459 conv4_block46_1_bn\n",
            "460 conv4_block46_1_relu\n",
            "461 conv4_block46_2_conv\n",
            "462 conv4_block46_concat\n",
            "463 conv4_block47_0_bn\n",
            "464 conv4_block47_0_relu\n",
            "465 conv4_block47_1_conv\n",
            "466 conv4_block47_1_bn\n",
            "467 conv4_block47_1_relu\n",
            "468 conv4_block47_2_conv\n",
            "469 conv4_block47_concat\n",
            "470 conv4_block48_0_bn\n",
            "471 conv4_block48_0_relu\n",
            "472 conv4_block48_1_conv\n",
            "473 conv4_block48_1_bn\n",
            "474 conv4_block48_1_relu\n",
            "475 conv4_block48_2_conv\n",
            "476 conv4_block48_concat\n",
            "477 pool4_bn\n",
            "478 pool4_relu\n",
            "479 pool4_conv\n",
            "480 pool4_pool\n",
            "481 conv5_block1_0_bn\n",
            "482 conv5_block1_0_relu\n",
            "483 conv5_block1_1_conv\n",
            "484 conv5_block1_1_bn\n",
            "485 conv5_block1_1_relu\n",
            "486 conv5_block1_2_conv\n",
            "487 conv5_block1_concat\n",
            "488 conv5_block2_0_bn\n",
            "489 conv5_block2_0_relu\n",
            "490 conv5_block2_1_conv\n",
            "491 conv5_block2_1_bn\n",
            "492 conv5_block2_1_relu\n",
            "493 conv5_block2_2_conv\n",
            "494 conv5_block2_concat\n",
            "495 conv5_block3_0_bn\n",
            "496 conv5_block3_0_relu\n",
            "497 conv5_block3_1_conv\n",
            "498 conv5_block3_1_bn\n",
            "499 conv5_block3_1_relu\n",
            "500 conv5_block3_2_conv\n",
            "501 conv5_block3_concat\n",
            "502 conv5_block4_0_bn\n",
            "503 conv5_block4_0_relu\n",
            "504 conv5_block4_1_conv\n",
            "505 conv5_block4_1_bn\n",
            "506 conv5_block4_1_relu\n",
            "507 conv5_block4_2_conv\n",
            "508 conv5_block4_concat\n",
            "509 conv5_block5_0_bn\n",
            "510 conv5_block5_0_relu\n",
            "511 conv5_block5_1_conv\n",
            "512 conv5_block5_1_bn\n",
            "513 conv5_block5_1_relu\n",
            "514 conv5_block5_2_conv\n",
            "515 conv5_block5_concat\n",
            "516 conv5_block6_0_bn\n",
            "517 conv5_block6_0_relu\n",
            "518 conv5_block6_1_conv\n",
            "519 conv5_block6_1_bn\n",
            "520 conv5_block6_1_relu\n",
            "521 conv5_block6_2_conv\n",
            "522 conv5_block6_concat\n",
            "523 conv5_block7_0_bn\n",
            "524 conv5_block7_0_relu\n",
            "525 conv5_block7_1_conv\n",
            "526 conv5_block7_1_bn\n",
            "527 conv5_block7_1_relu\n",
            "528 conv5_block7_2_conv\n",
            "529 conv5_block7_concat\n",
            "530 conv5_block8_0_bn\n",
            "531 conv5_block8_0_relu\n",
            "532 conv5_block8_1_conv\n",
            "533 conv5_block8_1_bn\n",
            "534 conv5_block8_1_relu\n",
            "535 conv5_block8_2_conv\n",
            "536 conv5_block8_concat\n",
            "537 conv5_block9_0_bn\n",
            "538 conv5_block9_0_relu\n",
            "539 conv5_block9_1_conv\n",
            "540 conv5_block9_1_bn\n",
            "541 conv5_block9_1_relu\n",
            "542 conv5_block9_2_conv\n",
            "543 conv5_block9_concat\n",
            "544 conv5_block10_0_bn\n",
            "545 conv5_block10_0_relu\n",
            "546 conv5_block10_1_conv\n",
            "547 conv5_block10_1_bn\n",
            "548 conv5_block10_1_relu\n",
            "549 conv5_block10_2_conv\n",
            "550 conv5_block10_concat\n",
            "551 conv5_block11_0_bn\n",
            "552 conv5_block11_0_relu\n",
            "553 conv5_block11_1_conv\n",
            "554 conv5_block11_1_bn\n",
            "555 conv5_block11_1_relu\n",
            "556 conv5_block11_2_conv\n",
            "557 conv5_block11_concat\n",
            "558 conv5_block12_0_bn\n",
            "559 conv5_block12_0_relu\n",
            "560 conv5_block12_1_conv\n",
            "561 conv5_block12_1_bn\n",
            "562 conv5_block12_1_relu\n",
            "563 conv5_block12_2_conv\n",
            "564 conv5_block12_concat\n",
            "565 conv5_block13_0_bn\n",
            "566 conv5_block13_0_relu\n",
            "567 conv5_block13_1_conv\n",
            "568 conv5_block13_1_bn\n",
            "569 conv5_block13_1_relu\n",
            "570 conv5_block13_2_conv\n",
            "571 conv5_block13_concat\n",
            "572 conv5_block14_0_bn\n",
            "573 conv5_block14_0_relu\n",
            "574 conv5_block14_1_conv\n",
            "575 conv5_block14_1_bn\n",
            "576 conv5_block14_1_relu\n",
            "577 conv5_block14_2_conv\n",
            "578 conv5_block14_concat\n",
            "579 conv5_block15_0_bn\n",
            "580 conv5_block15_0_relu\n",
            "581 conv5_block15_1_conv\n",
            "582 conv5_block15_1_bn\n",
            "583 conv5_block15_1_relu\n",
            "584 conv5_block15_2_conv\n",
            "585 conv5_block15_concat\n",
            "586 conv5_block16_0_bn\n",
            "587 conv5_block16_0_relu\n",
            "588 conv5_block16_1_conv\n",
            "589 conv5_block16_1_bn\n",
            "590 conv5_block16_1_relu\n",
            "591 conv5_block16_2_conv\n",
            "592 conv5_block16_concat\n",
            "593 conv5_block17_0_bn\n",
            "594 conv5_block17_0_relu\n",
            "595 conv5_block17_1_conv\n",
            "596 conv5_block17_1_bn\n",
            "597 conv5_block17_1_relu\n",
            "598 conv5_block17_2_conv\n",
            "599 conv5_block17_concat\n",
            "600 conv5_block18_0_bn\n",
            "601 conv5_block18_0_relu\n",
            "602 conv5_block18_1_conv\n",
            "603 conv5_block18_1_bn\n",
            "604 conv5_block18_1_relu\n",
            "605 conv5_block18_2_conv\n",
            "606 conv5_block18_concat\n",
            "607 conv5_block19_0_bn\n",
            "608 conv5_block19_0_relu\n",
            "609 conv5_block19_1_conv\n",
            "610 conv5_block19_1_bn\n",
            "611 conv5_block19_1_relu\n",
            "612 conv5_block19_2_conv\n",
            "613 conv5_block19_concat\n",
            "614 conv5_block20_0_bn\n",
            "615 conv5_block20_0_relu\n",
            "616 conv5_block20_1_conv\n",
            "617 conv5_block20_1_bn\n",
            "618 conv5_block20_1_relu\n",
            "619 conv5_block20_2_conv\n",
            "620 conv5_block20_concat\n",
            "621 conv5_block21_0_bn\n",
            "622 conv5_block21_0_relu\n",
            "623 conv5_block21_1_conv\n",
            "624 conv5_block21_1_bn\n",
            "625 conv5_block21_1_relu\n",
            "626 conv5_block21_2_conv\n",
            "627 conv5_block21_concat\n",
            "628 conv5_block22_0_bn\n",
            "629 conv5_block22_0_relu\n",
            "630 conv5_block22_1_conv\n",
            "631 conv5_block22_1_bn\n",
            "632 conv5_block22_1_relu\n",
            "633 conv5_block22_2_conv\n",
            "634 conv5_block22_concat\n",
            "635 conv5_block23_0_bn\n",
            "636 conv5_block23_0_relu\n",
            "637 conv5_block23_1_conv\n",
            "638 conv5_block23_1_bn\n",
            "639 conv5_block23_1_relu\n",
            "640 conv5_block23_2_conv\n",
            "641 conv5_block23_concat\n",
            "642 conv5_block24_0_bn\n",
            "643 conv5_block24_0_relu\n",
            "644 conv5_block24_1_conv\n",
            "645 conv5_block24_1_bn\n",
            "646 conv5_block24_1_relu\n",
            "647 conv5_block24_2_conv\n",
            "648 conv5_block24_concat\n",
            "649 conv5_block25_0_bn\n",
            "650 conv5_block25_0_relu\n",
            "651 conv5_block25_1_conv\n",
            "652 conv5_block25_1_bn\n",
            "653 conv5_block25_1_relu\n",
            "654 conv5_block25_2_conv\n",
            "655 conv5_block25_concat\n",
            "656 conv5_block26_0_bn\n",
            "657 conv5_block26_0_relu\n",
            "658 conv5_block26_1_conv\n",
            "659 conv5_block26_1_bn\n",
            "660 conv5_block26_1_relu\n",
            "661 conv5_block26_2_conv\n",
            "662 conv5_block26_concat\n",
            "663 conv5_block27_0_bn\n",
            "664 conv5_block27_0_relu\n",
            "665 conv5_block27_1_conv\n",
            "666 conv5_block27_1_bn\n",
            "667 conv5_block27_1_relu\n",
            "668 conv5_block27_2_conv\n",
            "669 conv5_block27_concat\n",
            "670 conv5_block28_0_bn\n",
            "671 conv5_block28_0_relu\n",
            "672 conv5_block28_1_conv\n",
            "673 conv5_block28_1_bn\n",
            "674 conv5_block28_1_relu\n",
            "675 conv5_block28_2_conv\n",
            "676 conv5_block28_concat\n",
            "677 conv5_block29_0_bn\n",
            "678 conv5_block29_0_relu\n",
            "679 conv5_block29_1_conv\n",
            "680 conv5_block29_1_bn\n",
            "681 conv5_block29_1_relu\n",
            "682 conv5_block29_2_conv\n",
            "683 conv5_block29_concat\n",
            "684 conv5_block30_0_bn\n",
            "685 conv5_block30_0_relu\n",
            "686 conv5_block30_1_conv\n",
            "687 conv5_block30_1_bn\n",
            "688 conv5_block30_1_relu\n",
            "689 conv5_block30_2_conv\n",
            "690 conv5_block30_concat\n",
            "691 conv5_block31_0_bn\n",
            "692 conv5_block31_0_relu\n",
            "693 conv5_block31_1_conv\n",
            "694 conv5_block31_1_bn\n",
            "695 conv5_block31_1_relu\n",
            "696 conv5_block31_2_conv\n",
            "697 conv5_block31_concat\n",
            "698 conv5_block32_0_bn\n",
            "699 conv5_block32_0_relu\n",
            "700 conv5_block32_1_conv\n",
            "701 conv5_block32_1_bn\n",
            "702 conv5_block32_1_relu\n",
            "703 conv5_block32_2_conv\n",
            "704 conv5_block32_concat\n",
            "705 bn\n",
            "706 relu\n"
          ],
          "name": "stdout"
        }
      ]
    },
    {
      "cell_type": "code",
      "metadata": {
        "id": "UK7NMPa77UwA"
      },
      "source": [
        "for layer in pre_trained_model.layers[:180]: #150\n",
        "   layer.trainable = False\n",
        "for layer in pre_trained_model.layers[180:]:\n",
        "   layer.trainable = True"
      ],
      "execution_count": null,
      "outputs": []
    },
    {
      "cell_type": "code",
      "metadata": {
        "colab": {
          "base_uri": "https://localhost:8080/"
        },
        "id": "XZCt9VSs3NCi",
        "outputId": "77d6803b-fb94-4ffc-c3f2-03e637b01aa7"
      },
      "source": [
        "train_datagen = ImageDataGenerator( rescale = 1.0/255 )  # images normalization\r\n",
        "validation_datagen  = ImageDataGenerator( rescale = 1.0/255. )\r\n",
        "test_datagen  = ImageDataGenerator( rescale = 1.0/255. )\r\n",
        "\r\n",
        "\r\n",
        "train_generator = train_datagen.flow_from_directory(data_entrenamiento,\r\n",
        "                                                    batch_size=64,\r\n",
        "                                                    class_mode='categorical',\r\n",
        "                                                    color_mode=\"rgb\",\r\n",
        "                                                    target_size=(224, 224),\r\n",
        "                                                    )     \r\n",
        "\r\n",
        "validation_generator =  validation_datagen.flow_from_directory(data_validacion,\r\n",
        "                                                         batch_size=64,\r\n",
        "                                                         class_mode  = 'categorical',\r\n",
        "                                                         color_mode=\"rgb\",\r\n",
        "                                                         target_size = (224, 224))\r\n",
        "\r\n",
        "\r\n",
        "test_generator =  test_datagen.flow_from_directory(data_text,\r\n",
        "                                                         batch_size=64                                                   ,\r\n",
        "                                                         color_mode=\"rgb\",\r\n",
        "                                                         class_mode  = 'categorical',\r\n",
        "                                                         target_size = (224, 224))\r\n",
        "\r\n"
      ],
      "execution_count": 5,
      "outputs": [
        {
          "output_type": "stream",
          "text": [
            "Found 32201 images belonging to 7 classes.\n",
            "Found 7150 images belonging to 7 classes.\n",
            "Found 3574 images belonging to 7 classes.\n"
          ],
          "name": "stdout"
        }
      ]
    },
    {
      "cell_type": "markdown",
      "metadata": {
        "id": "iTTtNayjuugb"
      },
      "source": [
        "## Hidden Layer Design"
      ]
    },
    {
      "cell_type": "code",
      "metadata": {
        "id": "6uC0s2_ptLce"
      },
      "source": [
        "def model_new():\n",
        "  inputs = tf.keras.Input(shape=(224, 224, 3))\n",
        "\n",
        "  x = pre_trained_model(inputs)\n",
        "\n",
        "  layers = tf.keras.layers.GlobalAveragePooling2D()(x)\n",
        "  #layers = Flatten(name=\"flatten\")(pre_trained_model)\n",
        "\n",
        "  #Hidden Layers\n",
        "  layers = Dense(512)(layers)\n",
        "  layers = BatchNormalization()(layers)\n",
        "  layers = ReLU()(layers)\n",
        "\n",
        "  layers = Dense(128)(layers)\n",
        "  layers = BatchNormalization()(layers)\n",
        "  layers = ReLU()(layers)\n",
        "\n",
        "\n",
        "  layers = Dense(64)(layers)\n",
        "  layers = BatchNormalization()(layers)\n",
        "  layers = ReLU()(layers)\n",
        "\n",
        "\n",
        "  layers = Dense(32)(layers)\n",
        "  layers = BatchNormalization()(layers)\n",
        "  layers = ReLU()(layers)\n",
        "\n",
        "  #classification layer\n",
        "  predictions = Dense(7, activation=\"softmax\", name=\"output_1\")(layers)\n",
        "  model = Model(inputs = inputs, outputs=predictions)\n",
        "\n",
        "  return model"
      ],
      "execution_count": null,
      "outputs": []
    },
    {
      "cell_type": "code",
      "metadata": {
        "id": "sNww7HIguY0N",
        "colab": {
          "base_uri": "https://localhost:8080/"
        },
        "outputId": "21d4fa45-55b6-486f-abe6-e0abbdb908ba"
      },
      "source": [
        "modelFT = model_new()\n",
        "modelFT.summary()"
      ],
      "execution_count": null,
      "outputs": [
        {
          "output_type": "stream",
          "text": [
            "Model: \"model\"\n",
            "_________________________________________________________________\n",
            "Layer (type)                 Output Shape              Param #   \n",
            "=================================================================\n",
            "input_3 (InputLayer)         [(None, 224, 224, 3)]     0         \n",
            "_________________________________________________________________\n",
            "densenet201 (Functional)     (None, 7, 7, 1920)        18321984  \n",
            "_________________________________________________________________\n",
            "global_average_pooling2d (Gl (None, 1920)              0         \n",
            "_________________________________________________________________\n",
            "dense (Dense)                (None, 512)               983552    \n",
            "_________________________________________________________________\n",
            "batch_normalization (BatchNo (None, 512)               2048      \n",
            "_________________________________________________________________\n",
            "activation (Activation)      (None, 512)               0         \n",
            "_________________________________________________________________\n",
            "dense_1 (Dense)              (None, 128)               65664     \n",
            "_________________________________________________________________\n",
            "batch_normalization_1 (Batch (None, 128)               512       \n",
            "_________________________________________________________________\n",
            "activation_1 (Activation)    (None, 128)               0         \n",
            "_________________________________________________________________\n",
            "dense_2 (Dense)              (None, 64)                8256      \n",
            "_________________________________________________________________\n",
            "batch_normalization_2 (Batch (None, 64)                256       \n",
            "_________________________________________________________________\n",
            "activation_2 (Activation)    (None, 64)                0         \n",
            "_________________________________________________________________\n",
            "dense_3 (Dense)              (None, 32)                2080      \n",
            "_________________________________________________________________\n",
            "batch_normalization_3 (Batch (None, 32)                128       \n",
            "_________________________________________________________________\n",
            "activation_3 (Activation)    (None, 32)                0         \n",
            "_________________________________________________________________\n",
            "output_1 (Dense)             (None, 7)                 231       \n",
            "=================================================================\n",
            "Total params: 19,384,711\n",
            "Trainable params: 17,276,615\n",
            "Non-trainable params: 2,108,096\n",
            "_________________________________________________________________\n"
          ],
          "name": "stdout"
        }
      ]
    },
    {
      "cell_type": "markdown",
      "metadata": {
        "id": "cHVuPf7b_wPH"
      },
      "source": [
        "Optimazer"
      ]
    },
    {
      "cell_type": "code",
      "metadata": {
        "id": "gWrJwn8JSvXo"
      },
      "source": [
        "\n",
        "modelFT.compile(\n",
        "    optimizer=\"Adamax\",\n",
        "    loss=\"categorical_crossentropy\",\n",
        "    metrics=[\"accuracy\"]\n",
        "    )"
      ],
      "execution_count": null,
      "outputs": []
    },
    {
      "cell_type": "code",
      "metadata": {
        "id": "5aUBAx1wSMw3"
      },
      "source": [
        "\n",
        "DESIRED_ACCURACY = 0.999\n",
        "INIT_LR = 1e-3\n",
        "def exp_decay(epoch):\n",
        "  initial_lrate = 1e-3\n",
        "  k = 0.095\n",
        "  lrate = initial_lrate * np.exp(-k*epoch)\n",
        "  return lrate\n",
        "\n",
        "\n",
        "\n",
        "class LossHistory(tf.keras.callbacks.Callback):\n",
        "  def on_train_begin(self, logs={}):\n",
        "    self.losses = []\n",
        "    self.lr = []\n",
        "\n",
        "  def on_epoch_end(self, batch, logs={}):\n",
        "    self.losses.append(logs.get('loss'))\n",
        "    self.lr.append(exp_decay(len(self.losses)))\n",
        "\n",
        "class end_train(tf.keras.callbacks.Callback):\n",
        "        def on_epoch_end(self,epoch,log={}):\n",
        "            if log.get('val_accuracy')>DESIRED_ACCURACY:\n",
        "                print(\"\\nReached\"+str(DESIRED_ACCURACY)+\"% val_accuracy so cancelling training!\")\n",
        "                self.model.stop_training = True\n",
        "end_t = end_train()\n",
        "loss_history = LossHistory()\n",
        "lrate = LearningRateScheduler(exp_decay)       \n",
        "callbacks_list = [loss_history,lrate,end_t]\n",
        "\n",
        "callbacks=callbacks_list"
      ],
      "execution_count": null,
      "outputs": []
    },
    {
      "cell_type": "markdown",
      "metadata": {
        "id": "WgTPXv5hvCI6"
      },
      "source": [
        "## Train Model"
      ]
    },
    {
      "cell_type": "code",
      "metadata": {
        "id": "WxDKubHPS6y_",
        "colab": {
          "base_uri": "https://localhost:8080/"
        },
        "outputId": "5ca9d06e-753e-4cfb-c598-bd7e6afebdf9"
      },
      "source": [
        "steps_per_epoch = train_generator.n // 64\n",
        "validation_steps = validation_generator.n // 64\n",
        "history = modelFT.fit (train_generator,             \n",
        "                         validation_data = validation_generator,             \n",
        "                         steps_per_epoch = steps_per_epoch,           \n",
        "                         epochs = 33,             \n",
        "                         validation_steps = validation_steps,             \n",
        "                         verbose = 2,\n",
        "                         callbacks=callbacks\n",
        "                        ) "
      ],
      "execution_count": null,
      "outputs": [
        {
          "output_type": "stream",
          "text": [
            "Epoch 1/33\n",
            "503/503 - 9303s - loss: 0.5929 - accuracy: 0.8074 - val_loss: 0.4497 - val_accuracy: 0.8497\n",
            "Epoch 2/33\n",
            "503/503 - 409s - loss: 0.2381 - accuracy: 0.9226 - val_loss: 0.2047 - val_accuracy: 0.9306\n",
            "Epoch 3/33\n",
            "503/503 - 409s - loss: 0.1298 - accuracy: 0.9594 - val_loss: 0.2223 - val_accuracy: 0.9274\n",
            "Epoch 4/33\n",
            "503/503 - 409s - loss: 0.0818 - accuracy: 0.9745 - val_loss: 0.1440 - val_accuracy: 0.9534\n",
            "Epoch 5/33\n",
            "503/503 - 409s - loss: 0.0451 - accuracy: 0.9878 - val_loss: 0.1161 - val_accuracy: 0.9630\n",
            "Epoch 6/33\n",
            "503/503 - 409s - loss: 0.0335 - accuracy: 0.9912 - val_loss: 0.1307 - val_accuracy: 0.9626\n",
            "Epoch 7/33\n",
            "503/503 - 409s - loss: 0.0260 - accuracy: 0.9930 - val_loss: 0.1395 - val_accuracy: 0.9579\n",
            "Epoch 8/33\n",
            "503/503 - 409s - loss: 0.0152 - accuracy: 0.9962 - val_loss: 0.1125 - val_accuracy: 0.9669\n",
            "Epoch 9/33\n",
            "503/503 - 409s - loss: 0.0144 - accuracy: 0.9962 - val_loss: 0.1004 - val_accuracy: 0.9704\n",
            "Epoch 10/33\n",
            "503/503 - 408s - loss: 0.0084 - accuracy: 0.9983 - val_loss: 0.1008 - val_accuracy: 0.9737\n",
            "Epoch 11/33\n",
            "503/503 - 408s - loss: 0.0095 - accuracy: 0.9977 - val_loss: 0.1030 - val_accuracy: 0.9727\n",
            "Epoch 12/33\n",
            "503/503 - 409s - loss: 0.0056 - accuracy: 0.9989 - val_loss: 0.1037 - val_accuracy: 0.9711\n",
            "Epoch 13/33\n",
            "503/503 - 410s - loss: 0.0053 - accuracy: 0.9989 - val_loss: 0.0897 - val_accuracy: 0.9737\n",
            "Epoch 14/33\n",
            "503/503 - 409s - loss: 0.0029 - accuracy: 0.9997 - val_loss: 0.0979 - val_accuracy: 0.9744\n",
            "Epoch 15/33\n",
            "503/503 - 409s - loss: 0.0034 - accuracy: 0.9994 - val_loss: 0.0940 - val_accuracy: 0.9734\n",
            "Epoch 16/33\n",
            "503/503 - 409s - loss: 0.0023 - accuracy: 0.9998 - val_loss: 0.0937 - val_accuracy: 0.9751\n",
            "Epoch 17/33\n",
            "503/503 - 409s - loss: 0.0024 - accuracy: 0.9997 - val_loss: 0.0926 - val_accuracy: 0.9768\n",
            "Epoch 18/33\n",
            "503/503 - 409s - loss: 0.0018 - accuracy: 0.9998 - val_loss: 0.0969 - val_accuracy: 0.9749\n",
            "Epoch 19/33\n",
            "503/503 - 408s - loss: 0.0019 - accuracy: 0.9998 - val_loss: 0.1036 - val_accuracy: 0.9735\n",
            "Epoch 20/33\n",
            "503/503 - 408s - loss: 0.0021 - accuracy: 0.9996 - val_loss: 0.0976 - val_accuracy: 0.9745\n",
            "Epoch 21/33\n",
            "503/503 - 407s - loss: 0.0011 - accuracy: 1.0000 - val_loss: 0.0964 - val_accuracy: 0.9769\n",
            "Epoch 22/33\n",
            "503/503 - 407s - loss: 0.0012 - accuracy: 0.9999 - val_loss: 0.0946 - val_accuracy: 0.9765\n",
            "Epoch 23/33\n",
            "503/503 - 408s - loss: 0.0013 - accuracy: 0.9999 - val_loss: 0.0980 - val_accuracy: 0.9756\n",
            "Epoch 24/33\n",
            "503/503 - 408s - loss: 0.0014 - accuracy: 0.9999 - val_loss: 0.0967 - val_accuracy: 0.9755\n",
            "Epoch 25/33\n",
            "503/503 - 408s - loss: 9.4729e-04 - accuracy: 1.0000 - val_loss: 0.0928 - val_accuracy: 0.9771\n",
            "Epoch 26/33\n",
            "503/503 - 408s - loss: 8.7755e-04 - accuracy: 1.0000 - val_loss: 0.0941 - val_accuracy: 0.9766\n",
            "Epoch 27/33\n",
            "503/503 - 408s - loss: 0.0010 - accuracy: 0.9999 - val_loss: 0.1002 - val_accuracy: 0.9755\n",
            "Epoch 28/33\n",
            "503/503 - 408s - loss: 9.7200e-04 - accuracy: 0.9999 - val_loss: 0.0944 - val_accuracy: 0.9758\n",
            "Epoch 29/33\n",
            "503/503 - 407s - loss: 8.8346e-04 - accuracy: 1.0000 - val_loss: 0.0967 - val_accuracy: 0.9761\n",
            "Epoch 30/33\n",
            "503/503 - 408s - loss: 8.5315e-04 - accuracy: 0.9999 - val_loss: 0.0987 - val_accuracy: 0.9766\n",
            "Epoch 31/33\n",
            "503/503 - 408s - loss: 0.0012 - accuracy: 0.9999 - val_loss: 0.0978 - val_accuracy: 0.9764\n",
            "Epoch 32/33\n",
            "503/503 - 408s - loss: 6.8524e-04 - accuracy: 1.0000 - val_loss: 0.0997 - val_accuracy: 0.9765\n",
            "Epoch 33/33\n",
            "503/503 - 408s - loss: 7.6619e-04 - accuracy: 0.9999 - val_loss: 0.1001 - val_accuracy: 0.9765\n"
          ],
          "name": "stdout"
        }
      ]
    },
    {
      "cell_type": "markdown",
      "metadata": {
        "id": "R5kyn5ZyvI2D"
      },
      "source": [
        "## Save the Model"
      ]
    },
    {
      "cell_type": "code",
      "metadata": {
        "id": "K700FkqpySOC"
      },
      "source": [
        "\n",
        "\n",
        "modelFT.save('/content/Drive/My Drive/HAM10000/model_final_prueba.h5')  # creates a HDF5 file 'my_model.h5'\n",
        "#del model  # deletes the existing model\n",
        "\n",
        "#model = load_model('/content/Drive/My Drive/HAM10000/model_final_prueba.h5')"
      ],
      "execution_count": null,
      "outputs": []
    },
    {
      "cell_type": "code",
      "metadata": {
        "id": "w58ezsw19vKg"
      },
      "source": [
        "modelFT.save('/content/Drive/My Drive/HAM10000/tmp2/model')"
      ],
      "execution_count": null,
      "outputs": []
    },
    {
      "cell_type": "markdown",
      "metadata": {
        "id": "fBDulQ8gW3jl"
      },
      "source": [
        "# Results"
      ]
    },
    {
      "cell_type": "code",
      "metadata": {
        "id": "0jWcCTZuqj3M",
        "colab": {
          "base_uri": "https://localhost:8080/",
          "height": 907
        },
        "outputId": "1c4528e9-4a95-4029-c95b-45ed854dd3b9"
      },
      "source": [
        "\n",
        "acc = history.history[ 'accuracy' ] # con drop\n",
        "val_acc = history.history[ 'val_accuracy' ]\n",
        "loss = history.history[ 'loss' ]\n",
        "val_loss = history.history['val_loss' ]\n",
        "lr = history.history['lr' ]\n",
        "epochs = range(1,len(acc)+1,1)\n",
        "plt.plot ( epochs, acc, 'r--', label='Training accuracy' )\n",
        "plt.grid(True)\n",
        "plt.plot ( epochs, val_acc, 'b', label='Validation accuracy')\n",
        "plt.grid(True)\n",
        "plt.title ('Training and validation accuracy')\n",
        "plt.ylabel('accuracy')\n",
        "plt.xlabel('epochs')\n",
        "plt.legend()\n",
        "plt.figure()\n",
        "plt.plot ( epochs, loss, 'r--' , label='Training Loss' )\n",
        "plt.grid(True)\n",
        "plt.plot ( epochs, val_loss , 'b', label='Validation Loss'  )\n",
        "plt.grid(True)\n",
        "plt.title ('Training and validation loss' )\n",
        "plt.ylabel('Loss')\n",
        "plt.xlabel('epochs')\n",
        "plt.legend()\n",
        "plt.figure()\n",
        "#plt.plot ( epochs, loss, 'r--' )\n",
        "plt.plot ( epochs, lr, 'b' )\n",
        "plt.grid(True)\n",
        "plt.title ('lr  and validation loss' )\n",
        "plt.ylabel('value')\n",
        "plt.xlabel('epochs')\n",
        "plt.legend()\n",
        "plt.figure()"
      ],
      "execution_count": null,
      "outputs": [
        {
          "output_type": "stream",
          "text": [
            "No handles with labels found to put in legend.\n"
          ],
          "name": "stderr"
        },
        {
          "output_type": "execute_result",
          "data": {
            "text/plain": [
              "<Figure size 432x288 with 0 Axes>"
            ]
          },
          "metadata": {
            "tags": []
          },
          "execution_count": 23
        },
        {
          "output_type": "display_data",
          "data": {
            "image/png": "[encoded data removed]",
            "text/plain": [
              "<Figure size 432x288 with 1 Axes>"
            ]
          },
          "metadata": {
            "tags": [],
            "needs_background": "light"
          }
        },
        {
          "output_type": "display_data",
          "data": {
            "image/png": "[encoded data removed]",
            "text/plain": [
              "<Figure size 432x288 with 1 Axes>"
            ]
          },
          "metadata": {
            "tags": [],
            "needs_background": "light"
          }
        },
        {
          "output_type": "display_data",
          "data": {
            "image/png": "[encoded data removed]",
            "text/plain": [
              "<Figure size 432x288 with 1 Axes>"
            ]
          },
          "metadata": {
            "tags": [],
            "needs_background": "light"
          }
        },
        {
          "output_type": "display_data",
          "data": {
            "text/plain": [
              "<Figure size 432x288 with 0 Axes>"
            ]
          },
          "metadata": {
            "tags": []
          }
        }
      ]
    },
    {
      "cell_type": "code",
      "metadata": {
        "id": "gZXDqNGt4s3I",
        "colab": {
          "base_uri": "https://localhost:8080/"
        },
        "outputId": "4f797436-1d1c-42b4-8d11-80755a2175eb"
      },
      "source": [
        "epochs"
      ],
      "execution_count": null,
      "outputs": [
        {
          "output_type": "execute_result",
          "data": {
            "text/plain": [
              "range(1, 34)"
            ]
          },
          "metadata": {
            "tags": []
          },
          "execution_count": 60
        }
      ]
    },
    {
      "cell_type": "code",
      "metadata": {
        "id": "nJC_4CNQ-y7E"
      },
      "source": [
        "from sklearn.metrics import f1_score"
      ],
      "execution_count": 8,
      "outputs": []
    },
    {
      "cell_type": "code",
      "metadata": {
        "id": "P5Sbm6tXZkhQ"
      },
      "source": [
        "predicciones = []"
      ],
      "execution_count": 9,
      "outputs": []
    },
    {
      "cell_type": "code",
      "metadata": {
        "id": "n3sVeg8aEAOs"
      },
      "source": [
        "for i in range(3574): #3574\n",
        "\n",
        "  x = load_img(test_generator.filepaths[i], target_size=(224, 224))\n",
        "  x = img_to_array(x)/255.\n",
        "  x = np.expand_dims(x, axis=0)\n",
        "  array = modelFT.predict(x)\n",
        "  if i ==0:\n",
        "      pred = array\n",
        "  else:\n",
        "      pred = np.append(pred, array, 0)\n",
        "  val_preds = np.argmax(array , axis=-1)\n",
        "  predicciones.append(val_preds)"
      ],
      "execution_count": 10,
      "outputs": []
    },
    {
      "cell_type": "code",
      "metadata": {
        "colab": {
          "base_uri": "https://localhost:8080/"
        },
        "id": "NVAMDBpf8dKf",
        "outputId": "afd1efae-e73b-4fd4-8edb-a1a729964100"
      },
      "source": [
        "pred.shape"
      ],
      "execution_count": 35,
      "outputs": [
        {
          "output_type": "execute_result",
          "data": {
            "text/plain": [
              "(3574, 7)"
            ]
          },
          "metadata": {
            "tags": []
          },
          "execution_count": 35
        }
      ]
    },
    {
      "cell_type": "code",
      "metadata": {
        "colab": {
          "base_uri": "https://localhost:8080/"
        },
        "id": "w9vTEWBx8jDi",
        "outputId": "b69cd13c-de82-4113-90bd-096c6c5a5587"
      },
      "source": [
        "labels.shape"
      ],
      "execution_count": 36,
      "outputs": [
        {
          "output_type": "execute_result",
          "data": {
            "text/plain": [
              "(7,)"
            ]
          },
          "metadata": {
            "tags": []
          },
          "execution_count": 36
        }
      ]
    },
    {
      "cell_type": "code",
      "metadata": {
        "id": "TArY9R1_EAFi"
      },
      "source": [
        "labels  = test_generator.classes"
      ],
      "execution_count": 39,
      "outputs": []
    },
    {
      "cell_type": "code",
      "metadata": {
        "id": "e4jfxqZEyJ95"
      },
      "source": [
        "from sklearn.metrics import classification_report"
      ],
      "execution_count": 12,
      "outputs": []
    },
    {
      "cell_type": "code",
      "metadata": {
        "id": "pbEIkrkqCOyO"
      },
      "source": [
        "cm = confusion_matrix(labels, predicciones)"
      ],
      "execution_count": 13,
      "outputs": []
    },
    {
      "cell_type": "code",
      "metadata": {
        "colab": {
          "base_uri": "https://localhost:8080/"
        },
        "id": "Xrc6VLMG-4Gt",
        "outputId": "f6c929e9-543f-4240-cf51-473c23b8b361"
      },
      "source": [
        "cm"
      ],
      "execution_count": 14,
      "outputs": [
        {
          "output_type": "execute_result",
          "data": {
            "text/plain": [
              "array([[491,   0,   1,   0,   1,   0,   0],\n",
              "       [  0, 542,   0,   0,   1,   0,   0],\n",
              "       [  3,   0, 518,   0,  10,   7,   0],\n",
              "       [  0,   0,   0, 441,   0,   0,   0],\n",
              "       [  0,   1,  14,   0, 472,  14,   0],\n",
              "       [  1,   1,  11,   1,   9, 534,   1],\n",
              "       [  0,   0,   0,   0,   0,   0, 500]])"
            ]
          },
          "metadata": {
            "tags": []
          },
          "execution_count": 14
        }
      ]
    },
    {
      "cell_type": "code",
      "metadata": {
        "colab": {
          "base_uri": "https://localhost:8080/"
        },
        "id": "yvY5hUeE_BFq",
        "outputId": "aaed9536-2447-4586-c9f0-68429b0786dc"
      },
      "source": [
        "f1_score(labels, predicciones, average='micro')"
      ],
      "execution_count": 15,
      "outputs": [
        {
          "output_type": "execute_result",
          "data": {
            "text/plain": [
              "0.978735310576385"
            ]
          },
          "metadata": {
            "tags": []
          },
          "execution_count": 15
        }
      ]
    },
    {
      "cell_type": "code",
      "metadata": {
        "colab": {
          "base_uri": "https://localhost:8080/"
        },
        "id": "fcEwxFeiHCO2",
        "outputId": "23ec12e4-26d6-4c84-d1b9-a0092f5f5904"
      },
      "source": [
        "f1_score(labels, predicciones, average='macro')"
      ],
      "execution_count": 16,
      "outputs": [
        {
          "output_type": "execute_result",
          "data": {
            "text/plain": [
              "0.9793983987347972"
            ]
          },
          "metadata": {
            "tags": []
          },
          "execution_count": 16
        }
      ]
    },
    {
      "cell_type": "code",
      "metadata": {
        "colab": {
          "base_uri": "https://localhost:8080/"
        },
        "id": "s872HtxkHCXG",
        "outputId": "52f8d31c-e2b8-47e0-9231-7d6eff09b24d"
      },
      "source": [
        "f1_score(labels, predicciones, average='weighted')"
      ],
      "execution_count": 17,
      "outputs": [
        {
          "output_type": "execute_result",
          "data": {
            "text/plain": [
              "0.9787001136030022"
            ]
          },
          "metadata": {
            "tags": []
          },
          "execution_count": 17
        }
      ]
    },
    {
      "cell_type": "code",
      "metadata": {
        "id": "Ds8HnGHOyMXi"
      },
      "source": [
        "target_names = [\"class 0\", \"class 1\", \"class 2\", \"class 3\", \"class 4\", \"class 5\", \"class 6\"]"
      ],
      "execution_count": 18,
      "outputs": []
    },
    {
      "cell_type": "code",
      "metadata": {
        "id": "0FKj49RDEEsw",
        "colab": {
          "base_uri": "https://localhost:8080/"
        },
        "outputId": "894c473b-edcc-44d9-8683-ab2aff1ef974"
      },
      "source": [
        "labels.shape"
      ],
      "execution_count": 19,
      "outputs": [
        {
          "output_type": "execute_result",
          "data": {
            "text/plain": [
              "(3574,)"
            ]
          },
          "metadata": {
            "tags": []
          },
          "execution_count": 19
        }
      ]
    },
    {
      "cell_type": "code",
      "metadata": {
        "id": "6YPP5YDAt92E",
        "colab": {
          "base_uri": "https://localhost:8080/"
        },
        "outputId": "6f37a0a1-9e39-4962-f7fe-9a4c686524c9"
      },
      "source": [
        "len(predicciones)"
      ],
      "execution_count": 20,
      "outputs": [
        {
          "output_type": "execute_result",
          "data": {
            "text/plain": [
              "3574"
            ]
          },
          "metadata": {
            "tags": []
          },
          "execution_count": 20
        }
      ]
    },
    {
      "cell_type": "code",
      "metadata": {
        "id": "uv86NBtiyXOS"
      },
      "source": [
        "visualizer = classification_report(labels, predicciones, target_names=target_names)\n"
      ],
      "execution_count": 21,
      "outputs": []
    },
    {
      "cell_type": "code",
      "metadata": {
        "id": "0AIbk2uADxst",
        "colab": {
          "base_uri": "https://localhost:8080/"
        },
        "outputId": "001d28b3-eb98-4a30-f84b-f3620337769e"
      },
      "source": [
        "print(visualizer)"
      ],
      "execution_count": 22,
      "outputs": [
        {
          "output_type": "stream",
          "text": [
            "              precision    recall  f1-score   support\n",
            "\n",
            "     class 0       0.99      1.00      0.99       493\n",
            "     class 1       1.00      1.00      1.00       543\n",
            "     class 2       0.95      0.96      0.96       538\n",
            "     class 3       1.00      1.00      1.00       441\n",
            "     class 4       0.96      0.94      0.95       501\n",
            "     class 5       0.96      0.96      0.96       558\n",
            "     class 6       1.00      1.00      1.00       500\n",
            "\n",
            "    accuracy                           0.98      3574\n",
            "   macro avg       0.98      0.98      0.98      3574\n",
            "weighted avg       0.98      0.98      0.98      3574\n",
            "\n"
          ],
          "name": "stdout"
        }
      ]
    },
    {
      "cell_type": "code",
      "metadata": {
        "id": "GpgGtAtpJeNJ"
      },
      "source": [
        "pre = np.array(predicciones)\r\n",
        "labe = np.array(labels)"
      ],
      "execution_count": 23,
      "outputs": []
    },
    {
      "cell_type": "code",
      "metadata": {
        "id": "U2MOm1AB-oiL"
      },
      "source": [
        "#np.save('/content/Drive/MyDrive/imágenes convertidas a formato eps/prediction3',pre)\r\n",
        "#np.save('/content/Drive/MyDrive/imágenes convertidas a formato eps/labels3',labe)"
      ],
      "execution_count": 24,
      "outputs": []
    },
    {
      "cell_type": "code",
      "metadata": {
        "id": "WPm2vPc7a3rd"
      },
      "source": [
        "true = labels\n",
        "pred2 = np.copy(predicciones)\n",
        "labels2 = np.arange(7)\n",
        "target_names = list(range(7))"
      ],
      "execution_count": 40,
      "outputs": []
    },
    {
      "cell_type": "code",
      "metadata": {
        "id": "5h-vpmDGSm6Y"
      },
      "source": [
        "clf_report = classification_report(true,\n",
        "                                   pred2,\n",
        "                                   labels=labels2,\n",
        "                                   target_names=target_names,\n",
        "                                   output_dict=True)"
      ],
      "execution_count": 41,
      "outputs": []
    },
    {
      "cell_type": "code",
      "metadata": {
        "id": "ZJjvrmu1bElN",
        "colab": {
          "base_uri": "https://localhost:8080/",
          "height": 487
        },
        "outputId": "f62ec904-fa7d-45ca-8997-8c562ceb69e2"
      },
      "source": [
        "plt.figure(figsize = (10,8))  \r\n",
        "sns.heatmap(pd.DataFrame(clf_report).iloc[:-1, :].T, annot=True,cmap='YlOrRd',linecolor='red')\r\n",
        "plt.savefig('/content/Drive/MyDrive/imágenes convertidas a formato eps/metricas3.eps', format='eps')"
      ],
      "execution_count": 26,
      "outputs": [
        {
          "output_type": "display_data",
          "data": {
            "image/png": "[encoded data removed]",
            "text/plain": [
              "<Figure size 720x576 with 2 Axes>"
            ]
          },
          "metadata": {
            "tags": [],
            "needs_background": "light"
          }
        }
      ]
    },
    {
      "cell_type": "code",
      "metadata": {
        "id": "gmdp05LoIqUZ"
      },
      "source": [
        "y_label = label_binarize(labels, classes=[0,1,2,3,4,5,6])"
      ],
      "execution_count": 42,
      "outputs": []
    },
    {
      "cell_type": "code",
      "metadata": {
        "colab": {
          "base_uri": "https://localhost:8080/"
        },
        "id": "FgGc5KcX8o9e",
        "outputId": "11dc8266-fdff-45e3-ab41-908f58b3c6ad"
      },
      "source": [
        "y_label.shape"
      ],
      "execution_count": 43,
      "outputs": [
        {
          "output_type": "execute_result",
          "data": {
            "text/plain": [
              "(3574, 7)"
            ]
          },
          "metadata": {
            "tags": []
          },
          "execution_count": 43
        }
      ]
    },
    {
      "cell_type": "code",
      "metadata": {
        "id": "_SpSofThHVuB",
        "colab": {
          "base_uri": "https://localhost:8080/",
          "height": 513
        },
        "outputId": "c304426d-698c-4f77-f706-bda6c0b5b626"
      },
      "source": [
        "import scikitplot as skplt\n",
        "skplt.metrics.plot_confusion_matrix(labels, pred2, normalize=True,cmap='gist_stern_r',figsize=(10,8))\n",
        "\n",
        "plt.show()"
      ],
      "execution_count": 77,
      "outputs": [
        {
          "output_type": "display_data",
          "data": {
            "image/png": "[encoded data removed]",
            "text/plain": [
              "<Figure size 720x576 with 2 Axes>"
            ]
          },
          "metadata": {
            "tags": [],
            "needs_background": "light"
          }
        }
      ]
    },
    {
      "cell_type": "code",
      "metadata": {
        "id": "SDfCL4CLSQCR"
      },
      "source": [
        "# 7 Categoires\r\n",
        "n_classes = 7"
      ],
      "execution_count": 45,
      "outputs": []
    },
    {
      "cell_type": "code",
      "metadata": {
        "id": "1PjFpqaWWii6"
      },
      "source": [
        "y_test = pred\r\n",
        "\r\n",
        "lw = 2"
      ],
      "execution_count": 46,
      "outputs": []
    },
    {
      "cell_type": "code",
      "metadata": {
        "id": "3g9y_-FPR0fz"
      },
      "source": [
        "etiqt = np.array(labels)"
      ],
      "execution_count": 47,
      "outputs": []
    },
    {
      "cell_type": "code",
      "metadata": {
        "id": "me57399L-erh"
      },
      "source": [
        "pred2 = label_binarize(predicciones, classes=[0,1,2,3,4,5,6])"
      ],
      "execution_count": 79,
      "outputs": []
    },
    {
      "cell_type": "code",
      "metadata": {
        "colab": {
          "base_uri": "https://localhost:8080/",
          "height": 676
        },
        "id": "6cqsiVXG-VIA",
        "outputId": "51aad634-3c13-4904-9a07-612f46877956"
      },
      "source": [
        "fpr = dict()\r\n",
        "tpr = dict()\r\n",
        "roc_auc2 = dict()\r\n",
        "plt.figure(figsize = (11,11))  \r\n",
        "for i in range(n_classes):\r\n",
        "    fpr[i], tpr[i], _ = roc_curve( y_label[:, i], pred2[:, i])\r\n",
        "    roc_auc2[i] = auc(fpr[i], tpr[i])\r\n",
        "colors = ['blue', 'red', 'green','pink','cyan','purple','orange']\r\n",
        "for i, color in zip(range(n_classes), colors):\r\n",
        "    plt.plot(fpr[i], tpr[i], color=color, lw=lw,\r\n",
        "             label='ROC curve of class {0} (area = {1:0.2f})'\r\n",
        "             ''.format(i, roc_auc2[i]))\r\n",
        "\r\n",
        "plt.plot([0, 1], [0, 1], 'k--', lw=lw)\r\n",
        "plt.xlim([-0.05, 1.0])\r\n",
        "plt.ylim([0.0, 1.1])\r\n",
        "\r\n",
        "plt.xlabel('False Positive Rate')\r\n",
        "plt.ylabel('True Positive Rate')\r\n",
        "plt.title('Roc Curve')\r\n",
        "plt.legend(loc=\"lower right\")\r\n",
        "plt.show()\r\n",
        "#plt.savefig('/content/Drive/MyDrive/imágenes convertidas a formato eps/curva_roc3.eps', format='eps')"
      ],
      "execution_count": 80,
      "outputs": [
        {
          "output_type": "display_data",
          "data": {
            "image/png": "[encoded data removed]",
            "text/plain": [
              "<Figure size 792x792 with 1 Axes>"
            ]
          },
          "metadata": {
            "tags": [],
            "needs_background": "light"
          }
        }
      ]
    },
    {
      "cell_type": "code",
      "metadata": {
        "id": "Jb7bfbXuIqhH",
        "colab": {
          "base_uri": "https://localhost:8080/",
          "height": 516
        },
        "outputId": "753d7a8f-9c24-41fd-d3cc-5ef2450db8ab"
      },
      "source": [
        "fpr = dict()\n",
        "tpr = dict()\n",
        "roc_auc = dict()\n",
        "plt.figure(figsize = (8,8))  \n",
        "for i in range(n_classes):\n",
        "    fpr[i], tpr[i], _ = roc_curve( y_label[:, i], pred[:, i])\n",
        "    roc_auc[i] = auc(fpr[i], tpr[i])\n",
        "colors = ['red','m', 'blue', 'cyan', 'green', 'salmon', 'orange']\n",
        "for i, color in zip(range(n_classes), colors):\n",
        "    plt.plot(fpr[i], tpr[i], color=color, lw=lw,\n",
        "             label='ROC curve of class {0} (area = {1:0.2f})'\n",
        "             ''.format(i, roc_auc2[i]))\n",
        "\n",
        "plt.plot([0, 1], [0, 1], 'k--', lw=lw)\n",
        "plt.xlim([-0.05, 1.0])\n",
        "plt.ylim([0.0, 1.1])\n",
        "\n",
        "plt.xlabel('False Positive Rate')\n",
        "plt.ylabel('True Positive Rate')\n",
        "\n",
        "plt.legend(loc=\"lower right\")\n",
        "\n",
        "#plt.savefig('/content/Drive/MyDrive/imágenes convertidas a formato eps/modelo final_densenet201.eps', format='eps')"
      ],
      "execution_count": 81,
      "outputs": [
        {
          "output_type": "execute_result",
          "data": {
            "text/plain": [
              "<matplotlib.legend.Legend at 0x7eff3944bcc0>"
            ]
          },
          "metadata": {
            "tags": []
          },
          "execution_count": 81
        },
        {
          "output_type": "display_data",
          "data": {
            "image/png": "[encoded data removed]",
            "text/plain": [
              "<Figure size 576x576 with 1 Axes>"
            ]
          },
          "metadata": {
            "tags": [],
            "needs_background": "light"
          }
        }
      ]
    },
    {
      "cell_type": "code",
      "metadata": {
        "id": "kTaWCeObL-wv"
      },
      "source": [
        ""
      ],
      "execution_count": null,
      "outputs": []
    },
    {
      "cell_type": "code",
      "metadata": {
        "id": "KlTNtiQ9zwMA"
      },
      "source": [
        "from sklearn.metrics import confusion_matrix\r\n",
        "from sklearn.metrics import accuracy_score\r\n",
        "from sklearn.metrics import f1_score\r\n",
        "from sklearn.metrics import recall_score\r\n",
        "from sklearn.metrics import precision_score"
      ],
      "execution_count": 49,
      "outputs": []
    },
    {
      "cell_type": "code",
      "metadata": {
        "id": "J3Nz2jeEyWi9"
      },
      "source": [
        "label = ['0','1','2','3','4','5','6']"
      ],
      "execution_count": 50,
      "outputs": []
    },
    {
      "cell_type": "code",
      "metadata": {
        "id": "J2sLIlLnx8Jd"
      },
      "source": [
        "def get_curve(gt, pred, target_names, curve='roc'):\r\n",
        "    for i in range(len(target_names)):\r\n",
        "        if curve == 'roc':\r\n",
        "            curve_function = roc_curve\r\n",
        "            auc_roc = roc_auc_score(gt[:, i], pred[:, i])\r\n",
        "            label = target_names[i] + \" AUC: %.3f \" % auc_roc\r\n",
        "            xlabel = \"False positive rate\"\r\n",
        "            ylabel = \"True positive rate\"\r\n",
        "            a, b, _ = curve_function(gt[:, i], pred[:, i])\r\n",
        "            plt.figure(1, figsize=(7, 7))\r\n",
        "            plt.plot([0, 1], [0, 1], 'k--')\r\n",
        "            plt.plot(a, b, label=label)\r\n",
        "            plt.xlabel(xlabel)\r\n",
        "            plt.ylabel(ylabel)\r\n",
        "\r\n",
        "            plt.legend(loc='upper center', bbox_to_anchor=(1.3, 1),\r\n",
        "                       fancybox=True, ncol=1)\r\n",
        "        elif curve == 'prc':\r\n",
        "            precision, recall, _ = precision_recall_curve(gt[:, i], pred[:, i])\r\n",
        "            average_precision = average_precision_score(gt[:, i], pred[:, i])\r\n",
        "            label = target_names[i] + \" Avg.: %.3f \" % average_precision\r\n",
        "            plt.figure(1, figsize=(7, 7))\r\n",
        "            plt.step(recall, precision, where='post', label=label)\r\n",
        "            plt.xlabel('Recall')\r\n",
        "            plt.ylabel('Precision')\r\n",
        "            plt.ylim([0.0, 1.05])\r\n",
        "            plt.xlim([0.0, 1.0])\r\n",
        "            plt.legend(loc='upper center', bbox_to_anchor=(1.3, 1),\r\n",
        "                       fancybox=True, ncol=1)"
      ],
      "execution_count": 87,
      "outputs": []
    },
    {
      "cell_type": "code",
      "metadata": {
        "id": "o_fyXNYcybbh",
        "colab": {
          "base_uri": "https://localhost:8080/",
          "height": 442
        },
        "outputId": "015a094f-c9f1-4f5c-ec89-47e4a33e21f5"
      },
      "source": [
        "get_curve(y_label, pred, label,curve='roc')"
      ],
      "execution_count": 89,
      "outputs": [
        {
          "output_type": "display_data",
          "data": {
            "image/png": "[encoded data removed]",
            "text/plain": [
              "<Figure size 504x504 with 1 Axes>"
            ]
          },
          "metadata": {
            "tags": [],
            "needs_background": "light"
          }
        }
      ]
    },
    {
      "cell_type": "code",
      "metadata": {
        "id": "-QOHF3W6DCqK"
      },
      "source": [
        "y_score = pred\r\n",
        "y_test = y_label"
      ],
      "execution_count": 56,
      "outputs": []
    },
    {
      "cell_type": "code",
      "metadata": {
        "colab": {
          "base_uri": "https://localhost:8080/",
          "height": 561
        },
        "id": "QFDbqaPy3i1f",
        "outputId": "2c812b2f-c8e4-468a-ffcd-606e4623e26a"
      },
      "source": [
        "# Compute ROC curve and ROC area for each class\r\n",
        "fpr = dict()\r\n",
        "tpr = dict()\r\n",
        "roc_auc = dict()\r\n",
        "for i in range(n_classes):\r\n",
        "    fpr[i], tpr[i], _ = roc_curve(y_test[:, i], y_score[:, i])\r\n",
        "    roc_auc[i] = auc(fpr[i], tpr[i])\r\n",
        "\r\n",
        "# Compute micro-average ROC curve and ROC area\r\n",
        "fpr[\"micro\"], tpr[\"micro\"], _ = roc_curve(y_test.ravel(), y_score.ravel())\r\n",
        "roc_auc[\"micro\"] = auc(fpr[\"micro\"], tpr[\"micro\"])\r\n",
        "\r\n",
        "# Plot of a ROC curve for a specific class\r\n",
        "plt.figure()\r\n",
        "plt.plot(fpr[2], tpr[2], label='ROC curve (area = %0.2f)' % roc_auc[2])\r\n",
        "plt.plot([-0.01, 1.0], [-0.01, 1.0], 'k--')\r\n",
        "plt.xlim([-0.01, 1.0])\r\n",
        "plt.ylim([-0.01, 1.0])\r\n",
        "plt.xlabel('False Positive Rate')\r\n",
        "plt.ylabel('True Positive Rate')\r\n",
        "plt.title('Receiver operating characteristic example')\r\n",
        "plt.legend(loc=\"lower right\")\r\n",
        "plt.show()\r\n",
        "\r\n",
        "# Plot ROC curve\r\n",
        "plt.figure()\r\n",
        "plt.plot(fpr[\"micro\"], tpr[\"micro\"],\r\n",
        "         label='micro-average ROC curve (area = {0:0.2f})'\r\n",
        "               ''.format(roc_auc[\"micro\"]))\r\n",
        "for i in range(n_classes):\r\n",
        "    plt.plot(fpr[i], tpr[i], label='ROC curve of class {0} (area = {1:0.2f})'\r\n",
        "                                   ''.format(i, roc_auc[i]))\r\n",
        "\r\n",
        "#plt.plot([0, 1], [0, 1], 'k--')\r\n",
        "plt.plot([-0.01, 1.0], [-0.01, 1.0], 'k--')\r\n",
        "plt.xlim([-0.01, 1.0])\r\n",
        "plt.ylim([-0.01, 1.0])\r\n",
        "plt.xlabel('False Positive Rate')\r\n",
        "plt.ylabel('True Positive Rate')\r\n",
        "#plt.title('Some extension of Receiver operating characteristic to multi-class')\r\n",
        "plt.legend(loc=\"lower right\")\r\n",
        "#plt.savefig('roc.svg')\r\n",
        "plt.show()"
      ],
      "execution_count": 57,
      "outputs": [
        {
          "output_type": "display_data",
          "data": {
            "image/png": "[encoded data removed]",
            "text/plain": [
              "<Figure size 432x288 with 1 Axes>"
            ]
          },
          "metadata": {
            "tags": [],
            "needs_background": "light"
          }
        },
        {
          "output_type": "display_data",
          "data": {
            "image/png": "[encoded data removed]",
            "text/plain": [
              "<Figure size 432x288 with 1 Axes>"
            ]
          },
          "metadata": {
            "tags": [],
            "needs_background": "light"
          }
        }
      ]
    },
    {
      "cell_type": "code",
      "metadata": {
        "id": "-_pUUY6-Eajz"
      },
      "source": [
        "from scipy.stats import percentileofscore\r\n",
        "\r\n",
        "\r\n",
        "def score_ci(\r\n",
        "    y_true,\r\n",
        "    y_pred,\r\n",
        "    score_fun,\r\n",
        "    n_bootstraps=2000,\r\n",
        "    confidence_level=0.95,\r\n",
        "    seed=None,\r\n",
        "    reject_one_class_samples=True,\r\n",
        "):\r\n",
        "    \"\"\"\r\n",
        "    Compute confidence interval for given score function based on labels and predictions using bootstrapping.\r\n",
        "    :param y_true: 1D list or array of labels.\r\n",
        "    :param y_pred: 1D list or array of predictions corresponding to elements in y_true.\r\n",
        "    :param score_fun: Score function for which confidence interval is computed. (e.g. sklearn.metrics.accuracy_score)\r\n",
        "    :param n_bootstraps: The number of bootstraps. (default: 2000)\r\n",
        "    :param confidence_level: Confidence level for computing confidence interval. (default: 0.95)\r\n",
        "    :param seed: Random seed for reproducibility. (default: None)\r\n",
        "    :param reject_one_class_samples: Whether to reject bootstrapped samples with only one label. For scores like AUC we\r\n",
        "    need at least one positive and one negative sample. (default: True)\r\n",
        "    :return: Score evaluated on labels and predictions, lower confidence interval, upper confidence interval, array of\r\n",
        "    bootstrapped scores.\r\n",
        "    \"\"\"\r\n",
        "\r\n",
        "    assert len(y_true) == len(y_pred)\r\n",
        "\r\n",
        "    score = score_fun(y_true, y_pred)\r\n",
        "    _, ci_lower, ci_upper, scores = score_stat_ci(\r\n",
        "        y_true=y_true,\r\n",
        "        y_preds=y_pred,\r\n",
        "        score_fun=score_fun,\r\n",
        "        n_bootstraps=n_bootstraps,\r\n",
        "        confidence_level=confidence_level,\r\n",
        "        seed=seed,\r\n",
        "        reject_one_class_samples=reject_one_class_samples,\r\n",
        "    )\r\n",
        "\r\n",
        "    return score, ci_lower, ci_upper, scores\r\n",
        "\r\n",
        "\r\n",
        "def score_stat_ci(\r\n",
        "    y_true,\r\n",
        "    y_preds,\r\n",
        "    score_fun,\r\n",
        "    stat_fun=np.mean,\r\n",
        "    n_bootstraps=2000,\r\n",
        "    confidence_level=0.95,\r\n",
        "    seed=None,\r\n",
        "    reject_one_class_samples=True,\r\n",
        "):\r\n",
        "    \"\"\"\r\n",
        "    Compute confidence interval for given statistic of a score function based on labels and predictions using\r\n",
        "    bootstrapping.\r\n",
        "    :param y_true: 1D list or array of labels.\r\n",
        "    :param y_preds: A list of lists or 2D array of predictions corresponding to elements in y_true.\r\n",
        "    :param score_fun: Score function for which confidence interval is computed. (e.g. sklearn.metrics.accuracy_score)\r\n",
        "    :param stat_fun: Statistic for which confidence interval is computed. (e.g. np.mean)\r\n",
        "    :param n_bootstraps: The number of bootstraps. (default: 2000)\r\n",
        "    :param confidence_level: Confidence level for computing confidence interval. (default: 0.95)\r\n",
        "    :param seed: Random seed for reproducibility. (default: None)\r\n",
        "    :param reject_one_class_samples: Whether to reject bootstrapped samples with only one label. For scores like AUC we\r\n",
        "    need at least one positive and one negative sample. (default: True)\r\n",
        "    :return: Mean score statistic evaluated on labels and predictions, lower confidence interval, upper confidence\r\n",
        "    interval, array of bootstrapped scores.\r\n",
        "    \"\"\"\r\n",
        "\r\n",
        "    y_true = np.array(y_true)\r\n",
        "    y_preds = np.atleast_2d(y_preds)\r\n",
        "    assert all(len(y_true) == len(y) for y in y_preds)\r\n",
        "\r\n",
        "    np.random.seed(seed)\r\n",
        "    scores = []\r\n",
        "    for i in range(n_bootstraps):\r\n",
        "        readers = np.random.randint(0, len(y_preds), len(y_preds))\r\n",
        "        indices = np.random.randint(0, len(y_true), len(y_true))\r\n",
        "        if reject_one_class_samples and len(np.unique(y_true[indices])) < 2:\r\n",
        "            continue\r\n",
        "        reader_scores = []\r\n",
        "        for r in readers:\r\n",
        "            reader_scores.append(score_fun(y_true[indices], y_preds[r][indices]))\r\n",
        "        scores.append(stat_fun(reader_scores))\r\n",
        "\r\n",
        "    mean_score = np.mean(scores)\r\n",
        "    sorted_scores = np.array(sorted(scores))\r\n",
        "    alpha = (1.0 - confidence_level) / 2.0\r\n",
        "    ci_lower = sorted_scores[int(round(alpha * len(sorted_scores)))]\r\n",
        "    ci_upper = sorted_scores[int(round((1.0 - alpha) * len(sorted_scores)))]\r\n",
        "    return mean_score, ci_lower, ci_upper, scores\r\n",
        "\r\n",
        "\r\n",
        "def pvalue(\r\n",
        "    y_true,\r\n",
        "    y_pred1,\r\n",
        "    y_pred2,\r\n",
        "    score_fun,\r\n",
        "    n_bootstraps=2000,\r\n",
        "    two_tailed=True,\r\n",
        "    seed=None,\r\n",
        "    reject_one_class_samples=True,\r\n",
        "):\r\n",
        "    \"\"\"\r\n",
        "    Compute p-value for hypothesis that score function for model I predictions is higher than for model II predictions\r\n",
        "    using bootstrapping.\r\n",
        "    :param y_true: 1D list or array of labels.\r\n",
        "    :param y_pred1: 1D list or array of predictions for model I corresponding to elements in y_true.\r\n",
        "    :param y_pred2: 1D list or array of predictions for model II corresponding to elements in y_true.\r\n",
        "    :param score_fun: Score function for which confidence interval is computed. (e.g. sklearn.metrics.accuracy_score)\r\n",
        "    :param n_bootstraps: The number of bootstraps. (default: 2000)\r\n",
        "    :param two_tailed: Whether to use two-tailed test. (default: True)\r\n",
        "    :param seed: Random seed for reproducibility. (default: None)\r\n",
        "    :param reject_one_class_samples: Whether to reject bootstrapped samples with only one label. For scores like AUC we\r\n",
        "    need at least one positive and one negative sample. (default: True)\r\n",
        "    :return: Computed p-value, array of bootstrapped differences of scores.\r\n",
        "    \"\"\"\r\n",
        "\r\n",
        "    assert len(y_true) == len(y_pred1)\r\n",
        "    assert len(y_true) == len(y_pred2)\r\n",
        "\r\n",
        "    return pvalue_stat(\r\n",
        "        y_true=y_true,\r\n",
        "        y_preds1=y_pred1,\r\n",
        "        y_preds2=y_pred2,\r\n",
        "        score_fun=score_fun,\r\n",
        "        n_bootstraps=n_bootstraps,\r\n",
        "        two_tailed=two_tailed,\r\n",
        "        seed=seed,\r\n",
        "        reject_one_class_samples=reject_one_class_samples,\r\n",
        "    )\r\n",
        "\r\n",
        "\r\n",
        "def pvalue_stat(\r\n",
        "    y_true,\r\n",
        "    y_preds1,\r\n",
        "    y_preds2,\r\n",
        "    score_fun,\r\n",
        "    stat_fun=np.mean,\r\n",
        "    n_bootstraps=2000,\r\n",
        "    two_tailed=True,\r\n",
        "    seed=None,\r\n",
        "    reject_one_class_samples=True,\r\n",
        "):\r\n",
        "    \"\"\"\r\n",
        "    Compute p-value for hypothesis that given statistic of score function for model I predictions is higher than for\r\n",
        "    model II predictions using bootstrapping.\r\n",
        "    :param y_true: 1D list or array of labels.\r\n",
        "    :param y_preds1: A list of lists or 2D array of predictions for model I corresponding to elements in y_true.\r\n",
        "    :param y_preds2: A list of lists or 2D array of predictions for model II corresponding to elements in y_true.\r\n",
        "    :param score_fun: Score function for which confidence interval is computed. (e.g. sklearn.metrics.accuracy_score)\r\n",
        "    :param stat_fun: Statistic for which p-value is computed. (e.g. np.mean)\r\n",
        "    :param n_bootstraps: The number of bootstraps. (default: 2000)\r\n",
        "    :param two_tailed: Whether to use two-tailed test. (default: True)\r\n",
        "    :param seed: Random seed for reproducibility. (default: None)\r\n",
        "    :param reject_one_class_samples: Whether to reject bootstrapped samples with only one label. For scores like AUC we\r\n",
        "    need at least one positive and one negative sample. (default: True)\r\n",
        "    :return: Computed p-value, array of bootstrapped differences of scores.\r\n",
        "    \"\"\"\r\n",
        "\r\n",
        "    y_true = np.array(y_true)\r\n",
        "    y_preds1 = np.atleast_2d(y_preds1)\r\n",
        "    y_preds2 = np.atleast_2d(y_preds2)\r\n",
        "    assert all(len(y_true) == len(y) for y in y_preds1)\r\n",
        "    assert all(len(y_true) == len(y) for y in y_preds2)\r\n",
        "\r\n",
        "    np.random.seed(seed)\r\n",
        "    z = []\r\n",
        "    for i in range(n_bootstraps):\r\n",
        "        readers1 = np.random.randint(0, len(y_preds1), len(y_preds1))\r\n",
        "        readers2 = np.random.randint(0, len(y_preds2), len(y_preds2))\r\n",
        "        indices = np.random.randint(0, len(y_true), len(y_true))\r\n",
        "        if reject_one_class_samples and len(np.unique(y_true[indices])) < 2:\r\n",
        "            continue\r\n",
        "        reader_scores = []\r\n",
        "        for r in readers1:\r\n",
        "            reader_scores.append(score_fun(y_true[indices], y_preds1[r][indices]))\r\n",
        "        score1 = stat_fun(reader_scores)\r\n",
        "        reader_scores = []\r\n",
        "        for r in readers2:\r\n",
        "            reader_scores.append(score_fun(y_true[indices], y_preds2[r][indices]))\r\n",
        "        score2 = stat_fun(reader_scores)\r\n",
        "        z.append(score1 - score2)\r\n",
        "\r\n",
        "    p = percentileofscore(z, 0.0, kind=\"weak\") / 100.0\r\n",
        "    if two_tailed:\r\n",
        "        p *= 2.0\r\n",
        "    return p, z"
      ],
      "execution_count": 59,
      "outputs": []
    },
    {
      "cell_type": "code",
      "metadata": {
        "id": "OSZgjcNKyDOb"
      },
      "source": [
        "y_true = y_label\r\n",
        "y_pred = pred"
      ],
      "execution_count": 60,
      "outputs": []
    },
    {
      "cell_type": "code",
      "metadata": {
        "id": "uM98YxfNEdnp"
      },
      "source": [
        "from sklearn.metrics import roc_auc_score\r\n",
        "# AUC with 95% confidence interval for a single model\r\n",
        "\r\n",
        "score, ci_lower, ci_upper, scores = score_ci(y_true[:, i], y_pred[:, i], \r\n",
        "                                                       score_fun=roc_auc_score,\r\n",
        "                                                       seed=42)"
      ],
      "execution_count": 61,
      "outputs": []
    },
    {
      "cell_type": "code",
      "metadata": {
        "colab": {
          "base_uri": "https://localhost:8080/",
          "height": 284
        },
        "id": "lXQqThnCEgP5",
        "outputId": "1266845c-fab6-4d9d-fc10-ebb0062e0024"
      },
      "source": [
        "bins = plt.hist(scores)\r\n",
        "plt.plot([score, score], [0, np.max(bins[0])], color=\"tomato\")\r\n",
        "plt.plot([ci_lower, ci_lower], [0, np.max(bins[0])], color=\"lime\")\r\n",
        "plt.plot([ci_upper, ci_upper], [0, np.max(bins[0])], color=\"lime\")\r\n",
        "print(\"AUC={:.2f}, 95% CI: {:.2f}-{:.2f}\".format(score, ci_lower, ci_upper))"
      ],
      "execution_count": 62,
      "outputs": [
        {
          "output_type": "stream",
          "text": [
            "AUC=1.00, 95% CI: 1.00-1.00\n"
          ],
          "name": "stdout"
        },
        {
          "output_type": "display_data",
          "data": {
            "image/png": "[encoded data removed]",
            "text/plain": [
              "<Figure size 432x288 with 1 Axes>"
            ]
          },
          "metadata": {
            "tags": [],
            "needs_background": "light"
          }
        }
      ]
    },
    {
      "cell_type": "code",
      "metadata": {
        "id": "gv7GVOAFNqMS"
      },
      "source": [
        "# AUC with 95% confidence interval for a single model\r\n",
        "\r\n",
        "score, ci_lower, ci_upper, scores = score_ci(y_true[:, 0], y_pred[:, 0], \r\n",
        "                                                       score_fun=roc_auc_score,\r\n",
        "                                                       seed=42)"
      ],
      "execution_count": 63,
      "outputs": []
    },
    {
      "cell_type": "code",
      "metadata": {
        "colab": {
          "base_uri": "https://localhost:8080/",
          "height": 297
        },
        "id": "Ke8UmwzMNsvF",
        "outputId": "09fe1db8-7fb6-49db-b7dc-3183d600e02b"
      },
      "source": [
        "bins = plt.hist(scores)\r\n",
        "plt.plot([score, score], [0, np.max(bins[0])], color=\"tomato\")\r\n",
        "plt.plot([ci_lower, ci_lower], [0, np.max(bins[0])], color=\"lime\")\r\n",
        "plt.plot([ci_upper, ci_upper], [0, np.max(bins[0])], color=\"lime\")\r\n",
        "print(\"AUC={:.2f}, 95% CI: {:.2f}-{:.2f}\".format(score, ci_lower, ci_upper))"
      ],
      "execution_count": 64,
      "outputs": [
        {
          "output_type": "stream",
          "text": [
            "AUC=1.00, 95% CI: 1.00-1.00\n"
          ],
          "name": "stdout"
        },
        {
          "output_type": "display_data",
          "data": {
            "image/png": "[encoded data removed]",
            "text/plain": [
              "<Figure size 432x288 with 1 Axes>"
            ]
          },
          "metadata": {
            "tags": [],
            "needs_background": "light"
          }
        }
      ]
    },
    {
      "cell_type": "code",
      "metadata": {
        "id": "lrifP7U5NOOQ"
      },
      "source": [
        "# AUC with 95% confidence interval for a single model\r\n",
        "\r\n",
        "score, ci_lower, ci_upper, scores = score_ci(y_true[:, 1], y_pred[:, 1], \r\n",
        "                                                       score_fun=roc_auc_score,\r\n",
        "                                                       seed=42)"
      ],
      "execution_count": 65,
      "outputs": []
    },
    {
      "cell_type": "code",
      "metadata": {
        "colab": {
          "base_uri": "https://localhost:8080/",
          "height": 297
        },
        "id": "gDGzyedkNQgY",
        "outputId": "712f3089-b9db-4819-fd4f-b32f310410b4"
      },
      "source": [
        "bins = plt.hist(scores)\r\n",
        "plt.plot([score, score], [0, np.max(bins[0])], color=\"tomato\")\r\n",
        "plt.plot([ci_lower, ci_lower], [0, np.max(bins[0])], color=\"lime\")\r\n",
        "plt.plot([ci_upper, ci_upper], [0, np.max(bins[0])], color=\"lime\")\r\n",
        "print(\"AUC={:.2f}, 95% CI: {:.2f}-{:.2f}\".format(score, ci_lower, ci_upper))"
      ],
      "execution_count": 66,
      "outputs": [
        {
          "output_type": "stream",
          "text": [
            "AUC=1.00, 95% CI: 1.00-1.00\n"
          ],
          "name": "stdout"
        },
        {
          "output_type": "display_data",
          "data": {
            "image/png": "[encoded data removed]",
            "text/plain": [
              "<Figure size 432x288 with 1 Axes>"
            ]
          },
          "metadata": {
            "tags": [],
            "needs_background": "light"
          }
        }
      ]
    },
    {
      "cell_type": "code",
      "metadata": {
        "id": "B2CWcj7fNU4B"
      },
      "source": [
        "# AUC with 95% confidence interval for a single model\r\n",
        "\r\n",
        "score, ci_lower, ci_upper, scores = score_ci(y_true[:, 2], y_pred[:, 2], \r\n",
        "                                                       score_fun=roc_auc_score,\r\n",
        "                                                       seed=42)"
      ],
      "execution_count": 67,
      "outputs": []
    },
    {
      "cell_type": "code",
      "metadata": {
        "colab": {
          "base_uri": "https://localhost:8080/",
          "height": 284
        },
        "id": "T3MBoU4JNWpk",
        "outputId": "73d8f959-fb7d-4d5b-8035-b1b56d1b11cb"
      },
      "source": [
        "bins = plt.hist(scores)\r\n",
        "plt.plot([score, score], [0, np.max(bins[0])], color=\"tomato\")\r\n",
        "plt.plot([ci_lower, ci_lower], [0, np.max(bins[0])], color=\"lime\")\r\n",
        "plt.plot([ci_upper, ci_upper], [0, np.max(bins[0])], color=\"lime\")\r\n",
        "print(\"AUC={:.2f}, 95% CI: {:.2f}-{:.2f}\".format(score, ci_lower, ci_upper))"
      ],
      "execution_count": 68,
      "outputs": [
        {
          "output_type": "stream",
          "text": [
            "AUC=1.00, 95% CI: 1.00-1.00\n"
          ],
          "name": "stdout"
        },
        {
          "output_type": "display_data",
          "data": {
            "image/png": "[encoded data removed]",
            "text/plain": [
              "<Figure size 432x288 with 1 Axes>"
            ]
          },
          "metadata": {
            "tags": [],
            "needs_background": "light"
          }
        }
      ]
    },
    {
      "cell_type": "code",
      "metadata": {
        "id": "nlNY8UvDNvBd"
      },
      "source": [
        "# AUC with 95% confidence interval for a single model\r\n",
        "\r\n",
        "score, ci_lower, ci_upper, scores = score_ci(y_true[:, 3], y_pred[:, 3], \r\n",
        "                                                       score_fun=roc_auc_score,\r\n",
        "                                                       seed=42)"
      ],
      "execution_count": 69,
      "outputs": []
    },
    {
      "cell_type": "code",
      "metadata": {
        "colab": {
          "base_uri": "https://localhost:8080/",
          "height": 297
        },
        "id": "K1ftniJmOBJH",
        "outputId": "cffaf83d-fb9c-44f4-f501-2a27148e00f8"
      },
      "source": [
        "bins = plt.hist(scores)\r\n",
        "plt.plot([score, score], [0, np.max(bins[0])], color=\"tomato\")\r\n",
        "plt.plot([ci_lower, ci_lower], [0, np.max(bins[0])], color=\"lime\")\r\n",
        "plt.plot([ci_upper, ci_upper], [0, np.max(bins[0])], color=\"lime\")\r\n",
        "print(\"AUC={:.2f}, 95% CI: {:.2f}-{:.2f}\".format(score, ci_lower, ci_upper))"
      ],
      "execution_count": 70,
      "outputs": [
        {
          "output_type": "stream",
          "text": [
            "AUC=1.00, 95% CI: 1.00-1.00\n"
          ],
          "name": "stdout"
        },
        {
          "output_type": "display_data",
          "data": {
            "image/png": "[encoded data removed]",
            "text/plain": [
              "<Figure size 432x288 with 1 Axes>"
            ]
          },
          "metadata": {
            "tags": [],
            "needs_background": "light"
          }
        }
      ]
    },
    {
      "cell_type": "code",
      "metadata": {
        "id": "Vb6X5EreNyA3"
      },
      "source": [
        "# AUC with 95% confidence interval for a single model\r\n",
        "\r\n",
        "score, ci_lower, ci_upper, scores = score_ci(y_true[:, 4], y_pred[:, 4], \r\n",
        "                                                       score_fun=roc_auc_score,\r\n",
        "                                                       seed=42)"
      ],
      "execution_count": 71,
      "outputs": []
    },
    {
      "cell_type": "code",
      "metadata": {
        "colab": {
          "base_uri": "https://localhost:8080/",
          "height": 284
        },
        "id": "V-exYEEDN8wr",
        "outputId": "e5ad8e57-b7c9-4c9c-dc2d-a7c627682721"
      },
      "source": [
        "bins = plt.hist(scores)\r\n",
        "plt.plot([score, score], [0, np.max(bins[0])], color=\"tomato\")\r\n",
        "plt.plot([ci_lower, ci_lower], [0, np.max(bins[0])], color=\"lime\")\r\n",
        "plt.plot([ci_upper, ci_upper], [0, np.max(bins[0])], color=\"lime\")\r\n",
        "print(\"AUC={:.2f}, 95% CI: {:.2f}-{:.2f}\".format(score, ci_lower, ci_upper))"
      ],
      "execution_count": 72,
      "outputs": [
        {
          "output_type": "stream",
          "text": [
            "AUC=1.00, 95% CI: 0.99-1.00\n"
          ],
          "name": "stdout"
        },
        {
          "output_type": "display_data",
          "data": {
            "image/png": "[encoded data removed]",
            "text/plain": [
              "<Figure size 432x288 with 1 Axes>"
            ]
          },
          "metadata": {
            "tags": [],
            "needs_background": "light"
          }
        }
      ]
    },
    {
      "cell_type": "code",
      "metadata": {
        "id": "Nk19MvPtN3rk"
      },
      "source": [
        "# AUC with 95% confidence interval for a single model\r\n",
        "\r\n",
        "score, ci_lower, ci_upper, scores = score_ci(y_true[:, 5], y_pred[:, 5], \r\n",
        "                                                       score_fun=roc_auc_score,\r\n",
        "                                                       seed=42)"
      ],
      "execution_count": 73,
      "outputs": []
    },
    {
      "cell_type": "code",
      "metadata": {
        "colab": {
          "base_uri": "https://localhost:8080/",
          "height": 284
        },
        "id": "5ivCUVoTOGtX",
        "outputId": "620c9c0b-0fa9-4f6a-a4a4-cb3deefa4cb2"
      },
      "source": [
        "bins = plt.hist(scores)\r\n",
        "plt.plot([score, score], [0, np.max(bins[0])], color=\"tomato\")\r\n",
        "plt.plot([ci_lower, ci_lower], [0, np.max(bins[0])], color=\"lime\")\r\n",
        "plt.plot([ci_upper, ci_upper], [0, np.max(bins[0])], color=\"lime\")\r\n",
        "print(\"AUC={:.2f}, 95% CI: {:.2f}-{:.2f}\".format(score, ci_lower, ci_upper))"
      ],
      "execution_count": 74,
      "outputs": [
        {
          "output_type": "stream",
          "text": [
            "AUC=1.00, 95% CI: 1.00-1.00\n"
          ],
          "name": "stdout"
        },
        {
          "output_type": "display_data",
          "data": {
            "image/png": "[encoded data removed]",
            "text/plain": [
              "<Figure size 432x288 with 1 Axes>"
            ]
          },
          "metadata": {
            "tags": [],
            "needs_background": "light"
          }
        }
      ]
    },
    {
      "cell_type": "code",
      "metadata": {
        "id": "TVTWtFePN5CY"
      },
      "source": [
        "# AUC with 95% confidence interval for a single model\r\n",
        "\r\n",
        "score, ci_lower, ci_upper, scores = score_ci(y_true[:, 6], y_pred[:, 6], \r\n",
        "                                                       score_fun=roc_auc_score,\r\n",
        "                                                       seed=42)"
      ],
      "execution_count": 75,
      "outputs": []
    },
    {
      "cell_type": "code",
      "metadata": {
        "colab": {
          "base_uri": "https://localhost:8080/",
          "height": 284
        },
        "id": "YTFLxTsLOIBD",
        "outputId": "2e86b60c-5336-40ef-bcfd-b64cd63c587d"
      },
      "source": [
        "bins = plt.hist(scores)\r\n",
        "plt.plot([score, score], [0, np.max(bins[0])], color=\"tomato\")\r\n",
        "plt.plot([ci_lower, ci_lower], [0, np.max(bins[0])], color=\"lime\")\r\n",
        "plt.plot([ci_upper, ci_upper], [0, np.max(bins[0])], color=\"lime\")\r\n",
        "print(\"AUC={:.2f}, 95% CI: {:.2f}-{:.2f}\".format(score, ci_lower, ci_upper))"
      ],
      "execution_count": 76,
      "outputs": [
        {
          "output_type": "stream",
          "text": [
            "AUC=1.00, 95% CI: 1.00-1.00\n"
          ],
          "name": "stdout"
        },
        {
          "output_type": "display_data",
          "data": {
            "image/png": "[encoded data removed]",
            "text/plain": [
              "<Figure size 432x288 with 1 Axes>"
            ]
          },
          "metadata": {
            "tags": [],
            "needs_background": "light"
          }
        }
      ]
    },
    {
      "cell_type": "markdown",
      "metadata": {
        "id": "_TqyAEyuvZwz"
      },
      "source": [
        "Load model"
      ]
    },
    {
      "cell_type": "code",
      "metadata": {
        "id": "5mZ_kAQ4EOcy"
      },
      "source": [
        "modelFT = load_model('/content/Drive/My Drive/HAM10000/model_final_prueba.h5')"
      ],
      "execution_count": 7,
      "outputs": []
    },
    {
      "cell_type": "code",
      "metadata": {
        "id": "9NayMOcW2GLt"
      },
      "source": [
        "modelFT = load_model('/content/Drive/MyDrive/modelos Ham10000/modelo final_Densenet201.h5')"
      ],
      "execution_count": null,
      "outputs": []
    },
    {
      "cell_type": "code",
      "metadata": {
        "id": "QmIGFYh0EfAL"
      },
      "source": [
        "test_lost, test_acc= modelFT.evaluate(test_generator)\n",
        "print (\"Test Accuracy:\", test_acc)"
      ],
      "execution_count": null,
      "outputs": []
    },
    {
      "cell_type": "code",
      "metadata": {
        "id": "OpwwKZaYNm6U"
      },
      "source": [
        ""
      ],
      "execution_count": null,
      "outputs": []
    }
  ]
}