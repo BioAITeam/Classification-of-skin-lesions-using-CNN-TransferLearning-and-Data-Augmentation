{
  "nbformat": 4,
  "nbformat_minor": 0,
  "metadata": {
    "colab": {
      "name": "GUARDANDO EN CARPETAS IMAGENES_DERMATOLOGICAS Y AUMENTO DE DATOS",
      "provenance": [],
      "collapsed_sections": []
    },
    "kernelspec": {
      "name": "python3",
      "display_name": "Python 3"
    }
  },
  "cells": [
    {
      "cell_type": "markdown",
      "metadata": {
        "id": "M2Nq8M585VvK"
      },
      "source": [
        "## Cargar librerias y Google Drive"
      ]
    },
    {
      "cell_type": "code",
      "metadata": {
        "id": "RljatW2krcrA"
      },
      "source": [
        "import pandas as pd\n",
        "import matplotlib.pyplot as plt\n",
        "import seaborn as sns\n",
        "import glob, os.path,os\n",
        "import matplotlib.pyplot as plt\n",
        "import numpy as np\n",
        "import tensorflow as tf\n",
        "from tensorflow.keras.utils import to_categorical\n",
        "import cv2"
      ],
      "execution_count": null,
      "outputs": []
    },
    {
      "cell_type": "code",
      "metadata": {
        "id": "-Yo6wjaSswYP",
        "colab": {
          "base_uri": "https://localhost:8080/",
          "height": 122
        },
        "outputId": "46294c3e-6ae3-4f99-bd86-3943a634e86d"
      },
      "source": [
        "from google.colab import drive\n",
        "drive.mount('/content/Drive')  # importar datos desde el drive"
      ],
      "execution_count": null,
      "outputs": [
        {
          "output_type": "stream",
          "text": [
            "Go to this URL in a browser: https://accounts.google.com/o/oauth2/auth?client_id=947318989803-6bn6qk8qdgf4n4g3pfee6491hc0brc4i.apps.googleusercontent.com&redirect_uri=urn%3aietf%3awg%3aoauth%3a2.0%3aoob&scope=email%20https%3a%2f%2fwww.googleapis.com%2fauth%2fdocs.test%20https%3a%2f%2fwww.googleapis.com%2fauth%2fdrive%20https%3a%2f%2fwww.googleapis.com%2fauth%2fdrive.photos.readonly%20https%3a%2f%2fwww.googleapis.com%2fauth%2fpeopleapi.readonly&response_type=code\n",
            "\n",
            "Enter your authorization code:\n",
            "··········\n",
            "Mounted at /content/Drive\n"
          ],
          "name": "stdout"
        }
      ]
    },
    {
      "cell_type": "code",
      "metadata": {
        "id": "bWwTZwLSs16W"
      },
      "source": [
        "import sys\n",
        "sys.path.append('/content/drive/')\n",
        "from google.colab.patches import cv2_imshow # libreria para poder ver las imagenes en google colap"
      ],
      "execution_count": null,
      "outputs": []
    },
    {
      "cell_type": "markdown",
      "metadata": {
        "id": "baguAEV6hUlg"
      },
      "source": [
        "#Leer la Base de Datos y Crear Etiquetas"
      ]
    },
    {
      "cell_type": "code",
      "metadata": {
        "id": "WK14sE2-tCjc"
      },
      "source": [
        "etiquetas = pd.read_csv('/content/Drive/My Drive/HAM10000/Etiquetas.csv')"
      ],
      "execution_count": null,
      "outputs": []
    },
    {
      "cell_type": "code",
      "metadata": {
        "id": "dPunZiN0tNYl",
        "colab": {
          "base_uri": "https://localhost:8080/",
          "height": 255
        },
        "outputId": "f4bc0d8f-9685-47ea-9028-a3375921d148"
      },
      "source": [
        "print(etiquetas)"
      ],
      "execution_count": null,
      "outputs": [
        {
          "output_type": "stream",
          "text": [
            "       Unnamed: 0      image_id     dx\n",
            "0               0  ISIC_0027419    bkl\n",
            "1               1  ISIC_0025030    bkl\n",
            "2               2  ISIC_0026769    bkl\n",
            "3               3  ISIC_0025661    bkl\n",
            "4               4  ISIC_0031633    bkl\n",
            "...           ...           ...    ...\n",
            "10010       10010  ISIC_0033084  akiec\n",
            "10011       10011  ISIC_0033550  akiec\n",
            "10012       10012  ISIC_0033536  akiec\n",
            "10013       10013  ISIC_0032854  akiec\n",
            "10014       10014  ISIC_0032258    mel\n",
            "\n",
            "[10015 rows x 3 columns]\n"
          ],
          "name": "stdout"
        }
      ]
    },
    {
      "cell_type": "code",
      "metadata": {
        "id": "CrkaKJpGtURk",
        "colab": {
          "base_uri": "https://localhost:8080/",
          "height": 153
        },
        "outputId": "e8a1c22d-7dca-44bf-a45e-0b7e5f221653"
      },
      "source": [
        "etiquetas['dx'].value_counts()"
      ],
      "execution_count": null,
      "outputs": [
        {
          "output_type": "execute_result",
          "data": {
            "text/plain": [
              "nv       6705\n",
              "mel      1113\n",
              "bkl      1099\n",
              "bcc       514\n",
              "akiec     327\n",
              "vasc      142\n",
              "df        115\n",
              "Name: dx, dtype: int64"
            ]
          },
          "metadata": {
            "tags": []
          },
          "execution_count": 5
        }
      ]
    },
    {
      "cell_type": "code",
      "metadata": {
        "id": "DwnsMuUAvFnu",
        "colab": {
          "base_uri": "https://localhost:8080/",
          "height": 85
        },
        "outputId": "e83b6f1a-daca-44de-b6ad-62f122a42475"
      },
      "source": [
        "print(etiquetas.isna().sum())"
      ],
      "execution_count": null,
      "outputs": [
        {
          "output_type": "stream",
          "text": [
            "Unnamed: 0    0\n",
            "image_id      0\n",
            "dx            0\n",
            "dtype: int64\n"
          ],
          "name": "stdout"
        }
      ]
    },
    {
      "cell_type": "code",
      "metadata": {
        "id": "MldSz8HsySdL"
      },
      "source": [
        "label = etiquetas['dx']\n"
      ],
      "execution_count": null,
      "outputs": []
    },
    {
      "cell_type": "code",
      "metadata": {
        "id": "mf3mbTCQ0ILE",
        "colab": {
          "base_uri": "https://localhost:8080/",
          "height": 34
        },
        "outputId": "2b6197b7-5e10-4d00-9e93-e88d811c83b4"
      },
      "source": [
        "print(label[105])"
      ],
      "execution_count": null,
      "outputs": [
        {
          "output_type": "stream",
          "text": [
            "bkl\n"
          ],
          "name": "stdout"
        }
      ]
    },
    {
      "cell_type": "code",
      "metadata": {
        "id": "XvoCoXNvvMyQ"
      },
      "source": [
        "for i in range(0,10015):\n",
        "   if label[i] == 'nv':\n",
        "     label[i]=0\n",
        "   if label[i] == 'mel':\n",
        "     label[i]=1\n",
        "   if label[i] == 'bkl':\n",
        "     label[i]= 2\n",
        "   if label[i] == 'bcc':\n",
        "     label[i]= 1\n",
        "   if label[i] == 'akiec':\n",
        "     label[i]= 1\n",
        "   if label[i] == 'vasc':\n",
        "     label[i]=2\n",
        "   if label[i] == 'df':\n",
        "     label[i]=2"
      ],
      "execution_count": null,
      "outputs": []
    },
    {
      "cell_type": "code",
      "metadata": {
        "id": "CcKyHgfi0hIy",
        "colab": {
          "base_uri": "https://localhost:8080/",
          "height": 85
        },
        "outputId": "a1a673bb-b2de-47e1-b2b0-9f6b07792ff6"
      },
      "source": [
        "label.value_counts()"
      ],
      "execution_count": null,
      "outputs": [
        {
          "output_type": "execute_result",
          "data": {
            "text/plain": [
              "0    6705\n",
              "1    1954\n",
              "2    1356\n",
              "Name: dx, dtype: int64"
            ]
          },
          "metadata": {
            "tags": []
          },
          "execution_count": 61
        }
      ]
    },
    {
      "cell_type": "code",
      "metadata": {
        "id": "dpTyq-DIuD7X",
        "colab": {
          "base_uri": "https://localhost:8080/",
          "height": 34
        },
        "outputId": "0a84afd2-26b3-455d-fbe2-096c17db707f"
      },
      "source": [
        "print('total training cat images :', len(glob.glob('/content/Drive/My Drive/HAM10000/Base de Datos/*')))"
      ],
      "execution_count": null,
      "outputs": [
        {
          "output_type": "stream",
          "text": [
            "total training cat images : 10015\n"
          ],
          "name": "stdout"
        }
      ]
    },
    {
      "cell_type": "code",
      "metadata": {
        "id": "6mLhADiqxbRj"
      },
      "source": [
        "# datos = '/content/Drive/My Drive/HAM10000/Base de Datos'"
      ],
      "execution_count": null,
      "outputs": []
    },
    {
      "cell_type": "code",
      "metadata": {
        "id": "e83z67kH2zCC"
      },
      "source": [
        "datos = glob.glob('/content/Drive/My Drive/HAM10000/Base de Datos/*')"
      ],
      "execution_count": null,
      "outputs": []
    },
    {
      "cell_type": "code",
      "metadata": {
        "id": "hxsavCN_5MNV"
      },
      "source": [
        "print(datos[1])"
      ],
      "execution_count": null,
      "outputs": []
    },
    {
      "cell_type": "code",
      "metadata": {
        "id": "roRCuW8-7HK3"
      },
      "source": [
        "images = etiquetas['image_id']"
      ],
      "execution_count": null,
      "outputs": []
    },
    {
      "cell_type": "code",
      "metadata": {
        "id": "e0Vj2j7k8E3f",
        "colab": {
          "base_uri": "https://localhost:8080/",
          "height": 34
        },
        "outputId": "8f2af2fe-7382-4642-8504-1fc1fa9d14b2"
      },
      "source": [
        "print(images[0])"
      ],
      "execution_count": null,
      "outputs": [
        {
          "output_type": "stream",
          "text": [
            "ISIC_0027419\n"
          ],
          "name": "stdout"
        }
      ]
    },
    {
      "cell_type": "code",
      "metadata": {
        "id": "_7NXOBjS8Zcs",
        "colab": {
          "base_uri": "https://localhost:8080/",
          "height": 34
        },
        "outputId": "ad3918f1-bfd8-482f-b941-881c5fbd3235"
      },
      "source": [
        "print(images[10014])"
      ],
      "execution_count": null,
      "outputs": [
        {
          "output_type": "stream",
          "text": [
            "ISIC_0032258\n"
          ],
          "name": "stdout"
        }
      ]
    },
    {
      "cell_type": "code",
      "metadata": {
        "id": "RzyIErokDd3u",
        "colab": {
          "base_uri": "https://localhost:8080/",
          "height": 34
        },
        "outputId": "9b4b347d-2f2b-4928-f652-f3a75eeac647"
      },
      "source": [
        "a =  os.path.join( \"/content/Drive/My Drive/HAM10000/Base de Datos/\"+images[1] + \".jpg\")\n",
        "print(a)"
      ],
      "execution_count": null,
      "outputs": [
        {
          "output_type": "stream",
          "text": [
            "/content/Drive/My Drive/HAM10000/Base de Datos/ISIC_0025030.jpg\n"
          ],
          "name": "stdout"
        }
      ]
    },
    {
      "cell_type": "code",
      "metadata": {
        "id": "Sy3ujZAUEg1z",
        "colab": {
          "base_uri": "https://localhost:8080/",
          "height": 286
        },
        "outputId": "b606701c-d9e4-4005-bcd8-d72b1141c671"
      },
      "source": [
        " imj = cv2.imread(a)\n",
        " plt.imshow(imj)"
      ],
      "execution_count": null,
      "outputs": [
        {
          "output_type": "execute_result",
          "data": {
            "text/plain": [
              "<matplotlib.image.AxesImage at 0x7fb194a300b8>"
            ]
          },
          "metadata": {
            "tags": []
          },
          "execution_count": 70
        },
        {
          "output_type": "display_data",
          "data": {
            "image/png": "[encoded data removed]",
            "text/plain": [
              "<Figure size 432x288 with 1 Axes>"
            ]
          },
          "metadata": {
            "tags": [],
            "needs_background": "light"
          }
        }
      ]
    },
    {
      "cell_type": "code",
      "metadata": {
        "id": "iqpa4ZH1FwZR"
      },
      "source": [
        " imj = cv2.imread(datos[1])\n",
        " cv2_imshow(imj)"
      ],
      "execution_count": null,
      "outputs": []
    },
    {
      "cell_type": "code",
      "metadata": {
        "id": "2Fj8CPm87_O7",
        "colab": {
          "base_uri": "https://localhost:8080/",
          "height": 34
        },
        "outputId": "3a560d41-02b5-41a4-81e2-35fed91913e7"
      },
      "source": [
        "label[1] == 'nv'"
      ],
      "execution_count": null,
      "outputs": [
        {
          "output_type": "execute_result",
          "data": {
            "text/plain": [
              "False"
            ]
          },
          "metadata": {
            "tags": []
          },
          "execution_count": 13
        }
      ]
    },
    {
      "cell_type": "code",
      "metadata": {
        "id": "I7JPwAtw8f0n"
      },
      "source": [
        "con =0\n",
        "con1 =0\n",
        "for i in range(0,10015):\n",
        "   b =  os.path.join(\"/content/Drive/My Drive/HAM10000/Base de Datos/\"+images[i]+\".jpg\")\n",
        "   imj = cv2.imread(b)\n",
        "   if label[i] == \"0\":\n",
        "      con+=1\n",
        "      j= str(con)\n",
        "      cv2.imwrite(os.path.join('/content/Drive/My Drive/HAM10000/Base De Datos Clasificados./Temp/Benigno',\"img\" + j +\".jpg\"),imj)\n",
        "\n",
        "\n",
        "   if label[i] == \"1\":\n",
        "      con1+=1\n",
        "      j= str(con1)\n",
        "      cv2.imwrite(os.path.join('/content/Drive/My Drive/HAM10000/Base De Datos Clasificados./Temp/Maligno',\"img\" + j +\".jpg\"),imj)\n"
      ],
      "execution_count": null,
      "outputs": []
    },
    {
      "cell_type": "code",
      "metadata": {
        "id": "0PEuCOHLcWLl"
      },
      "source": [
        "benigno = glob.glob('/content/Drive/My Drive/HAM10000/Base De Datos Clasificados./Temp/Benigno/*')"
      ],
      "execution_count": null,
      "outputs": []
    },
    {
      "cell_type": "code",
      "metadata": {
        "id": "VochkHh8s9N6"
      },
      "source": [
        " \n",
        " imj = cv2.imread(benigno[0])\n",
        " cv2_imshow(imj)"
      ],
      "execution_count": null,
      "outputs": []
    },
    {
      "cell_type": "code",
      "metadata": {
        "id": "w4dB68oZtDVr"
      },
      "source": [
        "print('total training cat images :', len(glob.glob('/content/Drive/My Drive/HAM10000/Base De Datos Clasificados./Temp/Benigno/*')))"
      ],
      "execution_count": null,
      "outputs": []
    },
    {
      "cell_type": "code",
      "metadata": {
        "id": "64W05kY2uCMg"
      },
      "source": [
        "print(6704 % 3 )"
      ],
      "execution_count": null,
      "outputs": []
    },
    {
      "cell_type": "code",
      "metadata": {
        "id": "AAdPf5Ab66V8"
      },
      "source": [
        ""
      ],
      "execution_count": null,
      "outputs": []
    },
    {
      "cell_type": "code",
      "metadata": {
        "id": "HyGdymB2tMz3"
      },
      "source": [
        "con =0\n",
        "for i in range(0,6704):\n",
        "   imj = cv2.imread(benigno[i])\n",
        "   if i % 3 == 0:\n",
        "      con+=1\n",
        "      j= str(con)\n",
        "      cv2.imwrite(os.path.join('/content/Drive/My Drive/HAM10000/Base De Datos Clasificados./Temp/Benigno2',\"img\" + j +\".jpg\"),imj)\n"
      ],
      "execution_count": null,
      "outputs": []
    },
    {
      "cell_type": "code",
      "metadata": {
        "id": "uF637C4IuqCe"
      },
      "source": [
        "print('total training cat images :', len(glob.glob('/content/Drive/My Drive/HAM10000/Base De Datos Clasificados./Train/Benigno/*')))"
      ],
      "execution_count": null,
      "outputs": []
    },
    {
      "cell_type": "code",
      "metadata": {
        "id": "YGqdfnHmBE83"
      },
      "source": [
        "print('total training cat images :', len(glob.glob('/content/Drive/My Drive/HAM10000/Base De Datos Clasificados./Validation/Benigno/*')))"
      ],
      "execution_count": null,
      "outputs": []
    },
    {
      "cell_type": "code",
      "metadata": {
        "id": "fq3DlO8IBFhg"
      },
      "source": [
        "print('total training cat images :', len(glob.glob('/content/Drive/My Drive/HAM10000/Base De Datos Clasificados./Text/Benigno/*')))"
      ],
      "execution_count": null,
      "outputs": []
    },
    {
      "cell_type": "code",
      "metadata": {
        "id": "tSkiu8XOuv-u"
      },
      "source": [
        "print('total training cat images :', len(glob.glob('/content/Drive/My Drive/HAM10000/Base De Datos Clasificados./Train/Maligno/*')))"
      ],
      "execution_count": null,
      "outputs": []
    },
    {
      "cell_type": "code",
      "metadata": {
        "id": "kG9IhSgnviXf"
      },
      "source": [
        "print('total training cat images :', len(glob.glob('/content/Drive/My Drive/HAM10000/Base De Datos Clasificados./Validation/Maligno/*')))"
      ],
      "execution_count": null,
      "outputs": []
    },
    {
      "cell_type": "code",
      "metadata": {
        "id": "8AuOiM2bBWi5"
      },
      "source": [
        "print('total training cat images :', len(glob.glob('/content/Drive/My Drive/HAM10000/Base De Datos Clasificados./Text/Maligno/*')))"
      ],
      "execution_count": null,
      "outputs": []
    },
    {
      "cell_type": "code",
      "metadata": {
        "id": "2c-TMR7GPkGM"
      },
      "source": [
        "print('total training cat images :', len(glob.glob('/content/Drive/My Drive/HAM10000/Base De Datos Pre-Procesada y Aumentada/Train/Benigno/*')))"
      ],
      "execution_count": null,
      "outputs": []
    },
    {
      "cell_type": "markdown",
      "metadata": {
        "id": "1GoQHi9829b2"
      },
      "source": [
        "Benigno  Vz Melanoma"
      ]
    },
    {
      "cell_type": "code",
      "metadata": {
        "id": "d3wdtWm87eti"
      },
      "source": [
        "con =0\n",
        "con1 =0\n",
        "for i in range(0,10015):\n",
        "   b =  os.path.join(\"/content/Drive/My Drive/HAM10000/Base de Datos/\"+images[i]+\".jpg\")\n",
        "   imj = cv2.imread(b)\n",
        "   if label[i] == 'nv':\n",
        "      con+=1\n",
        "      j= str(con)\n",
        "      cv2.imwrite(os.path.join('/content/Drive/My Drive/HAM10000/Benigno_Vz_Melanoma/Train /Benigno',\"img\" + j +\".jpg\"),imj)\n",
        "\n",
        "   if label[i] == 'mel':\n",
        "      con1+=1\n",
        "      j= str(con1)\n",
        "      cv2.imwrite(os.path.join('/content/Drive/My Drive/HAM10000/Benigno_Vz_Melanoma/Train /Maligno',\"img\" + j +\".jpg\"),imj)\n",
        "\n",
        "\n"
      ],
      "execution_count": null,
      "outputs": []
    },
    {
      "cell_type": "code",
      "metadata": {
        "id": "hhH0nyoQBCwy"
      },
      "source": [
        "print('total training Benigno images :', len(glob.glob('/content/Drive/My Drive/HAM10000/Benigno_Vz_Melanoma/Train /Benigno/*')))"
      ],
      "execution_count": null,
      "outputs": []
    },
    {
      "cell_type": "code",
      "metadata": {
        "id": "qKAndp0WBFNK"
      },
      "source": [
        "print('total training Melanoma images :', len(glob.glob('/content/Drive/My Drive/HAM10000/Benigno_Vz_Melanoma/Train /Maligno/*')))"
      ],
      "execution_count": null,
      "outputs": []
    },
    {
      "cell_type": "markdown",
      "metadata": {
        "id": "TjUWU1uQgzHT"
      },
      "source": [
        "#Dividir toda la Base de Datos(7 Categorias)"
      ]
    },
    {
      "cell_type": "code",
      "metadata": {
        "id": "ZFvLGvYhg8Vi"
      },
      "source": [
        "con =0\n",
        "con1 =0\n",
        "con2 =0\n",
        "con3 =0\n",
        "con4 =0\n",
        "con5 =0\n",
        "con6 =0\n",
        "\n",
        "for i in range(0,10015):\n",
        "   b =  os.path.join(\"/content/Drive/My Drive/HAM10000/Base de Datos/\"+images[i]+\".jpg\")\n",
        "   imj = cv2.imread(b)\n",
        "   if label[i] == 'nv'  :\n",
        "      con+=1\n",
        "      j= str(con)\n",
        "      cv2.imwrite(os.path.join('/content/Drive/My Drive/HAM10000/Base de Datos_Clasificada/Train/nv',\"img\" + j +\".jpg\"),imj)\n",
        "\n",
        "   if label[i] == 'vasc'  :\n",
        "      con1+=1\n",
        "      j= str(con1)\n",
        "      cv2.imwrite(os.path.join('/content/Drive/My Drive/HAM10000/Base de Datos_Clasificada/Train/vasc',\"img\" + j +\".jpg\"),imj)\n",
        "\n",
        "   if label[i] == 'bkl'  :\n",
        "      con2+=1\n",
        "      j= str(con2)\n",
        "      cv2.imwrite(os.path.join('/content/Drive/My Drive/HAM10000/Base de Datos_Clasificada/Train/bkl',\"img\" + j +\".jpg\"),imj)\n",
        "\n",
        "   if label[i] == 'df'  :\n",
        "      con3+=1\n",
        "      j= str(con3)\n",
        "      cv2.imwrite(os.path.join('/content/Drive/My Drive/HAM10000/Base de Datos_Clasificada/Train/df',\"img\" + j +\".jpg\"),imj)\n",
        "\n",
        "   if label[i] == 'akiec'  :\n",
        "      con4+=1\n",
        "      j= str(con4)\n",
        "      cv2.imwrite(os.path.join('/content/Drive/My Drive/HAM10000/Base de Datos_Clasificada/Train/akiec',\"img\" + j +\".jpg\"),imj)\n",
        "\n",
        "   if label[i] == 'mel'  :\n",
        "      con5+=1\n",
        "      j= str(con5)\n",
        "      cv2.imwrite(os.path.join('/content/Drive/My Drive/HAM10000/Base de Datos_Clasificada/Train/mel',\"img\" + j +\".jpg\"),imj)\n",
        "\n",
        "   if label[i] == 'bcc'  :\n",
        "      con6+=1\n",
        "      j= str(con6)\n",
        "      cv2.imwrite(os.path.join('/content/Drive/My Drive/HAM10000/Base de Datos_Clasificada/Train/bcc',\"img\" + j +\".jpg\"),imj)\n",
        "\n"
      ],
      "execution_count": null,
      "outputs": []
    },
    {
      "cell_type": "code",
      "metadata": {
        "id": "XddvxlMqn2-p",
        "colab": {
          "base_uri": "https://localhost:8080/",
          "height": 34
        },
        "outputId": "96e94cf8-c2ca-4dc9-e2e0-57477dcb7fc4"
      },
      "source": [
        "print('total training Benigno images :', len(glob.glob('/content/Drive/My Drive/HAM10000/Base de Datos_Clasificada/Train/nv/*')))"
      ],
      "execution_count": null,
      "outputs": [
        {
          "output_type": "stream",
          "text": [
            "total training Benigno images : 6705\n"
          ],
          "name": "stdout"
        }
      ]
    },
    {
      "cell_type": "code",
      "metadata": {
        "id": "_eMeyitXn3Ow",
        "colab": {
          "base_uri": "https://localhost:8080/",
          "height": 34
        },
        "outputId": "ea355b1c-6e28-4bb7-bdac-26caf43b767b"
      },
      "source": [
        "print('total training Benigno images :', len(glob.glob('//content/Drive/My Drive/HAM10000/Base de Datos_Clasificada/Train/vasc/*')))"
      ],
      "execution_count": null,
      "outputs": [
        {
          "output_type": "stream",
          "text": [
            "total training Benigno images : 142\n"
          ],
          "name": "stdout"
        }
      ]
    },
    {
      "cell_type": "code",
      "metadata": {
        "id": "H9A59oJJn3dF",
        "colab": {
          "base_uri": "https://localhost:8080/",
          "height": 34
        },
        "outputId": "b841fee6-1cd0-4277-e85a-078a442951b0"
      },
      "source": [
        "print('total training Benigno images :', len(glob.glob('/content/Drive/My Drive/HAM10000/Base de Datos_Clasificada/Train/bkl/*')))"
      ],
      "execution_count": null,
      "outputs": [
        {
          "output_type": "stream",
          "text": [
            "total training Benigno images : 1099\n"
          ],
          "name": "stdout"
        }
      ]
    },
    {
      "cell_type": "code",
      "metadata": {
        "id": "-9_gizAan3pJ",
        "colab": {
          "base_uri": "https://localhost:8080/",
          "height": 34
        },
        "outputId": "1e85766b-9e6d-4377-9030-fc191b2fd0f6"
      },
      "source": [
        "print('total training Benigno images :', len(glob.glob('/content/Drive/My Drive/HAM10000/Base de Datos_Clasificada/Train/df/*')))"
      ],
      "execution_count": null,
      "outputs": [
        {
          "output_type": "stream",
          "text": [
            "total training Benigno images : 115\n"
          ],
          "name": "stdout"
        }
      ]
    },
    {
      "cell_type": "code",
      "metadata": {
        "id": "pwCUaKSKn34o",
        "colab": {
          "base_uri": "https://localhost:8080/",
          "height": 34
        },
        "outputId": "8be728e7-fae6-4f5e-8850-bdb3d4e9c2f5"
      },
      "source": [
        "print('total training Benigno images :', len(glob.glob('/content/Drive/My Drive/HAM10000/Base de Datos_Clasificada/Train/akiec/*')))"
      ],
      "execution_count": null,
      "outputs": [
        {
          "output_type": "stream",
          "text": [
            "total training Benigno images : 327\n"
          ],
          "name": "stdout"
        }
      ]
    },
    {
      "cell_type": "code",
      "metadata": {
        "id": "2Y0Wrmc8n4HA",
        "colab": {
          "base_uri": "https://localhost:8080/",
          "height": 34
        },
        "outputId": "b031b979-4812-4e8d-d208-57be8f8bc4ae"
      },
      "source": [
        "print('total training Benigno images :', len(glob.glob('/content/Drive/My Drive/HAM10000/Base de Datos_Clasificada/Train/mel/*')))"
      ],
      "execution_count": null,
      "outputs": [
        {
          "output_type": "stream",
          "text": [
            "total training Benigno images : 1113\n"
          ],
          "name": "stdout"
        }
      ]
    },
    {
      "cell_type": "code",
      "metadata": {
        "id": "kCb0KpqLn4VB",
        "colab": {
          "base_uri": "https://localhost:8080/",
          "height": 34
        },
        "outputId": "0c2dba7b-ad7e-4d34-c5a9-28f144b79dc8"
      },
      "source": [
        "print('total training Benigno images :', len(glob.glob('/content/Drive/My Drive/HAM10000/Base de Datos_Clasificada/Train/bcc/*')))"
      ],
      "execution_count": null,
      "outputs": [
        {
          "output_type": "stream",
          "text": [
            "total training Benigno images : 514\n"
          ],
          "name": "stdout"
        }
      ]
    },
    {
      "cell_type": "markdown",
      "metadata": {
        "id": "0oL2y-6eu_7S"
      },
      "source": [
        "División de la base de datos(Train,validation y text)"
      ]
    },
    {
      "cell_type": "code",
      "metadata": {
        "id": "VpPee3Xguw8h"
      },
      "source": [
        "train_vasc = glob.glob('/content/Drive/My Drive/HAM10000/Base de Datos_Clasificada/Train/vasc/*')"
      ],
      "execution_count": null,
      "outputs": []
    },
    {
      "cell_type": "code",
      "metadata": {
        "id": "5xmosjrxvGJu"
      },
      "source": [
        "a = 0\n",
        "b = 0\n",
        "c = 0\n",
        "b1 =0\n",
        "c1 =0\n",
        "c2 =0\n",
        "for element in train_vasc:\n",
        "    a = a+1\n",
        "    b = b +1\n",
        "    c = c+1\n",
        "    src = cv2.imread(element)\n",
        "\n",
        "    if b!=6 and c!=12  :\n",
        "        c2 = c2+1\n",
        "        j3= str(c2)\n",
        "        cv2.imwrite(os.path.join('/content/Drive/My Drive/HAM10000/Base de Datos_Clasificada/Train_Final/vasc',\"img\" + j3 +\".jpg\"),src)\n",
        "\n",
        "    if b == 6 and c == 12 :\n",
        "        b = b-1\n",
        "\n",
        "    if b == 6 :\n",
        "        b=0\n",
        "        b1 = b1+1\n",
        "        j1= str(b1)\n",
        "        cv2.imwrite(os.path.join('/content/Drive/My Drive/HAM10000/Base de Datos_Clasificada/Validation/vasc',\"img\" + j1 +\".jpg\"),src)\n",
        "    if c == 12 :\n",
        "        c=0\n",
        "        c1 = c1+1\n",
        "        j2= str(c1)\n",
        "        cv2.imwrite(os.path.join('/content/Drive/My Drive/HAM10000/Base de Datos_Clasificada/Text/vasc',\"img\" + j2 +\".jpg\"),src)\n",
        "\n"
      ],
      "execution_count": null,
      "outputs": []
    },
    {
      "cell_type": "code",
      "metadata": {
        "id": "gWLeV2lAxml9",
        "colab": {
          "base_uri": "https://localhost:8080/",
          "height": 68
        },
        "outputId": "ede7dac5-9005-45b1-a132-f7d31b13df8f"
      },
      "source": [
        "print('total training Benigno images :', len(glob.glob('/content/Drive/My Drive/HAM10000/Base de Datos_Clasificada/Train_Final/vasc/*')))\n",
        "print('total training Benigno images :', len(glob.glob('/content/Drive/My Drive/HAM10000/Base de Datos_Clasificada/Validation/vasc/*')))\n",
        "print('total training Benigno images :', len(glob.glob('/content/Drive/My Drive/HAM10000/Base de Datos_Clasificada/Text/vasc/*')))"
      ],
      "execution_count": null,
      "outputs": [
        {
          "output_type": "stream",
          "text": [
            "total training Benigno images : 108\n",
            "total training Benigno images : 23\n",
            "total training Benigno images : 11\n"
          ],
          "name": "stdout"
        }
      ]
    },
    {
      "cell_type": "code",
      "metadata": {
        "id": "eJsYbQfVvKdt"
      },
      "source": [
        "train_nv = glob.glob('/content/Drive/My Drive/HAM10000/Base de Datos_Clasificada/Train/nv/*')"
      ],
      "execution_count": null,
      "outputs": []
    },
    {
      "cell_type": "code",
      "metadata": {
        "id": "ORCzzAKgwrye"
      },
      "source": [
        "a = 0\n",
        "b = 0\n",
        "c = 0\n",
        "b1 =0\n",
        "c1 =0\n",
        "c2 =0\n",
        "for element in train_nv:\n",
        "    a = a+1\n",
        "    b = b +1\n",
        "    c = c+1\n",
        "    src = cv2.imread(element)\n",
        "\n",
        "    if b!=6 and c!=12  :\n",
        "        c2 = c2+1\n",
        "        j3= str(c2)\n",
        "        cv2.imwrite(os.path.join('/content/Drive/My Drive/HAM10000/Base de Datos_Clasificada/Train_Final/nv',\"img\" + j3 +\".jpg\"),src)\n",
        "\n",
        "    if b == 6 and c == 12 :\n",
        "        b = b-1\n",
        "\n",
        "    if b == 6 :\n",
        "        b=0\n",
        "        b1 = b1+1\n",
        "        j1= str(b1)\n",
        "        cv2.imwrite(os.path.join('/content/Drive/My Drive/HAM10000/Base de Datos_Clasificada/Validation/nv',\"img\" + j1 +\".jpg\"),src)\n",
        "    if c == 12 :\n",
        "        c=0\n",
        "        c1 = c1+1\n",
        "        j2= str(c1)\n",
        "        cv2.imwrite(os.path.join('/content/Drive/My Drive/HAM10000/Base de Datos_Clasificada/Text/nv',\"img\" + j2 +\".jpg\"),src)\n"
      ],
      "execution_count": null,
      "outputs": []
    },
    {
      "cell_type": "code",
      "metadata": {
        "id": "VKMfQoc1xo_e",
        "colab": {
          "base_uri": "https://localhost:8080/",
          "height": 68
        },
        "outputId": "e05dfaa0-23f2-42ee-de2f-ecdd1bb295cb"
      },
      "source": [
        "print('total training Benigno images :', len(glob.glob('/content/Drive/My Drive/HAM10000/Base de Datos_Clasificada/Train_Final/nv/*')))\n",
        "print('total training Benigno images :', len(glob.glob('/content/Drive/My Drive/HAM10000/Base de Datos_Clasificada/Validation/nv/*')))\n",
        "print('total training Benigno images :', len(glob.glob('/content/Drive/My Drive/HAM10000/Base de Datos_Clasificada/Text/nv/*')))"
      ],
      "execution_count": null,
      "outputs": [
        {
          "output_type": "stream",
          "text": [
            "total training Benigno images : 5030\n",
            "total training Benigno images : 1117\n",
            "total training Benigno images : 558\n"
          ],
          "name": "stdout"
        }
      ]
    },
    {
      "cell_type": "code",
      "metadata": {
        "id": "wdvRUG5YwuZl"
      },
      "source": [
        "train_bkl = glob.glob('/content/Drive/My Drive/HAM10000/Base de Datos_Clasificada/Train/bkl/*')"
      ],
      "execution_count": null,
      "outputs": []
    },
    {
      "cell_type": "code",
      "metadata": {
        "id": "Axk3wpM-xTt5"
      },
      "source": [
        "a = 0\n",
        "b = 0\n",
        "c = 0\n",
        "b1 =0\n",
        "c1 =0\n",
        "c2 =0\n",
        "for element in train_bkl:\n",
        "    a = a+1\n",
        "    b = b +1\n",
        "    c = c+1\n",
        "    src = cv2.imread(element)\n",
        "\n",
        "    if b!=6 and c!=12  :\n",
        "        c2 = c2+1\n",
        "        j3= str(c2)\n",
        "        cv2.imwrite(os.path.join('/content/Drive/My Drive/HAM10000/Base de Datos_Clasificada/Train_Final/bkl',\"img\" + j3 +\".jpg\"),src)\n",
        "\n",
        "    if b == 6 and c == 12 :\n",
        "        b = b-1\n",
        "\n",
        "    if b == 6 :\n",
        "        b=0\n",
        "        b1 = b1+1\n",
        "        j1= str(b1)\n",
        "        cv2.imwrite(os.path.join('/content/Drive/My Drive/HAM10000/Base de Datos_Clasificada/Validation/bkl',\"img\" + j1 +\".jpg\"),src)\n",
        "    if c == 12 :\n",
        "        c=0\n",
        "        c1 = c1+1\n",
        "        j2= str(c1)\n",
        "        cv2.imwrite(os.path.join('/content/Drive/My Drive/HAM10000/Base de Datos_Clasificada/Text/bkl',\"img\" + j2 +\".jpg\"),src)\n"
      ],
      "execution_count": null,
      "outputs": []
    },
    {
      "cell_type": "code",
      "metadata": {
        "id": "NZa_23_fxrMv",
        "colab": {
          "base_uri": "https://localhost:8080/",
          "height": 68
        },
        "outputId": "c9fccafc-a3f0-41a4-bdc0-3c4207d57e0a"
      },
      "source": [
        "print('total training Benigno images :', len(glob.glob('/content/Drive/My Drive/HAM10000/Base de Datos_Clasificada/Train_Final/bkl/*')))\n",
        "print('total training Benigno images :', len(glob.glob('/content/Drive/My Drive/HAM10000/Base de Datos_Clasificada/Validation/bkl/*')))\n",
        "print('total training Benigno images :', len(glob.glob('/content/Drive/My Drive/HAM10000/Base de Datos_Clasificada/Text/bkl/*')))"
      ],
      "execution_count": null,
      "outputs": [
        {
          "output_type": "stream",
          "text": [
            "total training Benigno images : 825\n",
            "total training Benigno images : 183\n",
            "total training Benigno images : 91\n"
          ],
          "name": "stdout"
        }
      ]
    },
    {
      "cell_type": "code",
      "metadata": {
        "id": "Ewi7D0m6zOl5"
      },
      "source": [
        "train_df = glob.glob('/content/Drive/My Drive/HAM10000/Base de Datos_Clasificada/Train/df/*')"
      ],
      "execution_count": null,
      "outputs": []
    },
    {
      "cell_type": "code",
      "metadata": {
        "id": "AoslmOD8zRBC"
      },
      "source": [
        "a = 0\n",
        "b = 0\n",
        "c = 0\n",
        "b1 =0\n",
        "c1 =0\n",
        "c2 =0\n",
        "for element in train_df:\n",
        "    a = a+1\n",
        "    b = b +1\n",
        "    c = c+1\n",
        "    src = cv2.imread(element)\n",
        "\n",
        "    if b!=6 and c!=12  :\n",
        "        c2 = c2+1\n",
        "        j3= str(c2)\n",
        "        cv2.imwrite(os.path.join('/content/Drive/My Drive/HAM10000/Base de Datos_Clasificada/Train_Final/df',\"img\" + j3 +\".jpg\"),src)\n",
        "\n",
        "    if b == 6 and c == 12 :\n",
        "        b = b-1\n",
        "\n",
        "    if b == 6 :\n",
        "        b=0\n",
        "        b1 = b1+1\n",
        "        j1= str(b1)\n",
        "        cv2.imwrite(os.path.join('/content/Drive/My Drive/HAM10000/Base de Datos_Clasificada/Validation/df',\"img\" + j1 +\".jpg\"),src)\n",
        "    if c == 12 :\n",
        "        c=0\n",
        "        c1 = c1+1\n",
        "        j2= str(c1)\n",
        "        cv2.imwrite(os.path.join('/content/Drive/My Drive/HAM10000/Base de Datos_Clasificada/Text/df',\"img\" + j2 +\".jpg\"),src)"
      ],
      "execution_count": null,
      "outputs": []
    },
    {
      "cell_type": "code",
      "metadata": {
        "id": "7rhTfjQGzTJr",
        "colab": {
          "base_uri": "https://localhost:8080/",
          "height": 68
        },
        "outputId": "d41a31ed-76b0-479c-9088-1772fe702554"
      },
      "source": [
        "print('total training Benigno images :', len(glob.glob('/content/Drive/My Drive/HAM10000/Base de Datos_Clasificada/Train_Final/df/*')))\n",
        "print('total training Benigno images :', len(glob.glob('/content/Drive/My Drive/HAM10000/Base de Datos_Clasificada/Validation/df/*')))\n",
        "print('total training Benigno images :', len(glob.glob('/content/Drive/My Drive/HAM10000/Base de Datos_Clasificada/Text/df/*')))"
      ],
      "execution_count": null,
      "outputs": [
        {
          "output_type": "stream",
          "text": [
            "total training Benigno images : 87\n",
            "total training Benigno images : 19\n",
            "total training Benigno images : 9\n"
          ],
          "name": "stdout"
        }
      ]
    },
    {
      "cell_type": "code",
      "metadata": {
        "id": "wTZALxTL1w-N"
      },
      "source": [
        "train_akiec = glob.glob('/content/Drive/My Drive/HAM10000/Base de Datos_Clasificada/Train/akiec/*')"
      ],
      "execution_count": null,
      "outputs": []
    },
    {
      "cell_type": "code",
      "metadata": {
        "id": "Q3yWO-7k1zJq"
      },
      "source": [
        "a = 0\n",
        "b = 0\n",
        "c = 0\n",
        "b1 =0\n",
        "c1 =0\n",
        "c2 =0\n",
        "for element in train_akiec:\n",
        "    a = a+1\n",
        "    b = b +1\n",
        "    c = c+1\n",
        "    src = cv2.imread(element)\n",
        "\n",
        "    if b!=6 and c!=12  :\n",
        "        c2 = c2+1\n",
        "        j3= str(c2)\n",
        "        cv2.imwrite(os.path.join('/content/Drive/My Drive/HAM10000/Base de Datos_Clasificada/Train_Final/akiec',\"img\" + j3 +\".jpg\"),src)\n",
        "\n",
        "    if b == 6 and c == 12 :\n",
        "        b = b-1\n",
        "\n",
        "    if b == 6 :\n",
        "        b=0\n",
        "        b1 = b1+1\n",
        "        j1= str(b1)\n",
        "        cv2.imwrite(os.path.join('/content/Drive/My Drive/HAM10000/Base de Datos_Clasificada/Validation/akiec',\"img\" + j1 +\".jpg\"),src)\n",
        "    if c == 12 :\n",
        "        c=0\n",
        "        c1 = c1+1\n",
        "        j2= str(c1)\n",
        "        cv2.imwrite(os.path.join('/content/Drive/My Drive/HAM10000/Base de Datos_Clasificada/Text/akiec',\"img\" + j2 +\".jpg\"),src)"
      ],
      "execution_count": null,
      "outputs": []
    },
    {
      "cell_type": "code",
      "metadata": {
        "id": "yUMjlJ1413M1",
        "colab": {
          "base_uri": "https://localhost:8080/",
          "height": 68
        },
        "outputId": "02b00d92-40c3-4be9-84f4-aef156608136"
      },
      "source": [
        "print('total training Benigno images :', len(glob.glob('/content/Drive/My Drive/HAM10000/Base de Datos_Clasificada/Train_Final/akiec/*')))\n",
        "print('total training Benigno images :', len(glob.glob('/content/Drive/My Drive/HAM10000/Base de Datos_Clasificada/Validation/akiec/*')))\n",
        "print('total training Benigno images :', len(glob.glob('/content/Drive/My Drive/HAM10000/Base de Datos_Clasificada/Text/akiec/*')))"
      ],
      "execution_count": null,
      "outputs": [
        {
          "output_type": "stream",
          "text": [
            "total training Benigno images : 246\n",
            "total training Benigno images : 54\n",
            "total training Benigno images : 27\n"
          ],
          "name": "stdout"
        }
      ]
    },
    {
      "cell_type": "code",
      "metadata": {
        "id": "5C5ylnFo2Tyt"
      },
      "source": [
        "train_mel = glob.glob('/content/Drive/My Drive/HAM10000/Base de Datos_Clasificada/Train/mel/*')"
      ],
      "execution_count": null,
      "outputs": []
    },
    {
      "cell_type": "code",
      "metadata": {
        "id": "mGdq8h8L2UCp"
      },
      "source": [
        "a = 0\n",
        "b = 0\n",
        "c = 0\n",
        "b1 =0\n",
        "c1 =0\n",
        "c2 =0\n",
        "for element in train_mel:\n",
        "    a = a+1\n",
        "    b = b +1\n",
        "    c = c+1\n",
        "    src = cv2.imread(element)\n",
        "\n",
        "    if b!=6 and c!=12  :\n",
        "        c2 = c2+1\n",
        "        j3= str(c2)\n",
        "        cv2.imwrite(os.path.join('/content/Drive/My Drive/HAM10000/Base de Datos_Clasificada/Train_Final/mel',\"img\" + j3 +\".jpg\"),src)\n",
        "\n",
        "    if b == 6 and c == 12 :\n",
        "        b = b-1\n",
        "\n",
        "    if b == 6 :\n",
        "        b=0\n",
        "        b1 = b1+1\n",
        "        j1= str(b1)\n",
        "        cv2.imwrite(os.path.join('/content/Drive/My Drive/HAM10000/Base de Datos_Clasificada/Validation/mel',\"img\" + j1 +\".jpg\"),src)\n",
        "    if c == 12 :\n",
        "        c=0\n",
        "        c1 = c1+1\n",
        "        j2= str(c1)\n",
        "        cv2.imwrite(os.path.join('/content/Drive/My Drive/HAM10000/Base de Datos_Clasificada/Text/mel',\"img\" + j2 +\".jpg\"),src)"
      ],
      "execution_count": null,
      "outputs": []
    },
    {
      "cell_type": "code",
      "metadata": {
        "id": "9J-12yDz2UTz",
        "colab": {
          "base_uri": "https://localhost:8080/",
          "height": 68
        },
        "outputId": "58620b4f-aa0c-4b40-de8a-695c1a5b4698"
      },
      "source": [
        "print('total training Benigno images :', len(glob.glob('/content/Drive/My Drive/HAM10000/Base de Datos_Clasificada/Train_Final/mel/*')))\n",
        "print('total training Benigno images :', len(glob.glob('/content/Drive/My Drive/HAM10000/Base de Datos_Clasificada/Validation/mel/*')))\n",
        "print('total training Benigno images :', len(glob.glob('/content/Drive/My Drive/HAM10000/Base de Datos_Clasificada/Text/mel/*')))"
      ],
      "execution_count": null,
      "outputs": [
        {
          "output_type": "stream",
          "text": [
            "total training Benigno images : 836\n",
            "total training Benigno images : 185\n",
            "total training Benigno images : 92\n"
          ],
          "name": "stdout"
        }
      ]
    },
    {
      "cell_type": "code",
      "metadata": {
        "id": "sgiWj9T32Uld"
      },
      "source": [
        "train_bcc = glob.glob('/content/Drive/My Drive/HAM10000/Base de Datos_Clasificada/Train/bcc/*')"
      ],
      "execution_count": null,
      "outputs": []
    },
    {
      "cell_type": "code",
      "metadata": {
        "id": "LR_m7jaA2Uy0"
      },
      "source": [
        "a = 0\n",
        "b = 0\n",
        "c = 0\n",
        "b1 =0\n",
        "c1 =0\n",
        "c2 =0\n",
        "for element in train_bcc:\n",
        "    a = a+1\n",
        "    b = b +1\n",
        "    c = c+1\n",
        "    src = cv2.imread(element)\n",
        "\n",
        "    if b!=6 and c!=12  :\n",
        "        c2 = c2+1\n",
        "        j3= str(c2)\n",
        "        cv2.imwrite(os.path.join('/content/Drive/My Drive/HAM10000/Base de Datos_Clasificada/Train_Final/bcc',\"img\" + j3 +\".jpg\"),src)\n",
        "\n",
        "    if b == 6 and c == 12 :\n",
        "        b = b-1\n",
        "\n",
        "    if b == 6 :\n",
        "        b=0\n",
        "        b1 = b1+1\n",
        "        j1= str(b1)\n",
        "        cv2.imwrite(os.path.join('/content/Drive/My Drive/HAM10000/Base de Datos_Clasificada/Validation/bcc',\"img\" + j1 +\".jpg\"),src)\n",
        "    if c == 12 :\n",
        "        c=0\n",
        "        c1 = c1+1\n",
        "        j2= str(c1)\n",
        "        cv2.imwrite(os.path.join('/content/Drive/My Drive/HAM10000/Base de Datos_Clasificada/Text/bcc',\"img\" + j2 +\".jpg\"),src)"
      ],
      "execution_count": null,
      "outputs": []
    },
    {
      "cell_type": "code",
      "metadata": {
        "id": "nbig-8JX2VDx",
        "colab": {
          "base_uri": "https://localhost:8080/",
          "height": 68
        },
        "outputId": "d536240f-f199-4ba0-ed27-f47f27739205"
      },
      "source": [
        "print('total training Benigno images :', len(glob.glob('/content/Drive/My Drive/HAM10000/Base de Datos_Clasificada/Train_Final/bcc/*')))\n",
        "print('total training Benigno images :', len(glob.glob('/content/Drive/My Drive/HAM10000/Base de Datos_Clasificada/Validation/bcc/*')))\n",
        "print('total training Benigno images :', len(glob.glob('/content/Drive/My Drive/HAM10000/Base de Datos_Clasificada/Text/bcc/*')))"
      ],
      "execution_count": null,
      "outputs": [
        {
          "output_type": "stream",
          "text": [
            "total training Benigno images : 387\n",
            "total training Benigno images : 85\n",
            "total training Benigno images : 42\n"
          ],
          "name": "stdout"
        }
      ]
    },
    {
      "cell_type": "markdown",
      "metadata": {
        "id": "53UYehROD5q1"
      },
      "source": [
        "#7 Categorias__Regularización de los Datos"
      ]
    },
    {
      "cell_type": "code",
      "metadata": {
        "id": "0sBgCOicEXoo"
      },
      "source": [
        "train_nv = glob.glob('/content/Drive/My Drive/HAM10000/Base de Datos_Clasificada/Train/nv/*')"
      ],
      "execution_count": null,
      "outputs": []
    },
    {
      "cell_type": "code",
      "metadata": {
        "id": "6qGgIWT0E71W"
      },
      "source": [
        "a = 0\n",
        "b = 0\n",
        "c = 0\n",
        "b1 =0\n",
        "c1 =0\n",
        "c2 =0\n",
        "for element in train_nv:\n",
        "    a = a+1\n",
        "    b = b +1\n",
        "    c = c+1\n",
        "    src = cv2.imread(element)\n",
        "\n",
        "    if b!=6 and c!=12  :\n",
        "        c2 = c2+1\n",
        "        j3= str(c2)\n",
        "        cv2.imwrite(os.path.join('/content/Drive/My Drive/HAM10000/Base de Datos_Clasificada y Aumentada(7_Clases)/Train_final/nv',\"img\" + j3 +\".jpg\"),src)\n",
        "\n",
        "    if b == 6 and c == 12 :\n",
        "        b = b-1\n",
        "\n",
        "    if b == 6 :\n",
        "        b=0\n",
        "        b1 = b1+1\n",
        "        j1= str(b1)\n",
        "        cv2.imwrite(os.path.join('/content/Drive/My Drive/HAM10000/Base de Datos_Clasificada y Aumentada(7_Clases)/Validation/nv',\"img\" + j1 +\".jpg\"),src)\n",
        "    if c == 12 :\n",
        "        c=0\n",
        "        c1 = c1+1\n",
        "        j2= str(c1)\n",
        "        cv2.imwrite(os.path.join('/content/Drive/My Drive/HAM10000/Base de Datos_Clasificada y Aumentada(7_Clases)/Text/nv',\"img\" + j2 +\".jpg\"),src)"
      ],
      "execution_count": null,
      "outputs": []
    },
    {
      "cell_type": "code",
      "metadata": {
        "id": "QIWp6M3XFF2I",
        "colab": {
          "base_uri": "https://localhost:8080/",
          "height": 68
        },
        "outputId": "9a26f8e1-07cf-4be7-f6d3-6eb55304a516"
      },
      "source": [
        "print('total training Benigno images :', len(glob.glob('/content/Drive/My Drive/HAM10000/Base de Datos_Clasificada y Aumentada(7_Clases)/Train_final/nv/*')))\n",
        "print('total training Benigno images :', len(glob.glob('/content/Drive/My Drive/HAM10000/Base de Datos_Clasificada y Aumentada(7_Clases)/Validation/nv/*')))\n",
        "print('total training Benigno images :', len(glob.glob('/content/Drive/My Drive/HAM10000/Base de Datos_Clasificada y Aumentada(7_Clases)/Text/nv/*')))"
      ],
      "execution_count": null,
      "outputs": [
        {
          "output_type": "stream",
          "text": [
            "total training Benigno images : 5030\n",
            "total training Benigno images : 1117\n",
            "total training Benigno images : 558\n"
          ],
          "name": "stdout"
        }
      ]
    },
    {
      "cell_type": "code",
      "metadata": {
        "id": "rocOdJFWFxnC",
        "colab": {
          "base_uri": "https://localhost:8080/",
          "height": 34
        },
        "outputId": "a57e5628-6df4-4c97-820a-bae6d5577e03"
      },
      "source": [
        "print('total training Benigno images :', len(glob.glob('/content/Drive/My Drive/HAM10000/Benigno_Vz_Melanoma/Train /Melanoma/*')))"
      ],
      "execution_count": null,
      "outputs": [
        {
          "output_type": "stream",
          "text": [
            "total training Benigno images : 6016\n"
          ],
          "name": "stdout"
        }
      ]
    },
    {
      "cell_type": "code",
      "metadata": {
        "id": "LqC_rTAqG_Aa"
      },
      "source": [
        "train_mel = glob.glob('/content/Drive/My Drive/HAM10000/Benigno_Vz_Melanoma/Train /Melanoma/*')"
      ],
      "execution_count": null,
      "outputs": []
    },
    {
      "cell_type": "code",
      "metadata": {
        "id": "VK_4pRa3HDGK"
      },
      "source": [
        "a = 0\n",
        "b = 0\n",
        "c = 0\n",
        "b1 =0\n",
        "c1 =0\n",
        "c2 =0\n",
        "for element in train_mel:\n",
        "    a = a+1\n",
        "    b = b +1\n",
        "    c = c+1\n",
        "    src = cv2.imread(element)\n",
        "\n",
        "    if b!=6 and c!=12  :\n",
        "        c2 = c2+1\n",
        "        j3= str(c2)\n",
        "        cv2.imwrite(os.path.join('/content/Drive/My Drive/HAM10000/Base de Datos_Clasificada y Aumentada(7_Clases)/Train_final/mel',\"img\" + j3 +\".jpg\"),src)\n",
        "\n",
        "    if b == 6 and c == 12 :\n",
        "        b = b-1\n",
        "\n",
        "    if b == 6 :\n",
        "        b=0\n",
        "        b1 = b1+1\n",
        "        j1= str(b1)\n",
        "        cv2.imwrite(os.path.join('/content/Drive/My Drive/HAM10000/Base de Datos_Clasificada y Aumentada(7_Clases)/Validation/mel',\"img\" + j1 +\".jpg\"),src)\n",
        "    if c == 12 :\n",
        "        c=0\n",
        "        c1 = c1+1\n",
        "        j2= str(c1)\n",
        "        cv2.imwrite(os.path.join('/content/Drive/My Drive/HAM10000/Base de Datos_Clasificada y Aumentada(7_Clases)/Text/mel',\"img\" + j2 +\".jpg\"),src)"
      ],
      "execution_count": null,
      "outputs": []
    },
    {
      "cell_type": "code",
      "metadata": {
        "id": "z7xfLiw_Hi7h",
        "colab": {
          "base_uri": "https://localhost:8080/",
          "height": 68
        },
        "outputId": "e31d1859-0fa8-4223-a7b1-d7aa60f8bb5a"
      },
      "source": [
        "print('total training Benigno images :', len(glob.glob('/content/Drive/My Drive/HAM10000/Base de Datos_Clasificada y Aumentada(7_Clases)/Train_final/mel/*')))\n",
        "print('total training Benigno images :', len(glob.glob('/content/Drive/My Drive/HAM10000/Base de Datos_Clasificada y Aumentada(7_Clases)/Validation/mel/*')))\n",
        "print('total training Benigno images :', len(glob.glob('/content/Drive/My Drive/HAM10000/Base de Datos_Clasificada y Aumentada(7_Clases)/Text/mel/*')))"
      ],
      "execution_count": null,
      "outputs": [
        {
          "output_type": "stream",
          "text": [
            "total training Benigno images : 4513\n",
            "total training Benigno images : 1002\n",
            "total training Benigno images : 501\n"
          ],
          "name": "stdout"
        }
      ]
    },
    {
      "cell_type": "code",
      "metadata": {
        "id": "QYTQN_eiG38n"
      },
      "source": [
        "train_akiec = glob.glob('/content/Drive/My Drive/HAM10000/Base de Datos_Clasificada y Aumentada(7_Clases)/Train/akiec/*')"
      ],
      "execution_count": null,
      "outputs": []
    },
    {
      "cell_type": "code",
      "metadata": {
        "id": "39I0ZQMIG-rT"
      },
      "source": [
        "a = 0\n",
        "b = 0\n",
        "c = 0\n",
        "b1 =0\n",
        "c1 =0\n",
        "c2 =0\n",
        "for element in train_akiec:\n",
        "    a = a+1\n",
        "    b = b +1\n",
        "    c = c+1\n",
        "    src = cv2.imread(element)\n",
        "\n",
        "    if b!=6 and c!=12  :\n",
        "        c2 = c2+1\n",
        "        j3= str(c2)\n",
        "        cv2.imwrite(os.path.join('/content/Drive/My Drive/HAM10000/Base de Datos_Clasificada y Aumentada(7_Clases)/Train_final/akiec',\"img\" + j3 +\".jpg\"),src)\n",
        "\n",
        "    if b == 6 and c == 12 :\n",
        "        b = b-1\n",
        "\n",
        "    if b == 6 :\n",
        "        b=0\n",
        "        b1 = b1+1\n",
        "        j1= str(b1)\n",
        "        cv2.imwrite(os.path.join('/content/Drive/My Drive/HAM10000/Base de Datos_Clasificada y Aumentada(7_Clases)/Validation/akiec',\"img\" + j1 +\".jpg\"),src)\n",
        "    if c == 12 :\n",
        "        c=0\n",
        "        c1 = c1+1\n",
        "        j2= str(c1)\n",
        "        cv2.imwrite(os.path.join('/content/Drive/My Drive/HAM10000/Base de Datos_Clasificada y Aumentada(7_Clases)/Text/akiec',\"img\" + j2 +\".jpg\"),src)"
      ],
      "execution_count": null,
      "outputs": []
    },
    {
      "cell_type": "code",
      "metadata": {
        "id": "-VGcb165HCdX",
        "colab": {
          "base_uri": "https://localhost:8080/",
          "height": 68
        },
        "outputId": "1f17f760-3809-4b23-a492-5d98d2474482"
      },
      "source": [
        "print('total training Benigno images :', len(glob.glob('/content/Drive/My Drive/HAM10000/Base de Datos_Clasificada y Aumentada(7_Clases)/Train_final/akiec/*')))\n",
        "print('total training Benigno images :', len(glob.glob('/content/Drive/My Drive/HAM10000/Base de Datos_Clasificada y Aumentada(7_Clases)/Validation/akiec/*')))\n",
        "print('total training Benigno images :', len(glob.glob('/content/Drive/My Drive/HAM10000/Base de Datos_Clasificada y Aumentada(7_Clases)/Text/akiec/*')))"
      ],
      "execution_count": null,
      "outputs": [
        {
          "output_type": "stream",
          "text": [
            "total training Benigno images : 4439\n",
            "total training Benigno images : 986\n",
            "total training Benigno images : 493\n"
          ],
          "name": "stdout"
        }
      ]
    },
    {
      "cell_type": "code",
      "metadata": {
        "id": "KhtOrF2nIKp9"
      },
      "source": [
        "train_bcc = glob.glob('/content/Drive/My Drive/HAM10000/Base de Datos_Clasificada y Aumentada(7_Clases)/Train/bcc/*')"
      ],
      "execution_count": null,
      "outputs": []
    },
    {
      "cell_type": "code",
      "metadata": {
        "id": "Ez4gXM85IOby"
      },
      "source": [
        "a = 0\n",
        "b = 0\n",
        "c = 0\n",
        "b1 =0\n",
        "c1 =0\n",
        "c2 =0\n",
        "for element in train_bcc:\n",
        "    a = a+1\n",
        "    b = b +1\n",
        "    c = c+1\n",
        "    src = cv2.imread(element)\n",
        "\n",
        "    if b!=6 and c!=12  :\n",
        "        c2 = c2+1\n",
        "        j3= str(c2)\n",
        "        cv2.imwrite(os.path.join('/content/Drive/My Drive/HAM10000/Base de Datos_Clasificada y Aumentada(7_Clases)/Train_final/bcc',\"img\" + j3 +\".jpg\"),src)\n",
        "\n",
        "    if b == 6 and c == 12 :\n",
        "        b = b-1\n",
        "\n",
        "    if b == 6 :\n",
        "        b=0\n",
        "        b1 = b1+1\n",
        "        j1= str(b1)\n",
        "        cv2.imwrite(os.path.join('/content/Drive/My Drive/HAM10000/Base de Datos_Clasificada y Aumentada(7_Clases)/Validation/bcc',\"img\" + j1 +\".jpg\"),src)\n",
        "    if c == 12 :\n",
        "        c=0\n",
        "        c1 = c1+1\n",
        "        j2= str(c1)\n",
        "        cv2.imwrite(os.path.join('/content/Drive/My Drive/HAM10000/Base de Datos_Clasificada y Aumentada(7_Clases)/Text/bcc',\"img\" + j2 +\".jpg\"),src)"
      ],
      "execution_count": null,
      "outputs": []
    },
    {
      "cell_type": "code",
      "metadata": {
        "id": "QBl2zpAtIOy2",
        "colab": {
          "base_uri": "https://localhost:8080/",
          "height": 68
        },
        "outputId": "e8659776-9c38-49b0-84ca-9f3022bcbf8f"
      },
      "source": [
        "print('total training Benigno images :', len(glob.glob('/content/Drive/My Drive/HAM10000/Base de Datos_Clasificada y Aumentada(7_Clases)/Train_final/bcc/*')))\n",
        "print('total training Benigno images :', len(glob.glob('/content/Drive/My Drive/HAM10000/Base de Datos_Clasificada y Aumentada(7_Clases)/Validation/bcc/*')))\n",
        "print('total training Benigno images :', len(glob.glob('/content/Drive/My Drive/HAM10000/Base de Datos_Clasificada y Aumentada(7_Clases)/Text/bcc/*')))"
      ],
      "execution_count": null,
      "outputs": [
        {
          "output_type": "stream",
          "text": [
            "total training Benigno images : 4890\n",
            "total training Benigno images : 1086\n",
            "total training Benigno images : 543\n"
          ],
          "name": "stdout"
        }
      ]
    },
    {
      "cell_type": "code",
      "metadata": {
        "id": "2kxyAd2HJDUl"
      },
      "source": [
        "train_bkl = glob.glob('/content/Drive/My Drive/HAM10000/Base de Datos_Clasificada y Aumentada(7_Clases)/Train/bkl/*')"
      ],
      "execution_count": null,
      "outputs": []
    },
    {
      "cell_type": "code",
      "metadata": {
        "id": "gcH7PBJ4JDsW"
      },
      "source": [
        "a = 0\n",
        "b = 0\n",
        "c = 0\n",
        "b1 =0\n",
        "c1 =0\n",
        "c2 =0\n",
        "for element in train_bkl:\n",
        "    a = a+1\n",
        "    b = b +1\n",
        "    c = c+1\n",
        "    src = cv2.imread(element)\n",
        "\n",
        "    if b!=6 and c!=12  :\n",
        "        c2 = c2+1\n",
        "        j3= str(c2)\n",
        "        cv2.imwrite(os.path.join('/content/Drive/My Drive/HAM10000/Base de Datos_Clasificada y Aumentada(7_Clases)/Train_final/bkl',\"img\" + j3 +\".jpg\"),src)\n",
        "\n",
        "    if b == 6 and c == 12 :\n",
        "        b = b-1\n",
        "\n",
        "    if b == 6 :\n",
        "        b=0\n",
        "        b1 = b1+1\n",
        "        j1= str(b1)\n",
        "        cv2.imwrite(os.path.join('/content/Drive/My Drive/HAM10000/Base de Datos_Clasificada y Aumentada(7_Clases)/Validation/bkl',\"img\" + j1 +\".jpg\"),src)\n",
        "    if c == 12 :\n",
        "        c=0\n",
        "        c1 = c1+1\n",
        "        j2= str(c1)\n",
        "        cv2.imwrite(os.path.join('/content/Drive/My Drive/HAM10000/Base de Datos_Clasificada y Aumentada(7_Clases)/Text/bkl',\"img\" + j2 +\".jpg\"),src)"
      ],
      "execution_count": null,
      "outputs": []
    },
    {
      "cell_type": "code",
      "metadata": {
        "id": "gjeXdaJWJEIg",
        "colab": {
          "base_uri": "https://localhost:8080/",
          "height": 68
        },
        "outputId": "598e8ef1-c306-4f56-9235-d06fa2c14dc0"
      },
      "source": [
        "print('total training Benigno images :', len(glob.glob('/content/Drive/My Drive/HAM10000/Base de Datos_Clasificada y Aumentada(7_Clases)/Train_final/bkl/*')))\n",
        "print('total training Benigno images :', len(glob.glob('/content/Drive/My Drive/HAM10000/Base de Datos_Clasificada y Aumentada(7_Clases)/Validation/bkl/*')))\n",
        "print('total training Benigno images :', len(glob.glob('/content/Drive/My Drive/HAM10000/Base de Datos_Clasificada y Aumentada(7_Clases)/Text/bkl/*')))"
      ],
      "execution_count": null,
      "outputs": [
        {
          "output_type": "stream",
          "text": [
            "total training Benigno images : 4848\n",
            "total training Benigno images : 1076\n",
            "total training Benigno images : 538\n"
          ],
          "name": "stdout"
        }
      ]
    },
    {
      "cell_type": "code",
      "metadata": {
        "id": "yKMv-gsCJpzz"
      },
      "source": [
        "train_df = glob.glob('/content/Drive/My Drive/HAM10000/Base de Datos_Clasificada y Aumentada(7_Clases)/Train/df/*')"
      ],
      "execution_count": null,
      "outputs": []
    },
    {
      "cell_type": "code",
      "metadata": {
        "id": "VuCECCcvJqO8"
      },
      "source": [
        "a = 0\n",
        "b = 0\n",
        "c = 0\n",
        "b1 =0\n",
        "c1 =0\n",
        "c2 =0\n",
        "for element in train_df:\n",
        "    a = a+1\n",
        "    b = b +1\n",
        "    c = c+1\n",
        "    src = cv2.imread(element)\n",
        "\n",
        "    if b!=6 and c!=12  :\n",
        "        c2 = c2+1\n",
        "        j3= str(c2)\n",
        "        cv2.imwrite(os.path.join('/content/Drive/My Drive/HAM10000/Base de Datos_Clasificada y Aumentada(7_Clases)/Train_final/df',\"img\" + j3 +\".jpg\"),src)\n",
        "\n",
        "    if b == 6 and c == 12 :\n",
        "        b = b-1\n",
        "\n",
        "    if b == 6 :\n",
        "        b=0\n",
        "        b1 = b1+1\n",
        "        j1= str(b1)\n",
        "        cv2.imwrite(os.path.join('/content/Drive/My Drive/HAM10000/Base de Datos_Clasificada y Aumentada(7_Clases)/Validation/df',\"img\" + j1 +\".jpg\"),src)\n",
        "    if c == 12 :\n",
        "        c=0\n",
        "        c1 = c1+1\n",
        "        j2= str(c1)\n",
        "        cv2.imwrite(os.path.join('/content/Drive/My Drive/HAM10000/Base de Datos_Clasificada y Aumentada(7_Clases)/Text/df',\"img\" + j2 +\".jpg\"),src)"
      ],
      "execution_count": null,
      "outputs": []
    },
    {
      "cell_type": "code",
      "metadata": {
        "id": "5lGrmkwWJqsu",
        "colab": {
          "base_uri": "https://localhost:8080/",
          "height": 68
        },
        "outputId": "9dfd224e-91f6-4bf8-ec2d-aea08fd07314"
      },
      "source": [
        "print('total training Benigno images :', len(glob.glob('/content/Drive/My Drive/HAM10000/Base de Datos_Clasificada y Aumentada(7_Clases)/Train_final/df/*')))\n",
        "print('total training Benigno images :', len(glob.glob('/content/Drive/My Drive/HAM10000/Base de Datos_Clasificada y Aumentada(7_Clases)/Validation/df/*')))\n",
        "print('total training Benigno images :', len(glob.glob('/content/Drive/My Drive/HAM10000/Base de Datos_Clasificada y Aumentada(7_Clases)/Text/df/*')))"
      ],
      "execution_count": null,
      "outputs": [
        {
          "output_type": "stream",
          "text": [
            "total training Benigno images : 3971\n",
            "total training Benigno images : 882\n",
            "total training Benigno images : 441\n"
          ],
          "name": "stdout"
        }
      ]
    },
    {
      "cell_type": "code",
      "metadata": {
        "id": "BEUnjxEUKdCq"
      },
      "source": [
        "train_vasc = glob.glob('/content/Drive/My Drive/HAM10000/Base de Datos_Clasificada y Aumentada(7_Clases)/Train/vasc/*')"
      ],
      "execution_count": null,
      "outputs": []
    },
    {
      "cell_type": "code",
      "metadata": {
        "id": "3gIHG-P4KluG"
      },
      "source": [
        "a = 0\n",
        "b = 0\n",
        "c = 0\n",
        "b1 =0\n",
        "c1 =0\n",
        "c2 =0\n",
        "for element in train_vasc:\n",
        "    a = a+1\n",
        "    b = b +1\n",
        "    c = c+1\n",
        "    src = cv2.imread(element)\n",
        "\n",
        "    if b!=6 and c!=12  :\n",
        "        c2 = c2+1\n",
        "        j3= str(c2)\n",
        "        cv2.imwrite(os.path.join('/content/Drive/My Drive/HAM10000/Base de Datos_Clasificada y Aumentada(7_Clases)/Train_final/vasc',\"img\" + j3 +\".jpg\"),src)\n",
        "\n",
        "    if b == 6 and c == 12 :\n",
        "        b = b-1\n",
        "\n",
        "    if b == 6 :\n",
        "        b=0\n",
        "        b1 = b1+1\n",
        "        j1= str(b1)\n",
        "        cv2.imwrite(os.path.join('/content/Drive/My Drive/HAM10000/Base de Datos_Clasificada y Aumentada(7_Clases)/Validation/vasc',\"img\" + j1 +\".jpg\"),src)\n",
        "    if c == 12 :\n",
        "        c=0\n",
        "        c1 = c1+1\n",
        "        j2= str(c1)\n",
        "        cv2.imwrite(os.path.join('/content/Drive/My Drive/HAM10000/Base de Datos_Clasificada y Aumentada(7_Clases)/Text/vasc',\"img\" + j2 +\".jpg\"),src)"
      ],
      "execution_count": null,
      "outputs": []
    },
    {
      "cell_type": "code",
      "metadata": {
        "id": "PvbBKyeLK1OY",
        "colab": {
          "base_uri": "https://localhost:8080/",
          "height": 68
        },
        "outputId": "7b8d0708-d17c-47fc-d490-39114bd9cb51"
      },
      "source": [
        "print('total training Benigno images :', len(glob.glob('/content/Drive/My Drive/HAM10000/Base de Datos_Clasificada y Aumentada(7_Clases)/Train_final/vasc/*')))\n",
        "print('total training Benigno images :', len(glob.glob('/content/Drive/My Drive/HAM10000/Base de Datos_Clasificada y Aumentada(7_Clases)/Validation/vasc/*')))\n",
        "print('total training Benigno images :', len(glob.glob('/content/Drive/My Drive/HAM10000/Base de Datos_Clasificada y Aumentada(7_Clases)/Text/vasc/*')))"
      ],
      "execution_count": null,
      "outputs": [
        {
          "output_type": "stream",
          "text": [
            "total training Benigno images : 4510\n",
            "total training Benigno images : 1001\n",
            "total training Benigno images : 500\n"
          ],
          "name": "stdout"
        }
      ]
    },
    {
      "cell_type": "code",
      "metadata": {
        "id": "-_gW9fqrOq2K",
        "colab": {
          "base_uri": "https://localhost:8080/",
          "height": 34
        },
        "outputId": "b4615f14-5bb2-4a97-cc66-d7cc26648a2c"
      },
      "source": [
        "\n",
        "print('total training Benigno images :', len(glob.glob('/content/Drive/My Drive/HAM10000/Base de Datos_Clasificada/Train/akiec/*')))"
      ],
      "execution_count": null,
      "outputs": [
        {
          "output_type": "stream",
          "text": [
            "total training Benigno images : 327\n"
          ],
          "name": "stdout"
        }
      ]
    },
    {
      "cell_type": "code",
      "metadata": {
        "id": "zmhkElQYIFsj"
      },
      "source": [
        "dataset = '/content/Drive/My Drive/HAM10000/Base de Datos_Clasificada/Train/akiec'\n",
        "output = '/content/Drive/My Drive/HAM10000/Base de Datos_Clasificada y Aumentada(7_Clases)/Train/akiec'"
      ],
      "execution_count": null,
      "outputs": []
    },
    {
      "cell_type": "code",
      "metadata": {
        "id": "1-0AOjsvNrfc"
      },
      "source": [
        "#Grab the list of images from our dataset directory\n",
        "print(\"Loading images...\")\n",
        "imagePaths = list(paths.list_images(dataset))\n",
        "label='N'\n",
        "#Make the processador for the images\n",
        "aug = ImageDataGenerator(\n",
        "\trotation_range=180,\n",
        "\tzoom_range=0.2,\n",
        "\twidth_shift_range=0.2,\n",
        "\theight_shift_range=0.2,\n",
        "\thorizontal_flip=True,\n",
        "  vertical_flip=True,\n",
        "\tfill_mode=\"nearest\")\n",
        "aug_1= ImageDataGenerator(\n",
        "\tshear_range=0.1,\n",
        "    zoom_range=0.1,\n",
        "    horizontal_flip=True)\n",
        "\n",
        "#loop over the image paths\n",
        "for imagePath in imagePaths:\n",
        "    image = load_img(imagePath)\n",
        "    image = img_to_array(image)\n",
        "    image = np.expand_dims(image, axis=0)\n",
        "    nombre = imagePath\n",
        "    print('')\n",
        "    print('Data Augmentation With: '+nombre)\n",
        "    \n",
        "    # construct the actual Python generator\n",
        "    print(\"Generating new images...\")\n",
        "    imageGen = aug_1.flow(image, batch_size=64, save_to_dir= output,\n",
        "                        save_prefix=label, save_format=\"png\")\n",
        "\n",
        "    #Loop over images from our image data augmentation generator\n",
        "    total = 0\n",
        "    for image in imageGen:\n",
        "        #Increment our counter\n",
        "        total += 1\n",
        "        #If we have reached the specified number: total, break from the loop 2\n",
        "        if total == 5:\n",
        "            break\n",
        "\n",
        "print('')            \n",
        "print('This is complete!')"
      ],
      "execution_count": null,
      "outputs": []
    },
    {
      "cell_type": "code",
      "metadata": {
        "id": "kuasQPdROTr0",
        "colab": {
          "base_uri": "https://localhost:8080/",
          "height": 34
        },
        "outputId": "79132a21-39a7-43d5-98dc-e0671ea1a35b"
      },
      "source": [
        "print('total training Benigno images :', len(glob.glob('/content/Drive/My Drive/HAM10000/Base de Datos_Clasificada y Aumentada(7_Clases)/Train/akiec/*')))"
      ],
      "execution_count": null,
      "outputs": [
        {
          "output_type": "stream",
          "text": [
            "total training Benigno images : 5592\n"
          ],
          "name": "stdout"
        }
      ]
    },
    {
      "cell_type": "code",
      "metadata": {
        "id": "t2pxX0REQPrN"
      },
      "source": [
        "train_malign = glob.glob('/content/Drive/My Drive/HAM10000/Base de Datos_Clasificada/Train/akiec/*')"
      ],
      "execution_count": null,
      "outputs": []
    },
    {
      "cell_type": "code",
      "metadata": {
        "id": "JevO3QcDQYfS"
      },
      "source": [
        "a = 0\n",
        "\n",
        "for element in train_malign:\n",
        "    a = a+1\n",
        "    src = cv2.imread(element)\n",
        "\n",
        "    j= str(a)\n",
        "    cv2.imwrite(os.path.join('/content/Drive/My Drive/HAM10000/Base de Datos_Clasificada y Aumentada(7_Clases)/Train/akiec',\"img\" + j +\".jpg\"),src)"
      ],
      "execution_count": null,
      "outputs": []
    },
    {
      "cell_type": "code",
      "metadata": {
        "id": "kuhgLkJRQddi",
        "colab": {
          "base_uri": "https://localhost:8080/",
          "height": 34
        },
        "outputId": "d630714f-7d36-430a-cef4-6724bbe8a770"
      },
      "source": [
        "print('total training Benigno images :', len(glob.glob('/content/Drive/My Drive/HAM10000/Base de Datos_Clasificada y Aumentada(7_Clases)/Train/akiec/*')))"
      ],
      "execution_count": null,
      "outputs": [
        {
          "output_type": "stream",
          "text": [
            "total training Benigno images : 5919\n"
          ],
          "name": "stdout"
        }
      ]
    },
    {
      "cell_type": "code",
      "metadata": {
        "id": "l_C5qL9nTdPt",
        "colab": {
          "base_uri": "https://localhost:8080/",
          "height": 34
        },
        "outputId": "435ed0d8-6b2e-4dc0-ff36-619348f28836"
      },
      "source": [
        "print('total training Benigno images :', len(glob.glob('/content/Drive/My Drive/HAM10000/Base de Datos_Clasificada/Train/bcc/*')))"
      ],
      "execution_count": null,
      "outputs": [
        {
          "output_type": "stream",
          "text": [
            "total training Benigno images : 514\n"
          ],
          "name": "stdout"
        }
      ]
    },
    {
      "cell_type": "code",
      "metadata": {
        "id": "DpeNsCGaTwgu"
      },
      "source": [
        "dataset = '/content/Drive/My Drive/HAM10000/Base de Datos_Clasificada/Train/bcc'\n",
        "output = '/content/Drive/My Drive/HAM10000/Base de Datos_Clasificada y Aumentada(7_Clases)/Train/bcc'"
      ],
      "execution_count": null,
      "outputs": []
    },
    {
      "cell_type": "code",
      "metadata": {
        "id": "7C-0DfUIT0yW"
      },
      "source": [
        "#Grab the list of images from our dataset directory\n",
        "print(\"Loading images...\")\n",
        "imagePaths = list(paths.list_images(dataset))\n",
        "label='N'\n",
        "#Make the processador for the images\n",
        "aug = ImageDataGenerator(\n",
        "\trotation_range=180,\n",
        "\tzoom_range=0.2,\n",
        "\twidth_shift_range=0.2,\n",
        "\theight_shift_range=0.2,\n",
        "\thorizontal_flip=True,\n",
        "  vertical_flip=True,\n",
        "\tfill_mode=\"nearest\")\n",
        "aug_1= ImageDataGenerator(\n",
        "\tshear_range=0.2,\n",
        "    zoom_range=0.2,\n",
        "    horizontal_flip=True)\n",
        "\n",
        "#loop over the image paths\n",
        "for imagePath in imagePaths:\n",
        "    image = load_img(imagePath)\n",
        "    image = img_to_array(image)\n",
        "    image = np.expand_dims(image, axis=0)\n",
        "    nombre = imagePath\n",
        "    print('')\n",
        "    print('Data Augmentation With: '+nombre)\n",
        "    \n",
        "    # construct the actual Python generator\n",
        "    print(\"Generating new images...\")\n",
        "    imageGen = aug.flow(image, batch_size=64, save_to_dir= output,\n",
        "                        save_prefix=label, save_format=\"png\")\n",
        "\n",
        "    #Loop over images from our image data augmentation generator\n",
        "    total = 0\n",
        "    for image in imageGen:\n",
        "        #Increment our counter\n",
        "        total += 1\n",
        "        #If we have reached the specified number: total, break from the loop 2\n",
        "        if total == 18:\n",
        "            break\n",
        "\n",
        "print('')            \n",
        "print('This is complete!')"
      ],
      "execution_count": null,
      "outputs": []
    },
    {
      "cell_type": "code",
      "metadata": {
        "id": "r-2ENrkHT080",
        "colab": {
          "base_uri": "https://localhost:8080/",
          "height": 34
        },
        "outputId": "16ded138-a092-472a-dfdf-94e72359e5f7"
      },
      "source": [
        "print('total training Benigno images :', len(glob.glob('/content/Drive/My Drive/HAM10000/Base de Datos_Clasificada y Aumentada(7_Clases)/Train/bcc/*')))"
      ],
      "execution_count": null,
      "outputs": [
        {
          "output_type": "stream",
          "text": [
            "total training Benigno images : 6005\n"
          ],
          "name": "stdout"
        }
      ]
    },
    {
      "cell_type": "code",
      "metadata": {
        "id": "0Z8SX5JCT7b-"
      },
      "source": [
        "train_malign = glob.glob('/content/Drive/My Drive/HAM10000/Base de Datos_Clasificada/Train/bcc/*')"
      ],
      "execution_count": null,
      "outputs": []
    },
    {
      "cell_type": "code",
      "metadata": {
        "id": "TmaStzgCT7ni"
      },
      "source": [
        "a = 0\n",
        "\n",
        "for element in train_malign:\n",
        "    a = a+1\n",
        "    src = cv2.imread(element)\n",
        "\n",
        "    j= str(a)\n",
        "    cv2.imwrite(os.path.join('/content/Drive/My Drive/HAM10000/Base de Datos_Clasificada y Aumentada(7_Clases)/Train/bcc',\"img\" + j +\".jpg\"),src)"
      ],
      "execution_count": null,
      "outputs": []
    },
    {
      "cell_type": "code",
      "metadata": {
        "id": "X_C4XfrxXyzx",
        "colab": {
          "base_uri": "https://localhost:8080/",
          "height": 34
        },
        "outputId": "210818e6-73b1-4eef-be31-91256a967f2e"
      },
      "source": [
        "print('total training Benigno images :', len(glob.glob('/content/Drive/My Drive/HAM10000/Base de Datos_Clasificada y Aumentada(7_Clases)/Train/bcc/*')))"
      ],
      "execution_count": null,
      "outputs": [
        {
          "output_type": "stream",
          "text": [
            "total training Benigno images : 6519\n"
          ],
          "name": "stdout"
        }
      ]
    },
    {
      "cell_type": "code",
      "metadata": {
        "id": "TSCQhW-TYzj3",
        "colab": {
          "base_uri": "https://localhost:8080/",
          "height": 34
        },
        "outputId": "31de8d34-bc30-418a-e712-b22140348f40"
      },
      "source": [
        "print('total training Benigno images :', len(glob.glob('/content/Drive/My Drive/HAM10000/Base de Datos_Clasificada/Train/bkl/*')))"
      ],
      "execution_count": null,
      "outputs": [
        {
          "output_type": "stream",
          "text": [
            "total training Benigno images : 1099\n"
          ],
          "name": "stdout"
        }
      ]
    },
    {
      "cell_type": "code",
      "metadata": {
        "id": "nMedQeawY_-c"
      },
      "source": [
        "dataset = '/content/Drive/My Drive/HAM10000/Base de Datos_Clasificada/Train/bkl'\n",
        "output = '/content/Drive/My Drive/HAM10000/Base de Datos_Clasificada y Aumentada(7_Clases)/Train/bkl'"
      ],
      "execution_count": null,
      "outputs": []
    },
    {
      "cell_type": "code",
      "metadata": {
        "id": "jvMqPwaOZF6G"
      },
      "source": [
        "#Grab the list of images from our dataset directory\n",
        "print(\"Loading images...\")\n",
        "imagePaths = list(paths.list_images(dataset))\n",
        "label='N'\n",
        "#Make the processador for the images\n",
        "aug = ImageDataGenerator(\n",
        "\trotation_range=180,\n",
        "\tzoom_range=0.2,\n",
        "\twidth_shift_range=0.2,\n",
        "\theight_shift_range=0.2,\n",
        "\thorizontal_flip=True,\n",
        "  vertical_flip=True,\n",
        "\tfill_mode=\"nearest\")\n",
        "aug_1= ImageDataGenerator(\n",
        "\tshear_range=0.2,\n",
        "    zoom_range=0.2,\n",
        "    horizontal_flip=True)\n",
        "\n",
        "#loop over the image paths\n",
        "for imagePath in imagePaths:\n",
        "    image = load_img(imagePath)\n",
        "    image = img_to_array(image)\n",
        "    image = np.expand_dims(image, axis=0)\n",
        "    nombre = imagePath\n",
        "    print('')\n",
        "    print('Data Augmentation With: '+nombre)\n",
        "    \n",
        "    # construct the actual Python generator\n",
        "    print(\"Generating new images...\")\n",
        "    imageGen = aug.flow(image, batch_size=64, save_to_dir= output,\n",
        "                        save_prefix=label, save_format=\"png\")\n",
        "\n",
        "    #Loop over images from our image data augmentation generator\n",
        "    total = 0\n",
        "    for image in imageGen:\n",
        "        #Increment our counter\n",
        "        total += 1\n",
        "        #If we have reached the specified number: total, break from the loop 2\n",
        "        if total == 7:\n",
        "            break\n",
        "\n",
        "print('')            \n",
        "print('This is complete!')"
      ],
      "execution_count": null,
      "outputs": []
    },
    {
      "cell_type": "code",
      "metadata": {
        "id": "JcXBeFXqZVk4",
        "colab": {
          "base_uri": "https://localhost:8080/",
          "height": 34
        },
        "outputId": "a1a23722-cc98-4bd7-95b9-e4d8f8fbcd82"
      },
      "source": [
        "print('total training Benigno images :', len(glob.glob('/content/Drive/My Drive/HAM10000/Base de Datos_Clasificada y Aumentada(7_Clases)/Train/bkl/*')))"
      ],
      "execution_count": null,
      "outputs": [
        {
          "output_type": "stream",
          "text": [
            "total training Benigno images : 5363\n"
          ],
          "name": "stdout"
        }
      ]
    },
    {
      "cell_type": "code",
      "metadata": {
        "id": "vWbkGtEJZgBI"
      },
      "source": [
        "train_malign = glob.glob('/content/Drive/My Drive/HAM10000/Base de Datos_Clasificada/Train/bkl/*')"
      ],
      "execution_count": null,
      "outputs": []
    },
    {
      "cell_type": "code",
      "metadata": {
        "id": "YJWmY4amZihO"
      },
      "source": [
        "a = 0\n",
        "\n",
        "for element in train_malign:\n",
        "    a = a+1\n",
        "    src = cv2.imread(element)\n",
        "\n",
        "    j= str(a)\n",
        "    cv2.imwrite(os.path.join('/content/Drive/My Drive/HAM10000/Base de Datos_Clasificada y Aumentada(7_Clases)/Train/bkl',\"img\" + j +\".jpg\"),src)"
      ],
      "execution_count": null,
      "outputs": []
    },
    {
      "cell_type": "code",
      "metadata": {
        "id": "kf7DpyewZmM3",
        "colab": {
          "base_uri": "https://localhost:8080/"
        },
        "outputId": "59eb9213-2b40-4df3-9192-665e1df763c5"
      },
      "source": [
        "print('total training Benigno images :', len(glob.glob('/content/Drive/My Drive/HAM10000/Base de Datos_Clasificada y Aumentada(7_Clases)/Train/bkl/*')))"
      ],
      "execution_count": null,
      "outputs": [
        {
          "output_type": "stream",
          "text": [
            "total training Benigno images : 6462\n"
          ],
          "name": "stdout"
        }
      ]
    },
    {
      "cell_type": "code",
      "metadata": {
        "id": "Kb0BXoNoZ0lW",
        "colab": {
          "base_uri": "https://localhost:8080/",
          "height": 34
        },
        "outputId": "5b8d6265-48e0-436a-b980-6e778079b0ab"
      },
      "source": [
        "print('total training Benigno images :', len(glob.glob('/content/Drive/My Drive/HAM10000/Base de Datos_Clasificada/Train/df/*')))"
      ],
      "execution_count": null,
      "outputs": [
        {
          "output_type": "stream",
          "text": [
            "total training Benigno images : 115\n"
          ],
          "name": "stdout"
        }
      ]
    },
    {
      "cell_type": "code",
      "metadata": {
        "id": "PpfCbEXmaPvh"
      },
      "source": [
        "dataset = '/content/Drive/My Drive/HAM10000/Base de Datos_Clasificada/Train/df'\n",
        "output = '/content/Drive/My Drive/HAM10000/Base de Datos_Clasificada y Aumentada(7_Clases)/Train/df'"
      ],
      "execution_count": null,
      "outputs": []
    },
    {
      "cell_type": "code",
      "metadata": {
        "id": "U7s0qr2yaUbh",
        "colab": {
          "base_uri": "https://localhost:8080/"
        },
        "outputId": "eee655fe-65e4-4107-cb70-e2a73db74200"
      },
      "source": [
        "#Grab the list of images from our dataset directory\n",
        "print(\"Loading images...\")\n",
        "imagePaths = list(paths.list_images(dataset))\n",
        "label='N'\n",
        "#Make the processador for the images\n",
        "aug = ImageDataGenerator(\n",
        "\trotation_range=180,\n",
        "\tzoom_range=0.2,\n",
        "\twidth_shift_range=0.2,\n",
        "\theight_shift_range=0.2,\n",
        "\thorizontal_flip=True,\n",
        "  vertical_flip=True,\n",
        "\tfill_mode=\"nearest\")\n",
        "aug_1= ImageDataGenerator(\n",
        "\tshear_range=0.2,\n",
        "    zoom_range=0.2,\n",
        "    horizontal_flip=True)\n",
        "\n",
        "#loop over the image paths\n",
        "for imagePath in imagePaths:\n",
        "    image = load_img(imagePath)\n",
        "    image = img_to_array(image)\n",
        "    image = np.expand_dims(image, axis=0)\n",
        "    nombre = imagePath\n",
        "    print('')\n",
        "    print('Data Augmentation With: '+nombre)\n",
        "    \n",
        "    # construct the actual Python generator\n",
        "    print(\"Generating new images...\")\n",
        "    imageGen = aug.flow(image, batch_size=64, save_to_dir= output,\n",
        "                        save_prefix=label, save_format=\"png\")\n",
        "\n",
        "    #Loop over images from our image data augmentation generator\n",
        "    total = 0\n",
        "    for image in imageGen:\n",
        "        #Increment our counter\n",
        "        total += 1\n",
        "        #If we have reached the specified number: total, break from the loop 2\n",
        "        if total == 62:\n",
        "            break\n",
        "\n",
        "print('')            \n",
        "print('This is complete!')"
      ],
      "execution_count": null,
      "outputs": [
        {
          "output_type": "stream",
          "text": [
            "\n",
            "Data Augmentation With: /content/Drive/My Drive/HAM10000/Base de Datos_Clasificada/Train/df/img35.jpg\n",
            "Generating new images...\n",
            "\n",
            "Data Augmentation With: /content/Drive/My Drive/HAM10000/Base de Datos_Clasificada/Train/df/img36.jpg\n",
            "Generating new images...\n",
            "\n",
            "Data Augmentation With: /content/Drive/My Drive/HAM10000/Base de Datos_Clasificada/Train/df/img37.jpg\n",
            "Generating new images...\n",
            "\n",
            "Data Augmentation With: /content/Drive/My Drive/HAM10000/Base de Datos_Clasificada/Train/df/img38.jpg\n",
            "Generating new images...\n",
            "\n",
            "Data Augmentation With: /content/Drive/My Drive/HAM10000/Base de Datos_Clasificada/Train/df/img39.jpg\n",
            "Generating new images...\n",
            "\n",
            "Data Augmentation With: /content/Drive/My Drive/HAM10000/Base de Datos_Clasificada/Train/df/img40.jpg\n",
            "Generating new images...\n",
            "\n",
            "Data Augmentation With: /content/Drive/My Drive/HAM10000/Base de Datos_Clasificada/Train/df/img41.jpg\n",
            "Generating new images...\n",
            "\n",
            "Data Augmentation With: /content/Drive/My Drive/HAM10000/Base de Datos_Clasificada/Train/df/img42.jpg\n",
            "Generating new images...\n",
            "\n",
            "Data Augmentation With: /content/Drive/My Drive/HAM10000/Base de Datos_Clasificada/Train/df/img43.jpg\n",
            "Generating new images...\n",
            "\n",
            "Data Augmentation With: /content/Drive/My Drive/HAM10000/Base de Datos_Clasificada/Train/df/img44.jpg\n",
            "Generating new images...\n",
            "\n",
            "Data Augmentation With: /content/Drive/My Drive/HAM10000/Base de Datos_Clasificada/Train/df/img45.jpg\n",
            "Generating new images...\n",
            "\n",
            "Data Augmentation With: /content/Drive/My Drive/HAM10000/Base de Datos_Clasificada/Train/df/img46.jpg\n",
            "Generating new images...\n",
            "\n",
            "Data Augmentation With: /content/Drive/My Drive/HAM10000/Base de Datos_Clasificada/Train/df/img47.jpg\n",
            "Generating new images...\n",
            "\n",
            "Data Augmentation With: /content/Drive/My Drive/HAM10000/Base de Datos_Clasificada/Train/df/img48.jpg\n",
            "Generating new images...\n",
            "\n",
            "Data Augmentation With: /content/Drive/My Drive/HAM10000/Base de Datos_Clasificada/Train/df/img49.jpg\n",
            "Generating new images...\n",
            "\n",
            "Data Augmentation With: /content/Drive/My Drive/HAM10000/Base de Datos_Clasificada/Train/df/img50.jpg\n",
            "Generating new images...\n",
            "\n",
            "Data Augmentation With: /content/Drive/My Drive/HAM10000/Base de Datos_Clasificada/Train/df/img51.jpg\n",
            "Generating new images...\n",
            "\n",
            "Data Augmentation With: /content/Drive/My Drive/HAM10000/Base de Datos_Clasificada/Train/df/img52.jpg\n",
            "Generating new images...\n",
            "\n",
            "Data Augmentation With: /content/Drive/My Drive/HAM10000/Base de Datos_Clasificada/Train/df/img53.jpg\n",
            "Generating new images...\n",
            "\n",
            "Data Augmentation With: /content/Drive/My Drive/HAM10000/Base de Datos_Clasificada/Train/df/img54.jpg\n",
            "Generating new images...\n",
            "\n",
            "Data Augmentation With: /content/Drive/My Drive/HAM10000/Base de Datos_Clasificada/Train/df/img55.jpg\n",
            "Generating new images...\n",
            "\n",
            "Data Augmentation With: /content/Drive/My Drive/HAM10000/Base de Datos_Clasificada/Train/df/img56.jpg\n",
            "Generating new images...\n",
            "\n",
            "Data Augmentation With: /content/Drive/My Drive/HAM10000/Base de Datos_Clasificada/Train/df/img57.jpg\n",
            "Generating new images...\n",
            "\n",
            "Data Augmentation With: /content/Drive/My Drive/HAM10000/Base de Datos_Clasificada/Train/df/img58.jpg\n",
            "Generating new images...\n",
            "\n",
            "Data Augmentation With: /content/Drive/My Drive/HAM10000/Base de Datos_Clasificada/Train/df/img59.jpg\n",
            "Generating new images...\n",
            "\n",
            "Data Augmentation With: /content/Drive/My Drive/HAM10000/Base de Datos_Clasificada/Train/df/img60.jpg\n",
            "Generating new images...\n",
            "\n",
            "Data Augmentation With: /content/Drive/My Drive/HAM10000/Base de Datos_Clasificada/Train/df/img61.jpg\n",
            "Generating new images...\n",
            "\n",
            "Data Augmentation With: /content/Drive/My Drive/HAM10000/Base de Datos_Clasificada/Train/df/img62.jpg\n",
            "Generating new images...\n",
            "\n",
            "Data Augmentation With: /content/Drive/My Drive/HAM10000/Base de Datos_Clasificada/Train/df/img63.jpg\n",
            "Generating new images...\n",
            "\n",
            "Data Augmentation With: /content/Drive/My Drive/HAM10000/Base de Datos_Clasificada/Train/df/img64.jpg\n",
            "Generating new images...\n",
            "\n",
            "Data Augmentation With: /content/Drive/My Drive/HAM10000/Base de Datos_Clasificada/Train/df/img65.jpg\n",
            "Generating new images...\n",
            "\n",
            "Data Augmentation With: /content/Drive/My Drive/HAM10000/Base de Datos_Clasificada/Train/df/img66.jpg\n",
            "Generating new images...\n",
            "\n",
            "Data Augmentation With: /content/Drive/My Drive/HAM10000/Base de Datos_Clasificada/Train/df/img67.jpg\n",
            "Generating new images...\n",
            "\n",
            "Data Augmentation With: /content/Drive/My Drive/HAM10000/Base de Datos_Clasificada/Train/df/img68.jpg\n",
            "Generating new images...\n",
            "\n",
            "Data Augmentation With: /content/Drive/My Drive/HAM10000/Base de Datos_Clasificada/Train/df/img69.jpg\n",
            "Generating new images...\n",
            "\n",
            "Data Augmentation With: /content/Drive/My Drive/HAM10000/Base de Datos_Clasificada/Train/df/img70.jpg\n",
            "Generating new images...\n",
            "\n",
            "Data Augmentation With: /content/Drive/My Drive/HAM10000/Base de Datos_Clasificada/Train/df/img71.jpg\n",
            "Generating new images...\n",
            "\n",
            "Data Augmentation With: /content/Drive/My Drive/HAM10000/Base de Datos_Clasificada/Train/df/img72.jpg\n",
            "Generating new images...\n",
            "\n",
            "Data Augmentation With: /content/Drive/My Drive/HAM10000/Base de Datos_Clasificada/Train/df/img73.jpg\n",
            "Generating new images...\n",
            "\n",
            "Data Augmentation With: /content/Drive/My Drive/HAM10000/Base de Datos_Clasificada/Train/df/img74.jpg\n",
            "Generating new images...\n",
            "\n",
            "Data Augmentation With: /content/Drive/My Drive/HAM10000/Base de Datos_Clasificada/Train/df/img75.jpg\n",
            "Generating new images...\n",
            "\n",
            "Data Augmentation With: /content/Drive/My Drive/HAM10000/Base de Datos_Clasificada/Train/df/img76.jpg\n",
            "Generating new images...\n",
            "\n",
            "Data Augmentation With: /content/Drive/My Drive/HAM10000/Base de Datos_Clasificada/Train/df/img77.jpg\n",
            "Generating new images...\n",
            "\n",
            "Data Augmentation With: /content/Drive/My Drive/HAM10000/Base de Datos_Clasificada/Train/df/img78.jpg\n",
            "Generating new images...\n",
            "\n",
            "Data Augmentation With: /content/Drive/My Drive/HAM10000/Base de Datos_Clasificada/Train/df/img79.jpg\n",
            "Generating new images...\n",
            "\n",
            "Data Augmentation With: /content/Drive/My Drive/HAM10000/Base de Datos_Clasificada/Train/df/img80.jpg\n",
            "Generating new images...\n",
            "\n",
            "Data Augmentation With: /content/Drive/My Drive/HAM10000/Base de Datos_Clasificada/Train/df/img81.jpg\n",
            "Generating new images...\n",
            "\n",
            "Data Augmentation With: /content/Drive/My Drive/HAM10000/Base de Datos_Clasificada/Train/df/img82.jpg\n",
            "Generating new images...\n",
            "\n",
            "Data Augmentation With: /content/Drive/My Drive/HAM10000/Base de Datos_Clasificada/Train/df/img83.jpg\n",
            "Generating new images...\n",
            "\n",
            "Data Augmentation With: /content/Drive/My Drive/HAM10000/Base de Datos_Clasificada/Train/df/img84.jpg\n",
            "Generating new images...\n",
            "\n",
            "Data Augmentation With: /content/Drive/My Drive/HAM10000/Base de Datos_Clasificada/Train/df/img85.jpg\n",
            "Generating new images...\n",
            "\n",
            "Data Augmentation With: /content/Drive/My Drive/HAM10000/Base de Datos_Clasificada/Train/df/img86.jpg\n",
            "Generating new images...\n",
            "\n",
            "Data Augmentation With: /content/Drive/My Drive/HAM10000/Base de Datos_Clasificada/Train/df/img87.jpg\n",
            "Generating new images...\n",
            "\n",
            "Data Augmentation With: /content/Drive/My Drive/HAM10000/Base de Datos_Clasificada/Train/df/img88.jpg\n",
            "Generating new images...\n",
            "\n",
            "Data Augmentation With: /content/Drive/My Drive/HAM10000/Base de Datos_Clasificada/Train/df/img89.jpg\n",
            "Generating new images...\n",
            "\n",
            "Data Augmentation With: /content/Drive/My Drive/HAM10000/Base de Datos_Clasificada/Train/df/img90.jpg\n",
            "Generating new images...\n",
            "\n",
            "Data Augmentation With: /content/Drive/My Drive/HAM10000/Base de Datos_Clasificada/Train/df/img91.jpg\n",
            "Generating new images...\n",
            "\n",
            "Data Augmentation With: /content/Drive/My Drive/HAM10000/Base de Datos_Clasificada/Train/df/img92.jpg\n",
            "Generating new images...\n",
            "\n",
            "Data Augmentation With: /content/Drive/My Drive/HAM10000/Base de Datos_Clasificada/Train/df/img93.jpg\n",
            "Generating new images...\n",
            "\n",
            "Data Augmentation With: /content/Drive/My Drive/HAM10000/Base de Datos_Clasificada/Train/df/img94.jpg\n",
            "Generating new images...\n",
            "\n",
            "Data Augmentation With: /content/Drive/My Drive/HAM10000/Base de Datos_Clasificada/Train/df/img95.jpg\n",
            "Generating new images...\n",
            "\n",
            "Data Augmentation With: /content/Drive/My Drive/HAM10000/Base de Datos_Clasificada/Train/df/img96.jpg\n",
            "Generating new images...\n",
            "\n",
            "Data Augmentation With: /content/Drive/My Drive/HAM10000/Base de Datos_Clasificada/Train/df/img97.jpg\n",
            "Generating new images...\n",
            "\n",
            "Data Augmentation With: /content/Drive/My Drive/HAM10000/Base de Datos_Clasificada/Train/df/img98.jpg\n",
            "Generating new images...\n",
            "\n",
            "Data Augmentation With: /content/Drive/My Drive/HAM10000/Base de Datos_Clasificada/Train/df/img99.jpg\n",
            "Generating new images...\n",
            "\n",
            "Data Augmentation With: /content/Drive/My Drive/HAM10000/Base de Datos_Clasificada/Train/df/img100.jpg\n",
            "Generating new images...\n",
            "\n",
            "Data Augmentation With: /content/Drive/My Drive/HAM10000/Base de Datos_Clasificada/Train/df/img101.jpg\n",
            "Generating new images...\n",
            "\n",
            "Data Augmentation With: /content/Drive/My Drive/HAM10000/Base de Datos_Clasificada/Train/df/img102.jpg\n",
            "Generating new images...\n",
            "\n",
            "Data Augmentation With: /content/Drive/My Drive/HAM10000/Base de Datos_Clasificada/Train/df/img103.jpg\n",
            "Generating new images...\n",
            "\n",
            "Data Augmentation With: /content/Drive/My Drive/HAM10000/Base de Datos_Clasificada/Train/df/img104.jpg\n",
            "Generating new images...\n",
            "\n",
            "Data Augmentation With: /content/Drive/My Drive/HAM10000/Base de Datos_Clasificada/Train/df/img105.jpg\n",
            "Generating new images...\n",
            "\n",
            "Data Augmentation With: /content/Drive/My Drive/HAM10000/Base de Datos_Clasificada/Train/df/img106.jpg\n",
            "Generating new images...\n",
            "\n",
            "Data Augmentation With: /content/Drive/My Drive/HAM10000/Base de Datos_Clasificada/Train/df/img107.jpg\n",
            "Generating new images...\n",
            "\n",
            "Data Augmentation With: /content/Drive/My Drive/HAM10000/Base de Datos_Clasificada/Train/df/img108.jpg\n",
            "Generating new images...\n",
            "\n",
            "Data Augmentation With: /content/Drive/My Drive/HAM10000/Base de Datos_Clasificada/Train/df/img109.jpg\n",
            "Generating new images...\n",
            "\n",
            "Data Augmentation With: /content/Drive/My Drive/HAM10000/Base de Datos_Clasificada/Train/df/img110.jpg\n",
            "Generating new images...\n",
            "\n",
            "Data Augmentation With: /content/Drive/My Drive/HAM10000/Base de Datos_Clasificada/Train/df/img111.jpg\n",
            "Generating new images...\n",
            "\n",
            "Data Augmentation With: /content/Drive/My Drive/HAM10000/Base de Datos_Clasificada/Train/df/img112.jpg\n",
            "Generating new images...\n",
            "\n",
            "Data Augmentation With: /content/Drive/My Drive/HAM10000/Base de Datos_Clasificada/Train/df/img113.jpg\n",
            "Generating new images...\n",
            "\n",
            "Data Augmentation With: /content/Drive/My Drive/HAM10000/Base de Datos_Clasificada/Train/df/img114.jpg\n",
            "Generating new images...\n",
            "\n",
            "Data Augmentation With: /content/Drive/My Drive/HAM10000/Base de Datos_Clasificada/Train/df/img115.jpg\n",
            "Generating new images...\n",
            "\n",
            "This is complete!\n"
          ],
          "name": "stdout"
        }
      ]
    },
    {
      "cell_type": "code",
      "metadata": {
        "id": "_YPOJ30Saciu",
        "colab": {
          "base_uri": "https://localhost:8080/"
        },
        "outputId": "e95e15f0-f0dc-4462-ce82-1e1c10b99409"
      },
      "source": [
        "print('total training Benigno images :', len(glob.glob('/content/Drive/My Drive/HAM10000/Base de Datos_Clasificada y Aumentada(7_Clases)/Train/df/*')))"
      ],
      "execution_count": null,
      "outputs": [
        {
          "output_type": "stream",
          "text": [
            "total training Benigno images : 5179\n"
          ],
          "name": "stdout"
        }
      ]
    },
    {
      "cell_type": "code",
      "metadata": {
        "id": "GfTDcRtOais0"
      },
      "source": [
        "train_malign = glob.glob('/content/Drive/My Drive/HAM10000/Base de Datos_Clasificada/Train/df/*')"
      ],
      "execution_count": null,
      "outputs": []
    },
    {
      "cell_type": "code",
      "metadata": {
        "id": "_vmjsiIDanaV"
      },
      "source": [
        "a = 0\n",
        "\n",
        "for element in train_malign:\n",
        "    a = a+1\n",
        "    src = cv2.imread(element)\n",
        "\n",
        "    j= str(a)\n",
        "    cv2.imwrite(os.path.join('/content/Drive/My Drive/HAM10000/Base de Datos_Clasificada y Aumentada(7_Clases)/Train/df',\"img\" + j +\".jpg\"),src)"
      ],
      "execution_count": null,
      "outputs": []
    },
    {
      "cell_type": "code",
      "metadata": {
        "id": "k0KIHR2YaqJ0",
        "colab": {
          "base_uri": "https://localhost:8080/"
        },
        "outputId": "d1c101a4-c93b-4abc-8309-212d4f00a997"
      },
      "source": [
        "print('total training Benigno images :', len(glob.glob('/content/Drive/My Drive/HAM10000/Base de Datos_Clasificada y Aumentada(7_Clases)/Train/df/*')))"
      ],
      "execution_count": null,
      "outputs": [
        {
          "output_type": "stream",
          "text": [
            "total training Benigno images : 5294\n"
          ],
          "name": "stdout"
        }
      ]
    },
    {
      "cell_type": "code",
      "metadata": {
        "id": "96_DzEiWau3j",
        "colab": {
          "base_uri": "https://localhost:8080/",
          "height": 34
        },
        "outputId": "f96da9e5-5342-45f0-f9a9-f1a3b7448397"
      },
      "source": [
        "print('total training Benigno images :', len(glob.glob('/content/Drive/My Drive/HAM10000/Base de Datos_Clasificada/Train/vasc/*')))"
      ],
      "execution_count": null,
      "outputs": [
        {
          "output_type": "stream",
          "text": [
            "total training Benigno images : 142\n"
          ],
          "name": "stdout"
        }
      ]
    },
    {
      "cell_type": "code",
      "metadata": {
        "id": "xNYFp_Gha58N"
      },
      "source": [
        "dataset = '/content/Drive/My Drive/HAM10000/Base de Datos_Clasificada/Train/vasc'\n",
        "output = '/content/Drive/My Drive/HAM10000/Base de Datos_Clasificada y Aumentada(7_Clases)/Train/vasc'"
      ],
      "execution_count": null,
      "outputs": []
    },
    {
      "cell_type": "code",
      "metadata": {
        "id": "TkVU7AH2bHZm",
        "colab": {
          "base_uri": "https://localhost:8080/"
        },
        "outputId": "57ee26ed-d85b-48f6-ce8a-026f825b2ad5"
      },
      "source": [
        "#Grab the list of images from our dataset directory\n",
        "print(\"Loading images...\")\n",
        "imagePaths = list(paths.list_images(dataset))\n",
        "label='N'\n",
        "#Make the processador for the images\n",
        "aug = ImageDataGenerator(\n",
        "\trotation_range=180,\n",
        "\tzoom_range=0.2,\n",
        "\twidth_shift_range=0.2,\n",
        "\theight_shift_range=0.2,\n",
        "\thorizontal_flip=True,\n",
        "  vertical_flip=True,\n",
        "\tfill_mode=\"nearest\")\n",
        "aug_1= ImageDataGenerator(\n",
        "\tshear_range=0.2,\n",
        "    zoom_range=0.2,\n",
        "    horizontal_flip=True)\n",
        "\n",
        "#loop over the image paths\n",
        "for imagePath in imagePaths:\n",
        "    image = load_img(imagePath)\n",
        "    image = img_to_array(image)\n",
        "    image = np.expand_dims(image, axis=0)\n",
        "    nombre = imagePath\n",
        "    print('')\n",
        "    print('Data Augmentation With: '+nombre)\n",
        "    \n",
        "    # construct the actual Python generator\n",
        "    print(\"Generating new images...\")\n",
        "    imageGen = aug.flow(image, batch_size=64, save_to_dir= output,\n",
        "                        save_prefix=label, save_format=\"png\")\n",
        "\n",
        "    #Loop over images from our image data augmentation generator\n",
        "    total = 0\n",
        "    for image in imageGen:\n",
        "        #Increment our counter\n",
        "        total += 1\n",
        "        #If we have reached the specified number: total, break from the loop 2\n",
        "        if total == 62:\n",
        "            break\n",
        "\n",
        "print('')            \n",
        "print('This is complete!')"
      ],
      "execution_count": null,
      "outputs": [
        {
          "output_type": "stream",
          "text": [
            "Loading images...\n",
            "\n",
            "Data Augmentation With: /content/Drive/My Drive/HAM10000/Base de Datos_Clasificada/Train/vasc/img1.jpg\n",
            "Generating new images...\n",
            "\n",
            "Data Augmentation With: /content/Drive/My Drive/HAM10000/Base de Datos_Clasificada/Train/vasc/img2.jpg\n",
            "Generating new images...\n",
            "\n",
            "Data Augmentation With: /content/Drive/My Drive/HAM10000/Base de Datos_Clasificada/Train/vasc/img3.jpg\n",
            "Generating new images...\n",
            "\n",
            "Data Augmentation With: /content/Drive/My Drive/HAM10000/Base de Datos_Clasificada/Train/vasc/img4.jpg\n",
            "Generating new images...\n",
            "\n",
            "Data Augmentation With: /content/Drive/My Drive/HAM10000/Base de Datos_Clasificada/Train/vasc/img5.jpg\n",
            "Generating new images...\n",
            "\n",
            "Data Augmentation With: /content/Drive/My Drive/HAM10000/Base de Datos_Clasificada/Train/vasc/img6.jpg\n",
            "Generating new images...\n",
            "\n",
            "Data Augmentation With: /content/Drive/My Drive/HAM10000/Base de Datos_Clasificada/Train/vasc/img7.jpg\n",
            "Generating new images...\n",
            "\n",
            "Data Augmentation With: /content/Drive/My Drive/HAM10000/Base de Datos_Clasificada/Train/vasc/img8.jpg\n",
            "Generating new images...\n",
            "\n",
            "Data Augmentation With: /content/Drive/My Drive/HAM10000/Base de Datos_Clasificada/Train/vasc/img9.jpg\n",
            "Generating new images...\n",
            "\n",
            "Data Augmentation With: /content/Drive/My Drive/HAM10000/Base de Datos_Clasificada/Train/vasc/img10.jpg\n",
            "Generating new images...\n",
            "\n",
            "Data Augmentation With: /content/Drive/My Drive/HAM10000/Base de Datos_Clasificada/Train/vasc/img11.jpg\n",
            "Generating new images...\n",
            "\n",
            "Data Augmentation With: /content/Drive/My Drive/HAM10000/Base de Datos_Clasificada/Train/vasc/img12.jpg\n",
            "Generating new images...\n",
            "\n",
            "Data Augmentation With: /content/Drive/My Drive/HAM10000/Base de Datos_Clasificada/Train/vasc/img13.jpg\n",
            "Generating new images...\n",
            "\n",
            "Data Augmentation With: /content/Drive/My Drive/HAM10000/Base de Datos_Clasificada/Train/vasc/img14.jpg\n",
            "Generating new images...\n",
            "\n",
            "Data Augmentation With: /content/Drive/My Drive/HAM10000/Base de Datos_Clasificada/Train/vasc/img15.jpg\n",
            "Generating new images...\n",
            "\n",
            "Data Augmentation With: /content/Drive/My Drive/HAM10000/Base de Datos_Clasificada/Train/vasc/img16.jpg\n",
            "Generating new images...\n",
            "\n",
            "Data Augmentation With: /content/Drive/My Drive/HAM10000/Base de Datos_Clasificada/Train/vasc/img17.jpg\n",
            "Generating new images...\n",
            "\n",
            "Data Augmentation With: /content/Drive/My Drive/HAM10000/Base de Datos_Clasificada/Train/vasc/img18.jpg\n",
            "Generating new images...\n",
            "\n",
            "Data Augmentation With: /content/Drive/My Drive/HAM10000/Base de Datos_Clasificada/Train/vasc/img19.jpg\n",
            "Generating new images...\n",
            "\n",
            "Data Augmentation With: /content/Drive/My Drive/HAM10000/Base de Datos_Clasificada/Train/vasc/img20.jpg\n",
            "Generating new images...\n",
            "\n",
            "Data Augmentation With: /content/Drive/My Drive/HAM10000/Base de Datos_Clasificada/Train/vasc/img21.jpg\n",
            "Generating new images...\n",
            "\n",
            "Data Augmentation With: /content/Drive/My Drive/HAM10000/Base de Datos_Clasificada/Train/vasc/img22.jpg\n",
            "Generating new images...\n",
            "\n",
            "Data Augmentation With: /content/Drive/My Drive/HAM10000/Base de Datos_Clasificada/Train/vasc/img23.jpg\n",
            "Generating new images...\n",
            "\n",
            "Data Augmentation With: /content/Drive/My Drive/HAM10000/Base de Datos_Clasificada/Train/vasc/img24.jpg\n",
            "Generating new images...\n",
            "\n",
            "Data Augmentation With: /content/Drive/My Drive/HAM10000/Base de Datos_Clasificada/Train/vasc/img25.jpg\n",
            "Generating new images...\n",
            "\n",
            "Data Augmentation With: /content/Drive/My Drive/HAM10000/Base de Datos_Clasificada/Train/vasc/img26.jpg\n",
            "Generating new images...\n",
            "\n",
            "Data Augmentation With: /content/Drive/My Drive/HAM10000/Base de Datos_Clasificada/Train/vasc/img27.jpg\n",
            "Generating new images...\n",
            "\n",
            "Data Augmentation With: /content/Drive/My Drive/HAM10000/Base de Datos_Clasificada/Train/vasc/img28.jpg\n",
            "Generating new images...\n",
            "\n",
            "Data Augmentation With: /content/Drive/My Drive/HAM10000/Base de Datos_Clasificada/Train/vasc/img29.jpg\n",
            "Generating new images...\n",
            "\n",
            "Data Augmentation With: /content/Drive/My Drive/HAM10000/Base de Datos_Clasificada/Train/vasc/img30.jpg\n",
            "Generating new images...\n",
            "\n",
            "Data Augmentation With: /content/Drive/My Drive/HAM10000/Base de Datos_Clasificada/Train/vasc/img31.jpg\n",
            "Generating new images...\n",
            "\n",
            "Data Augmentation With: /content/Drive/My Drive/HAM10000/Base de Datos_Clasificada/Train/vasc/img32.jpg\n",
            "Generating new images...\n",
            "\n",
            "Data Augmentation With: /content/Drive/My Drive/HAM10000/Base de Datos_Clasificada/Train/vasc/img33.jpg\n",
            "Generating new images...\n",
            "\n",
            "Data Augmentation With: /content/Drive/My Drive/HAM10000/Base de Datos_Clasificada/Train/vasc/img34.jpg\n",
            "Generating new images...\n",
            "\n",
            "Data Augmentation With: /content/Drive/My Drive/HAM10000/Base de Datos_Clasificada/Train/vasc/img35.jpg\n",
            "Generating new images...\n",
            "\n",
            "Data Augmentation With: /content/Drive/My Drive/HAM10000/Base de Datos_Clasificada/Train/vasc/img36.jpg\n",
            "Generating new images...\n",
            "\n",
            "Data Augmentation With: /content/Drive/My Drive/HAM10000/Base de Datos_Clasificada/Train/vasc/img37.jpg\n",
            "Generating new images...\n",
            "\n",
            "Data Augmentation With: /content/Drive/My Drive/HAM10000/Base de Datos_Clasificada/Train/vasc/img38.jpg\n",
            "Generating new images...\n",
            "\n",
            "Data Augmentation With: /content/Drive/My Drive/HAM10000/Base de Datos_Clasificada/Train/vasc/img39.jpg\n",
            "Generating new images...\n",
            "\n",
            "Data Augmentation With: /content/Drive/My Drive/HAM10000/Base de Datos_Clasificada/Train/vasc/img40.jpg\n",
            "Generating new images...\n",
            "\n",
            "Data Augmentation With: /content/Drive/My Drive/HAM10000/Base de Datos_Clasificada/Train/vasc/img41.jpg\n",
            "Generating new images...\n",
            "\n",
            "Data Augmentation With: /content/Drive/My Drive/HAM10000/Base de Datos_Clasificada/Train/vasc/img42.jpg\n",
            "Generating new images...\n",
            "\n",
            "Data Augmentation With: /content/Drive/My Drive/HAM10000/Base de Datos_Clasificada/Train/vasc/img43.jpg\n",
            "Generating new images...\n",
            "\n",
            "Data Augmentation With: /content/Drive/My Drive/HAM10000/Base de Datos_Clasificada/Train/vasc/img44.jpg\n",
            "Generating new images...\n",
            "\n",
            "Data Augmentation With: /content/Drive/My Drive/HAM10000/Base de Datos_Clasificada/Train/vasc/img45.jpg\n",
            "Generating new images...\n",
            "\n",
            "Data Augmentation With: /content/Drive/My Drive/HAM10000/Base de Datos_Clasificada/Train/vasc/img46.jpg\n",
            "Generating new images...\n",
            "\n",
            "Data Augmentation With: /content/Drive/My Drive/HAM10000/Base de Datos_Clasificada/Train/vasc/img47.jpg\n",
            "Generating new images...\n",
            "\n",
            "Data Augmentation With: /content/Drive/My Drive/HAM10000/Base de Datos_Clasificada/Train/vasc/img48.jpg\n",
            "Generating new images...\n",
            "\n",
            "Data Augmentation With: /content/Drive/My Drive/HAM10000/Base de Datos_Clasificada/Train/vasc/img49.jpg\n",
            "Generating new images...\n",
            "\n",
            "Data Augmentation With: /content/Drive/My Drive/HAM10000/Base de Datos_Clasificada/Train/vasc/img50.jpg\n",
            "Generating new images...\n",
            "\n",
            "Data Augmentation With: /content/Drive/My Drive/HAM10000/Base de Datos_Clasificada/Train/vasc/img51.jpg\n",
            "Generating new images...\n",
            "\n",
            "Data Augmentation With: /content/Drive/My Drive/HAM10000/Base de Datos_Clasificada/Train/vasc/img52.jpg\n",
            "Generating new images...\n",
            "\n",
            "Data Augmentation With: /content/Drive/My Drive/HAM10000/Base de Datos_Clasificada/Train/vasc/img53.jpg\n",
            "Generating new images...\n",
            "\n",
            "Data Augmentation With: /content/Drive/My Drive/HAM10000/Base de Datos_Clasificada/Train/vasc/img54.jpg\n",
            "Generating new images...\n",
            "\n",
            "Data Augmentation With: /content/Drive/My Drive/HAM10000/Base de Datos_Clasificada/Train/vasc/img55.jpg\n",
            "Generating new images...\n",
            "\n",
            "Data Augmentation With: /content/Drive/My Drive/HAM10000/Base de Datos_Clasificada/Train/vasc/img56.jpg\n",
            "Generating new images...\n",
            "\n",
            "Data Augmentation With: /content/Drive/My Drive/HAM10000/Base de Datos_Clasificada/Train/vasc/img57.jpg\n",
            "Generating new images...\n",
            "\n",
            "Data Augmentation With: /content/Drive/My Drive/HAM10000/Base de Datos_Clasificada/Train/vasc/img58.jpg\n",
            "Generating new images...\n",
            "\n",
            "Data Augmentation With: /content/Drive/My Drive/HAM10000/Base de Datos_Clasificada/Train/vasc/img59.jpg\n",
            "Generating new images...\n",
            "\n",
            "Data Augmentation With: /content/Drive/My Drive/HAM10000/Base de Datos_Clasificada/Train/vasc/img60.jpg\n",
            "Generating new images...\n",
            "\n",
            "Data Augmentation With: /content/Drive/My Drive/HAM10000/Base de Datos_Clasificada/Train/vasc/img61.jpg\n",
            "Generating new images...\n",
            "\n",
            "Data Augmentation With: /content/Drive/My Drive/HAM10000/Base de Datos_Clasificada/Train/vasc/img62.jpg\n",
            "Generating new images...\n",
            "\n",
            "Data Augmentation With: /content/Drive/My Drive/HAM10000/Base de Datos_Clasificada/Train/vasc/img63.jpg\n",
            "Generating new images...\n",
            "\n",
            "Data Augmentation With: /content/Drive/My Drive/HAM10000/Base de Datos_Clasificada/Train/vasc/img64.jpg\n",
            "Generating new images...\n",
            "\n",
            "Data Augmentation With: /content/Drive/My Drive/HAM10000/Base de Datos_Clasificada/Train/vasc/img65.jpg\n",
            "Generating new images...\n",
            "\n",
            "Data Augmentation With: /content/Drive/My Drive/HAM10000/Base de Datos_Clasificada/Train/vasc/img66.jpg\n",
            "Generating new images...\n",
            "\n",
            "Data Augmentation With: /content/Drive/My Drive/HAM10000/Base de Datos_Clasificada/Train/vasc/img67.jpg\n",
            "Generating new images...\n",
            "\n",
            "Data Augmentation With: /content/Drive/My Drive/HAM10000/Base de Datos_Clasificada/Train/vasc/img68.jpg\n",
            "Generating new images...\n",
            "\n",
            "Data Augmentation With: /content/Drive/My Drive/HAM10000/Base de Datos_Clasificada/Train/vasc/img69.jpg\n",
            "Generating new images...\n",
            "\n",
            "Data Augmentation With: /content/Drive/My Drive/HAM10000/Base de Datos_Clasificada/Train/vasc/img70.jpg\n",
            "Generating new images...\n",
            "\n",
            "Data Augmentation With: /content/Drive/My Drive/HAM10000/Base de Datos_Clasificada/Train/vasc/img71.jpg\n",
            "Generating new images...\n",
            "\n",
            "Data Augmentation With: /content/Drive/My Drive/HAM10000/Base de Datos_Clasificada/Train/vasc/img72.jpg\n",
            "Generating new images...\n",
            "\n",
            "Data Augmentation With: /content/Drive/My Drive/HAM10000/Base de Datos_Clasificada/Train/vasc/img73.jpg\n",
            "Generating new images...\n",
            "\n",
            "Data Augmentation With: /content/Drive/My Drive/HAM10000/Base de Datos_Clasificada/Train/vasc/img74.jpg\n",
            "Generating new images...\n",
            "\n",
            "Data Augmentation With: /content/Drive/My Drive/HAM10000/Base de Datos_Clasificada/Train/vasc/img75.jpg\n",
            "Generating new images...\n",
            "\n",
            "Data Augmentation With: /content/Drive/My Drive/HAM10000/Base de Datos_Clasificada/Train/vasc/img76.jpg\n",
            "Generating new images...\n",
            "\n",
            "Data Augmentation With: /content/Drive/My Drive/HAM10000/Base de Datos_Clasificada/Train/vasc/img77.jpg\n",
            "Generating new images...\n",
            "\n",
            "Data Augmentation With: /content/Drive/My Drive/HAM10000/Base de Datos_Clasificada/Train/vasc/img78.jpg\n",
            "Generating new images...\n",
            "\n",
            "Data Augmentation With: /content/Drive/My Drive/HAM10000/Base de Datos_Clasificada/Train/vasc/img79.jpg\n",
            "Generating new images...\n",
            "\n",
            "Data Augmentation With: /content/Drive/My Drive/HAM10000/Base de Datos_Clasificada/Train/vasc/img80.jpg\n",
            "Generating new images...\n",
            "\n",
            "Data Augmentation With: /content/Drive/My Drive/HAM10000/Base de Datos_Clasificada/Train/vasc/img81.jpg\n",
            "Generating new images...\n",
            "\n",
            "Data Augmentation With: /content/Drive/My Drive/HAM10000/Base de Datos_Clasificada/Train/vasc/img82.jpg\n",
            "Generating new images...\n",
            "\n",
            "Data Augmentation With: /content/Drive/My Drive/HAM10000/Base de Datos_Clasificada/Train/vasc/img83.jpg\n",
            "Generating new images...\n",
            "\n",
            "Data Augmentation With: /content/Drive/My Drive/HAM10000/Base de Datos_Clasificada/Train/vasc/img84.jpg\n",
            "Generating new images...\n",
            "\n",
            "Data Augmentation With: /content/Drive/My Drive/HAM10000/Base de Datos_Clasificada/Train/vasc/img85.jpg\n",
            "Generating new images...\n",
            "\n",
            "Data Augmentation With: /content/Drive/My Drive/HAM10000/Base de Datos_Clasificada/Train/vasc/img86.jpg\n",
            "Generating new images...\n",
            "\n",
            "Data Augmentation With: /content/Drive/My Drive/HAM10000/Base de Datos_Clasificada/Train/vasc/img87.jpg\n",
            "Generating new images...\n",
            "\n",
            "Data Augmentation With: /content/Drive/My Drive/HAM10000/Base de Datos_Clasificada/Train/vasc/img88.jpg\n",
            "Generating new images...\n",
            "\n",
            "Data Augmentation With: /content/Drive/My Drive/HAM10000/Base de Datos_Clasificada/Train/vasc/img89.jpg\n",
            "Generating new images...\n",
            "\n",
            "Data Augmentation With: /content/Drive/My Drive/HAM10000/Base de Datos_Clasificada/Train/vasc/img90.jpg\n",
            "Generating new images...\n",
            "\n",
            "Data Augmentation With: /content/Drive/My Drive/HAM10000/Base de Datos_Clasificada/Train/vasc/img91.jpg\n",
            "Generating new images...\n",
            "\n",
            "Data Augmentation With: /content/Drive/My Drive/HAM10000/Base de Datos_Clasificada/Train/vasc/img92.jpg\n",
            "Generating new images...\n",
            "\n",
            "Data Augmentation With: /content/Drive/My Drive/HAM10000/Base de Datos_Clasificada/Train/vasc/img93.jpg\n",
            "Generating new images...\n",
            "\n",
            "Data Augmentation With: /content/Drive/My Drive/HAM10000/Base de Datos_Clasificada/Train/vasc/img94.jpg\n",
            "Generating new images...\n",
            "\n",
            "Data Augmentation With: /content/Drive/My Drive/HAM10000/Base de Datos_Clasificada/Train/vasc/img95.jpg\n",
            "Generating new images...\n",
            "\n",
            "Data Augmentation With: /content/Drive/My Drive/HAM10000/Base de Datos_Clasificada/Train/vasc/img96.jpg\n",
            "Generating new images...\n",
            "\n",
            "Data Augmentation With: /content/Drive/My Drive/HAM10000/Base de Datos_Clasificada/Train/vasc/img97.jpg\n",
            "Generating new images...\n",
            "\n",
            "Data Augmentation With: /content/Drive/My Drive/HAM10000/Base de Datos_Clasificada/Train/vasc/img98.jpg\n",
            "Generating new images...\n",
            "\n",
            "Data Augmentation With: /content/Drive/My Drive/HAM10000/Base de Datos_Clasificada/Train/vasc/img99.jpg\n",
            "Generating new images...\n",
            "\n",
            "Data Augmentation With: /content/Drive/My Drive/HAM10000/Base de Datos_Clasificada/Train/vasc/img100.jpg\n",
            "Generating new images...\n",
            "\n",
            "Data Augmentation With: /content/Drive/My Drive/HAM10000/Base de Datos_Clasificada/Train/vasc/img101.jpg\n",
            "Generating new images...\n",
            "\n",
            "Data Augmentation With: /content/Drive/My Drive/HAM10000/Base de Datos_Clasificada/Train/vasc/img102.jpg\n",
            "Generating new images...\n",
            "\n",
            "Data Augmentation With: /content/Drive/My Drive/HAM10000/Base de Datos_Clasificada/Train/vasc/img103.jpg\n",
            "Generating new images...\n",
            "\n",
            "Data Augmentation With: /content/Drive/My Drive/HAM10000/Base de Datos_Clasificada/Train/vasc/img104.jpg\n",
            "Generating new images...\n",
            "\n",
            "Data Augmentation With: /content/Drive/My Drive/HAM10000/Base de Datos_Clasificada/Train/vasc/img105.jpg\n",
            "Generating new images...\n",
            "\n",
            "Data Augmentation With: /content/Drive/My Drive/HAM10000/Base de Datos_Clasificada/Train/vasc/img106.jpg\n",
            "Generating new images...\n",
            "\n",
            "Data Augmentation With: /content/Drive/My Drive/HAM10000/Base de Datos_Clasificada/Train/vasc/img107.jpg\n",
            "Generating new images...\n",
            "\n",
            "Data Augmentation With: /content/Drive/My Drive/HAM10000/Base de Datos_Clasificada/Train/vasc/img108.jpg\n",
            "Generating new images...\n",
            "\n",
            "Data Augmentation With: /content/Drive/My Drive/HAM10000/Base de Datos_Clasificada/Train/vasc/img109.jpg\n",
            "Generating new images...\n",
            "\n",
            "Data Augmentation With: /content/Drive/My Drive/HAM10000/Base de Datos_Clasificada/Train/vasc/img110.jpg\n",
            "Generating new images...\n",
            "\n",
            "Data Augmentation With: /content/Drive/My Drive/HAM10000/Base de Datos_Clasificada/Train/vasc/img111.jpg\n",
            "Generating new images...\n",
            "\n",
            "Data Augmentation With: /content/Drive/My Drive/HAM10000/Base de Datos_Clasificada/Train/vasc/img112.jpg\n",
            "Generating new images...\n",
            "\n",
            "Data Augmentation With: /content/Drive/My Drive/HAM10000/Base de Datos_Clasificada/Train/vasc/img113.jpg\n",
            "Generating new images...\n",
            "\n",
            "Data Augmentation With: /content/Drive/My Drive/HAM10000/Base de Datos_Clasificada/Train/vasc/img114.jpg\n",
            "Generating new images...\n",
            "\n",
            "Data Augmentation With: /content/Drive/My Drive/HAM10000/Base de Datos_Clasificada/Train/vasc/img115.jpg\n",
            "Generating new images...\n",
            "\n",
            "Data Augmentation With: /content/Drive/My Drive/HAM10000/Base de Datos_Clasificada/Train/vasc/img116.jpg\n",
            "Generating new images...\n",
            "\n",
            "Data Augmentation With: /content/Drive/My Drive/HAM10000/Base de Datos_Clasificada/Train/vasc/img117.jpg\n",
            "Generating new images...\n",
            "\n",
            "Data Augmentation With: /content/Drive/My Drive/HAM10000/Base de Datos_Clasificada/Train/vasc/img118.jpg\n",
            "Generating new images...\n",
            "\n",
            "Data Augmentation With: /content/Drive/My Drive/HAM10000/Base de Datos_Clasificada/Train/vasc/img119.jpg\n",
            "Generating new images...\n",
            "\n",
            "Data Augmentation With: /content/Drive/My Drive/HAM10000/Base de Datos_Clasificada/Train/vasc/img120.jpg\n",
            "Generating new images...\n",
            "\n",
            "Data Augmentation With: /content/Drive/My Drive/HAM10000/Base de Datos_Clasificada/Train/vasc/img121.jpg\n",
            "Generating new images...\n",
            "\n",
            "Data Augmentation With: /content/Drive/My Drive/HAM10000/Base de Datos_Clasificada/Train/vasc/img122.jpg\n",
            "Generating new images...\n",
            "\n",
            "Data Augmentation With: /content/Drive/My Drive/HAM10000/Base de Datos_Clasificada/Train/vasc/img123.jpg\n",
            "Generating new images...\n",
            "\n",
            "Data Augmentation With: /content/Drive/My Drive/HAM10000/Base de Datos_Clasificada/Train/vasc/img124.jpg\n",
            "Generating new images...\n",
            "\n",
            "Data Augmentation With: /content/Drive/My Drive/HAM10000/Base de Datos_Clasificada/Train/vasc/img125.jpg\n",
            "Generating new images...\n",
            "\n",
            "Data Augmentation With: /content/Drive/My Drive/HAM10000/Base de Datos_Clasificada/Train/vasc/img126.jpg\n",
            "Generating new images...\n",
            "\n",
            "Data Augmentation With: /content/Drive/My Drive/HAM10000/Base de Datos_Clasificada/Train/vasc/img127.jpg\n",
            "Generating new images...\n",
            "\n",
            "Data Augmentation With: /content/Drive/My Drive/HAM10000/Base de Datos_Clasificada/Train/vasc/img128.jpg\n",
            "Generating new images...\n",
            "\n",
            "Data Augmentation With: /content/Drive/My Drive/HAM10000/Base de Datos_Clasificada/Train/vasc/img129.jpg\n",
            "Generating new images...\n",
            "\n",
            "Data Augmentation With: /content/Drive/My Drive/HAM10000/Base de Datos_Clasificada/Train/vasc/img130.jpg\n",
            "Generating new images...\n",
            "\n",
            "Data Augmentation With: /content/Drive/My Drive/HAM10000/Base de Datos_Clasificada/Train/vasc/img131.jpg\n",
            "Generating new images...\n",
            "\n",
            "Data Augmentation With: /content/Drive/My Drive/HAM10000/Base de Datos_Clasificada/Train/vasc/img132.jpg\n",
            "Generating new images...\n",
            "\n",
            "Data Augmentation With: /content/Drive/My Drive/HAM10000/Base de Datos_Clasificada/Train/vasc/img133.jpg\n",
            "Generating new images...\n",
            "\n",
            "Data Augmentation With: /content/Drive/My Drive/HAM10000/Base de Datos_Clasificada/Train/vasc/img134.jpg\n",
            "Generating new images...\n",
            "\n",
            "Data Augmentation With: /content/Drive/My Drive/HAM10000/Base de Datos_Clasificada/Train/vasc/img135.jpg\n",
            "Generating new images...\n",
            "\n",
            "Data Augmentation With: /content/Drive/My Drive/HAM10000/Base de Datos_Clasificada/Train/vasc/img136.jpg\n",
            "Generating new images...\n",
            "\n",
            "Data Augmentation With: /content/Drive/My Drive/HAM10000/Base de Datos_Clasificada/Train/vasc/img137.jpg\n",
            "Generating new images...\n",
            "\n",
            "Data Augmentation With: /content/Drive/My Drive/HAM10000/Base de Datos_Clasificada/Train/vasc/img138.jpg\n",
            "Generating new images...\n",
            "\n",
            "Data Augmentation With: /content/Drive/My Drive/HAM10000/Base de Datos_Clasificada/Train/vasc/img139.jpg\n",
            "Generating new images...\n",
            "\n",
            "Data Augmentation With: /content/Drive/My Drive/HAM10000/Base de Datos_Clasificada/Train/vasc/img140.jpg\n",
            "Generating new images...\n",
            "\n",
            "Data Augmentation With: /content/Drive/My Drive/HAM10000/Base de Datos_Clasificada/Train/vasc/img141.jpg\n",
            "Generating new images...\n",
            "\n",
            "Data Augmentation With: /content/Drive/My Drive/HAM10000/Base de Datos_Clasificada/Train/vasc/img142.jpg\n",
            "Generating new images...\n",
            "\n",
            "This is complete!\n"
          ],
          "name": "stdout"
        }
      ]
    },
    {
      "cell_type": "code",
      "metadata": {
        "id": "mqMc6aDBbOxr",
        "colab": {
          "base_uri": "https://localhost:8080/"
        },
        "outputId": "21766b3d-18ce-4c57-9327-4d570c1a28a0"
      },
      "source": [
        "print('total training Benigno images :', len(glob.glob('/content/Drive/My Drive/HAM10000/Base de Datos_Clasificada y Aumentada(7_Clases)/Train/vasc/*')))"
      ],
      "execution_count": null,
      "outputs": [
        {
          "output_type": "stream",
          "text": [
            "total training Benigno images : 5869\n"
          ],
          "name": "stdout"
        }
      ]
    },
    {
      "cell_type": "code",
      "metadata": {
        "id": "0E_BhFArbSpE"
      },
      "source": [
        "train_malign = glob.glob('/content/Drive/My Drive/HAM10000/Base de Datos_Clasificada/Train/vasc/*')"
      ],
      "execution_count": null,
      "outputs": []
    },
    {
      "cell_type": "code",
      "metadata": {
        "id": "M3Ig8h5fbV2x"
      },
      "source": [
        "a = 0\n",
        "\n",
        "for element in train_malign:\n",
        "    a = a+1\n",
        "    src = cv2.imread(element)\n",
        "\n",
        "    j= str(a)\n",
        "    cv2.imwrite(os.path.join('/content/Drive/My Drive/HAM10000/Base de Datos_Clasificada y Aumentada(7_Clases)/Train/vasc',\"img\" + j +\".jpg\"),src)"
      ],
      "execution_count": null,
      "outputs": []
    },
    {
      "cell_type": "code",
      "metadata": {
        "id": "AF-aLMdCbbZO",
        "colab": {
          "base_uri": "https://localhost:8080/"
        },
        "outputId": "7d7082b1-8d88-444c-f4c8-a1e3ec1c19ba"
      },
      "source": [
        "print('total training Benigno images :', len(glob.glob('/content/Drive/My Drive/HAM10000/Base de Datos_Clasificada y Aumentada(7_Clases)/Train/vasc/*')))"
      ],
      "execution_count": null,
      "outputs": [
        {
          "output_type": "stream",
          "text": [
            "total training Benigno images : 6011\n"
          ],
          "name": "stdout"
        }
      ]
    },
    {
      "cell_type": "markdown",
      "metadata": {
        "id": "Lh2ewjtSJiGW"
      },
      "source": [
        "#Benigno Vz Maligno"
      ]
    },
    {
      "cell_type": "code",
      "metadata": {
        "id": "EmcNeFF3Bryt"
      },
      "source": [
        "con =0\n",
        "con1 =0\n",
        "\n",
        "for i in range(0,10015):\n",
        "   b =  os.path.join(\"/content/Drive/My Drive/HAM10000/Base de Datos/\"+images[i]+\".jpg\")\n",
        "   imj = cv2.imread(b)\n",
        "   if label[i] == 'nv'  or label[i] == 'vasc' or label[i] == 'bkl'  or label[i] == 'df' or label[i] == 'akiec' :\n",
        "      con+=1\n",
        "      j= str(con)\n",
        "      cv2.imwrite(os.path.join('/content/Drive/My Drive/HAM10000/Benigno_Vz_Maligno/Train/Benigno',\"img\" + j +\".jpg\"),imj)\n",
        "\n",
        "   if label[i] == 'mel' or label[i] == 'bcc'  : #Carcinoma basocelular\n",
        "      con1+=1\n",
        "      j= str(con1)\n",
        "      cv2.imwrite(os.path.join('/content/Drive/My Drive/HAM10000/Benigno_Vz_Maligno/Train/Maligno',\"img\" + j +\".jpg\"),imj)\n",
        "\n",
        "\n"
      ],
      "execution_count": null,
      "outputs": []
    },
    {
      "cell_type": "code",
      "metadata": {
        "id": "vaEOw7Y7ByAX"
      },
      "source": [
        "print('total training Benigno images :', len(glob.glob('/content/Drive/My Drive/HAM10000/Benigno_Vz_Maligno/Train/Benigno/*')))"
      ],
      "execution_count": null,
      "outputs": []
    },
    {
      "cell_type": "code",
      "metadata": {
        "id": "XRGwxl65B1mO"
      },
      "source": [
        "print('total training Maligno images :', len(glob.glob('/content/Drive/My Drive/HAM10000/Benigno_Vz_Maligno/Train/Maligno/*')))"
      ],
      "execution_count": null,
      "outputs": []
    },
    {
      "cell_type": "markdown",
      "metadata": {
        "id": "_Rq6d_PJJUf7"
      },
      "source": [
        "**Aumento** de la Base de Datos (Melanoma)"
      ]
    },
    {
      "cell_type": "code",
      "metadata": {
        "id": "s6nUU0XBJTi8"
      },
      "source": [
        "#We import some libraries to use in the process\n",
        "from tensorflow.keras.preprocessing.image import ImageDataGenerator\n",
        "from tensorflow.keras.preprocessing.image import img_to_array\n",
        "from tensorflow.keras.preprocessing.image import load_img\n",
        "from imutils import paths\n",
        "import numpy as np\n",
        "import argparse"
      ],
      "execution_count": null,
      "outputs": []
    },
    {
      "cell_type": "code",
      "metadata": {
        "id": "--sLZ53Z_A1z"
      },
      "source": [
        "dataset = '/content/Drive/My Drive/HAM10000/Benigno_Vz_Melanoma/Train /Maligno'\n",
        "output = '/content/Drive/My Drive/HAM10000/Benigno_Vz_Melanoma/Train /Melanoma'"
      ],
      "execution_count": null,
      "outputs": []
    },
    {
      "cell_type": "code",
      "metadata": {
        "id": "BH3ylygjJx9b"
      },
      "source": [
        "\n",
        "\n",
        "#Grab the list of images from our dataset directory\n",
        "print(\"Loading images...\")\n",
        "imagePaths = list(paths.list_images(dataset))\n",
        "label='N'\n",
        "#Make the processador for the images\n",
        "aug = ImageDataGenerator(\n",
        "\trotation_range=180,\n",
        "\tzoom_range=0.2,\n",
        "\twidth_shift_range=0.2,\n",
        "\theight_shift_range=0.2,\n",
        "\thorizontal_flip=True,\n",
        "  vertical_flip=True,\n",
        "\tfill_mode=\"nearest\")\n",
        "aug_1= ImageDataGenerator(\n",
        "\tshear_range=0.2,\n",
        "    zoom_range=0.2,\n",
        "    horizontal_flip=True)\n",
        "\n",
        "#loop over the image paths\n",
        "for imagePath in imagePaths:\n",
        "    image = load_img(imagePath)\n",
        "    image = img_to_array(image)\n",
        "    image = np.expand_dims(image, axis=0)\n",
        "    nombre = imagePath\n",
        "    print('')\n",
        "    print('Data Augmentation With: '+nombre)\n",
        "    \n",
        "    # construct the actual Python generator\n",
        "    print(\"Generating new images...\")\n",
        "    imageGen = aug.flow(image, batch_size=64, save_to_dir= output,\n",
        "                        save_prefix=label, save_format=\"png\")\n",
        "\n",
        "    #Loop over images from our image data augmentation generator\n",
        "    total = 0\n",
        "    for image in imageGen:\n",
        "        #Increment our counter\n",
        "        total += 1\n",
        "        #If we have reached the specified number: total, break from the loop 2\n",
        "        if total == 6:\n",
        "            break\n",
        "\n",
        "print('')            \n",
        "print('This is complete!')"
      ],
      "execution_count": null,
      "outputs": []
    },
    {
      "cell_type": "code",
      "metadata": {
        "id": "JOYzvVZgCs5C"
      },
      "source": [
        "print('total training Maligno images :', len(glob.glob('/content/Drive/My Drive/HAM10000/Benigno_Vz_Melanoma/Train /Melanoma/*')))"
      ],
      "execution_count": null,
      "outputs": []
    },
    {
      "cell_type": "markdown",
      "metadata": {
        "id": "diAkBvFSVaaa"
      },
      "source": [
        "Copiando imagenes originales (Melanoma)"
      ]
    },
    {
      "cell_type": "code",
      "metadata": {
        "id": "0FW_Oh3wVgZN"
      },
      "source": [
        "train_malign = glob.glob('/content/Drive/My Drive/HAM10000/Benigno_Vz_Melanoma/Train /Maligno/*')"
      ],
      "execution_count": null,
      "outputs": []
    },
    {
      "cell_type": "code",
      "metadata": {
        "id": "mz2I-iBwVt46"
      },
      "source": [
        "a = 0\n",
        "\n",
        "for element in train_malign:\n",
        "    a = a+1\n",
        "    src = cv2.imread(element)\n",
        "\n",
        "    j= str(a)\n",
        "    cv2.imwrite(os.path.join('/content/Drive/My Drive/HAM10000/Benigno_Vz_Melanoma/Train /Melanoma',\"img\" + j +\".jpg\"),src)"
      ],
      "execution_count": null,
      "outputs": []
    },
    {
      "cell_type": "markdown",
      "metadata": {
        "id": "7HF_gRK4aG_D"
      },
      "source": [
        "División de la base de datos(Train,validation y text)"
      ]
    },
    {
      "cell_type": "code",
      "metadata": {
        "id": "ppGLz-JCaOd4"
      },
      "source": [
        "train_malign = glob.glob('/content/Drive/My Drive/HAM10000/Benigno_Vz_Melanoma/Train /Melanoma/*')"
      ],
      "execution_count": null,
      "outputs": []
    },
    {
      "cell_type": "code",
      "metadata": {
        "id": "xIRGhXJcaTTB"
      },
      "source": [
        "a = 0\n",
        "b = 0\n",
        "c = 0\n",
        "b1 =0\n",
        "c1 =0\n",
        "c2 =0\n",
        "for element in train_malign:\n",
        "    a = a+1\n",
        "    b = b +1\n",
        "    c = c+1\n",
        "    src = cv2.imread(element)\n",
        "\n",
        "    if b!=6 and c!=12  :\n",
        "        c2 = c2+1\n",
        "        j3= str(c2)\n",
        "        cv2.imwrite(os.path.join('/content/Drive/My Drive/HAM10000/Benigno_Vz_Melanoma/Train_Final/Melanoma',\"img\" + j3 +\".jpg\"),src)\n",
        "\n",
        "    if b == 6 and c == 12 :\n",
        "        b = b-1\n",
        "\n",
        "    if b == 6 :\n",
        "        b=0\n",
        "        b1 = b1+1\n",
        "        j1= str(b1)\n",
        "        cv2.imwrite(os.path.join('/content/Drive/My Drive/HAM10000/Benigno_Vz_Melanoma/Validation/Melanoma',\"img\" + j1 +\".jpg\"),src)\n",
        "    if c == 12 :\n",
        "        c=0\n",
        "        c1 = c1+1\n",
        "        j2= str(c1)\n",
        "        cv2.imwrite(os.path.join('/content/Drive/My Drive/HAM10000/Benigno_Vz_Melanoma/Text/Melanoma',\"img\" + j2 +\".jpg\"),src)\n",
        "\n",
        "\n"
      ],
      "execution_count": null,
      "outputs": []
    },
    {
      "cell_type": "code",
      "metadata": {
        "id": "AkNi85kXcQT0"
      },
      "source": [
        "train_benign = glob.glob('/content/Drive/My Drive/HAM10000/Benigno_Vz_Melanoma/Train /Benigno/*')"
      ],
      "execution_count": null,
      "outputs": []
    },
    {
      "cell_type": "code",
      "metadata": {
        "id": "w85c3hwOcPYG"
      },
      "source": [
        "a = 0\n",
        "b = 0\n",
        "c = 0\n",
        "b1 =0\n",
        "c1 =0\n",
        "c2 =0\n",
        "for element in train_benign:\n",
        "    a = a+1\n",
        "    b = b +1\n",
        "    c = c+1\n",
        "    src = cv2.imread(element)\n",
        "\n",
        "    if b!=6 and c!=12 :\n",
        "      c2 = c2+1\n",
        "      j3= str(c2)\n",
        "      cv2.imwrite(os.path.join('/content/Drive/My Drive/HAM10000/Benigno_Vz_Melanoma/Train_Final/Benigno',\"img\" + j3 +\".jpg\"),src)\n",
        "\n",
        "    if b == 6 and c == 12 :\n",
        "      b = b-1\n",
        "\n",
        "    if b == 6 :\n",
        "      b=0\n",
        "      b1 = b1+1\n",
        "      j1= str(b1)\n",
        "      cv2.imwrite(os.path.join('/content/Drive/My Drive/HAM10000/Benigno_Vz_Melanoma/Validation/Benigno',\"img\" + j1 +\".jpg\"),src)\n",
        "\n",
        "    if c == 12 :\n",
        "      c=0\n",
        "      c1 = c1+1\n",
        "      j2= str(c1)\n",
        "      cv2.imwrite(os.path.join('/content/Drive/My Drive/HAM10000/Benigno_Vz_Melanoma/Text/Benigno',\"img\" + j2 +\".jpg\"),src)\n",
        "\n"
      ],
      "execution_count": null,
      "outputs": []
    },
    {
      "cell_type": "code",
      "metadata": {
        "id": "ysgsXWrDWZd6"
      },
      "source": [
        "print('total training cat images :', len(glob.glob('/content/Drive/My Drive/HAM10000/Benigno_Vz_Melanoma/Train /Benigno/*')))"
      ],
      "execution_count": null,
      "outputs": []
    },
    {
      "cell_type": "code",
      "metadata": {
        "id": "04JBChXDWaWT"
      },
      "source": [
        "print('total training cat images :', len(glob.glob('/content/Drive/My Drive/HAM10000/Benigno_Vz_Melanoma/Train /Melanoma/*')))"
      ],
      "execution_count": null,
      "outputs": []
    },
    {
      "cell_type": "code",
      "metadata": {
        "id": "GHv-IruRmK-6"
      },
      "source": [
        "print('total training cat images :', len(glob.glob('/content/Drive/My Drive/HAM10000/Benigno_Vz_Melanoma/Train_Final/Benigno/*')))"
      ],
      "execution_count": null,
      "outputs": []
    },
    {
      "cell_type": "code",
      "metadata": {
        "id": "8UlnptHZmLug"
      },
      "source": [
        "print('total training cat images :', len(glob.glob('/content/Drive/My Drive/HAM10000/Benigno_Vz_Melanoma/Train_Final/Melanoma/*')))"
      ],
      "execution_count": null,
      "outputs": []
    },
    {
      "cell_type": "code",
      "metadata": {
        "id": "CO0om5uamMCE"
      },
      "source": [
        "print('total training cat images :', len(glob.glob('/content/Drive/My Drive/HAM10000/Benigno_Vz_Melanoma/Validation/Benigno/*')))"
      ],
      "execution_count": null,
      "outputs": []
    },
    {
      "cell_type": "code",
      "metadata": {
        "id": "gQzLjJKwmMWI"
      },
      "source": [
        "print('total training cat images :', len(glob.glob('/content/Drive/My Drive/HAM10000/Benigno_Vz_Melanoma/Validation/Melanoma/*')))"
      ],
      "execution_count": null,
      "outputs": []
    },
    {
      "cell_type": "code",
      "metadata": {
        "id": "6CxOGJAtmMzx"
      },
      "source": [
        "print('total training cat images :', len(glob.glob('/content/Drive/My Drive/HAM10000/Benigno_Vz_Melanoma/Text/Benigno/*')))"
      ],
      "execution_count": null,
      "outputs": []
    },
    {
      "cell_type": "code",
      "metadata": {
        "id": "0NMXBEB-mNJS"
      },
      "source": [
        "print('total training cat images :', len(glob.glob('/content/Drive/My Drive/HAM10000/Benigno_Vz_Melanoma/Text/Melanoma/*')))"
      ],
      "execution_count": null,
      "outputs": []
    },
    {
      "cell_type": "markdown",
      "metadata": {
        "id": "ZP61OAb1J31a"
      },
      "source": [
        "Aumento de la Base de Datos (Maligno)"
      ]
    },
    {
      "cell_type": "code",
      "metadata": {
        "id": "wIHn4k-gKDGK"
      },
      "source": [
        "dataset = '/content/Drive/My Drive/HAM10000/Benigno_Vz_Maligno/Train/Maligno'\n",
        "output = '/content/Drive/My Drive/HAM10000/Benigno_Vz_Maligno/Train/Maligno_2'"
      ],
      "execution_count": null,
      "outputs": []
    },
    {
      "cell_type": "code",
      "metadata": {
        "id": "CJ6wkoQHJ8-A"
      },
      "source": [
        "#Grab the list of images from our dataset directory\n",
        "print(\"Loading images...\")\n",
        "imagePaths = list(paths.list_images(dataset))\n",
        "label='N'\n",
        "#Make the processador for the images\n",
        "aug = ImageDataGenerator(\n",
        "\trotation_range=180,\n",
        "\tzoom_range=0.2,\n",
        "\twidth_shift_range=0.1,\n",
        "\theight_shift_range=0.1,\n",
        "\thorizontal_flip=True,\n",
        "  vertical_flip=True,\n",
        "\tfill_mode=\"nearest\")\n",
        "aug_1= ImageDataGenerator(\n",
        "\tshear_range=0.2,\n",
        "    zoom_range=0.2,\n",
        "    horizontal_flip=True)\n",
        "\n",
        "#loop over the image paths\n",
        "for imagePath in imagePaths:\n",
        "    image = load_img(imagePath)\n",
        "    image = img_to_array(image)\n",
        "    image = np.expand_dims(image, axis=0)\n",
        "    nombre = imagePath\n",
        "    print('')\n",
        "    print('Data Augmentation With: '+nombre)\n",
        "    \n",
        "    # construct the actual Python generator\n",
        "    print(\"Generating new images...\")\n",
        "    imageGen = aug.flow(image, batch_size=64, save_to_dir= output,\n",
        "                        save_prefix=label, save_format=\"png\")\n",
        "\n",
        "    #Loop over images from our image data augmentation generator\n",
        "    total = 0\n",
        "    for image in imageGen:\n",
        "        #Increment our counter\n",
        "        total += 1\n",
        "        #If we have reached the specified number: total, break from the loop 2\n",
        "        if total == 6:\n",
        "            break\n",
        "\n",
        "print('')            \n",
        "print('This is complete!')"
      ],
      "execution_count": null,
      "outputs": []
    },
    {
      "cell_type": "code",
      "metadata": {
        "id": "Eus7NZ0qKpuB"
      },
      "source": [
        "print('total training Maligno images :', len(glob.glob('/content/Drive/My Drive/HAM10000/Benigno_Vz_Maligno/Train/Maligno_2/*')))"
      ],
      "execution_count": null,
      "outputs": []
    },
    {
      "cell_type": "markdown",
      "metadata": {
        "id": "edrf8lofVjHU"
      },
      "source": [
        "Copiando imagenes originales (Maligna)"
      ]
    },
    {
      "cell_type": "code",
      "metadata": {
        "id": "rpOSu-A9U7IX"
      },
      "source": [
        "train_malign = glob.glob('/content/Drive/My Drive/HAM10000/Benigno_Vz_Maligno/Train/Maligno/*')"
      ],
      "execution_count": null,
      "outputs": []
    },
    {
      "cell_type": "code",
      "metadata": {
        "id": "woGX68ExWYJR"
      },
      "source": [
        "a = 0\n",
        "\n",
        "for element in train_malign:\n",
        "    a = a+1\n",
        "    src = cv2.imread(element)\n",
        "\n",
        "    j= str(a)\n",
        "    cv2.imwrite(os.path.join('/content/Drive/My Drive/HAM10000/Benigno_Vz_Maligno/Train/Maligno_2',\"img\" + j +\".jpg\"),src)"
      ],
      "execution_count": null,
      "outputs": []
    },
    {
      "cell_type": "markdown",
      "metadata": {
        "id": "Qrm6aioiaPTd"
      },
      "source": [
        "División de la base de datos(Train,validation y text)"
      ]
    },
    {
      "cell_type": "code",
      "metadata": {
        "id": "mufm4hGaaPxu"
      },
      "source": [
        "train_benign = glob.glob('/content/Drive/My Drive/HAM10000/Benigno_Vz_Maligno/Train/Benigno/*')"
      ],
      "execution_count": null,
      "outputs": []
    },
    {
      "cell_type": "code",
      "metadata": {
        "id": "S2BNJXUIjlcx"
      },
      "source": [
        "a = 0\n",
        "b = 0\n",
        "c = 0\n",
        "b1 =0\n",
        "c1 =0\n",
        "c2 =0\n",
        "for element in train_benign:\n",
        "    a = a+1\n",
        "    b = b +1\n",
        "    c = c+1\n",
        "    src = cv2.imread(element)\n",
        "    if b!=8 and c!=14 :\n",
        "        c2 = c2+1\n",
        "        j3= str(c2)\n",
        "        cv2.imwrite(os.path.join('/content/Drive/My Drive/HAM10000/Benigno_Vz_Maligno/Train_Final/Benigno',\"img\" + j3 +\".jpg\"),src)\n",
        "    if b == 8 and c == 14 :\n",
        "        b = b-1\n",
        "\n",
        "    if b == 8 :\n",
        "        b=0\n",
        "        b1 = b1+1\n",
        "        j1= str(b1)\n",
        "        cv2.imwrite(os.path.join('/content/Drive/My Drive/HAM10000/Benigno_Vz_Maligno/Validation/Benigno',\"img\" + j1 +\".jpg\"),src)\n",
        "    if c == 14 :\n",
        "        c=0\n",
        "        c1 = c1+1\n",
        "        j2= str(c1)\n",
        "        cv2.imwrite(os.path.join('/content/Drive/My Drive/HAM10000/Benigno_Vz_Maligno/Text/Benigno',\"img\" + j2 +\".jpg\"),src)\n",
        "\n",
        "\n"
      ],
      "execution_count": null,
      "outputs": []
    },
    {
      "cell_type": "code",
      "metadata": {
        "id": "cIxtTRgCjqK_"
      },
      "source": [
        "train_malign = glob.glob('/content/Drive/My Drive/HAM10000/Benigno_Vz_Maligno/Train/Maligno_2/*')"
      ],
      "execution_count": null,
      "outputs": []
    },
    {
      "cell_type": "code",
      "metadata": {
        "id": "IueuqDkfjuIr"
      },
      "source": [
        "a = 0\n",
        "b = 0\n",
        "c = 0\n",
        "b1 =0\n",
        "c1 =0\n",
        "c2 =0\n",
        "for element in train_malign:\n",
        "    a = a+1\n",
        "    b = b +1\n",
        "    c = c+1\n",
        "    src = cv2.imread(element)\n",
        "    if b!=8 and c!=14 :\n",
        "        c2 = c2+1\n",
        "        j3= str(c2)\n",
        "        cv2.imwrite(os.path.join('/content/Drive/My Drive/HAM10000/Benigno_Vz_Maligno/Train_Final/Maligno',\"img\" + j3 +\".jpg\"),src)\n",
        "        \n",
        "    if b == 8 and c == 14  :\n",
        "        b = b-1\n",
        "\n",
        "    if b == 8:\n",
        "        b=0\n",
        "        b1 = b1+1\n",
        "        j1= str(b1)\n",
        "        cv2.imwrite(os.path.join('/content/Drive/My Drive/HAM10000/Benigno_Vz_Maligno/Validation/Maligno',\"img\" + j1 +\".jpg\"),src)\n",
        "    if c == 14 :\n",
        "        c=0\n",
        "        c1 = c1+1\n",
        "        j2= str(c1)\n",
        "        cv2.imwrite(os.path.join('/content/Drive/My Drive/HAM10000/Benigno_Vz_Maligno/Text/Maligno',\"img\" + j2 +\".jpg\"),src)\n",
        "\n"
      ],
      "execution_count": null,
      "outputs": []
    },
    {
      "cell_type": "code",
      "metadata": {
        "id": "E6-9Onq9Y_Eg"
      },
      "source": [
        "print('total training cat images :', len(glob.glob('/content/Drive/My Drive/HAM10000/Benigno_Vz_Maligno/Train/Benigno/*')))"
      ],
      "execution_count": null,
      "outputs": []
    },
    {
      "cell_type": "code",
      "metadata": {
        "id": "ItTuuYxtY_ZV"
      },
      "source": [
        "print('total training cat images :', len(glob.glob('/content/Drive/My Drive/HAM10000/Benigno_Vz_Maligno/Train/Maligno_2/*')))"
      ],
      "execution_count": null,
      "outputs": []
    },
    {
      "cell_type": "code",
      "metadata": {
        "id": "GLqa5v4xmz8a"
      },
      "source": [
        "print('total training cat images :', len(glob.glob('/content/Drive/My Drive/HAM10000/Benigno_Vz_Maligno/Train_Final/Benigno/*')))"
      ],
      "execution_count": null,
      "outputs": []
    },
    {
      "cell_type": "code",
      "metadata": {
        "id": "mRFN0atDm4EK"
      },
      "source": [
        "print('total training cat images :', len(glob.glob('/content/Drive/My Drive/HAM10000/Benigno_Vz_Maligno/Train_Final/Maligno/*')))"
      ],
      "execution_count": null,
      "outputs": []
    },
    {
      "cell_type": "code",
      "metadata": {
        "id": "ju7o_4PNm4ir"
      },
      "source": [
        "print('total training cat images :', len(glob.glob('/content/Drive/My Drive/HAM10000/Benigno_Vz_Maligno/Validation/Benigno/*')))"
      ],
      "execution_count": null,
      "outputs": []
    },
    {
      "cell_type": "code",
      "metadata": {
        "id": "xuyptuENm45f"
      },
      "source": [
        "print('total training cat images :', len(glob.glob('/content/Drive/My Drive/HAM10000/Benigno_Vz_Maligno/Validation/Maligno/*')))"
      ],
      "execution_count": null,
      "outputs": []
    },
    {
      "cell_type": "code",
      "metadata": {
        "id": "9o_zu1m2m5Pt"
      },
      "source": [
        "print('total training cat images :', len(glob.glob('/content/Drive/My Drive/HAM10000/Benigno_Vz_Maligno/Text/Benigno/*')))"
      ],
      "execution_count": null,
      "outputs": []
    },
    {
      "cell_type": "code",
      "metadata": {
        "id": "muM47xWam5nB"
      },
      "source": [
        "print('total training cat images :', len(glob.glob('/content/Drive/My Drive/HAM10000/Benigno_Vz_Maligno/Text/Maligno/*')))"
      ],
      "execution_count": null,
      "outputs": []
    },
    {
      "cell_type": "markdown",
      "metadata": {
        "id": "knHktwBlnEZz"
      },
      "source": [
        "# Benigno Vz Melanoma Vz Otros"
      ]
    },
    {
      "cell_type": "code",
      "metadata": {
        "id": "HmGB8su4nJT0"
      },
      "source": [
        "con1 =0\n",
        "\n",
        "for i in range(0,10015):\n",
        "\n",
        "   b =  os.path.join(\"/content/Drive/My Drive/HAM10000/Base de Datos/\"+images[i]+\".jpg\")\n",
        "   imj = cv2.imread(b)\n",
        "\n",
        "\n",
        "   if label[i] == 'bcc' or label[i] == 'vasc' or label[i] == 'bkl'  or label[i] == 'df' or label[i] == 'akiec' : #Carcinoma basocelular\n",
        "      con1+=1\n",
        "      j= str(con1)\n",
        "      cv2.imwrite(os.path.join('/content/Drive/My Drive/HAM10000/Benigno_Vz_Melanoma_Vz_Otros/Train/Otros',\"img\" + j +\".jpg\"),imj)\n",
        "\n",
        "\n"
      ],
      "execution_count": null,
      "outputs": []
    },
    {
      "cell_type": "code",
      "metadata": {
        "id": "k0y4OBNRoqFP"
      },
      "source": [
        "train_malign = glob.glob('/content/Drive/My Drive/HAM10000/Benigno_Vz_Melanoma/Train_Final/Benigno/*')"
      ],
      "execution_count": null,
      "outputs": []
    },
    {
      "cell_type": "code",
      "metadata": {
        "id": "jCk_SkOZoxr9"
      },
      "source": [
        "\n",
        "c2 =0\n",
        "for element in train_malign:\n",
        "\n",
        "    src = cv2.imread(element)\n",
        "    c2 = c2+1\n",
        "    j3= str(c2)\n",
        "    cv2.imwrite(os.path.join('/content/Drive/My Drive/HAM10000/Benigno_Vz_Melanoma_Vz_Otros/Train/Benigno',\"img\" + j3 +\".jpg\"),src)"
      ],
      "execution_count": null,
      "outputs": []
    },
    {
      "cell_type": "code",
      "metadata": {
        "id": "zmYE46XUpE-b"
      },
      "source": [
        "train_malign = glob.glob('/content/Drive/My Drive/HAM10000/Benigno_Vz_Melanoma/Train_Final/Melanoma/*')"
      ],
      "execution_count": null,
      "outputs": []
    },
    {
      "cell_type": "code",
      "metadata": {
        "id": "h7tHmLKopMmF"
      },
      "source": [
        "\n",
        "c2 =0\n",
        "for element in train_malign:\n",
        "\n",
        "    src = cv2.imread(element)\n",
        "    c2 = c2+1\n",
        "    j3= str(c2)\n",
        "    cv2.imwrite(os.path.join('/content/Drive/My Drive/HAM10000/Benigno_Vz_Melanoma_Vz_Otros/Train/Maligno',\"img\" + j3 +\".jpg\"),src)"
      ],
      "execution_count": null,
      "outputs": []
    },
    {
      "cell_type": "code",
      "metadata": {
        "id": "w39I0Q5spXed"
      },
      "source": [
        "train_malign = glob.glob('/content/Drive/My Drive/HAM10000/Benigno_Vz_Melanoma/Validation/Benigno/*')"
      ],
      "execution_count": null,
      "outputs": []
    },
    {
      "cell_type": "code",
      "metadata": {
        "id": "TrkZWGZbpZRE"
      },
      "source": [
        "\n",
        "c2 =0\n",
        "for element in train_malign:\n",
        "\n",
        "    src = cv2.imread(element)\n",
        "    c2 = c2+1\n",
        "    j3= str(c2)\n",
        "    cv2.imwrite(os.path.join('/content/Drive/My Drive/HAM10000/Benigno_Vz_Melanoma_Vz_Otros/Validation/Benigno',\"img\" + j3 +\".jpg\"),src)"
      ],
      "execution_count": null,
      "outputs": []
    },
    {
      "cell_type": "code",
      "metadata": {
        "id": "Bcj4Y14bpdcp"
      },
      "source": [
        "train_malign = glob.glob('/content/Drive/My Drive/HAM10000/Benigno_Vz_Melanoma/Validation/Melanoma/*')"
      ],
      "execution_count": null,
      "outputs": []
    },
    {
      "cell_type": "code",
      "metadata": {
        "id": "ixhpAz9Xpch2"
      },
      "source": [
        "\n",
        "c2 =0\n",
        "for element in train_malign:\n",
        "\n",
        "    src = cv2.imread(element)\n",
        "    c2 = c2+1\n",
        "    j3= str(c2)\n",
        "    cv2.imwrite(os.path.join('/content/Drive/My Drive/HAM10000/Benigno_Vz_Melanoma_Vz_Otros/Validation/Maligno',\"img\" + j3 +\".jpg\"),src)"
      ],
      "execution_count": null,
      "outputs": []
    },
    {
      "cell_type": "code",
      "metadata": {
        "id": "LWC4rVH1phB5"
      },
      "source": [
        "train_malign = glob.glob('/content/Drive/My Drive/HAM10000/Benigno_Vz_Melanoma/Text/Benigno/*')"
      ],
      "execution_count": null,
      "outputs": []
    },
    {
      "cell_type": "code",
      "metadata": {
        "id": "OV7LLDEaplU8"
      },
      "source": [
        "\n",
        "c2 =0\n",
        "for element in train_malign:\n",
        "\n",
        "    src = cv2.imread(element)\n",
        "    c2 = c2+1\n",
        "    j3= str(c2)\n",
        "    cv2.imwrite(os.path.join('/content/Drive/My Drive/HAM10000/Benigno_Vz_Melanoma_Vz_Otros/Text/Benigno',\"img\" + j3 +\".jpg\"),src)"
      ],
      "execution_count": null,
      "outputs": []
    },
    {
      "cell_type": "code",
      "metadata": {
        "id": "-IR-v2g-pidl"
      },
      "source": [
        "train_malign = glob.glob('/content/Drive/My Drive/HAM10000/Benigno_Vz_Melanoma/Text/Melanoma/*')"
      ],
      "execution_count": null,
      "outputs": []
    },
    {
      "cell_type": "code",
      "metadata": {
        "id": "nVx4sHa4pmUF"
      },
      "source": [
        "\n",
        "c2 =0\n",
        "for element in train_malign:\n",
        "\n",
        "    src = cv2.imread(element)\n",
        "    c2 = c2+1\n",
        "    j3= str(c2)\n",
        "    cv2.imwrite(os.path.join('/content/Drive/My Drive/HAM10000/Benigno_Vz_Melanoma_Vz_Otros/Text/Maligno',\"img\" + j3 +\".jpg\"),src)"
      ],
      "execution_count": null,
      "outputs": []
    },
    {
      "cell_type": "code",
      "metadata": {
        "id": "o4nI9Jc-qeje"
      },
      "source": [
        "print('total training cat images :', len(glob.glob('/content/Drive/My Drive/HAM10000/Benigno_Vz_Melanoma_Vz_Otros/Train/Benigno/*')))"
      ],
      "execution_count": null,
      "outputs": []
    },
    {
      "cell_type": "code",
      "metadata": {
        "id": "c1vVONRLqeeu"
      },
      "source": [
        "print('total training cat images :', len(glob.glob('/content/Drive/My Drive/HAM10000/Benigno_Vz_Melanoma_Vz_Otros/Train/Maligno/*')))"
      ],
      "execution_count": null,
      "outputs": []
    },
    {
      "cell_type": "code",
      "metadata": {
        "id": "vZNOxTEFqi2D"
      },
      "source": [
        "print('total training cat images :', len(glob.glob('/content/Drive/My Drive/HAM10000/Benigno_Vz_Melanoma_Vz_Otros/Train/Otros/*')))"
      ],
      "execution_count": null,
      "outputs": []
    },
    {
      "cell_type": "code",
      "metadata": {
        "id": "JRcrYzLxqjgI"
      },
      "source": [
        "print('total training cat images :', len(glob.glob('/content/Drive/My Drive/HAM10000/Benigno_Vz_Melanoma_Vz_Otros/Validation/Benigno/*')))"
      ],
      "execution_count": null,
      "outputs": []
    },
    {
      "cell_type": "code",
      "metadata": {
        "id": "yE7pvFcdqj_l"
      },
      "source": [
        "print('total training cat images :', len(glob.glob('/content/Drive/My Drive/HAM10000/Benigno_Vz_Melanoma_Vz_Otros/Validation/Maligno/*')))"
      ],
      "execution_count": null,
      "outputs": []
    },
    {
      "cell_type": "code",
      "metadata": {
        "id": "V3M0FFdiqkb7"
      },
      "source": [
        "print('total training cat images :', len(glob.glob('/content/Drive/My Drive/HAM10000/Benigno_Vz_Melanoma_Vz_Otros/Text/Benigno/*')))"
      ],
      "execution_count": null,
      "outputs": []
    },
    {
      "cell_type": "code",
      "metadata": {
        "id": "MsDND5ICqky1"
      },
      "source": [
        "print('total training cat images :', len(glob.glob('/content/Drive/My Drive/HAM10000/Benigno_Vz_Melanoma_Vz_Otros/Text/Maligno/*')))"
      ],
      "execution_count": null,
      "outputs": []
    },
    {
      "cell_type": "markdown",
      "metadata": {
        "id": "SvHfgtvA_O5k"
      },
      "source": [
        "Aumento\n"
      ]
    },
    {
      "cell_type": "code",
      "metadata": {
        "id": "1QrKCHyW_RCC"
      },
      "source": [
        "dataset = '/content/Drive/My Drive/HAM10000/Benigno_Vz_Melanoma_Vz_Otros/Train/Otros'\n",
        "output = '/content/Drive/My Drive/HAM10000/Benigno_Vz_Melanoma_Vz_Otros/Train/Otros_Final'"
      ],
      "execution_count": null,
      "outputs": []
    },
    {
      "cell_type": "code",
      "metadata": {
        "id": "h7HSq0dr_XPR"
      },
      "source": [
        "#Grab the list of images from our dataset directory\n",
        "print(\"Loading images...\")\n",
        "imagePaths = list(paths.list_images(dataset))\n",
        "label='N'\n",
        "#Make the processador for the images\n",
        "aug = ImageDataGenerator(\n",
        "\trotation_range=180,\n",
        "\tzoom_range=0.2,\n",
        "\twidth_shift_range=0.1,\n",
        "\theight_shift_range=0.1,\n",
        "\thorizontal_flip=True,\n",
        "  vertical_flip=True,\n",
        "\tfill_mode=\"nearest\")\n",
        "aug_1= ImageDataGenerator(\n",
        "\tshear_range=0.2,\n",
        "    zoom_range=0.2,\n",
        "    horizontal_flip=True)\n",
        "\n",
        "#loop over the image paths\n",
        "for imagePath in imagePaths:\n",
        "    image = load_img(imagePath)\n",
        "    image = img_to_array(image)\n",
        "    image = np.expand_dims(image, axis=0)\n",
        "    nombre = imagePath\n",
        "    print('')\n",
        "    print('Data Augmentation With: '+nombre)\n",
        "    \n",
        "    # construct the actual Python generator\n",
        "    print(\"Generating new images...\")\n",
        "    imageGen = aug.flow(image, batch_size=64, save_to_dir= output,\n",
        "                        save_prefix=label, save_format=\"png\")\n",
        "\n",
        "    #Loop over images from our image data augmentation generator\n",
        "    total = 0\n",
        "    for image in imageGen:\n",
        "        #Increment our counter\n",
        "        total += 1\n",
        "        #If we have reached the specified number: total, break from the loop 2\n",
        "        if total == 3:\n",
        "            break\n",
        "\n",
        "print('')            \n",
        "print('This is complete!')"
      ],
      "execution_count": null,
      "outputs": []
    },
    {
      "cell_type": "code",
      "metadata": {
        "id": "p6XcO9ha_m8w"
      },
      "source": [
        "train_malign = glob.glob('/content/Drive/My Drive/HAM10000/Benigno_Vz_Melanoma_Vz_Otros/Train/Otros/*')"
      ],
      "execution_count": null,
      "outputs": []
    },
    {
      "cell_type": "code",
      "metadata": {
        "id": "XSj8zJ_Y_rVe"
      },
      "source": [
        "a = 0\n",
        "\n",
        "for element in train_malign:\n",
        "    a = a+1\n",
        "    src = cv2.imread(element)\n",
        "\n",
        "    j= str(a)\n",
        "    cv2.imwrite(os.path.join('/content/Drive/My Drive/HAM10000/Benigno_Vz_Melanoma_Vz_Otros/Train/Otros_Final',\"img\" + j +\".jpg\"),src)"
      ],
      "execution_count": null,
      "outputs": []
    },
    {
      "cell_type": "code",
      "metadata": {
        "id": "QbzFJQIvAqs9"
      },
      "source": [
        "print('total training cat images :', len(glob.glob('/content/Drive/My Drive/HAM10000/Benigno_Vz_Melanoma_Vz_Otros/Train/Otros_Final/*')))"
      ],
      "execution_count": null,
      "outputs": []
    },
    {
      "cell_type": "code",
      "metadata": {
        "id": "uE3uzkboQJbo"
      },
      "source": [
        "train_benign = glob.glob('/content/Drive/My Drive/HAM10000/Benigno_Vz_Melanoma_Vz_Otros/Train/Otros_Final/*')"
      ],
      "execution_count": null,
      "outputs": []
    },
    {
      "cell_type": "code",
      "metadata": {
        "id": "d1iV9V3dQRTt"
      },
      "source": [
        "a = 0\n",
        "b = 0\n",
        "c = 0\n",
        "b1 =0\n",
        "c1 =0\n",
        "c2 =0\n",
        "for element in train_benign:\n",
        "    a = a+1\n",
        "    b = b +1\n",
        "    c = c+1\n",
        "    src = cv2.imread(element)\n",
        "    if b!=7 and c!=14 :\n",
        "        c2 = c2+1\n",
        "        j3= str(c2)\n",
        "        cv2.imwrite(os.path.join('/content/Drive/My Drive/HAM10000/Benigno_Vz_Melanoma_Vz_Otros/Train/Otros_Final2',\"img\" + j3 +\".jpg\"),src)\n",
        "    if b == 7 and c == 14 :\n",
        "        b = b-1\n",
        "\n",
        "    if b == 7 :\n",
        "        b=0\n",
        "        b1 = b1+1\n",
        "        j1= str(b1)\n",
        "        cv2.imwrite(os.path.join('/content/Drive/My Drive/HAM10000/Benigno_Vz_Melanoma_Vz_Otros/Validation/Otros',\"img\" + j1 +\".jpg\"),src)\n",
        "    if c == 14 :\n",
        "        c=0\n",
        "        c1 = c1+1\n",
        "        j2= str(c1)\n",
        "        cv2.imwrite(os.path.join('/content/Drive/My Drive/HAM10000/Benigno_Vz_Melanoma_Vz_Otros/Text/Otros',\"img\" + j2 +\".jpg\"),src)"
      ],
      "execution_count": null,
      "outputs": []
    },
    {
      "cell_type": "code",
      "metadata": {
        "id": "HSmOFgqWRgsJ",
        "colab": {
          "base_uri": "https://localhost:8080/"
        },
        "outputId": "f72776dd-b455-492e-dcd8-532e8aa49201"
      },
      "source": [
        "print('total training cat images :', len(glob.glob('/content/Drive/My Drive/HAM10000/Benigno_Vz_Melanoma_Vz_Otros/Train/Otros_Final/*')))"
      ],
      "execution_count": null,
      "outputs": [
        {
          "output_type": "stream",
          "text": [
            "total training cat images : 7046\n"
          ],
          "name": "stdout"
        }
      ]
    },
    {
      "cell_type": "code",
      "metadata": {
        "id": "Z63xyzRNRiz0",
        "colab": {
          "base_uri": "https://localhost:8080/"
        },
        "outputId": "64d37f10-43e1-418a-b8a1-888d5ff368ad"
      },
      "source": [
        "print('total training cat images :', len(glob.glob('/content/Drive/My Drive/HAM10000/Benigno_Vz_Melanoma_Vz_Otros/Train/Otros_Final2/*')))"
      ],
      "execution_count": null,
      "outputs": [
        {
          "output_type": "stream",
          "text": [
            "total training cat images : 5537\n"
          ],
          "name": "stdout"
        }
      ]
    },
    {
      "cell_type": "code",
      "metadata": {
        "id": "jFQv13iCRjFf",
        "colab": {
          "base_uri": "https://localhost:8080/"
        },
        "outputId": "63f35e51-01fb-4998-c044-417a14f51596"
      },
      "source": [
        "print('total training cat images :', len(glob.glob('/content/Drive/My Drive/HAM10000/Benigno_Vz_Melanoma_Vz_Otros/Validation/Otros/*')))"
      ],
      "execution_count": null,
      "outputs": [
        {
          "output_type": "stream",
          "text": [
            "total training cat images : 1006\n"
          ],
          "name": "stdout"
        }
      ]
    },
    {
      "cell_type": "code",
      "metadata": {
        "id": "iRZAN0YIRjVA",
        "colab": {
          "base_uri": "https://localhost:8080/"
        },
        "outputId": "2ef8089b-fca5-4d10-c69f-e923a08a71c1"
      },
      "source": [
        "print('total training cat images :', len(glob.glob('/content/Drive/My Drive/HAM10000/Benigno_Vz_Melanoma_Vz_Otros/Text/Otros/*')))"
      ],
      "execution_count": null,
      "outputs": [
        {
          "output_type": "stream",
          "text": [
            "total training cat images : 503\n"
          ],
          "name": "stdout"
        }
      ]
    },
    {
      "cell_type": "markdown",
      "metadata": {
        "id": "Ig3zV2TiwXHq"
      },
      "source": [
        "#Melanoma** y otros tipos de cancer\n"
      ]
    },
    {
      "cell_type": "code",
      "metadata": {
        "id": "CO5jmRp1wemP"
      },
      "source": [
        "con =0\n",
        "con1 =0\n",
        "for i in range(0,10015):\n",
        "   b =  os.path.join(\"/content/Drive/My Drive/HAM10000/Base de Datos/\"+images[i]+\".jpg\")\n",
        "   imj = cv2.imread(b)\n",
        "   if label[i] == 'bcc':\n",
        "      con+=1\n",
        "      j= str(con)\n",
        "      cv2.imwrite(os.path.join('/content/Drive/My Drive/HAM10000/melanoma y otros tipos de cancer/Train/ Carcinoma basocelular ',\"img\" + j +\".jpg\"),imj)\n",
        "\n",
        "   if label[i] == 'mel':\n",
        "      con1+=1\n",
        "      j= str(con1)\n",
        "      cv2.imwrite(os.path.join('/content/Drive/My Drive/HAM10000/melanoma y otros tipos de cancer/Train/Melanoma',\"img\" + j +\".jpg\"),imj)\n"
      ],
      "execution_count": null,
      "outputs": []
    },
    {
      "cell_type": "code",
      "metadata": {
        "id": "FOoSildVxCKr",
        "colab": {
          "base_uri": "https://localhost:8080/",
          "height": 34
        },
        "outputId": "2b7d8d30-16ef-4bfb-b1ad-73e71fd59e01"
      },
      "source": [
        "print('total training cat images :', len(glob.glob('/content/Drive/My Drive/HAM10000/melanoma y otros tipos de cancer/Train/Melanoma/*')))"
      ],
      "execution_count": null,
      "outputs": [
        {
          "output_type": "stream",
          "text": [
            "total training cat images : 1113\n"
          ],
          "name": "stdout"
        }
      ]
    },
    {
      "cell_type": "code",
      "metadata": {
        "id": "qmV7wfpnxC6q",
        "colab": {
          "base_uri": "https://localhost:8080/",
          "height": 34
        },
        "outputId": "0ba5953b-e982-42f5-85c9-022436650a56"
      },
      "source": [
        "print('total training cat images :', len(glob.glob('/content/Drive/My Drive/HAM10000/melanoma y otros tipos de cancer/Train/ Carcinoma basocelular /*')))"
      ],
      "execution_count": null,
      "outputs": [
        {
          "output_type": "stream",
          "text": [
            "total training cat images : 514\n"
          ],
          "name": "stdout"
        }
      ]
    },
    {
      "cell_type": "code",
      "metadata": {
        "id": "ptM7Rlz3xKe7"
      },
      "source": [
        "dataset = '/content/Drive/My Drive/HAM10000/melanoma y otros tipos de cancer/Train/Melanoma'\n",
        "output = '/content/Drive/My Drive/HAM10000/melanoma y otros tipos de cancer/Train/Melanoma2'"
      ],
      "execution_count": null,
      "outputs": []
    },
    {
      "cell_type": "code",
      "metadata": {
        "id": "TpbS38X0xpEL"
      },
      "source": [
        "#Grab the list of images from our dataset directory\n",
        "print(\"Loading images...\")\n",
        "imagePaths = list(paths.list_images(dataset))\n",
        "label='N'\n",
        "#Make the processador for the images\n",
        "aug = ImageDataGenerator(\n",
        "\trotation_range=180,\n",
        "\tzoom_range=0.2,\n",
        "\twidth_shift_range=0.1,\n",
        "\theight_shift_range=0.1,\n",
        "\thorizontal_flip=True,\n",
        "  vertical_flip=True,\n",
        "\tfill_mode=\"nearest\")\n",
        "aug_1= ImageDataGenerator(\n",
        "\tshear_range=0.2,\n",
        "    zoom_range=0.2,\n",
        "    horizontal_flip=True)\n",
        "\n",
        "#loop over the image paths\n",
        "for imagePath in imagePaths:\n",
        "    image = load_img(imagePath)\n",
        "    image = img_to_array(image)\n",
        "    image = np.expand_dims(image, axis=0)\n",
        "    nombre = imagePath\n",
        "    print('')\n",
        "    print('Data Augmentation With: '+nombre)\n",
        "    \n",
        "    # construct the actual Python generator\n",
        "    print(\"Generating new images...\")\n",
        "    imageGen = aug.flow(image, batch_size=64, save_to_dir= output,\n",
        "                        save_prefix=label, save_format=\"png\")\n",
        "\n",
        "    #Loop over images from our image data augmentation generator\n",
        "    total = 0\n",
        "    for image in imageGen:\n",
        "        #Increment our counter\n",
        "        total += 1\n",
        "        #If we have reached the specified number: total, break from the loop 2\n",
        "        if total == 4:\n",
        "            break\n",
        "\n",
        "print('')            \n",
        "print('This is complete!')"
      ],
      "execution_count": null,
      "outputs": []
    },
    {
      "cell_type": "code",
      "metadata": {
        "id": "FmOpaFH9xtD9"
      },
      "source": [
        "dataset = '/content/Drive/My Drive/HAM10000/melanoma y otros tipos de cancer/Train/ Carcinoma basocelular '\n",
        "output = '/content/Drive/My Drive/HAM10000/melanoma y otros tipos de cancer/Train/ Carcinoma basocelular_2'"
      ],
      "execution_count": null,
      "outputs": []
    },
    {
      "cell_type": "code",
      "metadata": {
        "id": "pvdWrkS7xu8G"
      },
      "source": [
        "#Grab the list of images from our dataset directory\n",
        "print(\"Loading images...\")\n",
        "imagePaths = list(paths.list_images(dataset))\n",
        "label='N'\n",
        "#Make the processador for the images\n",
        "aug = ImageDataGenerator(\n",
        "\trotation_range=180,\n",
        "\tzoom_range=0.2,\n",
        "\twidth_shift_range=0.1,\n",
        "\theight_shift_range=0.1,\n",
        "\thorizontal_flip=True,\n",
        "  vertical_flip=True,\n",
        "\tfill_mode=\"nearest\")\n",
        "aug_1= ImageDataGenerator(\n",
        "\tshear_range=0.1,\n",
        "    zoom_range=0.1,\n",
        "    horizontal_flip=True)\n",
        "\n",
        "#loop over the image paths\n",
        "for imagePath in imagePaths:\n",
        "    image = load_img(imagePath)\n",
        "    image = img_to_array(image)\n",
        "    image = np.expand_dims(image, axis=0)\n",
        "    nombre = imagePath\n",
        "    print('')\n",
        "    print('Data Augmentation With: '+nombre)\n",
        "    \n",
        "    # construct the actual Python generator\n",
        "    print(\"Generating new images...\")\n",
        "    imageGen = aug_1.flow(image, batch_size=64, save_to_dir= output,\n",
        "                        save_prefix=label, save_format=\"png\")\n",
        "\n",
        "    #Loop over images from our image data augmentation generator\n",
        "    total = 0\n",
        "    for image in imageGen:\n",
        "        #Increment our counter\n",
        "        total += 1\n",
        "        #If we have reached the specified number: total, break from the loop 2\n",
        "        if total == 2:\n",
        "            break\n",
        "\n",
        "print('')            \n",
        "print('This is complete!')"
      ],
      "execution_count": null,
      "outputs": []
    },
    {
      "cell_type": "code",
      "metadata": {
        "id": "da53-AIFyb75"
      },
      "source": [
        "train_malign = glob.glob('/content/Drive/My Drive/HAM10000/melanoma y otros tipos de cancer/Train/Melanoma/*')"
      ],
      "execution_count": null,
      "outputs": []
    },
    {
      "cell_type": "code",
      "metadata": {
        "id": "pUWaFCmXyd5O"
      },
      "source": [
        "a = 0\n",
        "\n",
        "for element in train_malign:\n",
        "    a = a+1\n",
        "    src = cv2.imread(element)\n",
        "\n",
        "    j= str(a)\n",
        "    cv2.imwrite(os.path.join('/content/Drive/My Drive/HAM10000/melanoma y otros tipos de cancer/Train/Melanoma2',\"img\" + j +\".jpg\"),src)"
      ],
      "execution_count": null,
      "outputs": []
    },
    {
      "cell_type": "code",
      "metadata": {
        "id": "QSOWE4r_ykpq"
      },
      "source": [
        "train_malign = glob.glob('/content/Drive/My Drive/HAM10000/melanoma y otros tipos de cancer/Train/ Carcinoma basocelular /*')"
      ],
      "execution_count": null,
      "outputs": []
    },
    {
      "cell_type": "code",
      "metadata": {
        "id": "ojihy_Hjylof"
      },
      "source": [
        "a = 0\n",
        "\n",
        "for element in train_malign:\n",
        "    a = a+1\n",
        "    src = cv2.imread(element)\n",
        "\n",
        "    j= str(a)\n",
        "    cv2.imwrite(os.path.join('/content/Drive/My Drive/HAM10000/melanoma y otros tipos de cancer/Train/ Carcinoma basocelular_2',\"img\" + j +\".jpg\"),src)"
      ],
      "execution_count": null,
      "outputs": []
    },
    {
      "cell_type": "code",
      "metadata": {
        "id": "RpjJlCV4yVpy"
      },
      "source": [
        "train_malign = glob.glob('/content/Drive/My Drive/HAM10000/melanoma y otros tipos de cancer/Train/ Carcinoma basocelular_2/*')"
      ],
      "execution_count": null,
      "outputs": []
    },
    {
      "cell_type": "code",
      "metadata": {
        "id": "sXlqOY63yWF5"
      },
      "source": [
        "a = 0\n",
        "b = 0\n",
        "c = 0\n",
        "b1 =0\n",
        "c1 =0\n",
        "c2 =0\n",
        "for element in train_malign:\n",
        "    a = a+1\n",
        "    b = b +1\n",
        "    c = c+1\n",
        "    src = cv2.imread(element)\n",
        "    if b!=4 and c!=7 :\n",
        "        c2 = c2+1\n",
        "        j3= str(c2)\n",
        "        cv2.imwrite(os.path.join('/content/Drive/My Drive/HAM10000/melanoma y otros tipos de cancer/Train_final/ Carcinoma basocelular ',\"img\" + j3 +\".jpg\"),src)\n",
        "        \n",
        "    if b == 4 and c == 7  :\n",
        "        b = b-1\n",
        "\n",
        "    if b == 4:\n",
        "        b=0\n",
        "        b1 = b1+1\n",
        "        j1= str(b1)\n",
        "        cv2.imwrite(os.path.join('/content/Drive/My Drive/HAM10000/melanoma y otros tipos de cancer/Validation/ Carcinoma basocelular ',\"img\" + j1 +\".jpg\"),src)\n",
        "    if c == 7 :\n",
        "        c=0\n",
        "        c1 = c1+1\n",
        "        j2= str(c1)\n",
        "        cv2.imwrite(os.path.join('/content/Drive/My Drive/HAM10000/melanoma y otros tipos de cancer/Text/ Carcinoma basocelular ',\"img\" + j2 +\".jpg\"),src)\n"
      ],
      "execution_count": null,
      "outputs": []
    },
    {
      "cell_type": "code",
      "metadata": {
        "id": "JnMGUTGIzSr2"
      },
      "source": [
        "train_malign = glob.glob('/content/Drive/My Drive/HAM10000/melanoma y otros tipos de cancer/Train/Melanoma2/*')"
      ],
      "execution_count": null,
      "outputs": []
    },
    {
      "cell_type": "code",
      "metadata": {
        "id": "L1gKEzfFzZPk"
      },
      "source": [
        "a = 0\n",
        "b = 0\n",
        "c = 0\n",
        "b1 =0\n",
        "c1 =0\n",
        "c2 =0\n",
        "for element in train_malign:\n",
        "    a = a+1\n",
        "    b = b +1\n",
        "    c = c+1\n",
        "    src = cv2.imread(element)\n",
        "    if b!=4 and c!=7 :\n",
        "        c2 = c2+1\n",
        "        j3= str(c2)\n",
        "        cv2.imwrite(os.path.join('/content/Drive/My Drive/HAM10000/melanoma y otros tipos de cancer/Train_final/Melanoma',\"img\" + j3 +\".jpg\"),src)\n",
        "        \n",
        "    if b == 4 and c == 7 :\n",
        "        b = b-1\n",
        "\n",
        "    if b == 4:\n",
        "        b=0\n",
        "        b1 = b1+1\n",
        "        j1= str(b1)\n",
        "        cv2.imwrite(os.path.join('/content/Drive/My Drive/HAM10000/melanoma y otros tipos de cancer/Validation/Melanoma',\"img\" + j1 +\".jpg\"),src)\n",
        "    if c == 7 :\n",
        "        c=0\n",
        "        c1 = c1+1\n",
        "        j2= str(c1)\n",
        "        cv2.imwrite(os.path.join('/content/Drive/My Drive/HAM10000/melanoma y otros tipos de cancer/Text/Melanoma',\"img\" + j2 +\".jpg\"),src)\n"
      ],
      "execution_count": null,
      "outputs": []
    },
    {
      "cell_type": "code",
      "metadata": {
        "id": "vF-IensJz1Ac",
        "colab": {
          "base_uri": "https://localhost:8080/",
          "height": 34
        },
        "outputId": "4dfe6174-7c12-49ba-dd7e-44fc31c7bb02"
      },
      "source": [
        "print('total training cat images :', len(glob.glob('/content/Drive/My Drive/HAM10000/melanoma y otros tipos de cancer/Train/Melanoma2/*')))"
      ],
      "execution_count": null,
      "outputs": [
        {
          "output_type": "stream",
          "text": [
            "total training cat images : 4722\n"
          ],
          "name": "stdout"
        }
      ]
    },
    {
      "cell_type": "code",
      "metadata": {
        "id": "AqwozcCMz1Le",
        "colab": {
          "base_uri": "https://localhost:8080/",
          "height": 34
        },
        "outputId": "b7ce1d37-779f-4e03-ef5d-0d3f8db278cc"
      },
      "source": [
        "print('total training cat images :', len(glob.glob('/content/Drive/My Drive/HAM10000/melanoma y otros tipos de cancer/Train/ Carcinoma basocelular_2/*')))\n"
      ],
      "execution_count": null,
      "outputs": [
        {
          "output_type": "stream",
          "text": [
            "total training cat images : 3930\n"
          ],
          "name": "stdout"
        }
      ]
    },
    {
      "cell_type": "code",
      "metadata": {
        "id": "oLU272hEz1Ys",
        "colab": {
          "base_uri": "https://localhost:8080/",
          "height": 34
        },
        "outputId": "1552cac6-4826-48c8-d111-45beae147c95"
      },
      "source": [
        "print('total training cat images :', len(glob.glob('/content/Drive/My Drive/HAM10000/melanoma y otros tipos de cancer/Train_final/Melanoma/*')))"
      ],
      "execution_count": null,
      "outputs": [
        {
          "output_type": "stream",
          "text": [
            "total training cat images : 2924\n"
          ],
          "name": "stdout"
        }
      ]
    },
    {
      "cell_type": "code",
      "metadata": {
        "id": "SyjDwn_lz2uL",
        "colab": {
          "base_uri": "https://localhost:8080/",
          "height": 34
        },
        "outputId": "8b778da6-7c2b-4cb4-a3a7-81ce94c24bd6"
      },
      "source": [
        "print('total training cat images :', len(glob.glob('/content/Drive/My Drive/HAM10000/melanoma y otros tipos de cancer/Train_final/ Carcinoma basocelular /*')))"
      ],
      "execution_count": null,
      "outputs": [
        {
          "output_type": "stream",
          "text": [
            "total training cat images : 2433\n"
          ],
          "name": "stdout"
        }
      ]
    },
    {
      "cell_type": "code",
      "metadata": {
        "id": "6fHb2titz3Sh",
        "colab": {
          "base_uri": "https://localhost:8080/",
          "height": 34
        },
        "outputId": "1ca56915-8545-43e6-e70d-fbb68ca378bc"
      },
      "source": [
        "print('total training cat images :', len(glob.glob('/content/Drive/My Drive/HAM10000/melanoma y otros tipos de cancer/Validation/Melanoma/*')))"
      ],
      "execution_count": null,
      "outputs": [
        {
          "output_type": "stream",
          "text": [
            "total training cat images : 1124\n"
          ],
          "name": "stdout"
        }
      ]
    },
    {
      "cell_type": "code",
      "metadata": {
        "id": "93Tlh7cuz3gz",
        "colab": {
          "base_uri": "https://localhost:8080/",
          "height": 34
        },
        "outputId": "27455ce7-6a27-4c47-a4e8-556ceb553631"
      },
      "source": [
        "print('total training cat images :', len(glob.glob('/content/Drive/My Drive/HAM10000/melanoma y otros tipos de cancer/Validation/ Carcinoma basocelular /*')))"
      ],
      "execution_count": null,
      "outputs": [
        {
          "output_type": "stream",
          "text": [
            "total training cat images : 936\n"
          ],
          "name": "stdout"
        }
      ]
    },
    {
      "cell_type": "code",
      "metadata": {
        "id": "e6DBFbi6z30Z",
        "colab": {
          "base_uri": "https://localhost:8080/",
          "height": 34
        },
        "outputId": "b39f28e8-6415-4b2c-be1e-0ee3cc68b0b2"
      },
      "source": [
        "print('total training cat images :', len(glob.glob('/content/Drive/My Drive/HAM10000/melanoma y otros tipos de cancer/Text/Melanoma/*')))"
      ],
      "execution_count": null,
      "outputs": [
        {
          "output_type": "stream",
          "text": [
            "total training cat images : 674\n"
          ],
          "name": "stdout"
        }
      ]
    },
    {
      "cell_type": "code",
      "metadata": {
        "id": "CT7QGdqFz4Lv",
        "colab": {
          "base_uri": "https://localhost:8080/",
          "height": 34
        },
        "outputId": "c2c5d8ad-5491-41a3-ccb5-bd035fd2c302"
      },
      "source": [
        "print('total training cat images :', len(glob.glob('/content/Drive/My Drive/HAM10000/melanoma y otros tipos de cancer/Text/ Carcinoma basocelular /*')))"
      ],
      "execution_count": null,
      "outputs": [
        {
          "output_type": "stream",
          "text": [
            "total training cat images : 561\n"
          ],
          "name": "stdout"
        }
      ]
    },
    {
      "cell_type": "markdown",
      "metadata": {
        "id": "ZTIew3IM0m4j"
      },
      "source": [
        "# lunas y otros tipos de lesiones benignas"
      ]
    },
    {
      "cell_type": "code",
      "metadata": {
        "id": "NQQyDlqH0tHI"
      },
      "source": [
        "con =0\n",
        "con1 =0\n",
        "con2 = 0\n",
        "con3 = 0\n",
        "con4 = 0\n",
        "for i in range(0,10015):\n",
        "   b =  os.path.join(\"/content/Drive/My Drive/HAM10000/Base de Datos/\"+images[i]+\".jpg\")\n",
        "   imj = cv2.imread(b)\n",
        "   if label[i] == 'nv':\n",
        "      con+=1\n",
        "      j= str(con)\n",
        "      cv2.imwrite(os.path.join('/content/Drive/My Drive/HAM10000/Benigno y otro tipos de lunares benignos/Train/Lunar',\"img\" + j +\".jpg\"),imj)\n",
        "\n",
        "   if label[i] == 'vasc':\n",
        "      con1+=1\n",
        "      j= str(con1)\n",
        "      cv2.imwrite(os.path.join('/content/Drive/My Drive/HAM10000/Benigno y otro tipos de lunares benignos/Train/ Lesiones Vasculares',\"img\" + j +\".jpg\"),imj)\n",
        "\n",
        "   if label[i] == 'bkl':\n",
        "      con2+=1\n",
        "      j= str(con2)\n",
        "      cv2.imwrite(os.path.join('/content/Drive/My Drive/HAM10000/Benigno y otro tipos de lunares benignos/Train/Lesiones benignas',\"img\" + j +\".jpg\"),imj)\n",
        "\n",
        "   if label[i] == 'df':\n",
        "      con3+=1\n",
        "      j= str(con3)\n",
        "      cv2.imwrite(os.path.join('/content/Drive/My Drive/HAM10000/Benigno y otro tipos de lunares benignos/Train/ Dermatoﬁbromas',\"img\" + j +\".jpg\"),imj)\n",
        "\n",
        "   if label[i] == 'akiec':\n",
        "      con4+=1\n",
        "      j= str(con4)\n",
        "      cv2.imwrite(os.path.join('/content/Drive/My Drive/HAM10000/Benigno y otro tipos de lunares benignos/Train/ Keratosis acníticas',\"img\" + j +\".jpg\"),imj)\n"
      ],
      "execution_count": null,
      "outputs": []
    },
    {
      "cell_type": "code",
      "metadata": {
        "id": "nk9pAL9t6PBI"
      },
      "source": [
        "print('total training cat images :', len(glob.glob('/content/Drive/My Drive/HAM10000/Benigno y otro tipos de lunares benignos/Train/Lunar/*')))"
      ],
      "execution_count": null,
      "outputs": []
    },
    {
      "cell_type": "code",
      "metadata": {
        "id": "86U8HoXK43AA"
      },
      "source": [
        "print('total training cat images :', len(glob.glob('/content/Drive/My Drive/HAM10000/Benigno y otro tipos de lunares benignos/Train/ Lesiones Vasculares/*')))"
      ],
      "execution_count": null,
      "outputs": []
    },
    {
      "cell_type": "code",
      "metadata": {
        "id": "JMk-c1ea6UeN"
      },
      "source": [
        "print('total training cat images :', len(glob.glob('/content/Drive/My Drive/HAM10000/Benigno y otro tipos de lunares benignos/Train/Lesiones benignas/*')))"
      ],
      "execution_count": null,
      "outputs": []
    },
    {
      "cell_type": "code",
      "metadata": {
        "id": "ndqf94On6Uwi"
      },
      "source": [
        "print('total training cat images :', len(glob.glob('/content/Drive/My Drive/HAM10000/Benigno y otro tipos de lunares benignos/Train/ Dermatoﬁbromas/*')))"
      ],
      "execution_count": null,
      "outputs": []
    },
    {
      "cell_type": "code",
      "metadata": {
        "id": "IC5KqZ7v6VC4"
      },
      "source": [
        "print('total training cat images :', len(glob.glob('/content/Drive/My Drive/HAM10000/Benigno y otro tipos de lunares benignos/Train/ Keratosis acníticas/*')))"
      ],
      "execution_count": null,
      "outputs": []
    },
    {
      "cell_type": "code",
      "metadata": {
        "id": "L6OjPJc96tu3"
      },
      "source": [
        "dataset = '/content/Drive/My Drive/HAM10000/melanoma y otros tipos de cancer/Train/ Carcinoma basocelular'\n",
        "output = '/content/Drive/My Drive/HAM10000/melanoma y otros tipos de cancer/Train/ Carcinoma basocelular_2'"
      ],
      "execution_count": null,
      "outputs": []
    },
    {
      "cell_type": "code",
      "metadata": {
        "id": "S0CMommE6uYY"
      },
      "source": [
        "#Grab the list of images from our dataset directory\n",
        "print(\"Loading images...\")\n",
        "imagePaths = list(paths.list_images(dataset))\n",
        "label='N'\n",
        "#Make the processador for the images\n",
        "aug = ImageDataGenerator(\n",
        "\trotation_range=180,\n",
        "\tzoom_range=0.2,\n",
        "\twidth_shift_range=0.1,\n",
        "\theight_shift_range=0.1,\n",
        "\thorizontal_flip=True,\n",
        "  vertical_flip=True,\n",
        "\tfill_mode=\"nearest\")\n",
        "aug_1= ImageDataGenerator(\n",
        "\tshear_range=0.2,\n",
        "    zoom_range=0.2,\n",
        "    horizontal_flip=True)\n",
        "\n",
        "#loop over the image paths\n",
        "for imagePath in imagePaths:\n",
        "    image = load_img(imagePath)\n",
        "    image = img_to_array(image)\n",
        "    image = np.expand_dims(image, axis=0)\n",
        "    nombre = imagePath\n",
        "    print('')\n",
        "    print('Data Augmentation With: '+nombre)\n",
        "    \n",
        "    # construct the actual Python generator\n",
        "    print(\"Generating new images...\")\n",
        "    imageGen = aug.flow(image, batch_size=64, save_to_dir= output,\n",
        "                        save_prefix=label, save_format=\"png\")\n",
        "\n",
        "    #Loop over images from our image data augmentation generator\n",
        "    total = 0\n",
        "    for image in imageGen:\n",
        "        #Increment our counter\n",
        "        total += 1\n",
        "        #If we have reached the specified number: total, break from the loop 2\n",
        "        if total == 3:\n",
        "            break\n",
        "\n",
        "print('')            \n",
        "print('This is complete!')"
      ],
      "execution_count": null,
      "outputs": []
    },
    {
      "cell_type": "code",
      "metadata": {
        "id": "oWwS2_wD60Z7"
      },
      "source": [
        "dataset = '/content/Drive/My Drive/HAM10000/melanoma y otros tipos de cancer/Train/ Carcinoma basocelular'\n",
        "output = '/content/Drive/My Drive/HAM10000/melanoma y otros tipos de cancer/Train/ Carcinoma basocelular_2'"
      ],
      "execution_count": null,
      "outputs": []
    },
    {
      "cell_type": "code",
      "metadata": {
        "id": "G9chsbVi63jO"
      },
      "source": [
        "#Grab the list of images from our dataset directory\n",
        "print(\"Loading images...\")\n",
        "imagePaths = list(paths.list_images(dataset))\n",
        "label='N'\n",
        "#Make the processador for the images\n",
        "aug = ImageDataGenerator(\n",
        "\trotation_range=180,\n",
        "\tzoom_range=0.2,\n",
        "\twidth_shift_range=0.1,\n",
        "\theight_shift_range=0.1,\n",
        "\thorizontal_flip=True,\n",
        "  vertical_flip=True,\n",
        "\tfill_mode=\"nearest\")\n",
        "aug_1= ImageDataGenerator(\n",
        "\tshear_range=0.2,\n",
        "    zoom_range=0.2,\n",
        "    horizontal_flip=True)\n",
        "\n",
        "#loop over the image paths\n",
        "for imagePath in imagePaths:\n",
        "    image = load_img(imagePath)\n",
        "    image = img_to_array(image)\n",
        "    image = np.expand_dims(image, axis=0)\n",
        "    nombre = imagePath\n",
        "    print('')\n",
        "    print('Data Augmentation With: '+nombre)\n",
        "    \n",
        "    # construct the actual Python generator\n",
        "    print(\"Generating new images...\")\n",
        "    imageGen = aug.flow(image, batch_size=64, save_to_dir= output,\n",
        "                        save_prefix=label, save_format=\"png\")\n",
        "\n",
        "    #Loop over images from our image data augmentation generator\n",
        "    total = 0\n",
        "    for image in imageGen:\n",
        "        #Increment our counter\n",
        "        total += 1\n",
        "        #If we have reached the specified number: total, break from the loop 2\n",
        "        if total == 3:\n",
        "            break\n",
        "\n",
        "print('')            \n",
        "print('This is complete!')"
      ],
      "execution_count": null,
      "outputs": []
    },
    {
      "cell_type": "code",
      "metadata": {
        "id": "4YO9wYRF65XY"
      },
      "source": [
        "dataset = '/content/Drive/My Drive/HAM10000/melanoma y otros tipos de cancer/Train/ Carcinoma basocelular'\n",
        "output = '/content/Drive/My Drive/HAM10000/melanoma y otros tipos de cancer/Train/ Carcinoma basocelular_2'"
      ],
      "execution_count": null,
      "outputs": []
    },
    {
      "cell_type": "code",
      "metadata": {
        "id": "1XtUajmd67Vr"
      },
      "source": [
        "#Grab the list of images from our dataset directory\n",
        "print(\"Loading images...\")\n",
        "imagePaths = list(paths.list_images(dataset))\n",
        "label='N'\n",
        "#Make the processador for the images\n",
        "aug = ImageDataGenerator(\n",
        "\trotation_range=180,\n",
        "\tzoom_range=0.2,\n",
        "\twidth_shift_range=0.1,\n",
        "\theight_shift_range=0.1,\n",
        "\thorizontal_flip=True,\n",
        "  vertical_flip=True,\n",
        "\tfill_mode=\"nearest\")\n",
        "aug_1= ImageDataGenerator(\n",
        "\tshear_range=0.2,\n",
        "    zoom_range=0.2,\n",
        "    horizontal_flip=True)\n",
        "\n",
        "#loop over the image paths\n",
        "for imagePath in imagePaths:\n",
        "    image = load_img(imagePath)\n",
        "    image = img_to_array(image)\n",
        "    image = np.expand_dims(image, axis=0)\n",
        "    nombre = imagePath\n",
        "    print('')\n",
        "    print('Data Augmentation With: '+nombre)\n",
        "    \n",
        "    # construct the actual Python generator\n",
        "    print(\"Generating new images...\")\n",
        "    imageGen = aug.flow(image, batch_size=64, save_to_dir= output,\n",
        "                        save_prefix=label, save_format=\"png\")\n",
        "\n",
        "    #Loop over images from our image data augmentation generator\n",
        "    total = 0\n",
        "    for image in imageGen:\n",
        "        #Increment our counter\n",
        "        total += 1\n",
        "        #If we have reached the specified number: total, break from the loop 2\n",
        "        if total == 3:\n",
        "            break\n",
        "\n",
        "print('')            \n",
        "print('This is complete!')"
      ],
      "execution_count": null,
      "outputs": []
    },
    {
      "cell_type": "code",
      "metadata": {
        "id": "m5HwXm4C69V9"
      },
      "source": [
        "dataset = '/content/Drive/My Drive/HAM10000/melanoma y otros tipos de cancer/Train/ Carcinoma basocelular'\n",
        "output = '/content/Drive/My Drive/HAM10000/melanoma y otros tipos de cancer/Train/ Carcinoma basocelular_2'"
      ],
      "execution_count": null,
      "outputs": []
    },
    {
      "cell_type": "code",
      "metadata": {
        "id": "tlGNPYBT6722"
      },
      "source": [
        "#Grab the list of images from our dataset directory\n",
        "print(\"Loading images...\")\n",
        "imagePaths = list(paths.list_images(dataset))\n",
        "label='N'\n",
        "#Make the processador for the images\n",
        "aug = ImageDataGenerator(\n",
        "\trotation_range=180,\n",
        "\tzoom_range=0.2,\n",
        "\twidth_shift_range=0.1,\n",
        "\theight_shift_range=0.1,\n",
        "\thorizontal_flip=True,\n",
        "  vertical_flip=True,\n",
        "\tfill_mode=\"nearest\")\n",
        "aug_1= ImageDataGenerator(\n",
        "\tshear_range=0.2,\n",
        "    zoom_range=0.2,\n",
        "    horizontal_flip=True)\n",
        "\n",
        "#loop over the image paths\n",
        "for imagePath in imagePaths:\n",
        "    image = load_img(imagePath)\n",
        "    image = img_to_array(image)\n",
        "    image = np.expand_dims(image, axis=0)\n",
        "    nombre = imagePath\n",
        "    print('')\n",
        "    print('Data Augmentation With: '+nombre)\n",
        "    \n",
        "    # construct the actual Python generator\n",
        "    print(\"Generating new images...\")\n",
        "    imageGen = aug.flow(image, batch_size=64, save_to_dir= output,\n",
        "                        save_prefix=label, save_format=\"png\")\n",
        "\n",
        "    #Loop over images from our image data augmentation generator\n",
        "    total = 0\n",
        "    for image in imageGen:\n",
        "        #Increment our counter\n",
        "        total += 1\n",
        "        #If we have reached the specified number: total, break from the loop 2\n",
        "        if total == 3:\n",
        "            break\n",
        "\n",
        "print('')            \n",
        "print('This is complete!')"
      ],
      "execution_count": null,
      "outputs": []
    }
  ]
}